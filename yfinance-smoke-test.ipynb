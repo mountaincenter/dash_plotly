{
 "cells": [
  {
   "cell_type": "markdown",
   "id": "f559bdde",
   "metadata": {},
   "source": [
    "# yfinance smoke test\n",
    "\n",
    "This notebook fetches **7203.T** with the same period/interval pairs\n",
    "used by the parquet pipeline, primarily for connectivity checks on CI.\n"
   ]
  },
  {
   "cell_type": "code",
   "execution_count": null,
   "id": "a35b41da",
   "metadata": {},
   "outputs": [],
   "source": [
    "import yfinance as yf\n",
    "import pandas as pd\n",
    "from datetime import datetime\n",
    "\n",
    "print(f'Generated at {datetime.utcnow():%Y-%m-%d %H:%M:%S} UTC')"
   ]
  },
  {
   "cell_type": "markdown",
   "id": "038cf3f5",
   "metadata": {},
   "source": [
    "## period=max, interval=1d"
   ]
  },
  {
   "cell_type": "code",
   "execution_count": null,
   "id": "dd1c0b23",
   "metadata": {},
   "outputs": [],
   "source": [
    "df_max_1d = yf.download(\n",
    "    '7203.T',\n",
    "    period='max',\n",
    "    interval='1d',\n",
    "    auto_adjust=True,\n",
    "    progress=False,\n",
    ")\n",
    "print('rows:', df_max_1d.shape[0])\n",
    "display(df_max_1d.head())"
   ]
  },
  {
   "cell_type": "markdown",
   "id": "648bd4ed",
   "metadata": {},
   "source": [
    "## period=max, interval=1wk"
   ]
  },
  {
   "cell_type": "code",
   "execution_count": null,
   "id": "3a8a595d",
   "metadata": {},
   "outputs": [],
   "source": [
    "df_max_1wk = yf.download(\n",
    "    '7203.T',\n",
    "    period='max',\n",
    "    interval='1wk',\n",
    "    auto_adjust=True,\n",
    "    progress=False,\n",
    ")\n",
    "print('rows:', df_max_1wk.shape[0])\n",
    "display(df_max_1wk.head())"
   ]
  },
  {
   "cell_type": "markdown",
   "id": "14b70df4",
   "metadata": {},
   "source": [
    "## period=max, interval=1mo"
   ]
  },
  {
   "cell_type": "code",
   "execution_count": null,
   "id": "624b1758",
   "metadata": {},
   "outputs": [],
   "source": [
    "df_max_1mo = yf.download(\n",
    "    '7203.T',\n",
    "    period='max',\n",
    "    interval='1mo',\n",
    "    auto_adjust=True,\n",
    "    progress=False,\n",
    ")\n",
    "print('rows:', df_max_1mo.shape[0])\n",
    "display(df_max_1mo.head())"
   ]
  },
  {
   "cell_type": "markdown",
   "id": "511eeb1c",
   "metadata": {},
   "source": [
    "## period=730d, interval=1h"
   ]
  },
  {
   "cell_type": "code",
   "execution_count": null,
   "id": "4e55d867",
   "metadata": {},
   "outputs": [],
   "source": [
    "df_730d_1h = yf.download(\n",
    "    '7203.T',\n",
    "    period='730d',\n",
    "    interval='1h',\n",
    "    auto_adjust=True,\n",
    "    progress=False,\n",
    ")\n",
    "print('rows:', df_730d_1h.shape[0])\n",
    "display(df_730d_1h.head())"
   ]
  },
  {
   "cell_type": "markdown",
   "id": "1cc0f6f6",
   "metadata": {},
   "source": [
    "## period=60d, interval=5m"
   ]
  },
  {
   "cell_type": "code",
   "execution_count": null,
   "id": "7f11195d",
   "metadata": {},
   "outputs": [],
   "source": [
    "df_60d_5m = yf.download(\n",
    "    '7203.T',\n",
    "    period='60d',\n",
    "    interval='5m',\n",
    "    auto_adjust=True,\n",
    "    progress=False,\n",
    ")\n",
    "print('rows:', df_60d_5m.shape[0])\n",
    "display(df_60d_5m.head())"
   ]
  },
  {
   "cell_type": "markdown",
   "id": "9fbd86e2",
   "metadata": {},
   "source": [
    "## period=60d, interval=15m"
   ]
  },
  {
   "cell_type": "code",
   "execution_count": null,
   "id": "d7089a13",
   "metadata": {},
   "outputs": [],
   "source": [
    "df_60d_15m = yf.download(\n",
    "    '7203.T',\n",
    "    period='60d',\n",
    "    interval='15m',\n",
    "    auto_adjust=True,\n",
    "    progress=False,\n",
    ")\n",
    "print('rows:', df_60d_15m.shape[0])\n",
    "display(df_60d_15m.head())"
   ]
  }
 ],
 "metadata": {},
 "nbformat": 4,
 "nbformat_minor": 5
}