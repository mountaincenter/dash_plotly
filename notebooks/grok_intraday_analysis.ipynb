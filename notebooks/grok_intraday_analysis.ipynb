{
 "cells": [
  {
   "cell_type": "markdown",
   "metadata": {},
   "source": [
    "# GROK銘柄 イントラデイ分析\n",
    "\n",
    "## 目的\n",
    "- 今日のGROK選定銘柄（Top5/Top10/全銘柄）の前場パフォーマンス分析\n",
    "- 最適売却時刻の特定（9:00寄付買い → 9:30/10:00/10:30/11:00/11:30売却）"
   ]
  },
  {
   "cell_type": "code",
   "execution_count": 19,
   "metadata": {},
   "outputs": [
    {
     "name": "stdout",
     "output_type": "stream",
     "text": [
      "✅ ライブラリ読み込み完了\n",
      "📁 データディレクトリ: /Users/hiroyukiyamanaka/Desktop/python_stock/dash_plotly/data/parquet\n"
     ]
    }
   ],
   "source": [
    "# 必要なライブラリのインポート\n",
    "import sys\n",
    "from pathlib import Path\n",
    "import pandas as pd\n",
    "import numpy as np\n",
    "import plotly.graph_objects as go\n",
    "import plotly.express as px\n",
    "from plotly.subplots import make_subplots\n",
    "from datetime import datetime, time\n",
    "\n",
    "# プロジェクトルートをパスに追加\n",
    "ROOT = Path.cwd().parent\n",
    "if str(ROOT) not in sys.path:\n",
    "    sys.path.insert(0, str(ROOT))\n",
    "\n",
    "from common_cfg.paths import PARQUET_DIR\n",
    "\n",
    "# Plotly設定\n",
    "import plotly.io as pio\n",
    "pio.templates.default = \"plotly_white\"\n",
    "\n",
    "print(f\"✅ ライブラリ読み込み完了\")\n",
    "print(f\"📁 データディレクトリ: {PARQUET_DIR}\")"
   ]
  },
  {
   "cell_type": "markdown",
   "metadata": {},
   "source": [
    "## 1. データ読み込み"
   ]
  },
  {
   "cell_type": "code",
   "execution_count": 20,
   "metadata": {},
   "outputs": [
    {
     "name": "stdout",
     "output_type": "stream",
     "text": [
      "GROK選定銘柄数: 12\n",
      "選定日時: 23:00\n",
      "\n",
      "Top5銘柄:\n",
      "   ticker         stock_name  selection_score  grok_rank\n",
      "4  3911.T             Aiming            148.0          1\n",
      "1  4592.T              サンバイオ            160.0          2\n",
      "8  7078.T          INCLUSIVE             88.0          3\n",
      "3  4417.T  グローバルセキュリティエキスパート            155.0          4\n",
      "6  3936.T           グローバルウェイ             90.0          5\n",
      "\n",
      "📅 分析対象日: 2025-10-27\n"
     ]
    }
   ],
   "source": [
    "# GROK選定銘柄を読み込み\n",
    "grok_file = PARQUET_DIR / \"grok_trending.parquet\"\n",
    "df_grok = pd.read_parquet(grok_file)\n",
    "\n",
    "print(f\"GROK選定銘柄数: {len(df_grok)}\")\n",
    "print(f\"選定日時: {df_grok['selected_time'].iloc[0] if 'selected_time' in df_grok.columns else 'N/A'}\")\n",
    "print(f\"\\nTop5銘柄:\")\n",
    "print(df_grok.nsmallest(5, 'grok_rank')[['ticker', 'stock_name', 'selection_score', 'grok_rank']])\n",
    "\n",
    "# 分析対象日（今日）\n",
    "TARGET_DATE = datetime.now().strftime(\"%Y-%m-%d\")\n",
    "print(f\"\\n📅 分析対象日: {TARGET_DATE}\")"
   ]
  },
  {
   "cell_type": "code",
   "execution_count": 21,
   "metadata": {},
   "outputs": [
    {
     "name": "stdout",
     "output_type": "stream",
     "text": [
      "✅ 5分足データ読み込み完了\n",
      "  データ期間: 2025-07-30 09:00:00 〜 2025-10-27 15:25:00\n",
      "  銘柄数: 68\n",
      "  データ件数: 272,680\n",
      "\n",
      "✅ 日足データ読み込み完了\n",
      "  データ期間: 1999-05-06 00:00:00 〜 2025-10-27 00:00:00\n",
      "  銘柄数: 68\n",
      "  データ件数: 450,160\n"
     ]
    }
   ],
   "source": [
    "# 5分足データと日足データを読み込み\n",
    "prices_5m_file = PARQUET_DIR / \"prices_60d_5m.parquet\"\n",
    "prices_1d_file = PARQUET_DIR / \"prices_max_1d.parquet\"\n",
    "\n",
    "df_prices_5m = pd.read_parquet(prices_5m_file)\n",
    "df_prices_1d = pd.read_parquet(prices_1d_file)\n",
    "\n",
    "print(f\"✅ 5分足データ読み込み完了\")\n",
    "print(f\"  データ期間: {df_prices_5m['date'].min()} 〜 {df_prices_5m['date'].max()}\")\n",
    "print(f\"  銘柄数: {df_prices_5m['ticker'].nunique()}\")\n",
    "print(f\"  データ件数: {len(df_prices_5m):,}\")\n",
    "\n",
    "print(f\"\\n✅ 日足データ読み込み完了\")\n",
    "print(f\"  データ期間: {df_prices_1d['date'].min()} 〜 {df_prices_1d['date'].max()}\")\n",
    "print(f\"  銘柄数: {df_prices_1d['ticker'].nunique()}\")\n",
    "print(f\"  データ件数: {len(df_prices_1d):,}\")"
   ]
  },
  {
   "cell_type": "markdown",
   "metadata": {},
   "source": [
    "## 2. 当日データの抽出と前処理"
   ]
  },
  {
   "cell_type": "code",
   "execution_count": 22,
   "metadata": {},
   "outputs": [
    {
     "name": "stdout",
     "output_type": "stream",
     "text": [
      "5分足データ（売却価格用）: 804件\n",
      "  銘柄数: 12 / 12\n",
      "\n",
      "日足データ（寄付価格用）: 12件\n",
      "  銘柄数: 12 / 12\n",
      "\n",
      "5分足時刻範囲: 09:00 〜 15:25\n",
      "\n",
      "サンプルデータ（5分足）:\n",
      "        ticker                date hour_minute    Open   Close   Volume\n",
      "268124  4880.T 2025-10-27 09:00:00       09:00   528.0   525.0  12700.0\n",
      "268126  7078.T 2025-10-27 09:00:00       09:00   426.0   431.0   7000.0\n",
      "268128  3936.T 2025-10-27 09:00:00       09:00   162.0   162.0      0.0\n",
      "268132  4417.T 2025-10-27 09:00:00       09:00     NaN     NaN      NaN\n",
      "268134  4011.T 2025-10-27 09:00:00       09:00  3440.0  3470.0      0.0\n",
      "\n",
      "サンプルデータ（日足・始値）:\n",
      "        ticker       date    Open   Close\n",
      "450092  7078.T 2025-10-27   426.0   433.0\n",
      "450093  4880.T 2025-10-27   528.0   522.0\n",
      "450096  3936.T 2025-10-27   162.0   162.0\n",
      "450100  4417.T 2025-10-27  4330.0  4075.0\n",
      "450101  4011.T 2025-10-27  3440.0  3430.0\n"
     ]
    }
   ],
   "source": [
    "# 当日のGROK銘柄のデータを抽出\n",
    "grok_tickers = df_grok['ticker'].tolist()\n",
    "\n",
    "# 5分足データ: 当日の売却価格用\n",
    "df_today_5m = df_prices_5m[\n",
    "    (df_prices_5m['ticker'].isin(grok_tickers)) &\n",
    "    (df_prices_5m['date'].dt.date == pd.to_datetime(TARGET_DATE).date())\n",
    "].copy()\n",
    "\n",
    "# 日足データ: 当日の始値（寄付価格）用\n",
    "df_today_1d = df_prices_1d[\n",
    "    (df_prices_1d['ticker'].isin(grok_tickers)) &\n",
    "    (df_prices_1d['date'].dt.date == pd.to_datetime(TARGET_DATE).date())\n",
    "].copy()\n",
    "\n",
    "print(f\"5分足データ（売却価格用）: {len(df_today_5m):,}件\")\n",
    "print(f\"  銘柄数: {df_today_5m['ticker'].nunique()} / {len(grok_tickers)}\")\n",
    "\n",
    "print(f\"\\n日足データ（寄付価格用）: {len(df_today_1d)}件\")\n",
    "print(f\"  銘柄数: {df_today_1d['ticker'].nunique()} / {len(grok_tickers)}\")\n",
    "\n",
    "if len(df_today_5m) == 0:\n",
    "    print(f\"\\n⚠️ 当日の5分足データがありません。\")\n",
    "if len(df_today_1d) == 0:\n",
    "    print(f\"\\n⚠️ 当日の日足データがありません。\")\n",
    "\n",
    "if len(df_today_5m) > 0:\n",
    "    # 時刻列を追加（5分足）\n",
    "    df_today_5m['time'] = df_today_5m['date'].dt.time\n",
    "    df_today_5m['hour_minute'] = df_today_5m['date'].dt.strftime('%H:%M')\n",
    "    \n",
    "    print(f\"\\n5分足時刻範囲: {df_today_5m['hour_minute'].min()} 〜 {df_today_5m['hour_minute'].max()}\")\n",
    "    print(f\"\\nサンプルデータ（5分足）:\")\n",
    "    print(df_today_5m[['ticker', 'date', 'hour_minute', 'Open', 'Close', 'Volume']].head(5))\n",
    "\n",
    "if len(df_today_1d) > 0:\n",
    "    print(f\"\\nサンプルデータ（日足・始値）:\")\n",
    "    print(df_today_1d[['ticker', 'date', 'Open', 'Close']].head(5))"
   ]
  },
  {
   "cell_type": "markdown",
   "metadata": {},
   "source": [
    "## 3. 寄付価格と各時刻での利益計算"
   ]
  },
  {
   "cell_type": "code",
   "execution_count": 23,
   "metadata": {},
   "outputs": [
    {
     "name": "stdout",
     "output_type": "stream",
     "text": [
      "✅ 利益率計算完了\n",
      "\n",
      "寄付価格データがある銘柄数: 12 / 12\n",
      "\n",
      "サンプル（Top5銘柄）:\n",
      "   ticker         stock_name  grok_rank  price_09:00  return_09:30  \\\n",
      "1  4592.T              サンバイオ          2       2699.0      2.593553   \n",
      "3  4417.T  グローバルセキュリティエキスパート          4       4330.0     -4.734411   \n",
      "4  3911.T             Aiming          1        247.0      0.809717   \n",
      "6  3936.T           グローバルウェイ          5        162.0      1.851852   \n",
      "8  7078.T          INCLUSIVE          3        426.0           NaN   \n",
      "\n",
      "   return_10:00  return_10:30  return_11:00  return_11:30  \n",
      "1      3.705076      4.001482      4.520193      4.409040  \n",
      "3     -5.542725     -4.965358     -6.466513     -6.697460  \n",
      "4      0.404858      0.404858      0.000000      0.404858  \n",
      "6      0.617284           NaN           NaN           NaN  \n",
      "8      1.643192           NaN           NaN           NaN  \n"
     ]
    }
   ],
   "source": [
    "# 分析対象時刻の定義\n",
    "TIME_SLOTS = {\n",
    "    '09:30': '9:30売却',\n",
    "    '10:00': '10:00売却',\n",
    "    '10:30': '10:30売却',\n",
    "    '11:00': '11:00売却',\n",
    "    '11:30': '前引け売却',\n",
    "}\n",
    "\n",
    "def get_open_price(ticker):\n",
    "    \"\"\"日足データから始値（寄付価格）を取得\"\"\"\n",
    "    ticker_data = df_today_1d[df_today_1d['ticker'] == ticker]\n",
    "    if len(ticker_data) > 0:\n",
    "        return ticker_data['Open'].iloc[0]\n",
    "    return None\n",
    "\n",
    "def get_price_at_time(ticker, target_time):\n",
    "    \"\"\"5分足データから指定時刻の価格を取得（前後10分の範囲で最も近い時刻）\"\"\"\n",
    "    df_ticker = df_today_5m[df_today_5m['ticker'] == ticker].copy()\n",
    "    if len(df_ticker) == 0:\n",
    "        return None\n",
    "    \n",
    "    # 目標時刻の前後10分の範囲でデータを探す\n",
    "    target_dt = datetime.strptime(target_time, '%H:%M').time()\n",
    "    df_ticker['time_diff'] = df_ticker['date'].apply(\n",
    "        lambda x: abs((x.time().hour * 60 + x.time().minute) - \n",
    "                     (target_dt.hour * 60 + target_dt.minute))\n",
    "    )\n",
    "    \n",
    "    # 10分以内の最も近い時刻のデータを取得\n",
    "    closest = df_ticker[df_ticker['time_diff'] <= 10].nsmallest(1, 'time_diff')\n",
    "    \n",
    "    if len(closest) > 0:\n",
    "        return closest['Close'].iloc[0]\n",
    "    return None\n",
    "\n",
    "# 各銘柄の各時刻での価格を取得\n",
    "results = []\n",
    "\n",
    "for ticker in grok_tickers:\n",
    "    row_data = {'ticker': ticker}\n",
    "    \n",
    "    # GROK情報を追加\n",
    "    grok_info = df_grok[df_grok['ticker'] == ticker].iloc[0]\n",
    "    row_data['stock_name'] = grok_info['stock_name']\n",
    "    row_data['selection_score'] = grok_info['selection_score']\n",
    "    row_data['grok_rank'] = grok_info['grok_rank']\n",
    "    row_data['is_top5'] = grok_info['grok_rank'] <= 5\n",
    "    row_data['is_top10'] = grok_info['grok_rank'] <= 10\n",
    "    \n",
    "    # 寄付価格（日足のOpen）\n",
    "    row_data['price_09:00'] = get_open_price(ticker)\n",
    "    \n",
    "    # 各時刻の売却価格（5分足）\n",
    "    for time_str in TIME_SLOTS.keys():\n",
    "        price = get_price_at_time(ticker, time_str)\n",
    "        row_data[f'price_{time_str}'] = price\n",
    "    \n",
    "    results.append(row_data)\n",
    "\n",
    "df_results = pd.DataFrame(results)\n",
    "\n",
    "# 寄付価格（買値）を基準に各時刻での利益率を計算\n",
    "buy_price_col = 'price_09:00'\n",
    "\n",
    "for time_str in TIME_SLOTS.keys():\n",
    "    sell_price_col = f'price_{time_str}'\n",
    "    return_col = f'return_{time_str}'\n",
    "    \n",
    "    df_results[return_col] = (\n",
    "        (df_results[sell_price_col] - df_results[buy_price_col]) / \n",
    "        df_results[buy_price_col] * 100\n",
    "    )\n",
    "\n",
    "print(f\"✅ 利益率計算完了\")\n",
    "print(f\"\\n寄付価格データがある銘柄数: {df_results[buy_price_col].notna().sum()} / {len(df_results)}\")\n",
    "\n",
    "# データがある銘柄のみにフィルタ\n",
    "df_results_valid = df_results[df_results[buy_price_col].notna()].copy()\n",
    "\n",
    "if len(df_results_valid) > 0:\n",
    "    print(f\"\\nサンプル（Top5銘柄）:\")\n",
    "    display_cols = ['ticker', 'stock_name', 'grok_rank', buy_price_col] + \\\n",
    "                   [f'return_{t}' for t in TIME_SLOTS.keys()]\n",
    "    print(df_results_valid[df_results_valid['is_top5']][display_cols].head())\n",
    "else:\n",
    "    print(\"\\n⚠️ 分析可能なデータがありません\")"
   ]
  },
  {
   "cell_type": "markdown",
   "metadata": {},
   "source": [
    "## 4. 集計統計の計算"
   ]
  },
  {
   "cell_type": "code",
   "execution_count": 24,
   "metadata": {},
   "outputs": [
    {
     "name": "stdout",
     "output_type": "stream",
     "text": [
      "\n",
      "📊 グループ別統計:\n",
      "group  count  11:30_avg  11:30_win_rate\n",
      " Top5      5  -0.627854       66.666667\n",
      "Top10     10  -0.660284       50.000000\n",
      "  全銘柄     12  -0.780753       40.000000\n"
     ]
    }
   ],
   "source": [
    "# グループ別の統計を計算\n",
    "def calc_group_stats(df, group_name):\n",
    "    \"\"\"グループの統計を計算\"\"\"\n",
    "    stats = {'group': group_name, 'count': len(df)}\n",
    "    \n",
    "    for time_str in TIME_SLOTS.keys():\n",
    "        return_col = f'return_{time_str}'\n",
    "        \n",
    "        if return_col in df.columns:\n",
    "            valid_returns = df[return_col].dropna()\n",
    "            \n",
    "            if len(valid_returns) > 0:\n",
    "                stats[f'{time_str}_avg'] = valid_returns.mean()\n",
    "                stats[f'{time_str}_win_rate'] = (valid_returns > 0).sum() / len(valid_returns) * 100\n",
    "                stats[f'{time_str}_count'] = len(valid_returns)\n",
    "            else:\n",
    "                stats[f'{time_str}_avg'] = None\n",
    "                stats[f'{time_str}_win_rate'] = None\n",
    "                stats[f'{time_str}_count'] = 0\n",
    "    \n",
    "    return stats\n",
    "\n",
    "# 各グループの統計\n",
    "stats_top5 = calc_group_stats(df_results_valid[df_results_valid['is_top5']], 'Top5')\n",
    "stats_top10 = calc_group_stats(df_results_valid[df_results_valid['is_top10']], 'Top10')\n",
    "stats_all = calc_group_stats(df_results_valid, '全銘柄')\n",
    "\n",
    "df_stats = pd.DataFrame([stats_top5, stats_top10, stats_all])\n",
    "\n",
    "print(\"\\n📊 グループ別統計:\")\n",
    "print(df_stats[['group', 'count', '11:30_avg', '11:30_win_rate']].to_string(index=False))"
   ]
  },
  {
   "cell_type": "markdown",
   "metadata": {},
   "source": [
    "## 5. ビジュアライゼーション"
   ]
  },
  {
   "cell_type": "code",
   "execution_count": 25,
   "metadata": {},
   "outputs": [
    {
     "data": {
      "application/vnd.plotly.v1+json": {
       "config": {
        "plotlyServerURL": "https://plot.ly"
       },
       "data": [
        {
         "line": {
          "width": 3
         },
         "marker": {
          "size": 10
         },
         "mode": "lines+markers",
         "name": "Top5",
         "type": "scatter",
         "x": [
          "9:30",
          "10:00",
          "10:30",
          "11:00",
          "11:30"
         ],
         "y": [
          0.13017763335793242,
          0.1655371038644467,
          -0.18633921256355745,
          -0.6487733460429702,
          -0.6278536331241906
         ]
        },
        {
         "line": {
          "width": 3
         },
         "marker": {
          "size": 10
         },
         "mode": "lines+markers",
         "name": "Top10",
         "type": "scatter",
         "x": [
          "9:30",
          "10:00",
          "10:30",
          "11:00",
          "11:30"
         ],
         "y": [
          0.12008250592363552,
          -0.2116577557096537,
          -0.1201767332797613,
          -0.7642031983643262,
          -0.6602841642370825
         ]
        },
        {
         "line": {
          "width": 3
         },
         "marker": {
          "size": 10
         },
         "mode": "lines+markers",
         "name": "全銘柄",
         "type": "scatter",
         "x": [
          "9:30",
          "10:00",
          "10:30",
          "11:00",
          "11:30"
         ],
         "y": [
          0.44861109188375964,
          -0.030179468575741053,
          -0.2684974460833028,
          -0.5345073733208314,
          -0.7807525839149185
         ]
        }
       ],
       "layout": {
        "height": 500,
        "hovermode": "x unified",
        "legend": {
         "bgcolor": "rgba(255,255,255,0.8)",
         "x": 0.02,
         "y": 0.98
        },
        "shapes": [
         {
          "line": {
           "color": "gray",
           "dash": "dash"
          },
          "opacity": 0.5,
          "type": "line",
          "x0": 0,
          "x1": 1,
          "xref": "x domain",
          "y0": 0,
          "y1": 0,
          "yref": "y"
         }
        ],
        "template": {
         "data": {
          "bar": [
           {
            "error_x": {
             "color": "#2a3f5f"
            },
            "error_y": {
             "color": "#2a3f5f"
            },
            "marker": {
             "line": {
              "color": "white",
              "width": 0.5
             },
             "pattern": {
              "fillmode": "overlay",
              "size": 10,
              "solidity": 0.2
             }
            },
            "type": "bar"
           }
          ],
          "barpolar": [
           {
            "marker": {
             "line": {
              "color": "white",
              "width": 0.5
             },
             "pattern": {
              "fillmode": "overlay",
              "size": 10,
              "solidity": 0.2
             }
            },
            "type": "barpolar"
           }
          ],
          "carpet": [
           {
            "aaxis": {
             "endlinecolor": "#2a3f5f",
             "gridcolor": "#C8D4E3",
             "linecolor": "#C8D4E3",
             "minorgridcolor": "#C8D4E3",
             "startlinecolor": "#2a3f5f"
            },
            "baxis": {
             "endlinecolor": "#2a3f5f",
             "gridcolor": "#C8D4E3",
             "linecolor": "#C8D4E3",
             "minorgridcolor": "#C8D4E3",
             "startlinecolor": "#2a3f5f"
            },
            "type": "carpet"
           }
          ],
          "choropleth": [
           {
            "colorbar": {
             "outlinewidth": 0,
             "ticks": ""
            },
            "type": "choropleth"
           }
          ],
          "contour": [
           {
            "colorbar": {
             "outlinewidth": 0,
             "ticks": ""
            },
            "colorscale": [
             [
              0,
              "#0d0887"
             ],
             [
              0.1111111111111111,
              "#46039f"
             ],
             [
              0.2222222222222222,
              "#7201a8"
             ],
             [
              0.3333333333333333,
              "#9c179e"
             ],
             [
              0.4444444444444444,
              "#bd3786"
             ],
             [
              0.5555555555555556,
              "#d8576b"
             ],
             [
              0.6666666666666666,
              "#ed7953"
             ],
             [
              0.7777777777777778,
              "#fb9f3a"
             ],
             [
              0.8888888888888888,
              "#fdca26"
             ],
             [
              1,
              "#f0f921"
             ]
            ],
            "type": "contour"
           }
          ],
          "contourcarpet": [
           {
            "colorbar": {
             "outlinewidth": 0,
             "ticks": ""
            },
            "type": "contourcarpet"
           }
          ],
          "heatmap": [
           {
            "colorbar": {
             "outlinewidth": 0,
             "ticks": ""
            },
            "colorscale": [
             [
              0,
              "#0d0887"
             ],
             [
              0.1111111111111111,
              "#46039f"
             ],
             [
              0.2222222222222222,
              "#7201a8"
             ],
             [
              0.3333333333333333,
              "#9c179e"
             ],
             [
              0.4444444444444444,
              "#bd3786"
             ],
             [
              0.5555555555555556,
              "#d8576b"
             ],
             [
              0.6666666666666666,
              "#ed7953"
             ],
             [
              0.7777777777777778,
              "#fb9f3a"
             ],
             [
              0.8888888888888888,
              "#fdca26"
             ],
             [
              1,
              "#f0f921"
             ]
            ],
            "type": "heatmap"
           }
          ],
          "histogram": [
           {
            "marker": {
             "pattern": {
              "fillmode": "overlay",
              "size": 10,
              "solidity": 0.2
             }
            },
            "type": "histogram"
           }
          ],
          "histogram2d": [
           {
            "colorbar": {
             "outlinewidth": 0,
             "ticks": ""
            },
            "colorscale": [
             [
              0,
              "#0d0887"
             ],
             [
              0.1111111111111111,
              "#46039f"
             ],
             [
              0.2222222222222222,
              "#7201a8"
             ],
             [
              0.3333333333333333,
              "#9c179e"
             ],
             [
              0.4444444444444444,
              "#bd3786"
             ],
             [
              0.5555555555555556,
              "#d8576b"
             ],
             [
              0.6666666666666666,
              "#ed7953"
             ],
             [
              0.7777777777777778,
              "#fb9f3a"
             ],
             [
              0.8888888888888888,
              "#fdca26"
             ],
             [
              1,
              "#f0f921"
             ]
            ],
            "type": "histogram2d"
           }
          ],
          "histogram2dcontour": [
           {
            "colorbar": {
             "outlinewidth": 0,
             "ticks": ""
            },
            "colorscale": [
             [
              0,
              "#0d0887"
             ],
             [
              0.1111111111111111,
              "#46039f"
             ],
             [
              0.2222222222222222,
              "#7201a8"
             ],
             [
              0.3333333333333333,
              "#9c179e"
             ],
             [
              0.4444444444444444,
              "#bd3786"
             ],
             [
              0.5555555555555556,
              "#d8576b"
             ],
             [
              0.6666666666666666,
              "#ed7953"
             ],
             [
              0.7777777777777778,
              "#fb9f3a"
             ],
             [
              0.8888888888888888,
              "#fdca26"
             ],
             [
              1,
              "#f0f921"
             ]
            ],
            "type": "histogram2dcontour"
           }
          ],
          "mesh3d": [
           {
            "colorbar": {
             "outlinewidth": 0,
             "ticks": ""
            },
            "type": "mesh3d"
           }
          ],
          "parcoords": [
           {
            "line": {
             "colorbar": {
              "outlinewidth": 0,
              "ticks": ""
             }
            },
            "type": "parcoords"
           }
          ],
          "pie": [
           {
            "automargin": true,
            "type": "pie"
           }
          ],
          "scatter": [
           {
            "fillpattern": {
             "fillmode": "overlay",
             "size": 10,
             "solidity": 0.2
            },
            "type": "scatter"
           }
          ],
          "scatter3d": [
           {
            "line": {
             "colorbar": {
              "outlinewidth": 0,
              "ticks": ""
             }
            },
            "marker": {
             "colorbar": {
              "outlinewidth": 0,
              "ticks": ""
             }
            },
            "type": "scatter3d"
           }
          ],
          "scattercarpet": [
           {
            "marker": {
             "colorbar": {
              "outlinewidth": 0,
              "ticks": ""
             }
            },
            "type": "scattercarpet"
           }
          ],
          "scattergeo": [
           {
            "marker": {
             "colorbar": {
              "outlinewidth": 0,
              "ticks": ""
             }
            },
            "type": "scattergeo"
           }
          ],
          "scattergl": [
           {
            "marker": {
             "colorbar": {
              "outlinewidth": 0,
              "ticks": ""
             }
            },
            "type": "scattergl"
           }
          ],
          "scattermap": [
           {
            "marker": {
             "colorbar": {
              "outlinewidth": 0,
              "ticks": ""
             }
            },
            "type": "scattermap"
           }
          ],
          "scattermapbox": [
           {
            "marker": {
             "colorbar": {
              "outlinewidth": 0,
              "ticks": ""
             }
            },
            "type": "scattermapbox"
           }
          ],
          "scatterpolar": [
           {
            "marker": {
             "colorbar": {
              "outlinewidth": 0,
              "ticks": ""
             }
            },
            "type": "scatterpolar"
           }
          ],
          "scatterpolargl": [
           {
            "marker": {
             "colorbar": {
              "outlinewidth": 0,
              "ticks": ""
             }
            },
            "type": "scatterpolargl"
           }
          ],
          "scatterternary": [
           {
            "marker": {
             "colorbar": {
              "outlinewidth": 0,
              "ticks": ""
             }
            },
            "type": "scatterternary"
           }
          ],
          "surface": [
           {
            "colorbar": {
             "outlinewidth": 0,
             "ticks": ""
            },
            "colorscale": [
             [
              0,
              "#0d0887"
             ],
             [
              0.1111111111111111,
              "#46039f"
             ],
             [
              0.2222222222222222,
              "#7201a8"
             ],
             [
              0.3333333333333333,
              "#9c179e"
             ],
             [
              0.4444444444444444,
              "#bd3786"
             ],
             [
              0.5555555555555556,
              "#d8576b"
             ],
             [
              0.6666666666666666,
              "#ed7953"
             ],
             [
              0.7777777777777778,
              "#fb9f3a"
             ],
             [
              0.8888888888888888,
              "#fdca26"
             ],
             [
              1,
              "#f0f921"
             ]
            ],
            "type": "surface"
           }
          ],
          "table": [
           {
            "cells": {
             "fill": {
              "color": "#EBF0F8"
             },
             "line": {
              "color": "white"
             }
            },
            "header": {
             "fill": {
              "color": "#C8D4E3"
             },
             "line": {
              "color": "white"
             }
            },
            "type": "table"
           }
          ]
         },
         "layout": {
          "annotationdefaults": {
           "arrowcolor": "#2a3f5f",
           "arrowhead": 0,
           "arrowwidth": 1
          },
          "autotypenumbers": "strict",
          "coloraxis": {
           "colorbar": {
            "outlinewidth": 0,
            "ticks": ""
           }
          },
          "colorscale": {
           "diverging": [
            [
             0,
             "#8e0152"
            ],
            [
             0.1,
             "#c51b7d"
            ],
            [
             0.2,
             "#de77ae"
            ],
            [
             0.3,
             "#f1b6da"
            ],
            [
             0.4,
             "#fde0ef"
            ],
            [
             0.5,
             "#f7f7f7"
            ],
            [
             0.6,
             "#e6f5d0"
            ],
            [
             0.7,
             "#b8e186"
            ],
            [
             0.8,
             "#7fbc41"
            ],
            [
             0.9,
             "#4d9221"
            ],
            [
             1,
             "#276419"
            ]
           ],
           "sequential": [
            [
             0,
             "#0d0887"
            ],
            [
             0.1111111111111111,
             "#46039f"
            ],
            [
             0.2222222222222222,
             "#7201a8"
            ],
            [
             0.3333333333333333,
             "#9c179e"
            ],
            [
             0.4444444444444444,
             "#bd3786"
            ],
            [
             0.5555555555555556,
             "#d8576b"
            ],
            [
             0.6666666666666666,
             "#ed7953"
            ],
            [
             0.7777777777777778,
             "#fb9f3a"
            ],
            [
             0.8888888888888888,
             "#fdca26"
            ],
            [
             1,
             "#f0f921"
            ]
           ],
           "sequentialminus": [
            [
             0,
             "#0d0887"
            ],
            [
             0.1111111111111111,
             "#46039f"
            ],
            [
             0.2222222222222222,
             "#7201a8"
            ],
            [
             0.3333333333333333,
             "#9c179e"
            ],
            [
             0.4444444444444444,
             "#bd3786"
            ],
            [
             0.5555555555555556,
             "#d8576b"
            ],
            [
             0.6666666666666666,
             "#ed7953"
            ],
            [
             0.7777777777777778,
             "#fb9f3a"
            ],
            [
             0.8888888888888888,
             "#fdca26"
            ],
            [
             1,
             "#f0f921"
            ]
           ]
          },
          "colorway": [
           "#636efa",
           "#EF553B",
           "#00cc96",
           "#ab63fa",
           "#FFA15A",
           "#19d3f3",
           "#FF6692",
           "#B6E880",
           "#FF97FF",
           "#FECB52"
          ],
          "font": {
           "color": "#2a3f5f"
          },
          "geo": {
           "bgcolor": "white",
           "lakecolor": "white",
           "landcolor": "white",
           "showlakes": true,
           "showland": true,
           "subunitcolor": "#C8D4E3"
          },
          "hoverlabel": {
           "align": "left"
          },
          "hovermode": "closest",
          "mapbox": {
           "style": "light"
          },
          "paper_bgcolor": "white",
          "plot_bgcolor": "white",
          "polar": {
           "angularaxis": {
            "gridcolor": "#EBF0F8",
            "linecolor": "#EBF0F8",
            "ticks": ""
           },
           "bgcolor": "white",
           "radialaxis": {
            "gridcolor": "#EBF0F8",
            "linecolor": "#EBF0F8",
            "ticks": ""
           }
          },
          "scene": {
           "xaxis": {
            "backgroundcolor": "white",
            "gridcolor": "#DFE8F3",
            "gridwidth": 2,
            "linecolor": "#EBF0F8",
            "showbackground": true,
            "ticks": "",
            "zerolinecolor": "#EBF0F8"
           },
           "yaxis": {
            "backgroundcolor": "white",
            "gridcolor": "#DFE8F3",
            "gridwidth": 2,
            "linecolor": "#EBF0F8",
            "showbackground": true,
            "ticks": "",
            "zerolinecolor": "#EBF0F8"
           },
           "zaxis": {
            "backgroundcolor": "white",
            "gridcolor": "#DFE8F3",
            "gridwidth": 2,
            "linecolor": "#EBF0F8",
            "showbackground": true,
            "ticks": "",
            "zerolinecolor": "#EBF0F8"
           }
          },
          "shapedefaults": {
           "line": {
            "color": "#2a3f5f"
           }
          },
          "ternary": {
           "aaxis": {
            "gridcolor": "#DFE8F3",
            "linecolor": "#A2B1C6",
            "ticks": ""
           },
           "baxis": {
            "gridcolor": "#DFE8F3",
            "linecolor": "#A2B1C6",
            "ticks": ""
           },
           "bgcolor": "white",
           "caxis": {
            "gridcolor": "#DFE8F3",
            "linecolor": "#A2B1C6",
            "ticks": ""
           }
          },
          "title": {
           "x": 0.05
          },
          "xaxis": {
           "automargin": true,
           "gridcolor": "#EBF0F8",
           "linecolor": "#EBF0F8",
           "ticks": "",
           "title": {
            "standoff": 15
           },
           "zerolinecolor": "#EBF0F8",
           "zerolinewidth": 2
          },
          "yaxis": {
           "automargin": true,
           "gridcolor": "#EBF0F8",
           "linecolor": "#EBF0F8",
           "ticks": "",
           "title": {
            "standoff": 15
           },
           "zerolinecolor": "#EBF0F8",
           "zerolinewidth": 2
          }
         }
        },
        "title": {
         "text": "<b>時刻別平均リターン（2025-10-27）</b><br><sub>9:00寄付買い → 各時刻売却</sub>"
        },
        "xaxis": {
         "title": {
          "text": "売却時刻"
         }
        },
        "yaxis": {
         "title": {
          "text": "平均リターン (%)"
         }
        }
       }
      }
     },
     "metadata": {},
     "output_type": "display_data"
    }
   ],
   "source": [
    "# グラフ1: 時刻別平均リターン（グループ比較）\n",
    "time_points = list(TIME_SLOTS.keys())\n",
    "time_labels = ['9:30', '10:00', '10:30', '11:00', '11:30']\n",
    "\n",
    "fig_returns = go.Figure()\n",
    "\n",
    "for idx, row in df_stats.iterrows():\n",
    "    returns = [row[f'{t}_avg'] for t in time_points]\n",
    "    \n",
    "    fig_returns.add_trace(go.Scatter(\n",
    "        x=time_labels,\n",
    "        y=returns,\n",
    "        mode='lines+markers',\n",
    "        name=row['group'],\n",
    "        line=dict(width=3),\n",
    "        marker=dict(size=10)\n",
    "    ))\n",
    "\n",
    "fig_returns.add_hline(y=0, line_dash=\"dash\", line_color=\"gray\", opacity=0.5)\n",
    "\n",
    "fig_returns.update_layout(\n",
    "    title=f'<b>時刻別平均リターン（{TARGET_DATE}）</b><br><sub>9:00寄付買い → 各時刻売却</sub>',\n",
    "    xaxis_title='売却時刻',\n",
    "    yaxis_title='平均リターン (%)',\n",
    "    height=500,\n",
    "    hovermode='x unified',\n",
    "    legend=dict(x=0.02, y=0.98, bgcolor='rgba(255,255,255,0.8)')\n",
    ")\n",
    "\n",
    "fig_returns.show()"
   ]
  },
  {
   "cell_type": "code",
   "execution_count": 26,
   "metadata": {},
   "outputs": [
    {
     "data": {
      "application/vnd.plotly.v1+json": {
       "config": {
        "plotlyServerURL": "https://plot.ly"
       },
       "data": [
        {
         "name": "Top5",
         "text": [
          "75.0%",
          "80.0%",
          "66.7%",
          "33.3%",
          "66.7%"
         ],
         "textposition": "outside",
         "type": "bar",
         "x": [
          "9:30",
          "10:00",
          "10:30",
          "11:00",
          "11:30"
         ],
         "y": [
          75,
          80,
          66.66666666666666,
          33.33333333333333,
          66.66666666666666
         ]
        },
        {
         "name": "Top10",
         "text": [
          "66.7%",
          "57.1%",
          "60.0%",
          "16.7%",
          "50.0%"
         ],
         "textposition": "outside",
         "type": "bar",
         "x": [
          "9:30",
          "10:00",
          "10:30",
          "11:00",
          "11:30"
         ],
         "y": [
          66.66666666666666,
          57.14285714285714,
          60,
          16.666666666666664,
          50
         ]
        },
        {
         "name": "全銘柄",
         "text": [
          "75.0%",
          "55.6%",
          "50.0%",
          "25.0%",
          "40.0%"
         ],
         "textposition": "outside",
         "type": "bar",
         "x": [
          "9:30",
          "10:00",
          "10:30",
          "11:00",
          "11:30"
         ],
         "y": [
          75,
          55.55555555555556,
          50,
          25,
          40
         ]
        }
       ],
       "layout": {
        "annotations": [
         {
          "showarrow": false,
          "text": "50%（損益分岐）",
          "x": 1,
          "xanchor": "right",
          "xref": "x domain",
          "y": 50,
          "yanchor": "bottom",
          "yref": "y"
         }
        ],
        "barmode": "group",
        "height": 500,
        "hovermode": "x unified",
        "legend": {
         "bgcolor": "rgba(255,255,255,0.8)",
         "x": 0.02,
         "y": 0.98
        },
        "shapes": [
         {
          "line": {
           "color": "gray",
           "dash": "dash"
          },
          "opacity": 0.5,
          "type": "line",
          "x0": 0,
          "x1": 1,
          "xref": "x domain",
          "y0": 50,
          "y1": 50,
          "yref": "y"
         }
        ],
        "template": {
         "data": {
          "bar": [
           {
            "error_x": {
             "color": "#2a3f5f"
            },
            "error_y": {
             "color": "#2a3f5f"
            },
            "marker": {
             "line": {
              "color": "white",
              "width": 0.5
             },
             "pattern": {
              "fillmode": "overlay",
              "size": 10,
              "solidity": 0.2
             }
            },
            "type": "bar"
           }
          ],
          "barpolar": [
           {
            "marker": {
             "line": {
              "color": "white",
              "width": 0.5
             },
             "pattern": {
              "fillmode": "overlay",
              "size": 10,
              "solidity": 0.2
             }
            },
            "type": "barpolar"
           }
          ],
          "carpet": [
           {
            "aaxis": {
             "endlinecolor": "#2a3f5f",
             "gridcolor": "#C8D4E3",
             "linecolor": "#C8D4E3",
             "minorgridcolor": "#C8D4E3",
             "startlinecolor": "#2a3f5f"
            },
            "baxis": {
             "endlinecolor": "#2a3f5f",
             "gridcolor": "#C8D4E3",
             "linecolor": "#C8D4E3",
             "minorgridcolor": "#C8D4E3",
             "startlinecolor": "#2a3f5f"
            },
            "type": "carpet"
           }
          ],
          "choropleth": [
           {
            "colorbar": {
             "outlinewidth": 0,
             "ticks": ""
            },
            "type": "choropleth"
           }
          ],
          "contour": [
           {
            "colorbar": {
             "outlinewidth": 0,
             "ticks": ""
            },
            "colorscale": [
             [
              0,
              "#0d0887"
             ],
             [
              0.1111111111111111,
              "#46039f"
             ],
             [
              0.2222222222222222,
              "#7201a8"
             ],
             [
              0.3333333333333333,
              "#9c179e"
             ],
             [
              0.4444444444444444,
              "#bd3786"
             ],
             [
              0.5555555555555556,
              "#d8576b"
             ],
             [
              0.6666666666666666,
              "#ed7953"
             ],
             [
              0.7777777777777778,
              "#fb9f3a"
             ],
             [
              0.8888888888888888,
              "#fdca26"
             ],
             [
              1,
              "#f0f921"
             ]
            ],
            "type": "contour"
           }
          ],
          "contourcarpet": [
           {
            "colorbar": {
             "outlinewidth": 0,
             "ticks": ""
            },
            "type": "contourcarpet"
           }
          ],
          "heatmap": [
           {
            "colorbar": {
             "outlinewidth": 0,
             "ticks": ""
            },
            "colorscale": [
             [
              0,
              "#0d0887"
             ],
             [
              0.1111111111111111,
              "#46039f"
             ],
             [
              0.2222222222222222,
              "#7201a8"
             ],
             [
              0.3333333333333333,
              "#9c179e"
             ],
             [
              0.4444444444444444,
              "#bd3786"
             ],
             [
              0.5555555555555556,
              "#d8576b"
             ],
             [
              0.6666666666666666,
              "#ed7953"
             ],
             [
              0.7777777777777778,
              "#fb9f3a"
             ],
             [
              0.8888888888888888,
              "#fdca26"
             ],
             [
              1,
              "#f0f921"
             ]
            ],
            "type": "heatmap"
           }
          ],
          "histogram": [
           {
            "marker": {
             "pattern": {
              "fillmode": "overlay",
              "size": 10,
              "solidity": 0.2
             }
            },
            "type": "histogram"
           }
          ],
          "histogram2d": [
           {
            "colorbar": {
             "outlinewidth": 0,
             "ticks": ""
            },
            "colorscale": [
             [
              0,
              "#0d0887"
             ],
             [
              0.1111111111111111,
              "#46039f"
             ],
             [
              0.2222222222222222,
              "#7201a8"
             ],
             [
              0.3333333333333333,
              "#9c179e"
             ],
             [
              0.4444444444444444,
              "#bd3786"
             ],
             [
              0.5555555555555556,
              "#d8576b"
             ],
             [
              0.6666666666666666,
              "#ed7953"
             ],
             [
              0.7777777777777778,
              "#fb9f3a"
             ],
             [
              0.8888888888888888,
              "#fdca26"
             ],
             [
              1,
              "#f0f921"
             ]
            ],
            "type": "histogram2d"
           }
          ],
          "histogram2dcontour": [
           {
            "colorbar": {
             "outlinewidth": 0,
             "ticks": ""
            },
            "colorscale": [
             [
              0,
              "#0d0887"
             ],
             [
              0.1111111111111111,
              "#46039f"
             ],
             [
              0.2222222222222222,
              "#7201a8"
             ],
             [
              0.3333333333333333,
              "#9c179e"
             ],
             [
              0.4444444444444444,
              "#bd3786"
             ],
             [
              0.5555555555555556,
              "#d8576b"
             ],
             [
              0.6666666666666666,
              "#ed7953"
             ],
             [
              0.7777777777777778,
              "#fb9f3a"
             ],
             [
              0.8888888888888888,
              "#fdca26"
             ],
             [
              1,
              "#f0f921"
             ]
            ],
            "type": "histogram2dcontour"
           }
          ],
          "mesh3d": [
           {
            "colorbar": {
             "outlinewidth": 0,
             "ticks": ""
            },
            "type": "mesh3d"
           }
          ],
          "parcoords": [
           {
            "line": {
             "colorbar": {
              "outlinewidth": 0,
              "ticks": ""
             }
            },
            "type": "parcoords"
           }
          ],
          "pie": [
           {
            "automargin": true,
            "type": "pie"
           }
          ],
          "scatter": [
           {
            "fillpattern": {
             "fillmode": "overlay",
             "size": 10,
             "solidity": 0.2
            },
            "type": "scatter"
           }
          ],
          "scatter3d": [
           {
            "line": {
             "colorbar": {
              "outlinewidth": 0,
              "ticks": ""
             }
            },
            "marker": {
             "colorbar": {
              "outlinewidth": 0,
              "ticks": ""
             }
            },
            "type": "scatter3d"
           }
          ],
          "scattercarpet": [
           {
            "marker": {
             "colorbar": {
              "outlinewidth": 0,
              "ticks": ""
             }
            },
            "type": "scattercarpet"
           }
          ],
          "scattergeo": [
           {
            "marker": {
             "colorbar": {
              "outlinewidth": 0,
              "ticks": ""
             }
            },
            "type": "scattergeo"
           }
          ],
          "scattergl": [
           {
            "marker": {
             "colorbar": {
              "outlinewidth": 0,
              "ticks": ""
             }
            },
            "type": "scattergl"
           }
          ],
          "scattermap": [
           {
            "marker": {
             "colorbar": {
              "outlinewidth": 0,
              "ticks": ""
             }
            },
            "type": "scattermap"
           }
          ],
          "scattermapbox": [
           {
            "marker": {
             "colorbar": {
              "outlinewidth": 0,
              "ticks": ""
             }
            },
            "type": "scattermapbox"
           }
          ],
          "scatterpolar": [
           {
            "marker": {
             "colorbar": {
              "outlinewidth": 0,
              "ticks": ""
             }
            },
            "type": "scatterpolar"
           }
          ],
          "scatterpolargl": [
           {
            "marker": {
             "colorbar": {
              "outlinewidth": 0,
              "ticks": ""
             }
            },
            "type": "scatterpolargl"
           }
          ],
          "scatterternary": [
           {
            "marker": {
             "colorbar": {
              "outlinewidth": 0,
              "ticks": ""
             }
            },
            "type": "scatterternary"
           }
          ],
          "surface": [
           {
            "colorbar": {
             "outlinewidth": 0,
             "ticks": ""
            },
            "colorscale": [
             [
              0,
              "#0d0887"
             ],
             [
              0.1111111111111111,
              "#46039f"
             ],
             [
              0.2222222222222222,
              "#7201a8"
             ],
             [
              0.3333333333333333,
              "#9c179e"
             ],
             [
              0.4444444444444444,
              "#bd3786"
             ],
             [
              0.5555555555555556,
              "#d8576b"
             ],
             [
              0.6666666666666666,
              "#ed7953"
             ],
             [
              0.7777777777777778,
              "#fb9f3a"
             ],
             [
              0.8888888888888888,
              "#fdca26"
             ],
             [
              1,
              "#f0f921"
             ]
            ],
            "type": "surface"
           }
          ],
          "table": [
           {
            "cells": {
             "fill": {
              "color": "#EBF0F8"
             },
             "line": {
              "color": "white"
             }
            },
            "header": {
             "fill": {
              "color": "#C8D4E3"
             },
             "line": {
              "color": "white"
             }
            },
            "type": "table"
           }
          ]
         },
         "layout": {
          "annotationdefaults": {
           "arrowcolor": "#2a3f5f",
           "arrowhead": 0,
           "arrowwidth": 1
          },
          "autotypenumbers": "strict",
          "coloraxis": {
           "colorbar": {
            "outlinewidth": 0,
            "ticks": ""
           }
          },
          "colorscale": {
           "diverging": [
            [
             0,
             "#8e0152"
            ],
            [
             0.1,
             "#c51b7d"
            ],
            [
             0.2,
             "#de77ae"
            ],
            [
             0.3,
             "#f1b6da"
            ],
            [
             0.4,
             "#fde0ef"
            ],
            [
             0.5,
             "#f7f7f7"
            ],
            [
             0.6,
             "#e6f5d0"
            ],
            [
             0.7,
             "#b8e186"
            ],
            [
             0.8,
             "#7fbc41"
            ],
            [
             0.9,
             "#4d9221"
            ],
            [
             1,
             "#276419"
            ]
           ],
           "sequential": [
            [
             0,
             "#0d0887"
            ],
            [
             0.1111111111111111,
             "#46039f"
            ],
            [
             0.2222222222222222,
             "#7201a8"
            ],
            [
             0.3333333333333333,
             "#9c179e"
            ],
            [
             0.4444444444444444,
             "#bd3786"
            ],
            [
             0.5555555555555556,
             "#d8576b"
            ],
            [
             0.6666666666666666,
             "#ed7953"
            ],
            [
             0.7777777777777778,
             "#fb9f3a"
            ],
            [
             0.8888888888888888,
             "#fdca26"
            ],
            [
             1,
             "#f0f921"
            ]
           ],
           "sequentialminus": [
            [
             0,
             "#0d0887"
            ],
            [
             0.1111111111111111,
             "#46039f"
            ],
            [
             0.2222222222222222,
             "#7201a8"
            ],
            [
             0.3333333333333333,
             "#9c179e"
            ],
            [
             0.4444444444444444,
             "#bd3786"
            ],
            [
             0.5555555555555556,
             "#d8576b"
            ],
            [
             0.6666666666666666,
             "#ed7953"
            ],
            [
             0.7777777777777778,
             "#fb9f3a"
            ],
            [
             0.8888888888888888,
             "#fdca26"
            ],
            [
             1,
             "#f0f921"
            ]
           ]
          },
          "colorway": [
           "#636efa",
           "#EF553B",
           "#00cc96",
           "#ab63fa",
           "#FFA15A",
           "#19d3f3",
           "#FF6692",
           "#B6E880",
           "#FF97FF",
           "#FECB52"
          ],
          "font": {
           "color": "#2a3f5f"
          },
          "geo": {
           "bgcolor": "white",
           "lakecolor": "white",
           "landcolor": "white",
           "showlakes": true,
           "showland": true,
           "subunitcolor": "#C8D4E3"
          },
          "hoverlabel": {
           "align": "left"
          },
          "hovermode": "closest",
          "mapbox": {
           "style": "light"
          },
          "paper_bgcolor": "white",
          "plot_bgcolor": "white",
          "polar": {
           "angularaxis": {
            "gridcolor": "#EBF0F8",
            "linecolor": "#EBF0F8",
            "ticks": ""
           },
           "bgcolor": "white",
           "radialaxis": {
            "gridcolor": "#EBF0F8",
            "linecolor": "#EBF0F8",
            "ticks": ""
           }
          },
          "scene": {
           "xaxis": {
            "backgroundcolor": "white",
            "gridcolor": "#DFE8F3",
            "gridwidth": 2,
            "linecolor": "#EBF0F8",
            "showbackground": true,
            "ticks": "",
            "zerolinecolor": "#EBF0F8"
           },
           "yaxis": {
            "backgroundcolor": "white",
            "gridcolor": "#DFE8F3",
            "gridwidth": 2,
            "linecolor": "#EBF0F8",
            "showbackground": true,
            "ticks": "",
            "zerolinecolor": "#EBF0F8"
           },
           "zaxis": {
            "backgroundcolor": "white",
            "gridcolor": "#DFE8F3",
            "gridwidth": 2,
            "linecolor": "#EBF0F8",
            "showbackground": true,
            "ticks": "",
            "zerolinecolor": "#EBF0F8"
           }
          },
          "shapedefaults": {
           "line": {
            "color": "#2a3f5f"
           }
          },
          "ternary": {
           "aaxis": {
            "gridcolor": "#DFE8F3",
            "linecolor": "#A2B1C6",
            "ticks": ""
           },
           "baxis": {
            "gridcolor": "#DFE8F3",
            "linecolor": "#A2B1C6",
            "ticks": ""
           },
           "bgcolor": "white",
           "caxis": {
            "gridcolor": "#DFE8F3",
            "linecolor": "#A2B1C6",
            "ticks": ""
           }
          },
          "title": {
           "x": 0.05
          },
          "xaxis": {
           "automargin": true,
           "gridcolor": "#EBF0F8",
           "linecolor": "#EBF0F8",
           "ticks": "",
           "title": {
            "standoff": 15
           },
           "zerolinecolor": "#EBF0F8",
           "zerolinewidth": 2
          },
          "yaxis": {
           "automargin": true,
           "gridcolor": "#EBF0F8",
           "linecolor": "#EBF0F8",
           "ticks": "",
           "title": {
            "standoff": 15
           },
           "zerolinecolor": "#EBF0F8",
           "zerolinewidth": 2
          }
         }
        },
        "title": {
         "text": "<b>時刻別勝率（2025-10-27）</b><br><sub>9:00寄付買い → 各時刻売却</sub>"
        },
        "xaxis": {
         "title": {
          "text": "売却時刻"
         }
        },
        "yaxis": {
         "range": [
          0,
          100
         ],
         "title": {
          "text": "勝率 (%)"
         }
        }
       }
      }
     },
     "metadata": {},
     "output_type": "display_data"
    }
   ],
   "source": [
    "# グラフ2: 時刻別勝率（グループ比較）\n",
    "fig_winrate = go.Figure()\n",
    "\n",
    "for idx, row in df_stats.iterrows():\n",
    "    win_rates = [row[f'{t}_win_rate'] for t in time_points]\n",
    "    \n",
    "    fig_winrate.add_trace(go.Bar(\n",
    "        x=time_labels,\n",
    "        y=win_rates,\n",
    "        name=row['group'],\n",
    "        text=[f'{v:.1f}%' if v is not None else 'N/A' for v in win_rates],\n",
    "        textposition='outside'\n",
    "    ))\n",
    "\n",
    "fig_winrate.add_hline(y=50, line_dash=\"dash\", line_color=\"gray\", opacity=0.5,\n",
    "                       annotation_text=\"50%（損益分岐）\")\n",
    "\n",
    "fig_winrate.update_layout(\n",
    "    title=f'<b>時刻別勝率（{TARGET_DATE}）</b><br><sub>9:00寄付買い → 各時刻売却</sub>',\n",
    "    xaxis_title='売却時刻',\n",
    "    yaxis_title='勝率 (%)',\n",
    "    height=500,\n",
    "    barmode='group',\n",
    "    hovermode='x unified',\n",
    "    yaxis=dict(range=[0, 100]),\n",
    "    legend=dict(x=0.02, y=0.98, bgcolor='rgba(255,255,255,0.8)')\n",
    ")\n",
    "\n",
    "fig_winrate.show()"
   ]
  },
  {
   "cell_type": "code",
   "execution_count": 27,
   "metadata": {},
   "outputs": [
    {
     "data": {
      "application/vnd.plotly.v1+json": {
       "config": {
        "plotlyServerURL": "https://plot.ly"
       },
       "data": [
        {
         "hovertemplate": "%{y:.2f}%<extra></extra>",
         "mode": "lines+markers",
         "name": "4592.T サンバイオ",
         "type": "scatter",
         "x": [
          "9:30",
          "10:00",
          "10:30",
          "11:00",
          "11:30"
         ],
         "y": [
          2.5935531678399406,
          3.7050759540570586,
          4.001482030381623,
          4.5201926639496115,
          4.4090403853278985
         ]
        },
        {
         "hovertemplate": "%{y:.2f}%<extra></extra>",
         "mode": "lines+markers",
         "name": "4417.T グローバルセキュリティエキスパート",
         "type": "scatter",
         "x": [
          "9:30",
          "10:00",
          "10:30",
          "11:00",
          "11:30"
         ],
         "y": [
          -4.734411085450346,
          -5.542725173210162,
          -4.965357967667437,
          -6.466512702078522,
          -6.697459584295612
         ]
        },
        {
         "hovertemplate": "%{y:.2f}%<extra></extra>",
         "mode": "lines+markers",
         "name": "3911.T Aiming",
         "type": "scatter",
         "x": [
          "9:30",
          "10:00",
          "10:30",
          "11:00",
          "11:30"
         ],
         "y": [
          0.8097165991902834,
          0.4048582995951417,
          0.4048582995951417,
          0,
          0.4048582995951417
         ]
        },
        {
         "hovertemplate": "%{y:.2f}%<extra></extra>",
         "mode": "lines+markers",
         "name": "3936.T グローバルウェイ",
         "type": "scatter",
         "x": [
          "9:30",
          "10:00",
          "10:30",
          "11:00",
          "11:30"
         ],
         "y": [
          1.8518518518518516,
          0.6172839506172839,
          null,
          null,
          null
         ]
        },
        {
         "hovertemplate": "%{y:.2f}%<extra></extra>",
         "mode": "lines+markers",
         "name": "7078.T INCLUSIVE",
         "type": "scatter",
         "x": [
          "9:30",
          "10:00",
          "10:30",
          "11:00",
          "11:30"
         ],
         "y": [
          null,
          1.643192488262911,
          null,
          null,
          null
         ]
        }
       ],
       "layout": {
        "height": 600,
        "hovermode": "x unified",
        "legend": {
         "bgcolor": "rgba(255,255,255,0.8)",
         "x": 1.02,
         "y": 1
        },
        "shapes": [
         {
          "line": {
           "color": "gray",
           "dash": "dash"
          },
          "opacity": 0.5,
          "type": "line",
          "x0": 0,
          "x1": 1,
          "xref": "x domain",
          "y0": 0,
          "y1": 0,
          "yref": "y"
         }
        ],
        "template": {
         "data": {
          "bar": [
           {
            "error_x": {
             "color": "#2a3f5f"
            },
            "error_y": {
             "color": "#2a3f5f"
            },
            "marker": {
             "line": {
              "color": "white",
              "width": 0.5
             },
             "pattern": {
              "fillmode": "overlay",
              "size": 10,
              "solidity": 0.2
             }
            },
            "type": "bar"
           }
          ],
          "barpolar": [
           {
            "marker": {
             "line": {
              "color": "white",
              "width": 0.5
             },
             "pattern": {
              "fillmode": "overlay",
              "size": 10,
              "solidity": 0.2
             }
            },
            "type": "barpolar"
           }
          ],
          "carpet": [
           {
            "aaxis": {
             "endlinecolor": "#2a3f5f",
             "gridcolor": "#C8D4E3",
             "linecolor": "#C8D4E3",
             "minorgridcolor": "#C8D4E3",
             "startlinecolor": "#2a3f5f"
            },
            "baxis": {
             "endlinecolor": "#2a3f5f",
             "gridcolor": "#C8D4E3",
             "linecolor": "#C8D4E3",
             "minorgridcolor": "#C8D4E3",
             "startlinecolor": "#2a3f5f"
            },
            "type": "carpet"
           }
          ],
          "choropleth": [
           {
            "colorbar": {
             "outlinewidth": 0,
             "ticks": ""
            },
            "type": "choropleth"
           }
          ],
          "contour": [
           {
            "colorbar": {
             "outlinewidth": 0,
             "ticks": ""
            },
            "colorscale": [
             [
              0,
              "#0d0887"
             ],
             [
              0.1111111111111111,
              "#46039f"
             ],
             [
              0.2222222222222222,
              "#7201a8"
             ],
             [
              0.3333333333333333,
              "#9c179e"
             ],
             [
              0.4444444444444444,
              "#bd3786"
             ],
             [
              0.5555555555555556,
              "#d8576b"
             ],
             [
              0.6666666666666666,
              "#ed7953"
             ],
             [
              0.7777777777777778,
              "#fb9f3a"
             ],
             [
              0.8888888888888888,
              "#fdca26"
             ],
             [
              1,
              "#f0f921"
             ]
            ],
            "type": "contour"
           }
          ],
          "contourcarpet": [
           {
            "colorbar": {
             "outlinewidth": 0,
             "ticks": ""
            },
            "type": "contourcarpet"
           }
          ],
          "heatmap": [
           {
            "colorbar": {
             "outlinewidth": 0,
             "ticks": ""
            },
            "colorscale": [
             [
              0,
              "#0d0887"
             ],
             [
              0.1111111111111111,
              "#46039f"
             ],
             [
              0.2222222222222222,
              "#7201a8"
             ],
             [
              0.3333333333333333,
              "#9c179e"
             ],
             [
              0.4444444444444444,
              "#bd3786"
             ],
             [
              0.5555555555555556,
              "#d8576b"
             ],
             [
              0.6666666666666666,
              "#ed7953"
             ],
             [
              0.7777777777777778,
              "#fb9f3a"
             ],
             [
              0.8888888888888888,
              "#fdca26"
             ],
             [
              1,
              "#f0f921"
             ]
            ],
            "type": "heatmap"
           }
          ],
          "histogram": [
           {
            "marker": {
             "pattern": {
              "fillmode": "overlay",
              "size": 10,
              "solidity": 0.2
             }
            },
            "type": "histogram"
           }
          ],
          "histogram2d": [
           {
            "colorbar": {
             "outlinewidth": 0,
             "ticks": ""
            },
            "colorscale": [
             [
              0,
              "#0d0887"
             ],
             [
              0.1111111111111111,
              "#46039f"
             ],
             [
              0.2222222222222222,
              "#7201a8"
             ],
             [
              0.3333333333333333,
              "#9c179e"
             ],
             [
              0.4444444444444444,
              "#bd3786"
             ],
             [
              0.5555555555555556,
              "#d8576b"
             ],
             [
              0.6666666666666666,
              "#ed7953"
             ],
             [
              0.7777777777777778,
              "#fb9f3a"
             ],
             [
              0.8888888888888888,
              "#fdca26"
             ],
             [
              1,
              "#f0f921"
             ]
            ],
            "type": "histogram2d"
           }
          ],
          "histogram2dcontour": [
           {
            "colorbar": {
             "outlinewidth": 0,
             "ticks": ""
            },
            "colorscale": [
             [
              0,
              "#0d0887"
             ],
             [
              0.1111111111111111,
              "#46039f"
             ],
             [
              0.2222222222222222,
              "#7201a8"
             ],
             [
              0.3333333333333333,
              "#9c179e"
             ],
             [
              0.4444444444444444,
              "#bd3786"
             ],
             [
              0.5555555555555556,
              "#d8576b"
             ],
             [
              0.6666666666666666,
              "#ed7953"
             ],
             [
              0.7777777777777778,
              "#fb9f3a"
             ],
             [
              0.8888888888888888,
              "#fdca26"
             ],
             [
              1,
              "#f0f921"
             ]
            ],
            "type": "histogram2dcontour"
           }
          ],
          "mesh3d": [
           {
            "colorbar": {
             "outlinewidth": 0,
             "ticks": ""
            },
            "type": "mesh3d"
           }
          ],
          "parcoords": [
           {
            "line": {
             "colorbar": {
              "outlinewidth": 0,
              "ticks": ""
             }
            },
            "type": "parcoords"
           }
          ],
          "pie": [
           {
            "automargin": true,
            "type": "pie"
           }
          ],
          "scatter": [
           {
            "fillpattern": {
             "fillmode": "overlay",
             "size": 10,
             "solidity": 0.2
            },
            "type": "scatter"
           }
          ],
          "scatter3d": [
           {
            "line": {
             "colorbar": {
              "outlinewidth": 0,
              "ticks": ""
             }
            },
            "marker": {
             "colorbar": {
              "outlinewidth": 0,
              "ticks": ""
             }
            },
            "type": "scatter3d"
           }
          ],
          "scattercarpet": [
           {
            "marker": {
             "colorbar": {
              "outlinewidth": 0,
              "ticks": ""
             }
            },
            "type": "scattercarpet"
           }
          ],
          "scattergeo": [
           {
            "marker": {
             "colorbar": {
              "outlinewidth": 0,
              "ticks": ""
             }
            },
            "type": "scattergeo"
           }
          ],
          "scattergl": [
           {
            "marker": {
             "colorbar": {
              "outlinewidth": 0,
              "ticks": ""
             }
            },
            "type": "scattergl"
           }
          ],
          "scattermap": [
           {
            "marker": {
             "colorbar": {
              "outlinewidth": 0,
              "ticks": ""
             }
            },
            "type": "scattermap"
           }
          ],
          "scattermapbox": [
           {
            "marker": {
             "colorbar": {
              "outlinewidth": 0,
              "ticks": ""
             }
            },
            "type": "scattermapbox"
           }
          ],
          "scatterpolar": [
           {
            "marker": {
             "colorbar": {
              "outlinewidth": 0,
              "ticks": ""
             }
            },
            "type": "scatterpolar"
           }
          ],
          "scatterpolargl": [
           {
            "marker": {
             "colorbar": {
              "outlinewidth": 0,
              "ticks": ""
             }
            },
            "type": "scatterpolargl"
           }
          ],
          "scatterternary": [
           {
            "marker": {
             "colorbar": {
              "outlinewidth": 0,
              "ticks": ""
             }
            },
            "type": "scatterternary"
           }
          ],
          "surface": [
           {
            "colorbar": {
             "outlinewidth": 0,
             "ticks": ""
            },
            "colorscale": [
             [
              0,
              "#0d0887"
             ],
             [
              0.1111111111111111,
              "#46039f"
             ],
             [
              0.2222222222222222,
              "#7201a8"
             ],
             [
              0.3333333333333333,
              "#9c179e"
             ],
             [
              0.4444444444444444,
              "#bd3786"
             ],
             [
              0.5555555555555556,
              "#d8576b"
             ],
             [
              0.6666666666666666,
              "#ed7953"
             ],
             [
              0.7777777777777778,
              "#fb9f3a"
             ],
             [
              0.8888888888888888,
              "#fdca26"
             ],
             [
              1,
              "#f0f921"
             ]
            ],
            "type": "surface"
           }
          ],
          "table": [
           {
            "cells": {
             "fill": {
              "color": "#EBF0F8"
             },
             "line": {
              "color": "white"
             }
            },
            "header": {
             "fill": {
              "color": "#C8D4E3"
             },
             "line": {
              "color": "white"
             }
            },
            "type": "table"
           }
          ]
         },
         "layout": {
          "annotationdefaults": {
           "arrowcolor": "#2a3f5f",
           "arrowhead": 0,
           "arrowwidth": 1
          },
          "autotypenumbers": "strict",
          "coloraxis": {
           "colorbar": {
            "outlinewidth": 0,
            "ticks": ""
           }
          },
          "colorscale": {
           "diverging": [
            [
             0,
             "#8e0152"
            ],
            [
             0.1,
             "#c51b7d"
            ],
            [
             0.2,
             "#de77ae"
            ],
            [
             0.3,
             "#f1b6da"
            ],
            [
             0.4,
             "#fde0ef"
            ],
            [
             0.5,
             "#f7f7f7"
            ],
            [
             0.6,
             "#e6f5d0"
            ],
            [
             0.7,
             "#b8e186"
            ],
            [
             0.8,
             "#7fbc41"
            ],
            [
             0.9,
             "#4d9221"
            ],
            [
             1,
             "#276419"
            ]
           ],
           "sequential": [
            [
             0,
             "#0d0887"
            ],
            [
             0.1111111111111111,
             "#46039f"
            ],
            [
             0.2222222222222222,
             "#7201a8"
            ],
            [
             0.3333333333333333,
             "#9c179e"
            ],
            [
             0.4444444444444444,
             "#bd3786"
            ],
            [
             0.5555555555555556,
             "#d8576b"
            ],
            [
             0.6666666666666666,
             "#ed7953"
            ],
            [
             0.7777777777777778,
             "#fb9f3a"
            ],
            [
             0.8888888888888888,
             "#fdca26"
            ],
            [
             1,
             "#f0f921"
            ]
           ],
           "sequentialminus": [
            [
             0,
             "#0d0887"
            ],
            [
             0.1111111111111111,
             "#46039f"
            ],
            [
             0.2222222222222222,
             "#7201a8"
            ],
            [
             0.3333333333333333,
             "#9c179e"
            ],
            [
             0.4444444444444444,
             "#bd3786"
            ],
            [
             0.5555555555555556,
             "#d8576b"
            ],
            [
             0.6666666666666666,
             "#ed7953"
            ],
            [
             0.7777777777777778,
             "#fb9f3a"
            ],
            [
             0.8888888888888888,
             "#fdca26"
            ],
            [
             1,
             "#f0f921"
            ]
           ]
          },
          "colorway": [
           "#636efa",
           "#EF553B",
           "#00cc96",
           "#ab63fa",
           "#FFA15A",
           "#19d3f3",
           "#FF6692",
           "#B6E880",
           "#FF97FF",
           "#FECB52"
          ],
          "font": {
           "color": "#2a3f5f"
          },
          "geo": {
           "bgcolor": "white",
           "lakecolor": "white",
           "landcolor": "white",
           "showlakes": true,
           "showland": true,
           "subunitcolor": "#C8D4E3"
          },
          "hoverlabel": {
           "align": "left"
          },
          "hovermode": "closest",
          "mapbox": {
           "style": "light"
          },
          "paper_bgcolor": "white",
          "plot_bgcolor": "white",
          "polar": {
           "angularaxis": {
            "gridcolor": "#EBF0F8",
            "linecolor": "#EBF0F8",
            "ticks": ""
           },
           "bgcolor": "white",
           "radialaxis": {
            "gridcolor": "#EBF0F8",
            "linecolor": "#EBF0F8",
            "ticks": ""
           }
          },
          "scene": {
           "xaxis": {
            "backgroundcolor": "white",
            "gridcolor": "#DFE8F3",
            "gridwidth": 2,
            "linecolor": "#EBF0F8",
            "showbackground": true,
            "ticks": "",
            "zerolinecolor": "#EBF0F8"
           },
           "yaxis": {
            "backgroundcolor": "white",
            "gridcolor": "#DFE8F3",
            "gridwidth": 2,
            "linecolor": "#EBF0F8",
            "showbackground": true,
            "ticks": "",
            "zerolinecolor": "#EBF0F8"
           },
           "zaxis": {
            "backgroundcolor": "white",
            "gridcolor": "#DFE8F3",
            "gridwidth": 2,
            "linecolor": "#EBF0F8",
            "showbackground": true,
            "ticks": "",
            "zerolinecolor": "#EBF0F8"
           }
          },
          "shapedefaults": {
           "line": {
            "color": "#2a3f5f"
           }
          },
          "ternary": {
           "aaxis": {
            "gridcolor": "#DFE8F3",
            "linecolor": "#A2B1C6",
            "ticks": ""
           },
           "baxis": {
            "gridcolor": "#DFE8F3",
            "linecolor": "#A2B1C6",
            "ticks": ""
           },
           "bgcolor": "white",
           "caxis": {
            "gridcolor": "#DFE8F3",
            "linecolor": "#A2B1C6",
            "ticks": ""
           }
          },
          "title": {
           "x": 0.05
          },
          "xaxis": {
           "automargin": true,
           "gridcolor": "#EBF0F8",
           "linecolor": "#EBF0F8",
           "ticks": "",
           "title": {
            "standoff": 15
           },
           "zerolinecolor": "#EBF0F8",
           "zerolinewidth": 2
          },
          "yaxis": {
           "automargin": true,
           "gridcolor": "#EBF0F8",
           "linecolor": "#EBF0F8",
           "ticks": "",
           "title": {
            "standoff": 15
           },
           "zerolinecolor": "#EBF0F8",
           "zerolinewidth": 2
          }
         }
        },
        "title": {
         "text": "<b>Top5銘柄 個別リターン（2025-10-27）</b><br><sub>9:00寄付買い → 各時刻売却</sub>"
        },
        "xaxis": {
         "title": {
          "text": "売却時刻"
         }
        },
        "yaxis": {
         "title": {
          "text": "リターン (%)"
         }
        }
       }
      }
     },
     "metadata": {},
     "output_type": "display_data"
    }
   ],
   "source": [
    "# グラフ3: 個別銘柄のリターン（Top5のみ）\n",
    "df_top5 = df_results_valid[df_results_valid['is_top5']].copy()\n",
    "\n",
    "if len(df_top5) > 0:\n",
    "    fig_individual = go.Figure()\n",
    "    \n",
    "    for _, row in df_top5.iterrows():\n",
    "        returns = [row[f'return_{t}'] for t in time_points]\n",
    "        \n",
    "        fig_individual.add_trace(go.Scatter(\n",
    "            x=time_labels,\n",
    "            y=returns,\n",
    "            mode='lines+markers',\n",
    "            name=f\"{row['ticker']} {row['stock_name']}\",\n",
    "            hovertemplate='%{y:.2f}%<extra></extra>'\n",
    "        ))\n",
    "    \n",
    "    fig_individual.add_hline(y=0, line_dash=\"dash\", line_color=\"gray\", opacity=0.5)\n",
    "    \n",
    "    fig_individual.update_layout(\n",
    "        title=f'<b>Top5銘柄 個別リターン（{TARGET_DATE}）</b><br><sub>9:00寄付買い → 各時刻売却</sub>',\n",
    "        xaxis_title='売却時刻',\n",
    "        yaxis_title='リターン (%)',\n",
    "        height=600,\n",
    "        hovermode='x unified',\n",
    "        legend=dict(x=1.02, y=1, bgcolor='rgba(255,255,255,0.8)')\n",
    "    )\n",
    "    \n",
    "    fig_individual.show()\n",
    "else:\n",
    "    print(\"⚠️ Top5銘柄のデータがありません\")"
   ]
  },
  {
   "cell_type": "markdown",
   "metadata": {},
   "source": [
    "## 6. 詳細データテーブル"
   ]
  },
  {
   "cell_type": "code",
   "execution_count": 28,
   "metadata": {},
   "outputs": [
    {
     "name": "stdout",
     "output_type": "stream",
     "text": [
      "\n",
      "📋 Top5銘柄の詳細:\n",
      "========================================================================================================================\n",
      " ランク    コード               銘柄名   スコア   寄付   9:30  10:00  10:30  11:00 11:30(前引)\n",
      "   1 3911.T            Aiming 148.0  247 +0.81% +0.40% +0.40% +0.00%    +0.40%\n",
      "   2 4592.T             サンバイオ 160.0 2699 +2.59% +3.71% +4.00% +4.52%    +4.41%\n",
      "   3 7078.T         INCLUSIVE  88.0  426    N/A +1.64%    N/A    N/A       N/A\n",
      "   4 4417.T グローバルセキュリティエキスパート 155.0 4330 -4.73% -5.54% -4.97% -6.47%    -6.70%\n",
      "   5 3936.T          グローバルウェイ  90.0  162 +1.85% +0.62%    N/A    N/A       N/A\n",
      "========================================================================================================================\n"
     ]
    }
   ],
   "source": [
    "# Top5銘柄の詳細テーブル\n",
    "if len(df_top5) > 0:\n",
    "    print(\"\\n📋 Top5銘柄の詳細:\")\n",
    "    print(\"=\"*120)\n",
    "    \n",
    "    display_df = df_top5.sort_values('grok_rank')[[\n",
    "        'grok_rank', 'ticker', 'stock_name', 'selection_score',\n",
    "        'price_09:00', 'return_09:30', 'return_10:00', 'return_10:30',\n",
    "        'return_11:00', 'return_11:30'\n",
    "    ]].copy()\n",
    "    \n",
    "    # 数値フォーマット\n",
    "    for col in display_df.columns:\n",
    "        if 'return_' in col:\n",
    "            display_df[col] = display_df[col].apply(lambda x: f\"{x:+.2f}%\" if pd.notna(x) else \"N/A\")\n",
    "        elif col == 'price_09:00':\n",
    "            display_df[col] = display_df[col].apply(lambda x: f\"{x:.0f}\" if pd.notna(x) else \"N/A\")\n",
    "    \n",
    "    display_df.columns = [\n",
    "        'ランク', 'コード', '銘柄名', 'スコア', '寄付',\n",
    "        '9:30', '10:00', '10:30', '11:00', '11:30(前引)'\n",
    "    ]\n",
    "    \n",
    "    print(display_df.to_string(index=False))\n",
    "    print(\"=\"*120)"
   ]
  },
  {
   "cell_type": "markdown",
   "metadata": {},
   "source": [
    "## 7. サマリーレポート"
   ]
  },
  {
   "cell_type": "code",
   "execution_count": 29,
   "metadata": {},
   "outputs": [
    {
     "name": "stdout",
     "output_type": "stream",
     "text": [
      "\n",
      "================================================================================\n",
      "📊 GROK銘柄 前場パフォーマンスサマリー (2025-10-27)\n",
      "================================================================================\n",
      "\n",
      "【戦略】9:00 寄付買い → 前引け（11:30）売却\n",
      "--------------------------------------------------------------------------------\n",
      "\n",
      "Top5 (3銘柄):\n",
      "  平均リターン: -0.63%\n",
      "  勝率: 66.7%\n",
      "\n",
      "Top10 (4銘柄):\n",
      "  平均リターン: -0.66%\n",
      "  勝率: 50.0%\n",
      "\n",
      "全銘柄 (5銘柄):\n",
      "  平均リターン: -0.78%\n",
      "  勝率: 40.0%\n",
      "\n",
      "\n",
      "【最適売却時刻分析】\n",
      "--------------------------------------------------------------------------------\n",
      "\n",
      "Top5: 10:00 (+0.17%)\n",
      "\n",
      "Top10: 9:30 (+0.12%)\n",
      "\n",
      "全銘柄: 9:30 (+0.45%)\n",
      "\n",
      "================================================================================\n"
     ]
    }
   ],
   "source": [
    "print(f\"\\n\" + \"=\"*80)\n",
    "print(f\"📊 GROK銘柄 前場パフォーマンスサマリー ({TARGET_DATE})\")\n",
    "print(\"=\"*80)\n",
    "\n",
    "print(f\"\\n【戦略】9:00 寄付買い → 前引け（11:30）売却\")\n",
    "print(\"-\"*80)\n",
    "\n",
    "for _, row in df_stats.iterrows():\n",
    "    group = row['group']\n",
    "    count = row['11:30_count']\n",
    "    avg_return = row['11:30_avg']\n",
    "    win_rate = row['11:30_win_rate']\n",
    "    \n",
    "    print(f\"\\n{group} ({count}銘柄):\")\n",
    "    if avg_return is not None:\n",
    "        print(f\"  平均リターン: {avg_return:+.2f}%\")\n",
    "        print(f\"  勝率: {win_rate:.1f}%\")\n",
    "    else:\n",
    "        print(f\"  データなし\")\n",
    "\n",
    "# 最適売却時刻の特定\n",
    "print(f\"\\n\\n【最適売却時刻分析】\")\n",
    "print(\"-\"*80)\n",
    "\n",
    "for group in ['Top5', 'Top10', '全銘柄']:\n",
    "    group_data = df_stats[df_stats['group'] == group].iloc[0]\n",
    "    \n",
    "    best_time = None\n",
    "    best_return = -999\n",
    "    \n",
    "    for t in time_points:\n",
    "        ret = group_data[f'{t}_avg']\n",
    "        if ret is not None and ret > best_return:\n",
    "            best_return = ret\n",
    "            best_time = t\n",
    "    \n",
    "    if best_time:\n",
    "        time_label = TIME_SLOTS[best_time].replace('売却', '')\n",
    "        print(f\"\\n{group}: {time_label} ({best_return:+.2f}%)\")\n",
    "    else:\n",
    "        print(f\"\\n{group}: データ不足\")\n",
    "\n",
    "print(\"\\n\" + \"=\"*80)"
   ]
  },
  {
   "cell_type": "markdown",
   "metadata": {},
   "source": [
    "## 8. HTMLエクスポート（オプション）\n",
    "\n",
    "グラフをHTMLファイルとして保存してブラウザで開けます。"
   ]
  },
  {
   "cell_type": "code",
   "execution_count": 30,
   "metadata": {},
   "outputs": [
    {
     "name": "stdout",
     "output_type": "stream",
     "text": [
      "\n",
      "✅ HTMLファイルを保存しました: /Users/hiroyukiyamanaka/Desktop/python_stock/dash_plotly/output/grok_analysis\n",
      "\n",
      "ブラウザで開くには:\n",
      "  open /Users/hiroyukiyamanaka/Desktop/python_stock/dash_plotly/output/grok_analysis/returns_20251027_223627.html\n"
     ]
    }
   ],
   "source": [
    "# HTMLファイルとして保存\n",
    "output_dir = ROOT / \"output\" / \"grok_analysis\"\n",
    "output_dir.mkdir(parents=True, exist_ok=True)\n",
    "\n",
    "timestamp = datetime.now().strftime(\"%Y%m%d_%H%M%S\")\n",
    "\n",
    "fig_returns.write_html(output_dir / f\"returns_{timestamp}.html\")\n",
    "fig_winrate.write_html(output_dir / f\"winrate_{timestamp}.html\")\n",
    "\n",
    "if len(df_top5) > 0:\n",
    "    fig_individual.write_html(output_dir / f\"top5_individual_{timestamp}.html\")\n",
    "\n",
    "print(f\"\\n✅ HTMLファイルを保存しました: {output_dir}\")\n",
    "print(f\"\\nブラウザで開くには:\")\n",
    "print(f\"  open {output_dir}/returns_{timestamp}.html\")"
   ]
  },
  {
   "cell_type": "markdown",
   "source": "## 9. Phase2分析: 目標利益率到達判定\n\n**Phase2戦略**: 9:00寄付買い → ⭕%上昇で即売り、11:30前引けまでに未到達なら引け不成\n\n目標利益率: **3%, 5%, 7%**",
   "metadata": {}
  },
  {
   "cell_type": "code",
   "source": "from datetime import datetime, time\n\n# Phase2分析: 目標利益率到達判定\nPROFIT_TARGETS = [3.0, 5.0, 7.0]  # 3%, 5%, 7%\n\ndef detect_profit_target_achievement(ticker, buy_price, target_pct):\n    \"\"\"\n    5分足データで目標利益率到達を検知\n    \n    Args:\n        ticker: 銘柄コード\n        buy_price: 買値（寄付価格）\n        target_pct: 目標利益率（%）\n    \n    Returns:\n        tuple: (到達有無, 到達時刻, 到達価格)\n    \"\"\"\n    if pd.isna(buy_price) or buy_price <= 0:\n        return False, None, None\n    \n    # 目標価格を計算\n    target_price = buy_price * (1 + target_pct / 100)\n    \n    # 該当銘柄の5分足データを取得\n    df_ticker = df_today_5m[df_today_5m['ticker'] == ticker].copy()\n    \n    if len(df_ticker) == 0:\n        return False, None, None\n    \n    # 9:00-11:30の範囲でフィルター\n    df_ticker = df_ticker[\n        (df_ticker['date'].dt.time >= time(9, 0)) &\n        (df_ticker['date'].dt.time <= time(11, 30))\n    ].sort_values('date')\n    \n    # 目標価格到達を検知（High価格で判定）\n    achieved = df_ticker[df_ticker['High'] >= target_price]\n    \n    if len(achieved) > 0:\n        first_achievement = achieved.iloc[0]\n        return True, first_achievement['date'], target_price\n    \n    return False, None, None\n\n\n# 各銘柄・各目標利益率で判定\nprint(\"Phase2分析: 目標利益率到達判定を実行中...\\n\")\n\nfor target_pct in PROFIT_TARGETS:\n    achieved_col = f'target_{int(target_pct)}pct_achieved'\n    time_col = f'target_{int(target_pct)}pct_time'\n    price_col = f'target_{int(target_pct)}pct_price'\n    return_col = f'phase2_return_{int(target_pct)}pct'\n    \n    results = []\n    \n    for idx, row in df_results.iterrows():\n        ticker = row['ticker']\n        buy_price = row['buy_price']\n        \n        achieved, achievement_time, target_price = detect_profit_target_achievement(\n            ticker, buy_price, target_pct\n        )\n        \n        results.append({\n            'achieved': achieved,\n            'time': achievement_time,\n            'price': target_price if achieved else None\n        })\n    \n    # 結果をDataFrameに追加\n    df_results[achieved_col] = [r['achieved'] for r in results]\n    df_results[time_col] = [r['time'] for r in results]\n    df_results[price_col] = [r['price'] for r in results]\n    \n    # Phase2リターン計算: 到達した場合は目標価格、未到達なら11:30価格\n    df_results[return_col] = df_results.apply(\n        lambda row: (\n            (row[price_col] - row['buy_price']) / row['buy_price'] * 100\n            if row[achieved_col] and pd.notna(row[price_col])\n            else row['return_11:30']  # 未到達の場合は前引け売却\n        ),\n        axis=1\n    )\n    \n    achievement_rate = (df_results[achieved_col].sum() / len(df_results)) * 100\n    print(f\"✓ {target_pct}%目標: {df_results[achieved_col].sum()}/{len(df_results)}銘柄が到達 ({achievement_rate:.1f}%)\")\n\nprint(\"\\n✅ Phase2分析完了\")",
   "metadata": {},
   "execution_count": null,
   "outputs": []
  },
  {
   "cell_type": "markdown",
   "source": "## 10. Phase2戦略パフォーマンス集計",
   "metadata": {}
  },
  {
   "cell_type": "code",
   "source": "# Phase2戦略の統計を計算\nphase2_stats = []\n\nfor target_pct in PROFIT_TARGETS:\n    return_col = f'phase2_return_{int(target_pct)}pct'\n    achieved_col = f'target_{int(target_pct)}pct_achieved'\n    \n    # 全銘柄統計\n    all_avg = df_results[return_col].mean()\n    all_win_rate = (df_results[return_col] > 0).sum() / len(df_results) * 100\n    all_achievement_rate = (df_results[achieved_col].sum() / len(df_results)) * 100\n    \n    # Top5統計\n    top5_avg = df_results.head(5)[return_col].mean()\n    top5_win_rate = (df_results.head(5)[return_col] > 0).sum() / 5 * 100\n    top5_achievement_rate = (df_results.head(5)[achieved_col].sum() / 5) * 100\n    \n    # Top10統計\n    top10_avg = df_results.head(10)[return_col].mean()\n    top10_win_rate = (df_results.head(10)[return_col] > 0).sum() / 10 * 100\n    top10_achievement_rate = (df_results.head(10)[achieved_col].sum() / 10) * 100\n    \n    phase2_stats.append({\n        'target': f'{int(target_pct)}%',\n        'all_avg': all_avg,\n        'all_win_rate': all_win_rate,\n        'all_achievement': all_achievement_rate,\n        'top5_avg': top5_avg,\n        'top5_win_rate': top5_win_rate,\n        'top5_achievement': top5_achievement_rate,\n        'top10_avg': top10_avg,\n        'top10_win_rate': top10_win_rate,\n        'top10_achievement': top10_achievement_rate,\n    })\n\ndf_phase2_stats = pd.DataFrame(phase2_stats)\n\nprint(\"=\" * 80)\nprint(\"Phase2戦略パフォーマンス集計\")\nprint(\"=\" * 80)\nprint(f\"\\n{'目標':<6} {'グループ':<8} {'平均リターン':<12} {'勝率':<10} {'目標到達率':<10}\")\nprint(\"-\" * 80)\n\nfor _, row in df_phase2_stats.iterrows():\n    target = row['target']\n    print(f\"{target:<6} {'All':<8} {row['all_avg']:>10.2f}% {row['all_win_rate']:>8.1f}% {row['all_achievement']:>8.1f}%\")\n    print(f\"{'':6} {'Top5':<8} {row['top5_avg']:>10.2f}% {row['top5_win_rate']:>8.1f}% {row['top5_achievement']:>8.1f}%\")\n    print(f\"{'':6} {'Top10':<8} {row['top10_avg']:>10.2f}% {row['top10_win_rate']:>8.1f}% {row['top10_achievement']:>8.1f}%\")\n    print()\n\n# Phase1（前引け売却）との比較\nprint(\"=\" * 80)\nprint(\"Phase1 vs Phase2 比較（前引け売却 vs 目標利益売却）\")\nprint(\"=\" * 80)\n\nphase1_all_avg = df_results['return_11:30'].mean()\nphase1_top5_avg = df_results.head(5)['return_11:30'].mean()\nphase1_top10_avg = df_results.head(10)['return_11:30'].mean()\n\nprint(f\"\\n{'戦略':<20} {'All平均':<12} {'Top5平均':<12} {'Top10平均':<12}\")\nprint(\"-\" * 80)\nprint(f\"{'Phase1(11:30売却)':<20} {phase1_all_avg:>10.2f}% {phase1_top5_avg:>10.2f}% {phase1_top10_avg:>10.2f}%\")\n\nfor _, row in df_phase2_stats.iterrows():\n    strategy_name = f\"Phase2({row['target']}目標)\"\n    print(f\"{strategy_name:<20} {row['all_avg']:>10.2f}% {row['top5_avg']:>10.2f}% {row['top10_avg']:>10.2f}%\")\n\nprint(\"=\" * 80)",
   "metadata": {},
   "execution_count": null,
   "outputs": []
  },
  {
   "cell_type": "markdown",
   "source": "## 11. Phase2可視化: 目標到達率と平均リターン",
   "metadata": {}
  },
  {
   "cell_type": "code",
   "source": "import plotly.graph_objects as go\nfrom plotly.subplots import make_subplots\n\n# Phase2可視化: 3つのチャートを作成\nfig = make_subplots(\n    rows=2, cols=2,\n    subplot_titles=(\n        'Phase2目標到達率（グループ別）',\n        'Phase2平均リターン（グループ別）',\n        'Phase1 vs Phase2比較（Top5）',\n        'Phase1 vs Phase2比較（Top10）'\n    ),\n    specs=[\n        [{'type': 'bar'}, {'type': 'bar'}],\n        [{'type': 'bar'}, {'type': 'bar'}]\n    ],\n    vertical_spacing=0.15,\n    horizontal_spacing=0.12\n)\n\n# 1. 目標到達率（グループ別）\nfor group, color in [('all', '#636EFA'), ('top5', '#EF553B'), ('top10', '#00CC96')]:\n    fig.add_trace(\n        go.Bar(\n            x=df_phase2_stats['target'],\n            y=df_phase2_stats[f'{group}_achievement'],\n            name=group.upper(),\n            marker_color=color,\n            text=df_phase2_stats[f'{group}_achievement'].round(1),\n            textposition='outside',\n            texttemplate='%{text}%'\n        ),\n        row=1, col=1\n    )\n\n# 2. 平均リターン（グループ別）\nfor group, color in [('all', '#636EFA'), ('top5', '#EF553B'), ('top10', '#00CC96')]:\n    fig.add_trace(\n        go.Bar(\n            x=df_phase2_stats['target'],\n            y=df_phase2_stats[f'{group}_avg'],\n            name=group.upper(),\n            marker_color=color,\n            text=df_phase2_stats[f'{group}_avg'].round(2),\n            textposition='outside',\n            texttemplate='%{text}%',\n            showlegend=False\n        ),\n        row=1, col=2\n    )\n\n# 3. Phase1 vs Phase2比較（Top5）\ncomparison_top5 = {\n    'Phase1(11:30)': phase1_top5_avg,\n    'Phase2(3%)': df_phase2_stats.iloc[0]['top5_avg'],\n    'Phase2(5%)': df_phase2_stats.iloc[1]['top5_avg'],\n    'Phase2(7%)': df_phase2_stats.iloc[2]['top5_avg'],\n}\n\nfig.add_trace(\n    go.Bar(\n        x=list(comparison_top5.keys()),\n        y=list(comparison_top5.values()),\n        marker_color=['#AB63FA', '#FFA15A', '#19D3F3', '#FF6692'],\n        text=[f'{v:.2f}%' for v in comparison_top5.values()],\n        textposition='outside',\n        showlegend=False\n    ),\n    row=2, col=1\n)\n\n# 4. Phase1 vs Phase2比較（Top10）\ncomparison_top10 = {\n    'Phase1(11:30)': phase1_top10_avg,\n    'Phase2(3%)': df_phase2_stats.iloc[0]['top10_avg'],\n    'Phase2(5%)': df_phase2_stats.iloc[1]['top10_avg'],\n    'Phase2(7%)': df_phase2_stats.iloc[2]['top10_avg'],\n}\n\nfig.add_trace(\n    go.Bar(\n        x=list(comparison_top10.keys()),\n        y=list(comparison_top10.values()),\n        marker_color=['#AB63FA', '#FFA15A', '#19D3F3', '#FF6692'],\n        text=[f'{v:.2f}%' for v in comparison_top10.values()],\n        textposition='outside',\n        showlegend=False\n    ),\n    row=2, col=2\n)\n\n# レイアウト調整\nfig.update_xaxes(title_text=\"目標利益率\", row=1, col=1)\nfig.update_yaxes(title_text=\"到達率(%)\", row=1, col=1)\n\nfig.update_xaxes(title_text=\"目標利益率\", row=1, col=2)\nfig.update_yaxes(title_text=\"平均リターン(%)\", row=1, col=2)\n\nfig.update_xaxes(title_text=\"戦略\", row=2, col=1)\nfig.update_yaxes(title_text=\"平均リターン(%)\", row=2, col=1)\n\nfig.update_xaxes(title_text=\"戦略\", row=2, col=2)\nfig.update_yaxes(title_text=\"平均リターン(%)\", row=2, col=2)\n\nfig.update_layout(\n    height=900,\n    title_text=f\"Phase2分析: 目標利益売却戦略の検証 ({target_date})\",\n    showlegend=True,\n    legend=dict(x=0.02, y=0.98)\n)\n\nfig.show()\n\n# HTML保存\nhtml_file = PARQUET_DIR.parent / \"notebooks\" / f\"phase2_analysis_{target_date.replace('-', '')}.html\"\nfig.write_html(str(html_file))\nprint(f\"\\n✅ Phase2分析グラフを保存: {html_file}\")",
   "metadata": {},
   "execution_count": null,
   "outputs": []
  },
  {
   "cell_type": "markdown",
   "source": "## 12. Phase2詳細: 銘柄別の目標到達状況",
   "metadata": {}
  },
  {
   "cell_type": "code",
   "source": "# Top10銘柄の目標到達状況を可視化\ndf_top10_detail = df_results.head(10).copy()\n\n# 表示用カラムを選択\ndisplay_cols = ['ticker', 'company_name', 'buy_price']\n\nfor target_pct in PROFIT_TARGETS:\n    achieved_col = f'target_{int(target_pct)}pct_achieved'\n    time_col = f'target_{int(target_pct)}pct_time'\n    return_col = f'phase2_return_{int(target_pct)}pct'\n    \n    display_cols.extend([achieved_col, time_col, return_col])\n\ndf_display = df_top10_detail[display_cols].copy()\n\n# カラム名をわかりやすく変更\nrename_dict = {'ticker': '銘柄コード', 'company_name': '企業名', 'buy_price': '買値'}\nfor target_pct in PROFIT_TARGETS:\n    target_str = f'{int(target_pct)}%'\n    rename_dict[f'target_{int(target_pct)}pct_achieved'] = f'{target_str}到達'\n    rename_dict[f'target_{int(target_pct)}pct_time'] = f'{target_str}到達時刻'\n    rename_dict[f'phase2_return_{int(target_pct)}pct'] = f'{target_str}リターン'\n\ndf_display = df_display.rename(columns=rename_dict)\n\n# 到達時刻を文字列に変換（時:分のみ）\nfor target_pct in PROFIT_TARGETS:\n    target_str = f'{int(target_pct)}%'\n    time_col = f'{target_str}到達時刻'\n    df_display[time_col] = df_display[time_col].apply(\n        lambda x: x.strftime('%H:%M') if pd.notna(x) else '-'\n    )\n\n# 到達フラグを記号に変換\nfor target_pct in PROFIT_TARGETS:\n    target_str = f'{int(target_pct)}%'\n    achieved_col = f'{target_str}到達'\n    df_display[achieved_col] = df_display[achieved_col].apply(lambda x: '✓' if x else '✗')\n\nprint(\"=\" * 120)\nprint(\"Top10銘柄のPhase2目標到達状況\")\nprint(\"=\" * 120)\nprint(df_display.to_string(index=False))\nprint(\"=\" * 120)\n\n# 成功パターン抽出（3%以上到達した銘柄）\nsuccessful_stocks = df_results[df_results['target_3pct_achieved'] == True].copy()\n\nif len(successful_stocks) > 0:\n    print(f\"\\n✅ 3%目標到達銘柄: {len(successful_stocks)}銘柄\")\n    print(\"-\" * 80)\n    \n    for idx, stock in successful_stocks.head(10).iterrows():\n        ticker = stock['ticker']\n        name = stock['company_name']\n        achievement_time = stock['target_3pct_time'].strftime('%H:%M') if pd.notna(stock['target_3pct_time']) else '-'\n        return_3 = stock['phase2_return_3pct']\n        \n        # 5%、7%も到達したか\n        reached_5 = '✓' if stock['target_5pct_achieved'] else '✗'\n        reached_7 = '✓' if stock['target_7pct_achieved'] else '✗'\n        \n        print(f\"{ticker} {name[:15]:<15} | 3%到達: {achievement_time} ({return_3:>5.2f}%) | 5%: {reached_5} | 7%: {reached_7}\")\nelse:\n    print(\"\\n⚠️  本日は3%目標到達銘柄がありませんでした\")\n\nprint(\"=\" * 120)",
   "metadata": {},
   "execution_count": null,
   "outputs": []
  }
 ],
 "metadata": {
  "kernelspec": {
   "display_name": "Python 3",
   "language": "python",
   "name": "python3"
  },
  "language_info": {
   "codemirror_mode": {
    "name": "ipython",
    "version": 3
   },
   "file_extension": ".py",
   "mimetype": "text/x-python",
   "name": "python",
   "nbconvert_exporter": "python",
   "pygments_lexer": "ipython3",
   "version": "3.12.3"
  }
 },
 "nbformat": 4,
 "nbformat_minor": 4
}