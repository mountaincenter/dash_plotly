{
 "cells": [
  {
   "cell_type": "markdown",
   "metadata": {},
   "source": [
    "# GROK銘柄 イントラデイ分析\n",
    "\n",
    "## 目的\n",
    "- 今日のGROK選定銘柄（Top5/Top10/全銘柄）の前場パフォーマンス分析\n",
    "- 最適売却時刻の特定（9:00寄付買い → 9:30/10:00/10:30/11:00/11:30売却）"
   ]
  },
  {
   "cell_type": "code",
   "execution_count": 4,
   "metadata": {},
   "outputs": [
    {
     "name": "stdout",
     "output_type": "stream",
     "text": [
      "✅ ライブラリ読み込み完了\n",
      "📁 データディレクトリ: /Users/hiroyukiyamanaka/Desktop/python_stock/dash_plotly/data/parquet\n"
     ]
    }
   ],
   "source": [
    "# 必要なライブラリのインポート\n",
    "import sys\n",
    "from pathlib import Path\n",
    "import pandas as pd\n",
    "import numpy as np\n",
    "import plotly.graph_objects as go\n",
    "import plotly.express as px\n",
    "from plotly.subplots import make_subplots\n",
    "from datetime import datetime, time\n",
    "\n",
    "# プロジェクトルートをパスに追加\n",
    "ROOT = Path.cwd().parent\n",
    "if str(ROOT) not in sys.path:\n",
    "    sys.path.insert(0, str(ROOT))\n",
    "\n",
    "from common_cfg.paths import PARQUET_DIR\n",
    "\n",
    "# Plotly設定\n",
    "import plotly.io as pio\n",
    "pio.templates.default = \"plotly_white\"\n",
    "\n",
    "print(f\"✅ ライブラリ読み込み完了\")\n",
    "print(f\"📁 データディレクトリ: {PARQUET_DIR}\")"
   ]
  },
  {
   "cell_type": "markdown",
   "metadata": {},
   "source": [
    "## 1. データ読み込み"
   ]
  },
  {
   "cell_type": "code",
   "execution_count": 5,
   "metadata": {},
   "outputs": [
    {
     "name": "stdout",
     "output_type": "stream",
     "text": [
      "GROK選定銘柄数: 12\n",
      "選定日時: 23:00\n",
      "\n",
      "Top5銘柄:\n",
      "   ticker         stock_name  selection_score  grok_rank\n",
      "4  3911.T             Aiming            148.0          1\n",
      "1  4592.T              サンバイオ            160.0          2\n",
      "8  7078.T          INCLUSIVE             88.0          3\n",
      "3  4417.T  グローバルセキュリティエキスパート            155.0          4\n",
      "6  3936.T           グローバルウェイ             90.0          5\n",
      "\n",
      "📅 分析対象日: 2025-10-27\n"
     ]
    }
   ],
   "source": [
    "# GROK選定銘柄を読み込み\n",
    "grok_file = PARQUET_DIR / \"grok_trending.parquet\"\n",
    "df_grok = pd.read_parquet(grok_file)\n",
    "\n",
    "print(f\"GROK選定銘柄数: {len(df_grok)}\")\n",
    "print(f\"選定日時: {df_grok['selected_time'].iloc[0] if 'selected_time' in df_grok.columns else 'N/A'}\")\n",
    "print(f\"\\nTop5銘柄:\")\n",
    "print(df_grok.nsmallest(5, 'grok_rank')[['ticker', 'stock_name', 'selection_score', 'grok_rank']])\n",
    "\n",
    "# 分析対象日（今日）\n",
    "TARGET_DATE = datetime.now().strftime(\"%Y-%m-%d\")\n",
    "print(f\"\\n📅 分析対象日: {TARGET_DATE}\")"
   ]
  },
  {
   "cell_type": "code",
   "execution_count": null,
   "metadata": {},
   "outputs": [],
   "source": "# 5分足データを読み込み\nprices_5m_file = PARQUET_DIR / \"prices_60d_5m.parquet\"\ndf_prices = pd.read_parquet(prices_5m_file)\n\nprint(f\"✅ 5分足データ読み込み完了\")\nprint(f\"データ期間: {df_prices['date'].min()} 〜 {df_prices['date'].max()}\")\nprint(f\"銘柄数: {df_prices['ticker'].nunique()}\")\nprint(f\"データ件数: {len(df_prices):,}\")"
  },
  {
   "cell_type": "markdown",
   "metadata": {},
   "source": [
    "## 2. 当日データの抽出と前処理"
   ]
  },
  {
   "cell_type": "code",
   "execution_count": null,
   "metadata": {},
   "outputs": [],
   "source": "# 当日のGROK銘柄の価格データのみ抽出\ngrok_tickers = df_grok['ticker'].tolist()\n\n# 当日データをフィルタ\ndf_today = df_prices[\n    (df_prices['ticker'].isin(grok_tickers)) &\n    (df_prices['date'].dt.date == pd.to_datetime(TARGET_DATE).date())\n].copy()\n\nprint(f\"当日のGROK銘柄データ: {len(df_today):,}件\")\nprint(f\"銘柄数: {df_today['ticker'].nunique()} / {len(grok_tickers)}\")\n\nif len(df_today) == 0:\n    print(f\"\\n⚠️ 当日のデータがありません。分析対象日を確認してください。\")\nelse:\n    # 時刻列を追加\n    df_today['time'] = df_today['date'].dt.time\n    df_today['hour_minute'] = df_today['date'].dt.strftime('%H:%M')\n    \n    print(f\"\\n時刻範囲: {df_today['hour_minute'].min()} 〜 {df_today['hour_minute'].max()}\")\n    print(f\"\\nサンプルデータ:\")\n    print(df_today[['ticker', 'date', 'hour_minute', 'Open', 'Close', 'Volume']].head(10))"
  },
  {
   "cell_type": "markdown",
   "metadata": {},
   "source": [
    "## 3. 寄付価格と各時刻での利益計算"
   ]
  },
  {
   "cell_type": "code",
   "execution_count": null,
   "metadata": {},
   "outputs": [],
   "source": "# 分析対象時刻の定義\nTIME_SLOTS = {\n    '09:00': '寄付（買い）',\n    '09:30': '9:30売却',\n    '10:00': '10:00売却',\n    '10:30': '10:30売却',\n    '11:00': '11:00売却',\n    '11:30': '前引け売却',\n}\n\ndef get_price_at_time(df, ticker, target_time):\n    \"\"\"指定時刻の価格を取得（前後5分の範囲で最も近い時刻）\"\"\"\n    df_ticker = df[df['ticker'] == ticker].copy()\n    if len(df_ticker) == 0:\n        return None\n    \n    # 目標時刻の前後5分の範囲でデータを探す\n    target_dt = datetime.strptime(target_time, '%H:%M').time()\n    df_ticker['time_diff'] = df_ticker['date'].apply(\n        lambda x: abs((x.time().hour * 60 + x.time().minute) - \n                     (target_dt.hour * 60 + target_dt.minute))\n    )\n    \n    # 10分以内の最も近い時刻のデータを取得\n    closest = df_ticker[df_ticker['time_diff'] <= 10].nsmallest(1, 'time_diff')\n    \n    if len(closest) > 0:\n        return closest['Close'].iloc[0]\n    return None\n\n# 各銘柄の各時刻での価格を取得\nresults = []\n\nfor ticker in grok_tickers:\n    row_data = {'ticker': ticker}\n    \n    # GROK情報を追加\n    grok_info = df_grok[df_grok['ticker'] == ticker].iloc[0]\n    row_data['stock_name'] = grok_info['stock_name']\n    row_data['selection_score'] = grok_info['selection_score']\n    row_data['grok_rank'] = grok_info['grok_rank']\n    row_data['is_top5'] = grok_info['grok_rank'] <= 5\n    row_data['is_top10'] = grok_info['grok_rank'] <= 10\n    \n    # 各時刻の価格を取得\n    for time_str in TIME_SLOTS.keys():\n        price = get_price_at_time(df_today, ticker, time_str)\n        row_data[f'price_{time_str}'] = price\n    \n    results.append(row_data)\n\ndf_results = pd.DataFrame(results)\n\n# 寄付価格（買値）を基準に各時刻での利益率を計算\nbuy_price_col = 'price_09:00'\n\nfor time_str in ['09:30', '10:00', '10:30', '11:00', '11:30']:\n    sell_price_col = f'price_{time_str}'\n    return_col = f'return_{time_str}'\n    \n    df_results[return_col] = (\n        (df_results[sell_price_col] - df_results[buy_price_col]) / \n        df_results[buy_price_col] * 100\n    )\n\nprint(f\"✅ 利益率計算完了\")\nprint(f\"\\n価格データがある銘柄数: {df_results[buy_price_col].notna().sum()} / {len(df_results)}\")\n\n# データがある銘柄のみにフィルタ\ndf_results_valid = df_results[df_results[buy_price_col].notna()].copy()\n\nprint(f\"\\nサンプル（Top5銘柄）:\")\ndisplay_cols = ['ticker', 'stock_name', 'grok_rank', buy_price_col] + \\\n               [f'return_{t}' for t in ['09:30', '10:00', '10:30', '11:00', '11:30']]\nprint(df_results_valid[df_results_valid['is_top5']][display_cols].head())"
  },
  {
   "cell_type": "markdown",
   "metadata": {},
   "source": [
    "## 4. 集計統計の計算"
   ]
  },
  {
   "cell_type": "code",
   "execution_count": null,
   "metadata": {},
   "outputs": [],
   "source": [
    "# グループ別の統計を計算\n",
    "def calc_group_stats(df, group_name):\n",
    "    \"\"\"グループの統計を計算\"\"\"\n",
    "    stats = {'group': group_name, 'count': len(df)}\n",
    "    \n",
    "    for time_str in ['09:30', '10:00', '10:30', '11:00', '11:30']:\n",
    "        return_col = f'return_{time_str}'\n",
    "        \n",
    "        if return_col in df.columns:\n",
    "            valid_returns = df[return_col].dropna()\n",
    "            \n",
    "            if len(valid_returns) > 0:\n",
    "                stats[f'{time_str}_avg'] = valid_returns.mean()\n",
    "                stats[f'{time_str}_win_rate'] = (valid_returns > 0).sum() / len(valid_returns) * 100\n",
    "                stats[f'{time_str}_count'] = len(valid_returns)\n",
    "            else:\n",
    "                stats[f'{time_str}_avg'] = None\n",
    "                stats[f'{time_str}_win_rate'] = None\n",
    "                stats[f'{time_str}_count'] = 0\n",
    "    \n",
    "    return stats\n",
    "\n",
    "# 各グループの統計\n",
    "stats_top5 = calc_group_stats(df_results_valid[df_results_valid['is_top5']], 'Top5')\n",
    "stats_top10 = calc_group_stats(df_results_valid[df_results_valid['is_top10']], 'Top10')\n",
    "stats_all = calc_group_stats(df_results_valid, '全銘柄')\n",
    "\n",
    "df_stats = pd.DataFrame([stats_top5, stats_top10, stats_all])\n",
    "\n",
    "print(\"\\n📊 グループ別統計:\")\n",
    "print(df_stats[['group', 'count', '11:30_avg', '11:30_win_rate']].to_string(index=False))"
   ]
  },
  {
   "cell_type": "markdown",
   "metadata": {},
   "source": [
    "## 5. ビジュアライゼーション"
   ]
  },
  {
   "cell_type": "code",
   "execution_count": null,
   "metadata": {},
   "outputs": [],
   "source": [
    "# グラフ1: 時刻別平均リターン（グループ比較）\n",
    "time_points = ['09:30', '10:00', '10:30', '11:00', '11:30']\n",
    "time_labels = ['9:30', '10:00', '10:30', '11:00', '11:30']\n",
    "\n",
    "fig_returns = go.Figure()\n",
    "\n",
    "for idx, row in df_stats.iterrows():\n",
    "    returns = [row[f'{t}_avg'] for t in time_points]\n",
    "    \n",
    "    fig_returns.add_trace(go.Scatter(\n",
    "        x=time_labels,\n",
    "        y=returns,\n",
    "        mode='lines+markers',\n",
    "        name=row['group'],\n",
    "        line=dict(width=3),\n",
    "        marker=dict(size=10)\n",
    "    ))\n",
    "\n",
    "fig_returns.add_hline(y=0, line_dash=\"dash\", line_color=\"gray\", opacity=0.5)\n",
    "\n",
    "fig_returns.update_layout(\n",
    "    title=f'<b>時刻別平均リターン（{TARGET_DATE}）</b><br><sub>9:00寄付買い → 各時刻売却</sub>',\n",
    "    xaxis_title='売却時刻',\n",
    "    yaxis_title='平均リターン (%)',\n",
    "    height=500,\n",
    "    hovermode='x unified',\n",
    "    legend=dict(x=0.02, y=0.98, bgcolor='rgba(255,255,255,0.8)')\n",
    ")\n",
    "\n",
    "fig_returns.show()"
   ]
  },
  {
   "cell_type": "code",
   "execution_count": null,
   "metadata": {},
   "outputs": [],
   "source": [
    "# グラフ2: 時刻別勝率（グループ比較）\n",
    "fig_winrate = go.Figure()\n",
    "\n",
    "for idx, row in df_stats.iterrows():\n",
    "    win_rates = [row[f'{t}_win_rate'] for t in time_points]\n",
    "    \n",
    "    fig_winrate.add_trace(go.Bar(\n",
    "        x=time_labels,\n",
    "        y=win_rates,\n",
    "        name=row['group'],\n",
    "        text=[f'{v:.1f}%' if v is not None else 'N/A' for v in win_rates],\n",
    "        textposition='outside'\n",
    "    ))\n",
    "\n",
    "fig_winrate.add_hline(y=50, line_dash=\"dash\", line_color=\"gray\", opacity=0.5,\n",
    "                       annotation_text=\"50%（損益分岐）\")\n",
    "\n",
    "fig_winrate.update_layout(\n",
    "    title=f'<b>時刻別勝率（{TARGET_DATE}）</b><br><sub>9:00寄付買い → 各時刻売却</sub>',\n",
    "    xaxis_title='売却時刻',\n",
    "    yaxis_title='勝率 (%)',\n",
    "    height=500,\n",
    "    barmode='group',\n",
    "    hovermode='x unified',\n",
    "    yaxis=dict(range=[0, 100]),\n",
    "    legend=dict(x=0.02, y=0.98, bgcolor='rgba(255,255,255,0.8)')\n",
    ")\n",
    "\n",
    "fig_winrate.show()"
   ]
  },
  {
   "cell_type": "code",
   "execution_count": null,
   "metadata": {},
   "outputs": [],
   "source": [
    "# グラフ3: 個別銘柄のリターン（Top5のみ）\n",
    "df_top5 = df_results_valid[df_results_valid['is_top5']].copy()\n",
    "\n",
    "if len(df_top5) > 0:\n",
    "    fig_individual = go.Figure()\n",
    "    \n",
    "    for _, row in df_top5.iterrows():\n",
    "        returns = [row[f'return_{t}'] for t in time_points]\n",
    "        \n",
    "        fig_individual.add_trace(go.Scatter(\n",
    "            x=time_labels,\n",
    "            y=returns,\n",
    "            mode='lines+markers',\n",
    "            name=f\"{row['ticker']} {row['stock_name']}\",\n",
    "            hovertemplate='%{y:.2f}%<extra></extra>'\n",
    "        ))\n",
    "    \n",
    "    fig_individual.add_hline(y=0, line_dash=\"dash\", line_color=\"gray\", opacity=0.5)\n",
    "    \n",
    "    fig_individual.update_layout(\n",
    "        title=f'<b>Top5銘柄 個別リターン（{TARGET_DATE}）</b><br><sub>9:00寄付買い → 各時刻売却</sub>',\n",
    "        xaxis_title='売却時刻',\n",
    "        yaxis_title='リターン (%)',\n",
    "        height=600,\n",
    "        hovermode='x unified',\n",
    "        legend=dict(x=1.02, y=1, bgcolor='rgba(255,255,255,0.8)')\n",
    "    )\n",
    "    \n",
    "    fig_individual.show()\n",
    "else:\n",
    "    print(\"⚠️ Top5銘柄のデータがありません\")"
   ]
  },
  {
   "cell_type": "markdown",
   "metadata": {},
   "source": [
    "## 6. 詳細データテーブル"
   ]
  },
  {
   "cell_type": "code",
   "execution_count": null,
   "metadata": {},
   "outputs": [],
   "source": [
    "# Top5銘柄の詳細テーブル\n",
    "if len(df_top5) > 0:\n",
    "    print(\"\\n📋 Top5銘柄の詳細:\")\n",
    "    print(\"=\"*120)\n",
    "    \n",
    "    display_df = df_top5.sort_values('grok_rank')[[\n",
    "        'grok_rank', 'ticker', 'stock_name', 'selection_score',\n",
    "        'price_09:00', 'return_09:30', 'return_10:00', 'return_10:30',\n",
    "        'return_11:00', 'return_11:30'\n",
    "    ]].copy()\n",
    "    \n",
    "    # 数値フォーマット\n",
    "    for col in display_df.columns:\n",
    "        if 'return_' in col:\n",
    "            display_df[col] = display_df[col].apply(lambda x: f\"{x:+.2f}%\" if pd.notna(x) else \"N/A\")\n",
    "        elif col == 'price_09:00':\n",
    "            display_df[col] = display_df[col].apply(lambda x: f\"{x:.0f}\" if pd.notna(x) else \"N/A\")\n",
    "    \n",
    "    display_df.columns = [\n",
    "        'ランク', 'コード', '銘柄名', 'スコア', '寄付',\n",
    "        '9:30', '10:00', '10:30', '11:00', '11:30(前引)'\n",
    "    ]\n",
    "    \n",
    "    print(display_df.to_string(index=False))\n",
    "    print(\"=\"*120)"
   ]
  },
  {
   "cell_type": "markdown",
   "metadata": {},
   "source": [
    "## 7. サマリーレポート"
   ]
  },
  {
   "cell_type": "code",
   "execution_count": null,
   "metadata": {},
   "outputs": [],
   "source": [
    "print(f\"\\n\" + \"=\"*80)\n",
    "print(f\"📊 GROK銘柄 前場パフォーマンスサマリー ({TARGET_DATE})\")\n",
    "print(\"=\"*80)\n",
    "\n",
    "print(f\"\\n【戦略】9:00 寄付買い → 前引け（11:30）売却\")\n",
    "print(\"-\"*80)\n",
    "\n",
    "for _, row in df_stats.iterrows():\n",
    "    group = row['group']\n",
    "    count = row['11:30_count']\n",
    "    avg_return = row['11:30_avg']\n",
    "    win_rate = row['11:30_win_rate']\n",
    "    \n",
    "    print(f\"\\n{group} ({count}銘柄):\")\n",
    "    if avg_return is not None:\n",
    "        print(f\"  平均リターン: {avg_return:+.2f}%\")\n",
    "        print(f\"  勝率: {win_rate:.1f}%\")\n",
    "    else:\n",
    "        print(f\"  データなし\")\n",
    "\n",
    "# 最適売却時刻の特定\n",
    "print(f\"\\n\\n【最適売却時刻分析】\")\n",
    "print(\"-\"*80)\n",
    "\n",
    "for group in ['Top5', 'Top10', '全銘柄']:\n",
    "    group_data = df_stats[df_stats['group'] == group].iloc[0]\n",
    "    \n",
    "    best_time = None\n",
    "    best_return = -999\n",
    "    \n",
    "    for t in time_points:\n",
    "        ret = group_data[f'{t}_avg']\n",
    "        if ret is not None and ret > best_return:\n",
    "            best_return = ret\n",
    "            best_time = t\n",
    "    \n",
    "    if best_time:\n",
    "        print(f\"\\n{group}: {best_time} ({best_return:+.2f}%)\")\n",
    "    else:\n",
    "        print(f\"\\n{group}: データ不足\")\n",
    "\n",
    "print(\"\\n\" + \"=\"*80)"
   ]
  },
  {
   "cell_type": "markdown",
   "metadata": {},
   "source": [
    "## 8. HTMLエクスポート（オプション）\n",
    "\n",
    "グラフをHTMLファイルとして保存してブラウザで開けます。"
   ]
  },
  {
   "cell_type": "code",
   "execution_count": null,
   "metadata": {},
   "outputs": [],
   "source": [
    "# HTMLファイルとして保存\n",
    "output_dir = ROOT / \"output\" / \"grok_analysis\"\n",
    "output_dir.mkdir(parents=True, exist_ok=True)\n",
    "\n",
    "timestamp = datetime.now().strftime(\"%Y%m%d_%H%M%S\")\n",
    "\n",
    "fig_returns.write_html(output_dir / f\"returns_{timestamp}.html\")\n",
    "fig_winrate.write_html(output_dir / f\"winrate_{timestamp}.html\")\n",
    "\n",
    "if len(df_top5) > 0:\n",
    "    fig_individual.write_html(output_dir / f\"top5_individual_{timestamp}.html\")\n",
    "\n",
    "print(f\"\\n✅ HTMLファイルを保存しました: {output_dir}\")\n",
    "print(f\"\\nブラウザで開くには:\")\n",
    "print(f\"  open {output_dir}/returns_{timestamp}.html\")"
   ]
  }
 ],
 "metadata": {
  "kernelspec": {
   "display_name": "Python 3",
   "language": "python",
   "name": "python3"
  },
  "language_info": {
   "codemirror_mode": {
    "name": "ipython",
    "version": 3
   },
   "file_extension": ".py",
   "mimetype": "text/x-python",
   "name": "python",
   "nbconvert_exporter": "python",
   "pygments_lexer": "ipython3",
   "version": "3.12.3"
  }
 },
 "nbformat": 4,
 "nbformat_minor": 4
}