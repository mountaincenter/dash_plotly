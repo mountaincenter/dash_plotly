{
 "cells": [
  {
   "cell_type": "markdown",
   "metadata": {},
   "source": [
    "# Grok銘柄選定バックテスト分析（Plotly版）\n",
    "\n",
    "## 2025-10-23予想 → 2025-10-24実績（5分足含む）"
   ]
  },
  {
   "cell_type": "code",
   "execution_count": 1,
   "metadata": {
    "execution": {
     "iopub.execute_input": "2025-10-25T16:12:20.886776Z",
     "iopub.status.busy": "2025-10-25T16:12:20.886533Z",
     "iopub.status.idle": "2025-10-25T16:12:21.526233Z",
     "shell.execute_reply": "2025-10-25T16:12:21.525969Z"
    }
   },
   "outputs": [
    {
     "name": "stdout",
     "output_type": "stream",
     "text": [
      "Plotly version: 6.3.1\n"
     ]
    }
   ],
   "source": [
    "import pandas as pd\n",
    "import numpy as np\n",
    "import plotly.express as px\n",
    "import plotly.graph_objects as go\n",
    "from plotly.subplots import make_subplots\n",
    "import yfinance as yf\n",
    "from datetime import datetime, time\n",
    "import warnings\n",
    "warnings.filterwarnings('ignore')\n",
    "\n",
    "import plotly\n",
    "print(\"Plotly version:\", plotly.__version__)"
   ]
  },
  {
   "cell_type": "markdown",
   "metadata": {},
   "source": [
    "## 1. Grok予想銘柄（英語表記版）"
   ]
  },
  {
   "cell_type": "code",
   "execution_count": 2,
   "metadata": {
    "execution": {
     "iopub.execute_input": "2025-10-25T16:12:21.545868Z",
     "iopub.status.busy": "2025-10-25T16:12:21.545664Z",
     "iopub.status.idle": "2025-10-25T16:12:21.559223Z",
     "shell.execute_reply": "2025-10-25T16:12:21.559011Z"
    }
   },
   "outputs": [
    {
     "name": "stdout",
     "output_type": "stream",
     "text": [
      "\n",
      "【Grok Prediction List】\n"
     ]
    },
    {
     "data": {
      "text/html": [
       "<div>\n",
       "<style scoped>\n",
       "    .dataframe tbody tr th:only-of-type {\n",
       "        vertical-align: middle;\n",
       "    }\n",
       "\n",
       "    .dataframe tbody tr th {\n",
       "        vertical-align: top;\n",
       "    }\n",
       "\n",
       "    .dataframe thead th {\n",
       "        text-align: right;\n",
       "    }\n",
       "</style>\n",
       "<table border=\"1\" class=\"dataframe\">\n",
       "  <thead>\n",
       "    <tr style=\"text-align: right;\">\n",
       "      <th></th>\n",
       "      <th>ticker</th>\n",
       "      <th>name_en</th>\n",
       "      <th>name_jp</th>\n",
       "      <th>mentioned_by_str</th>\n",
       "      <th>policy_link</th>\n",
       "      <th>sentiment_score</th>\n",
       "      <th>category</th>\n",
       "    </tr>\n",
       "  </thead>\n",
       "  <tbody>\n",
       "    <tr>\n",
       "      <th>0</th>\n",
       "      <td>9348</td>\n",
       "      <td>ispace</td>\n",
       "      <td>ispace</td>\n",
       "      <td>@kabuchenko</td>\n",
       "      <td>High</td>\n",
       "      <td>0.85</td>\n",
       "      <td>Premium+IR+X+Policy</td>\n",
       "    </tr>\n",
       "    <tr>\n",
       "      <th>1</th>\n",
       "      <td>3929</td>\n",
       "      <td>Synspective</td>\n",
       "      <td>Synspective</td>\n",
       "      <td>@kaikai2120621</td>\n",
       "      <td>High</td>\n",
       "      <td>0.82</td>\n",
       "      <td>Premium+Bio+Geo</td>\n",
       "    </tr>\n",
       "    <tr>\n",
       "      <th>2</th>\n",
       "      <td>5595</td>\n",
       "      <td>QPS Kenkyujo</td>\n",
       "      <td>QPS研究所</td>\n",
       "      <td>None</td>\n",
       "      <td>Med</td>\n",
       "      <td>0.70</td>\n",
       "      <td>Theme+X+Policy</td>\n",
       "    </tr>\n",
       "    <tr>\n",
       "      <th>3</th>\n",
       "      <td>6237</td>\n",
       "      <td>West</td>\n",
       "      <td>ウエスト</td>\n",
       "      <td>@kabu777b</td>\n",
       "      <td>High</td>\n",
       "      <td>0.88</td>\n",
       "      <td>Premium+IR+X+Policy</td>\n",
       "    </tr>\n",
       "    <tr>\n",
       "      <th>4</th>\n",
       "      <td>6264</td>\n",
       "      <td>Iwaki</td>\n",
       "      <td>イワキ</td>\n",
       "      <td>None</td>\n",
       "      <td>Med</td>\n",
       "      <td>0.78</td>\n",
       "      <td>IR+X+Policy</td>\n",
       "    </tr>\n",
       "    <tr>\n",
       "      <th>5</th>\n",
       "      <td>186A</td>\n",
       "      <td>Astroscale HD</td>\n",
       "      <td>アストロスケールHD</td>\n",
       "      <td>@daykabu2021</td>\n",
       "      <td>High</td>\n",
       "      <td>0.75</td>\n",
       "      <td>Premium+Theme+X</td>\n",
       "    </tr>\n",
       "    <tr>\n",
       "      <th>6</th>\n",
       "      <td>2459</td>\n",
       "      <td>Aun Consulting</td>\n",
       "      <td>アウンコンサルティング</td>\n",
       "      <td>@jestryoR</td>\n",
       "      <td>Med</td>\n",
       "      <td>0.80</td>\n",
       "      <td>Premium+IR+X+Policy</td>\n",
       "    </tr>\n",
       "    <tr>\n",
       "      <th>7</th>\n",
       "      <td>3079</td>\n",
       "      <td>DVx</td>\n",
       "      <td>ディーブイエックス</td>\n",
       "      <td>None</td>\n",
       "      <td>Low</td>\n",
       "      <td>0.72</td>\n",
       "      <td>IR+X+Geo</td>\n",
       "    </tr>\n",
       "    <tr>\n",
       "      <th>8</th>\n",
       "      <td>3664</td>\n",
       "      <td>Mobcast HD</td>\n",
       "      <td>モブキャストHD</td>\n",
       "      <td>None</td>\n",
       "      <td>Med</td>\n",
       "      <td>0.70</td>\n",
       "      <td>News+X+Policy</td>\n",
       "    </tr>\n",
       "    <tr>\n",
       "      <th>9</th>\n",
       "      <td>2158</td>\n",
       "      <td>FRONTEO</td>\n",
       "      <td>FRONTEO</td>\n",
       "      <td>@tesuta001</td>\n",
       "      <td>Low</td>\n",
       "      <td>0.76</td>\n",
       "      <td>Premium+News+X</td>\n",
       "    </tr>\n",
       "    <tr>\n",
       "      <th>10</th>\n",
       "      <td>3769</td>\n",
       "      <td>RANDIX</td>\n",
       "      <td>ランディックス</td>\n",
       "      <td>None</td>\n",
       "      <td>Med</td>\n",
       "      <td>0.74</td>\n",
       "      <td>Earnings+X+Policy</td>\n",
       "    </tr>\n",
       "    <tr>\n",
       "      <th>11</th>\n",
       "      <td>4398</td>\n",
       "      <td>IT Strategy</td>\n",
       "      <td>情報戦略テクノロジー</td>\n",
       "      <td>None</td>\n",
       "      <td>Low</td>\n",
       "      <td>0.68</td>\n",
       "      <td>News+X+Policy</td>\n",
       "    </tr>\n",
       "  </tbody>\n",
       "</table>\n",
       "</div>"
      ],
      "text/plain": [
       "   ticker         name_en      name_jp mentioned_by_str policy_link  \\\n",
       "0    9348          ispace       ispace      @kabuchenko        High   \n",
       "1    3929     Synspective  Synspective   @kaikai2120621        High   \n",
       "2    5595    QPS Kenkyujo       QPS研究所             None         Med   \n",
       "3    6237            West         ウエスト        @kabu777b        High   \n",
       "4    6264           Iwaki          イワキ             None         Med   \n",
       "5    186A   Astroscale HD   アストロスケールHD     @daykabu2021        High   \n",
       "6    2459  Aun Consulting  アウンコンサルティング        @jestryoR         Med   \n",
       "7    3079             DVx    ディーブイエックス             None         Low   \n",
       "8    3664      Mobcast HD     モブキャストHD             None         Med   \n",
       "9    2158         FRONTEO      FRONTEO       @tesuta001         Low   \n",
       "10   3769          RANDIX      ランディックス             None         Med   \n",
       "11   4398     IT Strategy   情報戦略テクノロジー             None         Low   \n",
       "\n",
       "    sentiment_score             category  \n",
       "0              0.85  Premium+IR+X+Policy  \n",
       "1              0.82      Premium+Bio+Geo  \n",
       "2              0.70       Theme+X+Policy  \n",
       "3              0.88  Premium+IR+X+Policy  \n",
       "4              0.78          IR+X+Policy  \n",
       "5              0.75      Premium+Theme+X  \n",
       "6              0.80  Premium+IR+X+Policy  \n",
       "7              0.72             IR+X+Geo  \n",
       "8              0.70        News+X+Policy  \n",
       "9              0.76       Premium+News+X  \n",
       "10             0.74    Earnings+X+Policy  \n",
       "11             0.68        News+X+Policy  "
      ]
     },
     "metadata": {},
     "output_type": "display_data"
    }
   ],
   "source": [
    "# Grok予想データ（英語表記）\n",
    "grok_predictions = [\n",
    "    {\"ticker\": \"9348\", \"name_jp\": \"ispace\", \"name_en\": \"ispace\", \"mentioned_by\": [\"@kabuchenko\"], \"category\": \"Premium+IR+X+Policy\", \"policy_link\": \"High\", \"sentiment_score\": 0.85},\n",
    "    {\"ticker\": \"3929\", \"name_jp\": \"Synspective\", \"name_en\": \"Synspective\", \"mentioned_by\": [\"@kaikai2120621\"], \"category\": \"Premium+Bio+Geo\", \"policy_link\": \"High\", \"sentiment_score\": 0.82},\n",
    "    {\"ticker\": \"5595\", \"name_jp\": \"QPS研究所\", \"name_en\": \"QPS Kenkyujo\", \"mentioned_by\": [], \"category\": \"Theme+X+Policy\", \"policy_link\": \"Med\", \"sentiment_score\": 0.70},\n",
    "    {\"ticker\": \"6237\", \"name_jp\": \"ウエスト\", \"name_en\": \"West\", \"mentioned_by\": [\"@kabu777b\"], \"category\": \"Premium+IR+X+Policy\", \"policy_link\": \"High\", \"sentiment_score\": 0.88},\n",
    "    {\"ticker\": \"6264\", \"name_jp\": \"イワキ\", \"name_en\": \"Iwaki\", \"mentioned_by\": [], \"category\": \"IR+X+Policy\", \"policy_link\": \"Med\", \"sentiment_score\": 0.78},\n",
    "    {\"ticker\": \"186A\", \"name_jp\": \"アストロスケールHD\", \"name_en\": \"Astroscale HD\", \"mentioned_by\": [\"@daykabu2021\"], \"category\": \"Premium+Theme+X\", \"policy_link\": \"High\", \"sentiment_score\": 0.75},\n",
    "    {\"ticker\": \"2459\", \"name_jp\": \"アウンコンサルティング\", \"name_en\": \"Aun Consulting\", \"mentioned_by\": [\"@jestryoR\"], \"category\": \"Premium+IR+X+Policy\", \"policy_link\": \"Med\", \"sentiment_score\": 0.80},\n",
    "    {\"ticker\": \"3079\", \"name_jp\": \"ディーブイエックス\", \"name_en\": \"DVx\", \"mentioned_by\": [], \"category\": \"IR+X+Geo\", \"policy_link\": \"Low\", \"sentiment_score\": 0.72},\n",
    "    {\"ticker\": \"3664\", \"name_jp\": \"モブキャストHD\", \"name_en\": \"Mobcast HD\", \"mentioned_by\": [], \"category\": \"News+X+Policy\", \"policy_link\": \"Med\", \"sentiment_score\": 0.70},\n",
    "    {\"ticker\": \"2158\", \"name_jp\": \"FRONTEO\", \"name_en\": \"FRONTEO\", \"mentioned_by\": [\"@tesuta001\"], \"category\": \"Premium+News+X\", \"policy_link\": \"Low\", \"sentiment_score\": 0.76},\n",
    "    {\"ticker\": \"3769\", \"name_jp\": \"ランディックス\", \"name_en\": \"RANDIX\", \"mentioned_by\": [], \"category\": \"Earnings+X+Policy\", \"policy_link\": \"Med\", \"sentiment_score\": 0.74},\n",
    "    {\"ticker\": \"4398\", \"name_jp\": \"情報戦略テクノロジー\", \"name_en\": \"IT Strategy\", \"mentioned_by\": [], \"category\": \"News+X+Policy\", \"policy_link\": \"Low\", \"sentiment_score\": 0.68}\n",
    "]\n",
    "\n",
    "df_predictions = pd.DataFrame(grok_predictions)\n",
    "df_predictions['has_mention'] = df_predictions['mentioned_by'].apply(lambda x: len(x) > 0)\n",
    "df_predictions['mentioned_by_str'] = df_predictions['mentioned_by'].apply(lambda x: ', '.join(x) if x else 'None')\n",
    "\n",
    "print(\"\\n【Grok Prediction List】\")\n",
    "display(df_predictions[['ticker', 'name_en', 'name_jp', 'mentioned_by_str', 'policy_link', 'sentiment_score', 'category']])"
   ]
  },
  {
   "cell_type": "markdown",
   "metadata": {},
   "source": [
    "## 2. 日次データ取得（2025-10-24）"
   ]
  },
  {
   "cell_type": "code",
   "execution_count": 3,
   "metadata": {
    "execution": {
     "iopub.execute_input": "2025-10-25T16:12:21.560311Z",
     "iopub.status.busy": "2025-10-25T16:12:21.560226Z",
     "iopub.status.idle": "2025-10-25T16:12:23.290534Z",
     "shell.execute_reply": "2025-10-25T16:12:23.290255Z"
    }
   },
   "outputs": [
    {
     "name": "stdout",
     "output_type": "stream",
     "text": [
      "\n",
      "【Daily Data: 2025-10-24】\n"
     ]
    },
    {
     "data": {
      "text/html": [
       "<div>\n",
       "<style scoped>\n",
       "    .dataframe tbody tr th:only-of-type {\n",
       "        vertical-align: middle;\n",
       "    }\n",
       "\n",
       "    .dataframe tbody tr th {\n",
       "        vertical-align: top;\n",
       "    }\n",
       "\n",
       "    .dataframe thead th {\n",
       "        text-align: right;\n",
       "    }\n",
       "</style>\n",
       "<table border=\"1\" class=\"dataframe\">\n",
       "  <thead>\n",
       "    <tr style=\"text-align: right;\">\n",
       "      <th></th>\n",
       "      <th>ticker</th>\n",
       "      <th>name_en</th>\n",
       "      <th>name_jp</th>\n",
       "      <th>open</th>\n",
       "      <th>high</th>\n",
       "      <th>low</th>\n",
       "      <th>close</th>\n",
       "      <th>volume</th>\n",
       "      <th>change_pct</th>\n",
       "      <th>range_pct</th>\n",
       "      <th>result</th>\n",
       "      <th>mentioned_by_str</th>\n",
       "      <th>policy_link</th>\n",
       "      <th>sentiment_score</th>\n",
       "      <th>category</th>\n",
       "    </tr>\n",
       "  </thead>\n",
       "  <tbody>\n",
       "    <tr>\n",
       "      <th>0</th>\n",
       "      <td>9348</td>\n",
       "      <td>ispace</td>\n",
       "      <td>ispace</td>\n",
       "      <td>478.0</td>\n",
       "      <td>486.0</td>\n",
       "      <td>478.0</td>\n",
       "      <td>478.0</td>\n",
       "      <td>3295700</td>\n",
       "      <td>0.000000</td>\n",
       "      <td>1.673640</td>\n",
       "      <td>Down</td>\n",
       "      <td>@kabuchenko</td>\n",
       "      <td>High</td>\n",
       "      <td>0.85</td>\n",
       "      <td>Premium+IR+X+Policy</td>\n",
       "    </tr>\n",
       "    <tr>\n",
       "      <th>1</th>\n",
       "      <td>3929</td>\n",
       "      <td>Synspective</td>\n",
       "      <td>Synspective</td>\n",
       "      <td>258.0</td>\n",
       "      <td>260.0</td>\n",
       "      <td>257.0</td>\n",
       "      <td>259.0</td>\n",
       "      <td>7700</td>\n",
       "      <td>0.387597</td>\n",
       "      <td>1.162791</td>\n",
       "      <td>Up</td>\n",
       "      <td>@kaikai2120621</td>\n",
       "      <td>High</td>\n",
       "      <td>0.82</td>\n",
       "      <td>Premium+Bio+Geo</td>\n",
       "    </tr>\n",
       "    <tr>\n",
       "      <th>2</th>\n",
       "      <td>5595</td>\n",
       "      <td>QPS Kenkyujo</td>\n",
       "      <td>QPS研究所</td>\n",
       "      <td>1935.0</td>\n",
       "      <td>2048.0</td>\n",
       "      <td>1927.0</td>\n",
       "      <td>1981.0</td>\n",
       "      <td>4161600</td>\n",
       "      <td>2.377261</td>\n",
       "      <td>6.253230</td>\n",
       "      <td>Up</td>\n",
       "      <td>None</td>\n",
       "      <td>Med</td>\n",
       "      <td>0.70</td>\n",
       "      <td>Theme+X+Policy</td>\n",
       "    </tr>\n",
       "    <tr>\n",
       "      <th>3</th>\n",
       "      <td>6237</td>\n",
       "      <td>West</td>\n",
       "      <td>ウエスト</td>\n",
       "      <td>2627.0</td>\n",
       "      <td>2649.0</td>\n",
       "      <td>2614.0</td>\n",
       "      <td>2636.0</td>\n",
       "      <td>16800</td>\n",
       "      <td>0.342596</td>\n",
       "      <td>1.332318</td>\n",
       "      <td>Up</td>\n",
       "      <td>@kabu777b</td>\n",
       "      <td>High</td>\n",
       "      <td>0.88</td>\n",
       "      <td>Premium+IR+X+Policy</td>\n",
       "    </tr>\n",
       "    <tr>\n",
       "      <th>4</th>\n",
       "      <td>6264</td>\n",
       "      <td>Iwaki</td>\n",
       "      <td>イワキ</td>\n",
       "      <td>2122.0</td>\n",
       "      <td>2137.0</td>\n",
       "      <td>2033.0</td>\n",
       "      <td>2075.0</td>\n",
       "      <td>220300</td>\n",
       "      <td>-2.214892</td>\n",
       "      <td>4.901037</td>\n",
       "      <td>Down</td>\n",
       "      <td>None</td>\n",
       "      <td>Med</td>\n",
       "      <td>0.78</td>\n",
       "      <td>IR+X+Policy</td>\n",
       "    </tr>\n",
       "    <tr>\n",
       "      <th>5</th>\n",
       "      <td>186A</td>\n",
       "      <td>Astroscale HD</td>\n",
       "      <td>アストロスケールHD</td>\n",
       "      <td>811.0</td>\n",
       "      <td>832.0</td>\n",
       "      <td>794.0</td>\n",
       "      <td>805.0</td>\n",
       "      <td>7088600</td>\n",
       "      <td>-0.739827</td>\n",
       "      <td>4.685573</td>\n",
       "      <td>Down</td>\n",
       "      <td>@daykabu2021</td>\n",
       "      <td>High</td>\n",
       "      <td>0.75</td>\n",
       "      <td>Premium+Theme+X</td>\n",
       "    </tr>\n",
       "    <tr>\n",
       "      <th>6</th>\n",
       "      <td>2459</td>\n",
       "      <td>Aun Consulting</td>\n",
       "      <td>アウンコンサルティング</td>\n",
       "      <td>252.0</td>\n",
       "      <td>324.0</td>\n",
       "      <td>252.0</td>\n",
       "      <td>324.0</td>\n",
       "      <td>4718700</td>\n",
       "      <td>28.571429</td>\n",
       "      <td>28.571429</td>\n",
       "      <td>Up</td>\n",
       "      <td>@jestryoR</td>\n",
       "      <td>Med</td>\n",
       "      <td>0.80</td>\n",
       "      <td>Premium+IR+X+Policy</td>\n",
       "    </tr>\n",
       "    <tr>\n",
       "      <th>7</th>\n",
       "      <td>3079</td>\n",
       "      <td>DVx</td>\n",
       "      <td>ディーブイエックス</td>\n",
       "      <td>1316.0</td>\n",
       "      <td>1441.0</td>\n",
       "      <td>1316.0</td>\n",
       "      <td>1373.0</td>\n",
       "      <td>194800</td>\n",
       "      <td>4.331307</td>\n",
       "      <td>9.498480</td>\n",
       "      <td>Up</td>\n",
       "      <td>None</td>\n",
       "      <td>Low</td>\n",
       "      <td>0.72</td>\n",
       "      <td>IR+X+Geo</td>\n",
       "    </tr>\n",
       "    <tr>\n",
       "      <th>8</th>\n",
       "      <td>3664</td>\n",
       "      <td>Mobcast HD</td>\n",
       "      <td>モブキャストHD</td>\n",
       "      <td>55.0</td>\n",
       "      <td>62.0</td>\n",
       "      <td>54.0</td>\n",
       "      <td>56.0</td>\n",
       "      <td>46935800</td>\n",
       "      <td>1.818182</td>\n",
       "      <td>14.545455</td>\n",
       "      <td>Up</td>\n",
       "      <td>None</td>\n",
       "      <td>Med</td>\n",
       "      <td>0.70</td>\n",
       "      <td>News+X+Policy</td>\n",
       "    </tr>\n",
       "    <tr>\n",
       "      <th>9</th>\n",
       "      <td>2158</td>\n",
       "      <td>FRONTEO</td>\n",
       "      <td>FRONTEO</td>\n",
       "      <td>1004.0</td>\n",
       "      <td>1005.0</td>\n",
       "      <td>935.0</td>\n",
       "      <td>949.0</td>\n",
       "      <td>2116500</td>\n",
       "      <td>-5.478088</td>\n",
       "      <td>6.972112</td>\n",
       "      <td>Down</td>\n",
       "      <td>@tesuta001</td>\n",
       "      <td>Low</td>\n",
       "      <td>0.76</td>\n",
       "      <td>Premium+News+X</td>\n",
       "    </tr>\n",
       "    <tr>\n",
       "      <th>10</th>\n",
       "      <td>3769</td>\n",
       "      <td>RANDIX</td>\n",
       "      <td>ランディックス</td>\n",
       "      <td>8448.0</td>\n",
       "      <td>8581.0</td>\n",
       "      <td>8342.0</td>\n",
       "      <td>8555.0</td>\n",
       "      <td>252600</td>\n",
       "      <td>1.266572</td>\n",
       "      <td>2.829072</td>\n",
       "      <td>Up</td>\n",
       "      <td>None</td>\n",
       "      <td>Med</td>\n",
       "      <td>0.74</td>\n",
       "      <td>Earnings+X+Policy</td>\n",
       "    </tr>\n",
       "    <tr>\n",
       "      <th>11</th>\n",
       "      <td>4398</td>\n",
       "      <td>IT Strategy</td>\n",
       "      <td>情報戦略テクノロジー</td>\n",
       "      <td>1398.0</td>\n",
       "      <td>1442.0</td>\n",
       "      <td>1397.0</td>\n",
       "      <td>1422.0</td>\n",
       "      <td>21800</td>\n",
       "      <td>1.716738</td>\n",
       "      <td>3.218884</td>\n",
       "      <td>Up</td>\n",
       "      <td>None</td>\n",
       "      <td>Low</td>\n",
       "      <td>0.68</td>\n",
       "      <td>News+X+Policy</td>\n",
       "    </tr>\n",
       "  </tbody>\n",
       "</table>\n",
       "</div>"
      ],
      "text/plain": [
       "   ticker         name_en      name_jp    open    high     low   close  \\\n",
       "0    9348          ispace       ispace   478.0   486.0   478.0   478.0   \n",
       "1    3929     Synspective  Synspective   258.0   260.0   257.0   259.0   \n",
       "2    5595    QPS Kenkyujo       QPS研究所  1935.0  2048.0  1927.0  1981.0   \n",
       "3    6237            West         ウエスト  2627.0  2649.0  2614.0  2636.0   \n",
       "4    6264           Iwaki          イワキ  2122.0  2137.0  2033.0  2075.0   \n",
       "5    186A   Astroscale HD   アストロスケールHD   811.0   832.0   794.0   805.0   \n",
       "6    2459  Aun Consulting  アウンコンサルティング   252.0   324.0   252.0   324.0   \n",
       "7    3079             DVx    ディーブイエックス  1316.0  1441.0  1316.0  1373.0   \n",
       "8    3664      Mobcast HD     モブキャストHD    55.0    62.0    54.0    56.0   \n",
       "9    2158         FRONTEO      FRONTEO  1004.0  1005.0   935.0   949.0   \n",
       "10   3769          RANDIX      ランディックス  8448.0  8581.0  8342.0  8555.0   \n",
       "11   4398     IT Strategy   情報戦略テクノロジー  1398.0  1442.0  1397.0  1422.0   \n",
       "\n",
       "      volume  change_pct  range_pct result mentioned_by_str policy_link  \\\n",
       "0    3295700    0.000000   1.673640   Down      @kabuchenko        High   \n",
       "1       7700    0.387597   1.162791     Up   @kaikai2120621        High   \n",
       "2    4161600    2.377261   6.253230     Up             None         Med   \n",
       "3      16800    0.342596   1.332318     Up        @kabu777b        High   \n",
       "4     220300   -2.214892   4.901037   Down             None         Med   \n",
       "5    7088600   -0.739827   4.685573   Down     @daykabu2021        High   \n",
       "6    4718700   28.571429  28.571429     Up        @jestryoR         Med   \n",
       "7     194800    4.331307   9.498480     Up             None         Low   \n",
       "8   46935800    1.818182  14.545455     Up             None         Med   \n",
       "9    2116500   -5.478088   6.972112   Down       @tesuta001         Low   \n",
       "10    252600    1.266572   2.829072     Up             None         Med   \n",
       "11     21800    1.716738   3.218884     Up             None         Low   \n",
       "\n",
       "    sentiment_score             category  \n",
       "0              0.85  Premium+IR+X+Policy  \n",
       "1              0.82      Premium+Bio+Geo  \n",
       "2              0.70       Theme+X+Policy  \n",
       "3              0.88  Premium+IR+X+Policy  \n",
       "4              0.78          IR+X+Policy  \n",
       "5              0.75      Premium+Theme+X  \n",
       "6              0.80  Premium+IR+X+Policy  \n",
       "7              0.72             IR+X+Geo  \n",
       "8              0.70        News+X+Policy  \n",
       "9              0.76       Premium+News+X  \n",
       "10             0.74    Earnings+X+Policy  \n",
       "11             0.68        News+X+Policy  "
      ]
     },
     "metadata": {},
     "output_type": "display_data"
    }
   ],
   "source": [
    "# 2025-10-24の日次データを取得\n",
    "target_date = \"2025-10-24\"\n",
    "results = []\n",
    "\n",
    "for idx, row in df_predictions.iterrows():\n",
    "    ticker_code = row['ticker']\n",
    "    ticker_symbol = f\"{ticker_code}.T\"\n",
    "    \n",
    "    try:\n",
    "        ticker = yf.Ticker(ticker_symbol)\n",
    "        hist = ticker.history(start=target_date, end=\"2025-10-25\")\n",
    "        \n",
    "        if not hist.empty:\n",
    "            data = hist.iloc[0]\n",
    "            open_price = data['Open']\n",
    "            close_price = data['Close']\n",
    "            high_price = data['High']\n",
    "            low_price = data['Low']\n",
    "            volume = int(data['Volume'])\n",
    "            \n",
    "            change_pct = ((close_price - open_price) / open_price) * 100\n",
    "            range_pct = ((high_price - low_price) / open_price) * 100\n",
    "            \n",
    "            results.append({\n",
    "                'ticker': ticker_code,\n",
    "                'name_en': row['name_en'],\n",
    "                'name_jp': row['name_jp'],\n",
    "                'open': open_price,\n",
    "                'high': high_price,\n",
    "                'low': low_price,\n",
    "                'close': close_price,\n",
    "                'volume': volume,\n",
    "                'change_pct': change_pct,\n",
    "                'range_pct': range_pct,\n",
    "                'result': 'Up' if change_pct > 0 else 'Down',\n",
    "                'mentioned_by_str': row['mentioned_by_str'],\n",
    "                'policy_link': row['policy_link'],\n",
    "                'sentiment_score': row['sentiment_score'],\n",
    "                'category': row['category']\n",
    "            })\n",
    "        else:\n",
    "            results.append({\n",
    "                'ticker': ticker_code,\n",
    "                'name_en': row['name_en'],\n",
    "                'name_jp': row['name_jp'],\n",
    "                'open': None, 'high': None, 'low': None, 'close': None, 'volume': None,\n",
    "                'change_pct': None, 'range_pct': None, 'result': 'No Data',\n",
    "                'mentioned_by_str': row['mentioned_by_str'],\n",
    "                'policy_link': row['policy_link'],\n",
    "                'sentiment_score': row['sentiment_score'],\n",
    "                'category': row['category']\n",
    "            })\n",
    "    except Exception as e:\n",
    "        print(f\"Error: {ticker_code} - {e}\")\n",
    "        results.append({\n",
    "            'ticker': ticker_code,\n",
    "            'name_en': row['name_en'],\n",
    "            'name_jp': row['name_jp'],\n",
    "            'open': None, 'high': None, 'low': None, 'close': None, 'volume': None,\n",
    "            'change_pct': None, 'range_pct': None, 'result': 'Error',\n",
    "            'mentioned_by_str': row['mentioned_by_str'],\n",
    "            'policy_link': row['policy_link'],\n",
    "            'sentiment_score': row['sentiment_score'],\n",
    "            'category': row['category']\n",
    "        })\n",
    "\n",
    "df_results = pd.DataFrame(results)\n",
    "\n",
    "print(\"\\n【Daily Data: 2025-10-24】\")\n",
    "display(df_results)"
   ]
  },
  {
   "cell_type": "markdown",
   "metadata": {},
   "source": [
    "## 3. 5分足データ取得（前場 9:00-11:30）"
   ]
  },
  {
   "cell_type": "code",
   "execution_count": 4,
   "metadata": {
    "execution": {
     "iopub.execute_input": "2025-10-25T16:12:23.292315Z",
     "iopub.status.busy": "2025-10-25T16:12:23.292178Z",
     "iopub.status.idle": "2025-10-25T16:12:24.881083Z",
     "shell.execute_reply": "2025-10-25T16:12:24.880786Z"
    }
   },
   "outputs": [
    {
     "name": "stdout",
     "output_type": "stream",
     "text": [
      "9348 (ispace): 30 5-min bars\n"
     ]
    },
    {
     "name": "stdout",
     "output_type": "stream",
     "text": [
      "3929 (Synspective): 8 5-min bars\n"
     ]
    },
    {
     "name": "stdout",
     "output_type": "stream",
     "text": [
      "5595 (QPS Kenkyujo): 30 5-min bars\n"
     ]
    },
    {
     "name": "stdout",
     "output_type": "stream",
     "text": [
      "6237 (West): 12 5-min bars\n"
     ]
    },
    {
     "name": "stdout",
     "output_type": "stream",
     "text": [
      "6264 (Iwaki): 30 5-min bars\n"
     ]
    },
    {
     "name": "stdout",
     "output_type": "stream",
     "text": [
      "186A (Astroscale HD): 30 5-min bars\n"
     ]
    },
    {
     "name": "stdout",
     "output_type": "stream",
     "text": [
      "2459 (Aun Consulting): 10 5-min bars\n"
     ]
    },
    {
     "name": "stdout",
     "output_type": "stream",
     "text": [
      "3079 (DVx): 31 5-min bars\n",
      "3664 (Mobcast HD): 30 5-min bars\n"
     ]
    },
    {
     "name": "stdout",
     "output_type": "stream",
     "text": [
      "2158 (FRONTEO): 30 5-min bars\n",
      "3769 (RANDIX): 29 5-min bars\n"
     ]
    },
    {
     "name": "stdout",
     "output_type": "stream",
     "text": [
      "4398 (IT Strategy): 18 5-min bars\n",
      "\n",
      "Total stocks with 5m data: 12\n"
     ]
    }
   ],
   "source": [
    "# 5分足データ取得（2025-10-24の前場）\n",
    "intraday_data = {}\n",
    "\n",
    "for idx, row in df_predictions.iterrows():\n",
    "    ticker_code = row['ticker']\n",
    "    ticker_symbol = f\"{ticker_code}.T\"\n",
    "    \n",
    "    try:\n",
    "        ticker = yf.Ticker(ticker_symbol)\n",
    "        # 5分足データを取得（過去5日分）\n",
    "        hist_5m = ticker.history(period=\"5d\", interval=\"5m\")\n",
    "        \n",
    "        if not hist_5m.empty:\n",
    "            # 2025-10-24のデータのみフィルタ\n",
    "            hist_5m.index = hist_5m.index.tz_localize(None)  # タイムゾーンを削除\n",
    "            target_day_data = hist_5m[hist_5m.index.date == pd.Timestamp(target_date).date()]\n",
    "            \n",
    "            # 前場（9:00-11:30）のみフィルタ\n",
    "            morning_session = target_day_data[\n",
    "                (target_day_data.index.time >= time(9, 0)) & \n",
    "                (target_day_data.index.time <= time(11, 30))\n",
    "            ]\n",
    "            \n",
    "            if not morning_session.empty:\n",
    "                intraday_data[ticker_code] = {\n",
    "                    'data': morning_session,\n",
    "                    'name_en': row['name_en'],\n",
    "                    'name_jp': row['name_jp']\n",
    "                }\n",
    "                print(f\"{ticker_code} ({row['name_en']}): {len(morning_session)} 5-min bars\")\n",
    "    except Exception as e:\n",
    "        print(f\"Error fetching 5m data for {ticker_code}: {e}\")\n",
    "\n",
    "print(f\"\\nTotal stocks with 5m data: {len(intraday_data)}\")"
   ]
  },
  {
   "cell_type": "markdown",
   "metadata": {},
   "source": [
    "## 4. パフォーマンスサマリー"
   ]
  },
  {
   "cell_type": "code",
   "execution_count": 5,
   "metadata": {
    "execution": {
     "iopub.execute_input": "2025-10-25T16:12:24.882466Z",
     "iopub.status.busy": "2025-10-25T16:12:24.882362Z",
     "iopub.status.idle": "2025-10-25T16:12:24.890807Z",
     "shell.execute_reply": "2025-10-25T16:12:24.890561Z"
    }
   },
   "outputs": [
    {
     "name": "stdout",
     "output_type": "stream",
     "text": [
      "\n",
      "============================================================\n",
      "【Performance Summary】\n",
      "============================================================\n",
      "Total Stocks: 12\n",
      "Wins: 8 stocks (66.7%)\n",
      "Losses: 4 stocks (33.3%)\n",
      "Avg Change: +2.70%\n",
      "Avg Range: 7.14%\n",
      "Volatile (Range>=2%): 9 stocks (75.0%)\n",
      "\n",
      "【Premium User Mention】\n",
      "With Mention Win Rate: 50.0% (6 stocks)\n",
      "Without Mention Win Rate: 83.3% (6 stocks)\n",
      "============================================================\n"
     ]
    }
   ],
   "source": [
    "df_valid = df_results[df_results['change_pct'].notna()].copy()\n",
    "\n",
    "total_stocks = len(df_valid)\n",
    "win_count = (df_valid['change_pct'] > 0).sum()\n",
    "lose_count = (df_valid['change_pct'] <= 0).sum()\n",
    "win_rate = (win_count / total_stocks * 100) if total_stocks > 0 else 0\n",
    "avg_change = df_valid['change_pct'].mean()\n",
    "avg_range = df_valid['range_pct'].mean()\n",
    "volatile_count = (df_valid['range_pct'] >= 2.0).sum()\n",
    "volatile_rate = (volatile_count / total_stocks * 100) if total_stocks > 0 else 0\n",
    "\n",
    "df_valid['has_mention'] = df_valid['mentioned_by_str'] != 'None'\n",
    "mentioned_stocks = df_valid[df_valid['has_mention']]\n",
    "not_mentioned_stocks = df_valid[~df_valid['has_mention']]\n",
    "\n",
    "mentioned_win_rate = ((mentioned_stocks['change_pct'] > 0).sum() / len(mentioned_stocks) * 100) if len(mentioned_stocks) > 0 else 0\n",
    "not_mentioned_win_rate = ((not_mentioned_stocks['change_pct'] > 0).sum() / len(not_mentioned_stocks) * 100) if len(not_mentioned_stocks) > 0 else 0\n",
    "\n",
    "print(\"\\n\" + \"=\"*60)\n",
    "print(\"【Performance Summary】\")\n",
    "print(\"=\"*60)\n",
    "print(f\"Total Stocks: {total_stocks}\")\n",
    "print(f\"Wins: {win_count} stocks ({win_rate:.1f}%)\")\n",
    "print(f\"Losses: {lose_count} stocks ({100-win_rate:.1f}%)\")\n",
    "print(f\"Avg Change: {avg_change:+.2f}%\")\n",
    "print(f\"Avg Range: {avg_range:.2f}%\")\n",
    "print(f\"Volatile (Range>=2%): {volatile_count} stocks ({volatile_rate:.1f}%)\")\n",
    "print(\"\\n【Premium User Mention】\")\n",
    "print(f\"With Mention Win Rate: {mentioned_win_rate:.1f}% ({len(mentioned_stocks)} stocks)\")\n",
    "print(f\"Without Mention Win Rate: {not_mentioned_win_rate:.1f}% ({len(not_mentioned_stocks)} stocks)\")\n",
    "print(\"=\"*60)"
   ]
  },
  {
   "cell_type": "markdown",
   "metadata": {},
   "source": [
    "## 5. Plotly可視化：変化率ランキング（日本語+英語）"
   ]
  },
  {
   "cell_type": "code",
   "execution_count": 6,
   "metadata": {
    "execution": {
     "iopub.execute_input": "2025-10-25T16:12:24.892033Z",
     "iopub.status.busy": "2025-10-25T16:12:24.891939Z",
     "iopub.status.idle": "2025-10-25T16:12:25.696574Z",
     "shell.execute_reply": "2025-10-25T16:12:25.696379Z"
    }
   },
   "outputs": [
    {
     "data": {
      "application/vnd.plotly.v1+json": {
       "config": {
        "plotlyServerURL": "https://plot.ly"
       },
       "data": [
        {
         "hovertemplate": "<b>%{y}</b><br>Change: %{x:.2f}%<extra></extra>",
         "marker": {
          "color": [
           "red",
           "red",
           "red",
           "red",
           "green",
           "green",
           "green",
           "green",
           "green",
           "green",
           "green",
           "green"
          ]
         },
         "orientation": "h",
         "text": [
          "-5.48%",
          "-2.21%",
          "-0.74%",
          "+0.00%",
          "+0.34%",
          "+0.39%",
          "+1.27%",
          "+1.72%",
          "+1.82%",
          "+2.38%",
          "+4.33%",
          "+28.57%"
         ],
         "textposition": "outside",
         "type": "bar",
         "x": {
          "bdata": "GDgLz4/pFcDSC+MXGbgBwOtIy3SqrOe/AAAAAAAAAABXLNNDGO3VPzTmjDljztg/hA8++OBD9D8Uvtt4wnf7PxdddNFFF/0/wfTaZ6EEA0CRFssjQlMRQCRJkiRJkjxA",
          "dtype": "f8"
         },
         "y": [
          "FRONTEO (FRONTEO)",
          "Iwaki (イワキ)",
          "Astroscale HD (アストロスケールHD)",
          "ispace (ispace)",
          "West (ウエスト)",
          "Synspective (Synspective)",
          "RANDIX (ランディックス)",
          "IT Strategy (情報戦略テクノロジー)",
          "Mobcast HD (モブキャストHD)",
          "QPS Kenkyujo (QPS研究所)",
          "DVx (ディーブイエックス)",
          "Aun Consulting (アウンコンサルティング)"
         ]
        }
       ],
       "layout": {
        "height": 600,
        "shapes": [
         {
          "line": {
           "color": "black",
           "dash": "dash",
           "width": 1
          },
          "type": "line",
          "x0": 0,
          "x1": 0,
          "xref": "x",
          "y0": 0,
          "y1": 1,
          "yref": "y domain"
         }
        ],
        "showlegend": false,
        "template": {
         "data": {
          "bar": [
           {
            "error_x": {
             "color": "#2a3f5f"
            },
            "error_y": {
             "color": "#2a3f5f"
            },
            "marker": {
             "line": {
              "color": "white",
              "width": 0.5
             },
             "pattern": {
              "fillmode": "overlay",
              "size": 10,
              "solidity": 0.2
             }
            },
            "type": "bar"
           }
          ],
          "barpolar": [
           {
            "marker": {
             "line": {
              "color": "white",
              "width": 0.5
             },
             "pattern": {
              "fillmode": "overlay",
              "size": 10,
              "solidity": 0.2
             }
            },
            "type": "barpolar"
           }
          ],
          "carpet": [
           {
            "aaxis": {
             "endlinecolor": "#2a3f5f",
             "gridcolor": "#C8D4E3",
             "linecolor": "#C8D4E3",
             "minorgridcolor": "#C8D4E3",
             "startlinecolor": "#2a3f5f"
            },
            "baxis": {
             "endlinecolor": "#2a3f5f",
             "gridcolor": "#C8D4E3",
             "linecolor": "#C8D4E3",
             "minorgridcolor": "#C8D4E3",
             "startlinecolor": "#2a3f5f"
            },
            "type": "carpet"
           }
          ],
          "choropleth": [
           {
            "colorbar": {
             "outlinewidth": 0,
             "ticks": ""
            },
            "type": "choropleth"
           }
          ],
          "contour": [
           {
            "colorbar": {
             "outlinewidth": 0,
             "ticks": ""
            },
            "colorscale": [
             [
              0,
              "#0d0887"
             ],
             [
              0.1111111111111111,
              "#46039f"
             ],
             [
              0.2222222222222222,
              "#7201a8"
             ],
             [
              0.3333333333333333,
              "#9c179e"
             ],
             [
              0.4444444444444444,
              "#bd3786"
             ],
             [
              0.5555555555555556,
              "#d8576b"
             ],
             [
              0.6666666666666666,
              "#ed7953"
             ],
             [
              0.7777777777777778,
              "#fb9f3a"
             ],
             [
              0.8888888888888888,
              "#fdca26"
             ],
             [
              1,
              "#f0f921"
             ]
            ],
            "type": "contour"
           }
          ],
          "contourcarpet": [
           {
            "colorbar": {
             "outlinewidth": 0,
             "ticks": ""
            },
            "type": "contourcarpet"
           }
          ],
          "heatmap": [
           {
            "colorbar": {
             "outlinewidth": 0,
             "ticks": ""
            },
            "colorscale": [
             [
              0,
              "#0d0887"
             ],
             [
              0.1111111111111111,
              "#46039f"
             ],
             [
              0.2222222222222222,
              "#7201a8"
             ],
             [
              0.3333333333333333,
              "#9c179e"
             ],
             [
              0.4444444444444444,
              "#bd3786"
             ],
             [
              0.5555555555555556,
              "#d8576b"
             ],
             [
              0.6666666666666666,
              "#ed7953"
             ],
             [
              0.7777777777777778,
              "#fb9f3a"
             ],
             [
              0.8888888888888888,
              "#fdca26"
             ],
             [
              1,
              "#f0f921"
             ]
            ],
            "type": "heatmap"
           }
          ],
          "histogram": [
           {
            "marker": {
             "pattern": {
              "fillmode": "overlay",
              "size": 10,
              "solidity": 0.2
             }
            },
            "type": "histogram"
           }
          ],
          "histogram2d": [
           {
            "colorbar": {
             "outlinewidth": 0,
             "ticks": ""
            },
            "colorscale": [
             [
              0,
              "#0d0887"
             ],
             [
              0.1111111111111111,
              "#46039f"
             ],
             [
              0.2222222222222222,
              "#7201a8"
             ],
             [
              0.3333333333333333,
              "#9c179e"
             ],
             [
              0.4444444444444444,
              "#bd3786"
             ],
             [
              0.5555555555555556,
              "#d8576b"
             ],
             [
              0.6666666666666666,
              "#ed7953"
             ],
             [
              0.7777777777777778,
              "#fb9f3a"
             ],
             [
              0.8888888888888888,
              "#fdca26"
             ],
             [
              1,
              "#f0f921"
             ]
            ],
            "type": "histogram2d"
           }
          ],
          "histogram2dcontour": [
           {
            "colorbar": {
             "outlinewidth": 0,
             "ticks": ""
            },
            "colorscale": [
             [
              0,
              "#0d0887"
             ],
             [
              0.1111111111111111,
              "#46039f"
             ],
             [
              0.2222222222222222,
              "#7201a8"
             ],
             [
              0.3333333333333333,
              "#9c179e"
             ],
             [
              0.4444444444444444,
              "#bd3786"
             ],
             [
              0.5555555555555556,
              "#d8576b"
             ],
             [
              0.6666666666666666,
              "#ed7953"
             ],
             [
              0.7777777777777778,
              "#fb9f3a"
             ],
             [
              0.8888888888888888,
              "#fdca26"
             ],
             [
              1,
              "#f0f921"
             ]
            ],
            "type": "histogram2dcontour"
           }
          ],
          "mesh3d": [
           {
            "colorbar": {
             "outlinewidth": 0,
             "ticks": ""
            },
            "type": "mesh3d"
           }
          ],
          "parcoords": [
           {
            "line": {
             "colorbar": {
              "outlinewidth": 0,
              "ticks": ""
             }
            },
            "type": "parcoords"
           }
          ],
          "pie": [
           {
            "automargin": true,
            "type": "pie"
           }
          ],
          "scatter": [
           {
            "fillpattern": {
             "fillmode": "overlay",
             "size": 10,
             "solidity": 0.2
            },
            "type": "scatter"
           }
          ],
          "scatter3d": [
           {
            "line": {
             "colorbar": {
              "outlinewidth": 0,
              "ticks": ""
             }
            },
            "marker": {
             "colorbar": {
              "outlinewidth": 0,
              "ticks": ""
             }
            },
            "type": "scatter3d"
           }
          ],
          "scattercarpet": [
           {
            "marker": {
             "colorbar": {
              "outlinewidth": 0,
              "ticks": ""
             }
            },
            "type": "scattercarpet"
           }
          ],
          "scattergeo": [
           {
            "marker": {
             "colorbar": {
              "outlinewidth": 0,
              "ticks": ""
             }
            },
            "type": "scattergeo"
           }
          ],
          "scattergl": [
           {
            "marker": {
             "colorbar": {
              "outlinewidth": 0,
              "ticks": ""
             }
            },
            "type": "scattergl"
           }
          ],
          "scattermap": [
           {
            "marker": {
             "colorbar": {
              "outlinewidth": 0,
              "ticks": ""
             }
            },
            "type": "scattermap"
           }
          ],
          "scattermapbox": [
           {
            "marker": {
             "colorbar": {
              "outlinewidth": 0,
              "ticks": ""
             }
            },
            "type": "scattermapbox"
           }
          ],
          "scatterpolar": [
           {
            "marker": {
             "colorbar": {
              "outlinewidth": 0,
              "ticks": ""
             }
            },
            "type": "scatterpolar"
           }
          ],
          "scatterpolargl": [
           {
            "marker": {
             "colorbar": {
              "outlinewidth": 0,
              "ticks": ""
             }
            },
            "type": "scatterpolargl"
           }
          ],
          "scatterternary": [
           {
            "marker": {
             "colorbar": {
              "outlinewidth": 0,
              "ticks": ""
             }
            },
            "type": "scatterternary"
           }
          ],
          "surface": [
           {
            "colorbar": {
             "outlinewidth": 0,
             "ticks": ""
            },
            "colorscale": [
             [
              0,
              "#0d0887"
             ],
             [
              0.1111111111111111,
              "#46039f"
             ],
             [
              0.2222222222222222,
              "#7201a8"
             ],
             [
              0.3333333333333333,
              "#9c179e"
             ],
             [
              0.4444444444444444,
              "#bd3786"
             ],
             [
              0.5555555555555556,
              "#d8576b"
             ],
             [
              0.6666666666666666,
              "#ed7953"
             ],
             [
              0.7777777777777778,
              "#fb9f3a"
             ],
             [
              0.8888888888888888,
              "#fdca26"
             ],
             [
              1,
              "#f0f921"
             ]
            ],
            "type": "surface"
           }
          ],
          "table": [
           {
            "cells": {
             "fill": {
              "color": "#EBF0F8"
             },
             "line": {
              "color": "white"
             }
            },
            "header": {
             "fill": {
              "color": "#C8D4E3"
             },
             "line": {
              "color": "white"
             }
            },
            "type": "table"
           }
          ]
         },
         "layout": {
          "annotationdefaults": {
           "arrowcolor": "#2a3f5f",
           "arrowhead": 0,
           "arrowwidth": 1
          },
          "autotypenumbers": "strict",
          "coloraxis": {
           "colorbar": {
            "outlinewidth": 0,
            "ticks": ""
           }
          },
          "colorscale": {
           "diverging": [
            [
             0,
             "#8e0152"
            ],
            [
             0.1,
             "#c51b7d"
            ],
            [
             0.2,
             "#de77ae"
            ],
            [
             0.3,
             "#f1b6da"
            ],
            [
             0.4,
             "#fde0ef"
            ],
            [
             0.5,
             "#f7f7f7"
            ],
            [
             0.6,
             "#e6f5d0"
            ],
            [
             0.7,
             "#b8e186"
            ],
            [
             0.8,
             "#7fbc41"
            ],
            [
             0.9,
             "#4d9221"
            ],
            [
             1,
             "#276419"
            ]
           ],
           "sequential": [
            [
             0,
             "#0d0887"
            ],
            [
             0.1111111111111111,
             "#46039f"
            ],
            [
             0.2222222222222222,
             "#7201a8"
            ],
            [
             0.3333333333333333,
             "#9c179e"
            ],
            [
             0.4444444444444444,
             "#bd3786"
            ],
            [
             0.5555555555555556,
             "#d8576b"
            ],
            [
             0.6666666666666666,
             "#ed7953"
            ],
            [
             0.7777777777777778,
             "#fb9f3a"
            ],
            [
             0.8888888888888888,
             "#fdca26"
            ],
            [
             1,
             "#f0f921"
            ]
           ],
           "sequentialminus": [
            [
             0,
             "#0d0887"
            ],
            [
             0.1111111111111111,
             "#46039f"
            ],
            [
             0.2222222222222222,
             "#7201a8"
            ],
            [
             0.3333333333333333,
             "#9c179e"
            ],
            [
             0.4444444444444444,
             "#bd3786"
            ],
            [
             0.5555555555555556,
             "#d8576b"
            ],
            [
             0.6666666666666666,
             "#ed7953"
            ],
            [
             0.7777777777777778,
             "#fb9f3a"
            ],
            [
             0.8888888888888888,
             "#fdca26"
            ],
            [
             1,
             "#f0f921"
            ]
           ]
          },
          "colorway": [
           "#636efa",
           "#EF553B",
           "#00cc96",
           "#ab63fa",
           "#FFA15A",
           "#19d3f3",
           "#FF6692",
           "#B6E880",
           "#FF97FF",
           "#FECB52"
          ],
          "font": {
           "color": "#2a3f5f"
          },
          "geo": {
           "bgcolor": "white",
           "lakecolor": "white",
           "landcolor": "white",
           "showlakes": true,
           "showland": true,
           "subunitcolor": "#C8D4E3"
          },
          "hoverlabel": {
           "align": "left"
          },
          "hovermode": "closest",
          "mapbox": {
           "style": "light"
          },
          "paper_bgcolor": "white",
          "plot_bgcolor": "white",
          "polar": {
           "angularaxis": {
            "gridcolor": "#EBF0F8",
            "linecolor": "#EBF0F8",
            "ticks": ""
           },
           "bgcolor": "white",
           "radialaxis": {
            "gridcolor": "#EBF0F8",
            "linecolor": "#EBF0F8",
            "ticks": ""
           }
          },
          "scene": {
           "xaxis": {
            "backgroundcolor": "white",
            "gridcolor": "#DFE8F3",
            "gridwidth": 2,
            "linecolor": "#EBF0F8",
            "showbackground": true,
            "ticks": "",
            "zerolinecolor": "#EBF0F8"
           },
           "yaxis": {
            "backgroundcolor": "white",
            "gridcolor": "#DFE8F3",
            "gridwidth": 2,
            "linecolor": "#EBF0F8",
            "showbackground": true,
            "ticks": "",
            "zerolinecolor": "#EBF0F8"
           },
           "zaxis": {
            "backgroundcolor": "white",
            "gridcolor": "#DFE8F3",
            "gridwidth": 2,
            "linecolor": "#EBF0F8",
            "showbackground": true,
            "ticks": "",
            "zerolinecolor": "#EBF0F8"
           }
          },
          "shapedefaults": {
           "line": {
            "color": "#2a3f5f"
           }
          },
          "ternary": {
           "aaxis": {
            "gridcolor": "#DFE8F3",
            "linecolor": "#A2B1C6",
            "ticks": ""
           },
           "baxis": {
            "gridcolor": "#DFE8F3",
            "linecolor": "#A2B1C6",
            "ticks": ""
           },
           "bgcolor": "white",
           "caxis": {
            "gridcolor": "#DFE8F3",
            "linecolor": "#A2B1C6",
            "ticks": ""
           }
          },
          "title": {
           "x": 0.05
          },
          "xaxis": {
           "automargin": true,
           "gridcolor": "#EBF0F8",
           "linecolor": "#EBF0F8",
           "ticks": "",
           "title": {
            "standoff": 15
           },
           "zerolinecolor": "#EBF0F8",
           "zerolinewidth": 2
          },
          "yaxis": {
           "automargin": true,
           "gridcolor": "#EBF0F8",
           "linecolor": "#EBF0F8",
           "ticks": "",
           "title": {
            "standoff": 15
           },
           "zerolinecolor": "#EBF0F8",
           "zerolinewidth": 2
          }
         }
        },
        "title": {
         "text": "Grok Prediction Results: 2025-10-23 -> 2025-10-24"
        },
        "xaxis": {
         "title": {
          "text": "Change % (Close - Open)"
         }
        },
        "yaxis": {
         "title": {
          "text": "Stock"
         }
        }
       }
      }
     },
     "metadata": {},
     "output_type": "display_data"
    }
   ],
   "source": [
    "df_sorted = df_valid.sort_values('change_pct', ascending=True)\n",
    "\n",
    "# 日本語名と英語名を併記\n",
    "df_sorted['display_name'] = df_sorted['name_en'] + ' (' + df_sorted['name_jp'] + ')'\n",
    "\n",
    "colors = ['green' if x > 0 else 'red' for x in df_sorted['change_pct']]\n",
    "\n",
    "fig = go.Figure()\n",
    "\n",
    "fig.add_trace(go.Bar(\n",
    "    y=df_sorted['display_name'],\n",
    "    x=df_sorted['change_pct'],\n",
    "    orientation='h',\n",
    "    marker=dict(color=colors),\n",
    "    text=df_sorted['change_pct'].apply(lambda x: f\"{x:+.2f}%\"),\n",
    "    textposition='outside',\n",
    "    hovertemplate='<b>%{y}</b><br>Change: %{x:.2f}%<extra></extra>'\n",
    "))\n",
    "\n",
    "fig.update_layout(\n",
    "    title='Grok Prediction Results: 2025-10-23 -> 2025-10-24',\n",
    "    xaxis_title='Change % (Close - Open)',\n",
    "    yaxis_title='Stock',\n",
    "    height=600,\n",
    "    showlegend=False,\n",
    "    template='plotly_white'\n",
    ")\n",
    "\n",
    "fig.add_vline(x=0, line_dash=\"dash\", line_color=\"black\", line_width=1)\n",
    "\n",
    "fig.show()"
   ]
  },
  {
   "cell_type": "markdown",
   "metadata": {},
   "source": [
    "## 6. センチメントスコア vs 実績"
   ]
  },
  {
   "cell_type": "code",
   "execution_count": 7,
   "metadata": {
    "execution": {
     "iopub.execute_input": "2025-10-25T16:12:25.697730Z",
     "iopub.status.busy": "2025-10-25T16:12:25.697633Z",
     "iopub.status.idle": "2025-10-25T16:12:25.736641Z",
     "shell.execute_reply": "2025-10-25T16:12:25.736435Z"
    }
   },
   "outputs": [
    {
     "data": {
      "application/vnd.plotly.v1+json": {
       "config": {
        "plotlyServerURL": "https://plot.ly"
       },
       "data": [
        {
         "customdata": [
          [
           "ispace",
           "ispace",
           "@kabuchenko"
          ],
          [
           "Synspective",
           "Synspective",
           "@kaikai2120621"
          ],
          [
           "West",
           "ウエスト",
           "@kabu777b"
          ],
          [
           "Astroscale HD",
           "アストロスケールHD",
           "@daykabu2021"
          ]
         ],
         "hovertemplate": "Policy Link=High<br>Sentiment Score (Grok)=%{x}<br>Actual Change % (2025-10-24)=%{y}<br>range_pct=%{marker.size}<br>name_en=%{customdata[0]}<br>name_jp=%{customdata[1]}<br>mentioned_by_str=%{customdata[2]}<extra></extra>",
         "legendgroup": "High",
         "marker": {
          "color": "red",
          "size": {
           "bdata": "UJuB6TrH+j+nrClrypryP42Hm+wsUfU/upnL8Qa+EkA=",
           "dtype": "f8"
          },
          "sizemode": "area",
          "sizeref": 0.07142857142857142,
          "symbol": "circle"
         },
         "mode": "markers+text",
         "name": "High",
         "orientation": "v",
         "showlegend": true,
         "text": [
          "ispace",
          "Synspective",
          "West",
          "Astroscale HD"
         ],
         "textfont": {
          "size": 9
         },
         "textposition": "top center",
         "type": "scatter",
         "x": {
          "bdata": "MzMzMzMz6z89CtejcD3qPylcj8L1KOw/AAAAAAAA6D8=",
          "dtype": "f8"
         },
         "xaxis": "x",
         "y": {
          "bdata": "AAAAAAAAAAA05ow5Y87YP1cs00MY7dU/60jLdKqs578=",
          "dtype": "f8"
         },
         "yaxis": "y"
        },
        {
         "customdata": [
          [
           "QPS Kenkyujo",
           "QPS研究所",
           "None"
          ],
          [
           "Iwaki",
           "イワキ",
           "None"
          ],
          [
           "Aun Consulting",
           "アウンコンサルティング",
           "@jestryoR"
          ],
          [
           "Mobcast HD",
           "モブキャストHD",
           "None"
          ],
          [
           "RANDIX",
           "ランディックス",
           "None"
          ]
         ],
         "hovertemplate": "Policy Link=Med<br>Sentiment Score (Grok)=%{x}<br>Actual Change % (2025-10-24)=%{y}<br>range_pct=%{marker.size}<br>name_en=%{customdata[0]}<br>name_jp=%{customdata[1]}<br>mentioned_by_str=%{customdata[2]}<extra></extra>",
         "legendgroup": "Med",
         "marker": {
          "color": "orange",
          "size": {
           "bdata": "QYrlt04DGUDOjzxhqZoTQCRJkiRJkjxAF1100UUXLUDCBx988KEGQA==",
           "dtype": "f8"
          },
          "sizemode": "area",
          "sizeref": 0.07142857142857142,
          "symbol": "circle"
         },
         "mode": "markers+text",
         "name": "Med",
         "orientation": "v",
         "showlegend": true,
         "text": [
          "QPS Kenkyujo",
          "Iwaki",
          "Aun Consulting",
          "Mobcast HD",
          "RANDIX"
         ],
         "textfont": {
          "size": 9
         },
         "textposition": "top center",
         "type": "scatter",
         "x": {
          "bdata": "ZmZmZmZm5j/2KFyPwvXoP5qZmZmZmek/ZmZmZmZm5j+uR+F6FK7nPw==",
          "dtype": "f8"
         },
         "xaxis": "x",
         "y": {
          "bdata": "wfTaZ6EEA0DSC+MXGbgBwCRJkiRJkjxAF1100UUX/T+EDz744EP0Pw==",
          "dtype": "f8"
         },
         "yaxis": "y"
        },
        {
         "customdata": [
          [
           "DVx",
           "ディーブイエックス",
           "None"
          ],
          [
           "FRONTEO",
           "FRONTEO",
           "@tesuta001"
          ],
          [
           "IT Strategy",
           "情報戦略テクノロジー",
           "None"
          ]
         ],
         "hovertemplate": "Policy Link=Low<br>Sentiment Score (Grok)=%{x}<br>Actual Change % (2025-10-24)=%{y}<br>range_pct=%{marker.size}<br>name_en=%{customdata[0]}<br>name_jp=%{customdata[1]}<br>mentioned_by_str=%{customdata[2]}<extra></extra>",
         "legendgroup": "Low",
         "marker": {
          "color": "blue",
          "size": {
           "bdata": "dyhszTj/IkBkRw42ceMbQDICTlFGwAlA",
           "dtype": "f8"
          },
          "sizemode": "area",
          "sizeref": 0.07142857142857142,
          "symbol": "circle"
         },
         "mode": "markers+text",
         "name": "Low",
         "orientation": "v",
         "showlegend": true,
         "text": [
          "DVx",
          "FRONTEO",
          "IT Strategy"
         ],
         "textfont": {
          "size": 9
         },
         "textposition": "top center",
         "type": "scatter",
         "x": {
          "bdata": "CtejcD0K5z9SuB6F61HoP8P1KFyPwuU/",
          "dtype": "f8"
         },
         "xaxis": "x",
         "y": {
          "bdata": "kRbLI0JTEUAYOAvPj+kVwBS+23jCd/s/",
          "dtype": "f8"
         },
         "yaxis": "y"
        }
       ],
       "layout": {
        "height": 600,
        "legend": {
         "itemsizing": "constant",
         "title": {
          "text": "Policy Link"
         },
         "tracegroupgap": 0
        },
        "shapes": [
         {
          "line": {
           "color": "black",
           "dash": "dash",
           "width": 1
          },
          "type": "line",
          "x0": 0,
          "x1": 1,
          "xref": "x domain",
          "y0": 0,
          "y1": 0,
          "yref": "y"
         }
        ],
        "template": {
         "data": {
          "bar": [
           {
            "error_x": {
             "color": "#2a3f5f"
            },
            "error_y": {
             "color": "#2a3f5f"
            },
            "marker": {
             "line": {
              "color": "white",
              "width": 0.5
             },
             "pattern": {
              "fillmode": "overlay",
              "size": 10,
              "solidity": 0.2
             }
            },
            "type": "bar"
           }
          ],
          "barpolar": [
           {
            "marker": {
             "line": {
              "color": "white",
              "width": 0.5
             },
             "pattern": {
              "fillmode": "overlay",
              "size": 10,
              "solidity": 0.2
             }
            },
            "type": "barpolar"
           }
          ],
          "carpet": [
           {
            "aaxis": {
             "endlinecolor": "#2a3f5f",
             "gridcolor": "#C8D4E3",
             "linecolor": "#C8D4E3",
             "minorgridcolor": "#C8D4E3",
             "startlinecolor": "#2a3f5f"
            },
            "baxis": {
             "endlinecolor": "#2a3f5f",
             "gridcolor": "#C8D4E3",
             "linecolor": "#C8D4E3",
             "minorgridcolor": "#C8D4E3",
             "startlinecolor": "#2a3f5f"
            },
            "type": "carpet"
           }
          ],
          "choropleth": [
           {
            "colorbar": {
             "outlinewidth": 0,
             "ticks": ""
            },
            "type": "choropleth"
           }
          ],
          "contour": [
           {
            "colorbar": {
             "outlinewidth": 0,
             "ticks": ""
            },
            "colorscale": [
             [
              0,
              "#0d0887"
             ],
             [
              0.1111111111111111,
              "#46039f"
             ],
             [
              0.2222222222222222,
              "#7201a8"
             ],
             [
              0.3333333333333333,
              "#9c179e"
             ],
             [
              0.4444444444444444,
              "#bd3786"
             ],
             [
              0.5555555555555556,
              "#d8576b"
             ],
             [
              0.6666666666666666,
              "#ed7953"
             ],
             [
              0.7777777777777778,
              "#fb9f3a"
             ],
             [
              0.8888888888888888,
              "#fdca26"
             ],
             [
              1,
              "#f0f921"
             ]
            ],
            "type": "contour"
           }
          ],
          "contourcarpet": [
           {
            "colorbar": {
             "outlinewidth": 0,
             "ticks": ""
            },
            "type": "contourcarpet"
           }
          ],
          "heatmap": [
           {
            "colorbar": {
             "outlinewidth": 0,
             "ticks": ""
            },
            "colorscale": [
             [
              0,
              "#0d0887"
             ],
             [
              0.1111111111111111,
              "#46039f"
             ],
             [
              0.2222222222222222,
              "#7201a8"
             ],
             [
              0.3333333333333333,
              "#9c179e"
             ],
             [
              0.4444444444444444,
              "#bd3786"
             ],
             [
              0.5555555555555556,
              "#d8576b"
             ],
             [
              0.6666666666666666,
              "#ed7953"
             ],
             [
              0.7777777777777778,
              "#fb9f3a"
             ],
             [
              0.8888888888888888,
              "#fdca26"
             ],
             [
              1,
              "#f0f921"
             ]
            ],
            "type": "heatmap"
           }
          ],
          "histogram": [
           {
            "marker": {
             "pattern": {
              "fillmode": "overlay",
              "size": 10,
              "solidity": 0.2
             }
            },
            "type": "histogram"
           }
          ],
          "histogram2d": [
           {
            "colorbar": {
             "outlinewidth": 0,
             "ticks": ""
            },
            "colorscale": [
             [
              0,
              "#0d0887"
             ],
             [
              0.1111111111111111,
              "#46039f"
             ],
             [
              0.2222222222222222,
              "#7201a8"
             ],
             [
              0.3333333333333333,
              "#9c179e"
             ],
             [
              0.4444444444444444,
              "#bd3786"
             ],
             [
              0.5555555555555556,
              "#d8576b"
             ],
             [
              0.6666666666666666,
              "#ed7953"
             ],
             [
              0.7777777777777778,
              "#fb9f3a"
             ],
             [
              0.8888888888888888,
              "#fdca26"
             ],
             [
              1,
              "#f0f921"
             ]
            ],
            "type": "histogram2d"
           }
          ],
          "histogram2dcontour": [
           {
            "colorbar": {
             "outlinewidth": 0,
             "ticks": ""
            },
            "colorscale": [
             [
              0,
              "#0d0887"
             ],
             [
              0.1111111111111111,
              "#46039f"
             ],
             [
              0.2222222222222222,
              "#7201a8"
             ],
             [
              0.3333333333333333,
              "#9c179e"
             ],
             [
              0.4444444444444444,
              "#bd3786"
             ],
             [
              0.5555555555555556,
              "#d8576b"
             ],
             [
              0.6666666666666666,
              "#ed7953"
             ],
             [
              0.7777777777777778,
              "#fb9f3a"
             ],
             [
              0.8888888888888888,
              "#fdca26"
             ],
             [
              1,
              "#f0f921"
             ]
            ],
            "type": "histogram2dcontour"
           }
          ],
          "mesh3d": [
           {
            "colorbar": {
             "outlinewidth": 0,
             "ticks": ""
            },
            "type": "mesh3d"
           }
          ],
          "parcoords": [
           {
            "line": {
             "colorbar": {
              "outlinewidth": 0,
              "ticks": ""
             }
            },
            "type": "parcoords"
           }
          ],
          "pie": [
           {
            "automargin": true,
            "type": "pie"
           }
          ],
          "scatter": [
           {
            "fillpattern": {
             "fillmode": "overlay",
             "size": 10,
             "solidity": 0.2
            },
            "type": "scatter"
           }
          ],
          "scatter3d": [
           {
            "line": {
             "colorbar": {
              "outlinewidth": 0,
              "ticks": ""
             }
            },
            "marker": {
             "colorbar": {
              "outlinewidth": 0,
              "ticks": ""
             }
            },
            "type": "scatter3d"
           }
          ],
          "scattercarpet": [
           {
            "marker": {
             "colorbar": {
              "outlinewidth": 0,
              "ticks": ""
             }
            },
            "type": "scattercarpet"
           }
          ],
          "scattergeo": [
           {
            "marker": {
             "colorbar": {
              "outlinewidth": 0,
              "ticks": ""
             }
            },
            "type": "scattergeo"
           }
          ],
          "scattergl": [
           {
            "marker": {
             "colorbar": {
              "outlinewidth": 0,
              "ticks": ""
             }
            },
            "type": "scattergl"
           }
          ],
          "scattermap": [
           {
            "marker": {
             "colorbar": {
              "outlinewidth": 0,
              "ticks": ""
             }
            },
            "type": "scattermap"
           }
          ],
          "scattermapbox": [
           {
            "marker": {
             "colorbar": {
              "outlinewidth": 0,
              "ticks": ""
             }
            },
            "type": "scattermapbox"
           }
          ],
          "scatterpolar": [
           {
            "marker": {
             "colorbar": {
              "outlinewidth": 0,
              "ticks": ""
             }
            },
            "type": "scatterpolar"
           }
          ],
          "scatterpolargl": [
           {
            "marker": {
             "colorbar": {
              "outlinewidth": 0,
              "ticks": ""
             }
            },
            "type": "scatterpolargl"
           }
          ],
          "scatterternary": [
           {
            "marker": {
             "colorbar": {
              "outlinewidth": 0,
              "ticks": ""
             }
            },
            "type": "scatterternary"
           }
          ],
          "surface": [
           {
            "colorbar": {
             "outlinewidth": 0,
             "ticks": ""
            },
            "colorscale": [
             [
              0,
              "#0d0887"
             ],
             [
              0.1111111111111111,
              "#46039f"
             ],
             [
              0.2222222222222222,
              "#7201a8"
             ],
             [
              0.3333333333333333,
              "#9c179e"
             ],
             [
              0.4444444444444444,
              "#bd3786"
             ],
             [
              0.5555555555555556,
              "#d8576b"
             ],
             [
              0.6666666666666666,
              "#ed7953"
             ],
             [
              0.7777777777777778,
              "#fb9f3a"
             ],
             [
              0.8888888888888888,
              "#fdca26"
             ],
             [
              1,
              "#f0f921"
             ]
            ],
            "type": "surface"
           }
          ],
          "table": [
           {
            "cells": {
             "fill": {
              "color": "#EBF0F8"
             },
             "line": {
              "color": "white"
             }
            },
            "header": {
             "fill": {
              "color": "#C8D4E3"
             },
             "line": {
              "color": "white"
             }
            },
            "type": "table"
           }
          ]
         },
         "layout": {
          "annotationdefaults": {
           "arrowcolor": "#2a3f5f",
           "arrowhead": 0,
           "arrowwidth": 1
          },
          "autotypenumbers": "strict",
          "coloraxis": {
           "colorbar": {
            "outlinewidth": 0,
            "ticks": ""
           }
          },
          "colorscale": {
           "diverging": [
            [
             0,
             "#8e0152"
            ],
            [
             0.1,
             "#c51b7d"
            ],
            [
             0.2,
             "#de77ae"
            ],
            [
             0.3,
             "#f1b6da"
            ],
            [
             0.4,
             "#fde0ef"
            ],
            [
             0.5,
             "#f7f7f7"
            ],
            [
             0.6,
             "#e6f5d0"
            ],
            [
             0.7,
             "#b8e186"
            ],
            [
             0.8,
             "#7fbc41"
            ],
            [
             0.9,
             "#4d9221"
            ],
            [
             1,
             "#276419"
            ]
           ],
           "sequential": [
            [
             0,
             "#0d0887"
            ],
            [
             0.1111111111111111,
             "#46039f"
            ],
            [
             0.2222222222222222,
             "#7201a8"
            ],
            [
             0.3333333333333333,
             "#9c179e"
            ],
            [
             0.4444444444444444,
             "#bd3786"
            ],
            [
             0.5555555555555556,
             "#d8576b"
            ],
            [
             0.6666666666666666,
             "#ed7953"
            ],
            [
             0.7777777777777778,
             "#fb9f3a"
            ],
            [
             0.8888888888888888,
             "#fdca26"
            ],
            [
             1,
             "#f0f921"
            ]
           ],
           "sequentialminus": [
            [
             0,
             "#0d0887"
            ],
            [
             0.1111111111111111,
             "#46039f"
            ],
            [
             0.2222222222222222,
             "#7201a8"
            ],
            [
             0.3333333333333333,
             "#9c179e"
            ],
            [
             0.4444444444444444,
             "#bd3786"
            ],
            [
             0.5555555555555556,
             "#d8576b"
            ],
            [
             0.6666666666666666,
             "#ed7953"
            ],
            [
             0.7777777777777778,
             "#fb9f3a"
            ],
            [
             0.8888888888888888,
             "#fdca26"
            ],
            [
             1,
             "#f0f921"
            ]
           ]
          },
          "colorway": [
           "#636efa",
           "#EF553B",
           "#00cc96",
           "#ab63fa",
           "#FFA15A",
           "#19d3f3",
           "#FF6692",
           "#B6E880",
           "#FF97FF",
           "#FECB52"
          ],
          "font": {
           "color": "#2a3f5f"
          },
          "geo": {
           "bgcolor": "white",
           "lakecolor": "white",
           "landcolor": "white",
           "showlakes": true,
           "showland": true,
           "subunitcolor": "#C8D4E3"
          },
          "hoverlabel": {
           "align": "left"
          },
          "hovermode": "closest",
          "mapbox": {
           "style": "light"
          },
          "paper_bgcolor": "white",
          "plot_bgcolor": "white",
          "polar": {
           "angularaxis": {
            "gridcolor": "#EBF0F8",
            "linecolor": "#EBF0F8",
            "ticks": ""
           },
           "bgcolor": "white",
           "radialaxis": {
            "gridcolor": "#EBF0F8",
            "linecolor": "#EBF0F8",
            "ticks": ""
           }
          },
          "scene": {
           "xaxis": {
            "backgroundcolor": "white",
            "gridcolor": "#DFE8F3",
            "gridwidth": 2,
            "linecolor": "#EBF0F8",
            "showbackground": true,
            "ticks": "",
            "zerolinecolor": "#EBF0F8"
           },
           "yaxis": {
            "backgroundcolor": "white",
            "gridcolor": "#DFE8F3",
            "gridwidth": 2,
            "linecolor": "#EBF0F8",
            "showbackground": true,
            "ticks": "",
            "zerolinecolor": "#EBF0F8"
           },
           "zaxis": {
            "backgroundcolor": "white",
            "gridcolor": "#DFE8F3",
            "gridwidth": 2,
            "linecolor": "#EBF0F8",
            "showbackground": true,
            "ticks": "",
            "zerolinecolor": "#EBF0F8"
           }
          },
          "shapedefaults": {
           "line": {
            "color": "#2a3f5f"
           }
          },
          "ternary": {
           "aaxis": {
            "gridcolor": "#DFE8F3",
            "linecolor": "#A2B1C6",
            "ticks": ""
           },
           "baxis": {
            "gridcolor": "#DFE8F3",
            "linecolor": "#A2B1C6",
            "ticks": ""
           },
           "bgcolor": "white",
           "caxis": {
            "gridcolor": "#DFE8F3",
            "linecolor": "#A2B1C6",
            "ticks": ""
           }
          },
          "title": {
           "x": 0.05
          },
          "xaxis": {
           "automargin": true,
           "gridcolor": "#EBF0F8",
           "linecolor": "#EBF0F8",
           "ticks": "",
           "title": {
            "standoff": 15
           },
           "zerolinecolor": "#EBF0F8",
           "zerolinewidth": 2
          },
          "yaxis": {
           "automargin": true,
           "gridcolor": "#EBF0F8",
           "linecolor": "#EBF0F8",
           "ticks": "",
           "title": {
            "standoff": 15
           },
           "zerolinecolor": "#EBF0F8",
           "zerolinewidth": 2
          }
         }
        },
        "title": {
         "text": "Sentiment Score vs Actual Performance"
        },
        "xaxis": {
         "anchor": "y",
         "domain": [
          0,
          1
         ],
         "title": {
          "text": "Sentiment Score (Grok)"
         }
        },
        "yaxis": {
         "anchor": "x",
         "domain": [
          0,
          1
         ],
         "title": {
          "text": "Actual Change % (2025-10-24)"
         }
        }
       }
      }
     },
     "metadata": {},
     "output_type": "display_data"
    }
   ],
   "source": [
    "fig = px.scatter(\n",
    "    df_valid,\n",
    "    x='sentiment_score',\n",
    "    y='change_pct',\n",
    "    color='policy_link',\n",
    "    size='range_pct',\n",
    "    hover_data=['name_en', 'name_jp', 'mentioned_by_str'],\n",
    "    text='name_en',\n",
    "    color_discrete_map={'High': 'red', 'Med': 'orange', 'Low': 'blue'},\n",
    "    title='Sentiment Score vs Actual Performance',\n",
    "    labels={\n",
    "        'sentiment_score': 'Sentiment Score (Grok)',\n",
    "        'change_pct': 'Actual Change % (2025-10-24)',\n",
    "        'policy_link': 'Policy Link'\n",
    "    }\n",
    ")\n",
    "\n",
    "fig.update_traces(textposition='top center', textfont_size=9)\n",
    "fig.add_hline(y=0, line_dash=\"dash\", line_color=\"black\", line_width=1)\n",
    "fig.update_layout(height=600, template='plotly_white')\n",
    "\n",
    "fig.show()"
   ]
  },
  {
   "cell_type": "markdown",
   "metadata": {},
   "source": [
    "## 7. 5分足チャート（前場の流れ）"
   ]
  },
  {
   "cell_type": "code",
   "execution_count": 8,
   "metadata": {
    "execution": {
     "iopub.execute_input": "2025-10-25T16:12:25.738238Z",
     "iopub.status.busy": "2025-10-25T16:12:25.738135Z",
     "iopub.status.idle": "2025-10-25T16:12:25.786845Z",
     "shell.execute_reply": "2025-10-25T16:12:25.786654Z"
    }
   },
   "outputs": [
    {
     "data": {
      "application/vnd.plotly.v1+json": {
       "config": {
        "plotlyServerURL": "https://plot.ly"
       },
       "data": [
        {
         "close": {
          "bdata": "AAAAAAAgcUAAAAAAAOBxQAAAAAAA0HJAAAAAAABgc0AAAAAAAMBzQAAAAAAAAHRAAAAAAAAAdEAAAAAAAAB0QAAAAAAAAHRAAAAAAABAdEA=",
          "dtype": "f8"
         },
         "high": {
          "bdata": "AAAAAAAAckAAAAAAAAByQAAAAAAAQHNAAAAAAACQc0AAAAAAAPBzQAAAAAAAMHRAAAAAAAAwdEAAAAAAABB0QAAAAAAAEHRAAAAAAABAdEA=",
          "dtype": "f8"
         },
         "low": {
          "bdata": "AAAAAADwcEAAAAAAABBxQAAAAAAAsHFAAAAAAACAckAAAAAAAOByQAAAAAAAwHNAAAAAAAAgc0AAAAAAAMBzQAAAAAAA0HNAAAAAAADgc0A=",
          "dtype": "f8"
         },
         "name": "Price",
         "open": {
          "bdata": "AAAAAABgcUAAAAAAADBxQAAAAAAA4HFAAAAAAADAckAAAAAAAEBzQAAAAAAAwHNAAAAAAAAgdEAAAAAAAOBzQAAAAAAAAHRAAAAAAAAAdEA=",
          "dtype": "f8"
         },
         "type": "candlestick",
         "x": [
          "2025-10-24T09:05:00",
          "2025-10-24T09:10:00",
          "2025-10-24T09:15:00",
          "2025-10-24T09:20:00",
          "2025-10-24T09:25:00",
          "2025-10-24T09:30:00",
          "2025-10-24T09:35:00",
          "2025-10-24T09:40:00",
          "2025-10-24T09:45:00",
          "2025-10-24T09:50:00"
         ]
        }
       ],
       "layout": {
        "height": 400,
        "template": {
         "data": {
          "bar": [
           {
            "error_x": {
             "color": "#2a3f5f"
            },
            "error_y": {
             "color": "#2a3f5f"
            },
            "marker": {
             "line": {
              "color": "white",
              "width": 0.5
             },
             "pattern": {
              "fillmode": "overlay",
              "size": 10,
              "solidity": 0.2
             }
            },
            "type": "bar"
           }
          ],
          "barpolar": [
           {
            "marker": {
             "line": {
              "color": "white",
              "width": 0.5
             },
             "pattern": {
              "fillmode": "overlay",
              "size": 10,
              "solidity": 0.2
             }
            },
            "type": "barpolar"
           }
          ],
          "carpet": [
           {
            "aaxis": {
             "endlinecolor": "#2a3f5f",
             "gridcolor": "#C8D4E3",
             "linecolor": "#C8D4E3",
             "minorgridcolor": "#C8D4E3",
             "startlinecolor": "#2a3f5f"
            },
            "baxis": {
             "endlinecolor": "#2a3f5f",
             "gridcolor": "#C8D4E3",
             "linecolor": "#C8D4E3",
             "minorgridcolor": "#C8D4E3",
             "startlinecolor": "#2a3f5f"
            },
            "type": "carpet"
           }
          ],
          "choropleth": [
           {
            "colorbar": {
             "outlinewidth": 0,
             "ticks": ""
            },
            "type": "choropleth"
           }
          ],
          "contour": [
           {
            "colorbar": {
             "outlinewidth": 0,
             "ticks": ""
            },
            "colorscale": [
             [
              0,
              "#0d0887"
             ],
             [
              0.1111111111111111,
              "#46039f"
             ],
             [
              0.2222222222222222,
              "#7201a8"
             ],
             [
              0.3333333333333333,
              "#9c179e"
             ],
             [
              0.4444444444444444,
              "#bd3786"
             ],
             [
              0.5555555555555556,
              "#d8576b"
             ],
             [
              0.6666666666666666,
              "#ed7953"
             ],
             [
              0.7777777777777778,
              "#fb9f3a"
             ],
             [
              0.8888888888888888,
              "#fdca26"
             ],
             [
              1,
              "#f0f921"
             ]
            ],
            "type": "contour"
           }
          ],
          "contourcarpet": [
           {
            "colorbar": {
             "outlinewidth": 0,
             "ticks": ""
            },
            "type": "contourcarpet"
           }
          ],
          "heatmap": [
           {
            "colorbar": {
             "outlinewidth": 0,
             "ticks": ""
            },
            "colorscale": [
             [
              0,
              "#0d0887"
             ],
             [
              0.1111111111111111,
              "#46039f"
             ],
             [
              0.2222222222222222,
              "#7201a8"
             ],
             [
              0.3333333333333333,
              "#9c179e"
             ],
             [
              0.4444444444444444,
              "#bd3786"
             ],
             [
              0.5555555555555556,
              "#d8576b"
             ],
             [
              0.6666666666666666,
              "#ed7953"
             ],
             [
              0.7777777777777778,
              "#fb9f3a"
             ],
             [
              0.8888888888888888,
              "#fdca26"
             ],
             [
              1,
              "#f0f921"
             ]
            ],
            "type": "heatmap"
           }
          ],
          "histogram": [
           {
            "marker": {
             "pattern": {
              "fillmode": "overlay",
              "size": 10,
              "solidity": 0.2
             }
            },
            "type": "histogram"
           }
          ],
          "histogram2d": [
           {
            "colorbar": {
             "outlinewidth": 0,
             "ticks": ""
            },
            "colorscale": [
             [
              0,
              "#0d0887"
             ],
             [
              0.1111111111111111,
              "#46039f"
             ],
             [
              0.2222222222222222,
              "#7201a8"
             ],
             [
              0.3333333333333333,
              "#9c179e"
             ],
             [
              0.4444444444444444,
              "#bd3786"
             ],
             [
              0.5555555555555556,
              "#d8576b"
             ],
             [
              0.6666666666666666,
              "#ed7953"
             ],
             [
              0.7777777777777778,
              "#fb9f3a"
             ],
             [
              0.8888888888888888,
              "#fdca26"
             ],
             [
              1,
              "#f0f921"
             ]
            ],
            "type": "histogram2d"
           }
          ],
          "histogram2dcontour": [
           {
            "colorbar": {
             "outlinewidth": 0,
             "ticks": ""
            },
            "colorscale": [
             [
              0,
              "#0d0887"
             ],
             [
              0.1111111111111111,
              "#46039f"
             ],
             [
              0.2222222222222222,
              "#7201a8"
             ],
             [
              0.3333333333333333,
              "#9c179e"
             ],
             [
              0.4444444444444444,
              "#bd3786"
             ],
             [
              0.5555555555555556,
              "#d8576b"
             ],
             [
              0.6666666666666666,
              "#ed7953"
             ],
             [
              0.7777777777777778,
              "#fb9f3a"
             ],
             [
              0.8888888888888888,
              "#fdca26"
             ],
             [
              1,
              "#f0f921"
             ]
            ],
            "type": "histogram2dcontour"
           }
          ],
          "mesh3d": [
           {
            "colorbar": {
             "outlinewidth": 0,
             "ticks": ""
            },
            "type": "mesh3d"
           }
          ],
          "parcoords": [
           {
            "line": {
             "colorbar": {
              "outlinewidth": 0,
              "ticks": ""
             }
            },
            "type": "parcoords"
           }
          ],
          "pie": [
           {
            "automargin": true,
            "type": "pie"
           }
          ],
          "scatter": [
           {
            "fillpattern": {
             "fillmode": "overlay",
             "size": 10,
             "solidity": 0.2
            },
            "type": "scatter"
           }
          ],
          "scatter3d": [
           {
            "line": {
             "colorbar": {
              "outlinewidth": 0,
              "ticks": ""
             }
            },
            "marker": {
             "colorbar": {
              "outlinewidth": 0,
              "ticks": ""
             }
            },
            "type": "scatter3d"
           }
          ],
          "scattercarpet": [
           {
            "marker": {
             "colorbar": {
              "outlinewidth": 0,
              "ticks": ""
             }
            },
            "type": "scattercarpet"
           }
          ],
          "scattergeo": [
           {
            "marker": {
             "colorbar": {
              "outlinewidth": 0,
              "ticks": ""
             }
            },
            "type": "scattergeo"
           }
          ],
          "scattergl": [
           {
            "marker": {
             "colorbar": {
              "outlinewidth": 0,
              "ticks": ""
             }
            },
            "type": "scattergl"
           }
          ],
          "scattermap": [
           {
            "marker": {
             "colorbar": {
              "outlinewidth": 0,
              "ticks": ""
             }
            },
            "type": "scattermap"
           }
          ],
          "scattermapbox": [
           {
            "marker": {
             "colorbar": {
              "outlinewidth": 0,
              "ticks": ""
             }
            },
            "type": "scattermapbox"
           }
          ],
          "scatterpolar": [
           {
            "marker": {
             "colorbar": {
              "outlinewidth": 0,
              "ticks": ""
             }
            },
            "type": "scatterpolar"
           }
          ],
          "scatterpolargl": [
           {
            "marker": {
             "colorbar": {
              "outlinewidth": 0,
              "ticks": ""
             }
            },
            "type": "scatterpolargl"
           }
          ],
          "scatterternary": [
           {
            "marker": {
             "colorbar": {
              "outlinewidth": 0,
              "ticks": ""
             }
            },
            "type": "scatterternary"
           }
          ],
          "surface": [
           {
            "colorbar": {
             "outlinewidth": 0,
             "ticks": ""
            },
            "colorscale": [
             [
              0,
              "#0d0887"
             ],
             [
              0.1111111111111111,
              "#46039f"
             ],
             [
              0.2222222222222222,
              "#7201a8"
             ],
             [
              0.3333333333333333,
              "#9c179e"
             ],
             [
              0.4444444444444444,
              "#bd3786"
             ],
             [
              0.5555555555555556,
              "#d8576b"
             ],
             [
              0.6666666666666666,
              "#ed7953"
             ],
             [
              0.7777777777777778,
              "#fb9f3a"
             ],
             [
              0.8888888888888888,
              "#fdca26"
             ],
             [
              1,
              "#f0f921"
             ]
            ],
            "type": "surface"
           }
          ],
          "table": [
           {
            "cells": {
             "fill": {
              "color": "#EBF0F8"
             },
             "line": {
              "color": "white"
             }
            },
            "header": {
             "fill": {
              "color": "#C8D4E3"
             },
             "line": {
              "color": "white"
             }
            },
            "type": "table"
           }
          ]
         },
         "layout": {
          "annotationdefaults": {
           "arrowcolor": "#2a3f5f",
           "arrowhead": 0,
           "arrowwidth": 1
          },
          "autotypenumbers": "strict",
          "coloraxis": {
           "colorbar": {
            "outlinewidth": 0,
            "ticks": ""
           }
          },
          "colorscale": {
           "diverging": [
            [
             0,
             "#8e0152"
            ],
            [
             0.1,
             "#c51b7d"
            ],
            [
             0.2,
             "#de77ae"
            ],
            [
             0.3,
             "#f1b6da"
            ],
            [
             0.4,
             "#fde0ef"
            ],
            [
             0.5,
             "#f7f7f7"
            ],
            [
             0.6,
             "#e6f5d0"
            ],
            [
             0.7,
             "#b8e186"
            ],
            [
             0.8,
             "#7fbc41"
            ],
            [
             0.9,
             "#4d9221"
            ],
            [
             1,
             "#276419"
            ]
           ],
           "sequential": [
            [
             0,
             "#0d0887"
            ],
            [
             0.1111111111111111,
             "#46039f"
            ],
            [
             0.2222222222222222,
             "#7201a8"
            ],
            [
             0.3333333333333333,
             "#9c179e"
            ],
            [
             0.4444444444444444,
             "#bd3786"
            ],
            [
             0.5555555555555556,
             "#d8576b"
            ],
            [
             0.6666666666666666,
             "#ed7953"
            ],
            [
             0.7777777777777778,
             "#fb9f3a"
            ],
            [
             0.8888888888888888,
             "#fdca26"
            ],
            [
             1,
             "#f0f921"
            ]
           ],
           "sequentialminus": [
            [
             0,
             "#0d0887"
            ],
            [
             0.1111111111111111,
             "#46039f"
            ],
            [
             0.2222222222222222,
             "#7201a8"
            ],
            [
             0.3333333333333333,
             "#9c179e"
            ],
            [
             0.4444444444444444,
             "#bd3786"
            ],
            [
             0.5555555555555556,
             "#d8576b"
            ],
            [
             0.6666666666666666,
             "#ed7953"
            ],
            [
             0.7777777777777778,
             "#fb9f3a"
            ],
            [
             0.8888888888888888,
             "#fdca26"
            ],
            [
             1,
             "#f0f921"
            ]
           ]
          },
          "colorway": [
           "#636efa",
           "#EF553B",
           "#00cc96",
           "#ab63fa",
           "#FFA15A",
           "#19d3f3",
           "#FF6692",
           "#B6E880",
           "#FF97FF",
           "#FECB52"
          ],
          "font": {
           "color": "#2a3f5f"
          },
          "geo": {
           "bgcolor": "white",
           "lakecolor": "white",
           "landcolor": "white",
           "showlakes": true,
           "showland": true,
           "subunitcolor": "#C8D4E3"
          },
          "hoverlabel": {
           "align": "left"
          },
          "hovermode": "closest",
          "mapbox": {
           "style": "light"
          },
          "paper_bgcolor": "white",
          "plot_bgcolor": "white",
          "polar": {
           "angularaxis": {
            "gridcolor": "#EBF0F8",
            "linecolor": "#EBF0F8",
            "ticks": ""
           },
           "bgcolor": "white",
           "radialaxis": {
            "gridcolor": "#EBF0F8",
            "linecolor": "#EBF0F8",
            "ticks": ""
           }
          },
          "scene": {
           "xaxis": {
            "backgroundcolor": "white",
            "gridcolor": "#DFE8F3",
            "gridwidth": 2,
            "linecolor": "#EBF0F8",
            "showbackground": true,
            "ticks": "",
            "zerolinecolor": "#EBF0F8"
           },
           "yaxis": {
            "backgroundcolor": "white",
            "gridcolor": "#DFE8F3",
            "gridwidth": 2,
            "linecolor": "#EBF0F8",
            "showbackground": true,
            "ticks": "",
            "zerolinecolor": "#EBF0F8"
           },
           "zaxis": {
            "backgroundcolor": "white",
            "gridcolor": "#DFE8F3",
            "gridwidth": 2,
            "linecolor": "#EBF0F8",
            "showbackground": true,
            "ticks": "",
            "zerolinecolor": "#EBF0F8"
           }
          },
          "shapedefaults": {
           "line": {
            "color": "#2a3f5f"
           }
          },
          "ternary": {
           "aaxis": {
            "gridcolor": "#DFE8F3",
            "linecolor": "#A2B1C6",
            "ticks": ""
           },
           "baxis": {
            "gridcolor": "#DFE8F3",
            "linecolor": "#A2B1C6",
            "ticks": ""
           },
           "bgcolor": "white",
           "caxis": {
            "gridcolor": "#DFE8F3",
            "linecolor": "#A2B1C6",
            "ticks": ""
           }
          },
          "title": {
           "x": 0.05
          },
          "xaxis": {
           "automargin": true,
           "gridcolor": "#EBF0F8",
           "linecolor": "#EBF0F8",
           "ticks": "",
           "title": {
            "standoff": 15
           },
           "zerolinecolor": "#EBF0F8",
           "zerolinewidth": 2
          },
          "yaxis": {
           "automargin": true,
           "gridcolor": "#EBF0F8",
           "linecolor": "#EBF0F8",
           "ticks": "",
           "title": {
            "standoff": 15
           },
           "zerolinecolor": "#EBF0F8",
           "zerolinewidth": 2
          }
         }
        },
        "title": {
         "text": "2459 - Aun Consulting (アウンコンサルティング) | Daily Change: +28.57%"
        },
        "xaxis": {
         "rangeslider": {
          "visible": false
         },
         "title": {
          "text": "Time (Morning Session)"
         }
        },
        "yaxis": {
         "title": {
          "text": "Price (JPY)"
         }
        }
       }
      }
     },
     "metadata": {},
     "output_type": "display_data"
    },
    {
     "data": {
      "application/vnd.plotly.v1+json": {
       "config": {
        "plotlyServerURL": "https://plot.ly"
       },
       "data": [
        {
         "close": {
          "bdata": "AAAAAABUlUAAAAAAAGSVQAAAAAAA4JVAAAAAAADglUAAAAAAAByWQAAAAAAAGJZAAAAAAABYlkAAAAAAAISWQAAAAAAAUJZAAAAAAAA0lkAAAAAAAGiWQAAAAAAAXJZAAAAAAAA4lkAAAAAAAByWQAAAAAAAMJZAAAAAAACAlkAAAAAAAESWQAAAAAAAVJZAAAAAAAA4lkAAAAAAAEyWQAAAAAAASJZAAAAAAABAlkAAAAAAAFiWQAAAAAAASJZAAAAAAABQlkAAAAAAAFyWQAAAAAAAPJZAAAAAAABYlkAAAAAAAHSWQAAAAAAAcJZAAAAAAABwlkA=",
          "dtype": "f8"
         },
         "high": {
          "bdata": "AAAAAABUlUAAAAAAAGiVQAAAAAAA4JVAAAAAAADglUAAAAAAAGSWQAAAAAAAJJZAAAAAAACElkAAAAAAAISWQAAAAAAAfJZAAAAAAABIlkAAAAAAAGyWQAAAAAAAYJZAAAAAAABYlkAAAAAAADiWQAAAAAAAMJZAAAAAAACElkAAAAAAAFyWQAAAAAAAVJZAAAAAAABQlkAAAAAAAEyWQAAAAAAAVJZAAAAAAABIlkAAAAAAAFiWQAAAAAAAVJZAAAAAAABQlkAAAAAAAFyWQAAAAAAAaJZAAAAAAABYlkAAAAAAAHSWQAAAAAAAcJZAAAAAAABwlkA=",
          "dtype": "f8"
         },
         "low": {
          "bdata": "AAAAAABUlUAAAAAAADSVQAAAAAAASJVAAAAAAACIlUAAAAAAALyVQAAAAAAA+JVAAAAAAAAAlkAAAAAAADyWQAAAAAAATJZAAAAAAAAwlkAAAAAAAByWQAAAAAAAWJZAAAAAAAA4lkAAAAAAAOiVQAAAAAAADJZAAAAAAAAwlkAAAAAAAESWQAAAAAAAOJZAAAAAAAA4lkAAAAAAADCWQAAAAAAAHJZAAAAAAAAwlkAAAAAAAECWQAAAAAAASJZAAAAAAAA8lkAAAAAAAFCWQAAAAAAAPJZAAAAAAAAwlkAAAAAAAFiWQAAAAAAAcJZAAAAAAABwlkA=",
          "dtype": "f8"
         },
         "name": "Price",
         "open": {
          "bdata": "AAAAAABUlUAAAAAAAGSVQAAAAAAAaJVAAAAAAACslUAAAAAAAOCVQAAAAAAAHJZAAAAAAAAAlkAAAAAAAESWQAAAAAAAfJZAAAAAAABIlkAAAAAAADCWQAAAAAAAYJZAAAAAAABYlkAAAAAAADiWQAAAAAAADJZAAAAAAAAwlkAAAAAAAFyWQAAAAAAAOJZAAAAAAABQlkAAAAAAADSWQAAAAAAANJZAAAAAAAA8lkAAAAAAAECWQAAAAAAAVJZAAAAAAABElkAAAAAAAFCWQAAAAAAAaJZAAAAAAAA8lkAAAAAAAFiWQAAAAAAAcJZAAAAAAABwlkA=",
          "dtype": "f8"
         },
         "type": "candlestick",
         "x": [
          "2025-10-24T09:00:00",
          "2025-10-24T09:05:00",
          "2025-10-24T09:10:00",
          "2025-10-24T09:15:00",
          "2025-10-24T09:20:00",
          "2025-10-24T09:25:00",
          "2025-10-24T09:30:00",
          "2025-10-24T09:35:00",
          "2025-10-24T09:40:00",
          "2025-10-24T09:45:00",
          "2025-10-24T09:50:00",
          "2025-10-24T09:55:00",
          "2025-10-24T10:00:00",
          "2025-10-24T10:05:00",
          "2025-10-24T10:10:00",
          "2025-10-24T10:15:00",
          "2025-10-24T10:20:00",
          "2025-10-24T10:25:00",
          "2025-10-24T10:30:00",
          "2025-10-24T10:35:00",
          "2025-10-24T10:40:00",
          "2025-10-24T10:45:00",
          "2025-10-24T10:50:00",
          "2025-10-24T10:55:00",
          "2025-10-24T11:00:00",
          "2025-10-24T11:05:00",
          "2025-10-24T11:10:00",
          "2025-10-24T11:15:00",
          "2025-10-24T11:20:00",
          "2025-10-24T11:25:00",
          "2025-10-24T11:30:00"
         ]
        }
       ],
       "layout": {
        "height": 400,
        "template": {
         "data": {
          "bar": [
           {
            "error_x": {
             "color": "#2a3f5f"
            },
            "error_y": {
             "color": "#2a3f5f"
            },
            "marker": {
             "line": {
              "color": "white",
              "width": 0.5
             },
             "pattern": {
              "fillmode": "overlay",
              "size": 10,
              "solidity": 0.2
             }
            },
            "type": "bar"
           }
          ],
          "barpolar": [
           {
            "marker": {
             "line": {
              "color": "white",
              "width": 0.5
             },
             "pattern": {
              "fillmode": "overlay",
              "size": 10,
              "solidity": 0.2
             }
            },
            "type": "barpolar"
           }
          ],
          "carpet": [
           {
            "aaxis": {
             "endlinecolor": "#2a3f5f",
             "gridcolor": "#C8D4E3",
             "linecolor": "#C8D4E3",
             "minorgridcolor": "#C8D4E3",
             "startlinecolor": "#2a3f5f"
            },
            "baxis": {
             "endlinecolor": "#2a3f5f",
             "gridcolor": "#C8D4E3",
             "linecolor": "#C8D4E3",
             "minorgridcolor": "#C8D4E3",
             "startlinecolor": "#2a3f5f"
            },
            "type": "carpet"
           }
          ],
          "choropleth": [
           {
            "colorbar": {
             "outlinewidth": 0,
             "ticks": ""
            },
            "type": "choropleth"
           }
          ],
          "contour": [
           {
            "colorbar": {
             "outlinewidth": 0,
             "ticks": ""
            },
            "colorscale": [
             [
              0,
              "#0d0887"
             ],
             [
              0.1111111111111111,
              "#46039f"
             ],
             [
              0.2222222222222222,
              "#7201a8"
             ],
             [
              0.3333333333333333,
              "#9c179e"
             ],
             [
              0.4444444444444444,
              "#bd3786"
             ],
             [
              0.5555555555555556,
              "#d8576b"
             ],
             [
              0.6666666666666666,
              "#ed7953"
             ],
             [
              0.7777777777777778,
              "#fb9f3a"
             ],
             [
              0.8888888888888888,
              "#fdca26"
             ],
             [
              1,
              "#f0f921"
             ]
            ],
            "type": "contour"
           }
          ],
          "contourcarpet": [
           {
            "colorbar": {
             "outlinewidth": 0,
             "ticks": ""
            },
            "type": "contourcarpet"
           }
          ],
          "heatmap": [
           {
            "colorbar": {
             "outlinewidth": 0,
             "ticks": ""
            },
            "colorscale": [
             [
              0,
              "#0d0887"
             ],
             [
              0.1111111111111111,
              "#46039f"
             ],
             [
              0.2222222222222222,
              "#7201a8"
             ],
             [
              0.3333333333333333,
              "#9c179e"
             ],
             [
              0.4444444444444444,
              "#bd3786"
             ],
             [
              0.5555555555555556,
              "#d8576b"
             ],
             [
              0.6666666666666666,
              "#ed7953"
             ],
             [
              0.7777777777777778,
              "#fb9f3a"
             ],
             [
              0.8888888888888888,
              "#fdca26"
             ],
             [
              1,
              "#f0f921"
             ]
            ],
            "type": "heatmap"
           }
          ],
          "histogram": [
           {
            "marker": {
             "pattern": {
              "fillmode": "overlay",
              "size": 10,
              "solidity": 0.2
             }
            },
            "type": "histogram"
           }
          ],
          "histogram2d": [
           {
            "colorbar": {
             "outlinewidth": 0,
             "ticks": ""
            },
            "colorscale": [
             [
              0,
              "#0d0887"
             ],
             [
              0.1111111111111111,
              "#46039f"
             ],
             [
              0.2222222222222222,
              "#7201a8"
             ],
             [
              0.3333333333333333,
              "#9c179e"
             ],
             [
              0.4444444444444444,
              "#bd3786"
             ],
             [
              0.5555555555555556,
              "#d8576b"
             ],
             [
              0.6666666666666666,
              "#ed7953"
             ],
             [
              0.7777777777777778,
              "#fb9f3a"
             ],
             [
              0.8888888888888888,
              "#fdca26"
             ],
             [
              1,
              "#f0f921"
             ]
            ],
            "type": "histogram2d"
           }
          ],
          "histogram2dcontour": [
           {
            "colorbar": {
             "outlinewidth": 0,
             "ticks": ""
            },
            "colorscale": [
             [
              0,
              "#0d0887"
             ],
             [
              0.1111111111111111,
              "#46039f"
             ],
             [
              0.2222222222222222,
              "#7201a8"
             ],
             [
              0.3333333333333333,
              "#9c179e"
             ],
             [
              0.4444444444444444,
              "#bd3786"
             ],
             [
              0.5555555555555556,
              "#d8576b"
             ],
             [
              0.6666666666666666,
              "#ed7953"
             ],
             [
              0.7777777777777778,
              "#fb9f3a"
             ],
             [
              0.8888888888888888,
              "#fdca26"
             ],
             [
              1,
              "#f0f921"
             ]
            ],
            "type": "histogram2dcontour"
           }
          ],
          "mesh3d": [
           {
            "colorbar": {
             "outlinewidth": 0,
             "ticks": ""
            },
            "type": "mesh3d"
           }
          ],
          "parcoords": [
           {
            "line": {
             "colorbar": {
              "outlinewidth": 0,
              "ticks": ""
             }
            },
            "type": "parcoords"
           }
          ],
          "pie": [
           {
            "automargin": true,
            "type": "pie"
           }
          ],
          "scatter": [
           {
            "fillpattern": {
             "fillmode": "overlay",
             "size": 10,
             "solidity": 0.2
            },
            "type": "scatter"
           }
          ],
          "scatter3d": [
           {
            "line": {
             "colorbar": {
              "outlinewidth": 0,
              "ticks": ""
             }
            },
            "marker": {
             "colorbar": {
              "outlinewidth": 0,
              "ticks": ""
             }
            },
            "type": "scatter3d"
           }
          ],
          "scattercarpet": [
           {
            "marker": {
             "colorbar": {
              "outlinewidth": 0,
              "ticks": ""
             }
            },
            "type": "scattercarpet"
           }
          ],
          "scattergeo": [
           {
            "marker": {
             "colorbar": {
              "outlinewidth": 0,
              "ticks": ""
             }
            },
            "type": "scattergeo"
           }
          ],
          "scattergl": [
           {
            "marker": {
             "colorbar": {
              "outlinewidth": 0,
              "ticks": ""
             }
            },
            "type": "scattergl"
           }
          ],
          "scattermap": [
           {
            "marker": {
             "colorbar": {
              "outlinewidth": 0,
              "ticks": ""
             }
            },
            "type": "scattermap"
           }
          ],
          "scattermapbox": [
           {
            "marker": {
             "colorbar": {
              "outlinewidth": 0,
              "ticks": ""
             }
            },
            "type": "scattermapbox"
           }
          ],
          "scatterpolar": [
           {
            "marker": {
             "colorbar": {
              "outlinewidth": 0,
              "ticks": ""
             }
            },
            "type": "scatterpolar"
           }
          ],
          "scatterpolargl": [
           {
            "marker": {
             "colorbar": {
              "outlinewidth": 0,
              "ticks": ""
             }
            },
            "type": "scatterpolargl"
           }
          ],
          "scatterternary": [
           {
            "marker": {
             "colorbar": {
              "outlinewidth": 0,
              "ticks": ""
             }
            },
            "type": "scatterternary"
           }
          ],
          "surface": [
           {
            "colorbar": {
             "outlinewidth": 0,
             "ticks": ""
            },
            "colorscale": [
             [
              0,
              "#0d0887"
             ],
             [
              0.1111111111111111,
              "#46039f"
             ],
             [
              0.2222222222222222,
              "#7201a8"
             ],
             [
              0.3333333333333333,
              "#9c179e"
             ],
             [
              0.4444444444444444,
              "#bd3786"
             ],
             [
              0.5555555555555556,
              "#d8576b"
             ],
             [
              0.6666666666666666,
              "#ed7953"
             ],
             [
              0.7777777777777778,
              "#fb9f3a"
             ],
             [
              0.8888888888888888,
              "#fdca26"
             ],
             [
              1,
              "#f0f921"
             ]
            ],
            "type": "surface"
           }
          ],
          "table": [
           {
            "cells": {
             "fill": {
              "color": "#EBF0F8"
             },
             "line": {
              "color": "white"
             }
            },
            "header": {
             "fill": {
              "color": "#C8D4E3"
             },
             "line": {
              "color": "white"
             }
            },
            "type": "table"
           }
          ]
         },
         "layout": {
          "annotationdefaults": {
           "arrowcolor": "#2a3f5f",
           "arrowhead": 0,
           "arrowwidth": 1
          },
          "autotypenumbers": "strict",
          "coloraxis": {
           "colorbar": {
            "outlinewidth": 0,
            "ticks": ""
           }
          },
          "colorscale": {
           "diverging": [
            [
             0,
             "#8e0152"
            ],
            [
             0.1,
             "#c51b7d"
            ],
            [
             0.2,
             "#de77ae"
            ],
            [
             0.3,
             "#f1b6da"
            ],
            [
             0.4,
             "#fde0ef"
            ],
            [
             0.5,
             "#f7f7f7"
            ],
            [
             0.6,
             "#e6f5d0"
            ],
            [
             0.7,
             "#b8e186"
            ],
            [
             0.8,
             "#7fbc41"
            ],
            [
             0.9,
             "#4d9221"
            ],
            [
             1,
             "#276419"
            ]
           ],
           "sequential": [
            [
             0,
             "#0d0887"
            ],
            [
             0.1111111111111111,
             "#46039f"
            ],
            [
             0.2222222222222222,
             "#7201a8"
            ],
            [
             0.3333333333333333,
             "#9c179e"
            ],
            [
             0.4444444444444444,
             "#bd3786"
            ],
            [
             0.5555555555555556,
             "#d8576b"
            ],
            [
             0.6666666666666666,
             "#ed7953"
            ],
            [
             0.7777777777777778,
             "#fb9f3a"
            ],
            [
             0.8888888888888888,
             "#fdca26"
            ],
            [
             1,
             "#f0f921"
            ]
           ],
           "sequentialminus": [
            [
             0,
             "#0d0887"
            ],
            [
             0.1111111111111111,
             "#46039f"
            ],
            [
             0.2222222222222222,
             "#7201a8"
            ],
            [
             0.3333333333333333,
             "#9c179e"
            ],
            [
             0.4444444444444444,
             "#bd3786"
            ],
            [
             0.5555555555555556,
             "#d8576b"
            ],
            [
             0.6666666666666666,
             "#ed7953"
            ],
            [
             0.7777777777777778,
             "#fb9f3a"
            ],
            [
             0.8888888888888888,
             "#fdca26"
            ],
            [
             1,
             "#f0f921"
            ]
           ]
          },
          "colorway": [
           "#636efa",
           "#EF553B",
           "#00cc96",
           "#ab63fa",
           "#FFA15A",
           "#19d3f3",
           "#FF6692",
           "#B6E880",
           "#FF97FF",
           "#FECB52"
          ],
          "font": {
           "color": "#2a3f5f"
          },
          "geo": {
           "bgcolor": "white",
           "lakecolor": "white",
           "landcolor": "white",
           "showlakes": true,
           "showland": true,
           "subunitcolor": "#C8D4E3"
          },
          "hoverlabel": {
           "align": "left"
          },
          "hovermode": "closest",
          "mapbox": {
           "style": "light"
          },
          "paper_bgcolor": "white",
          "plot_bgcolor": "white",
          "polar": {
           "angularaxis": {
            "gridcolor": "#EBF0F8",
            "linecolor": "#EBF0F8",
            "ticks": ""
           },
           "bgcolor": "white",
           "radialaxis": {
            "gridcolor": "#EBF0F8",
            "linecolor": "#EBF0F8",
            "ticks": ""
           }
          },
          "scene": {
           "xaxis": {
            "backgroundcolor": "white",
            "gridcolor": "#DFE8F3",
            "gridwidth": 2,
            "linecolor": "#EBF0F8",
            "showbackground": true,
            "ticks": "",
            "zerolinecolor": "#EBF0F8"
           },
           "yaxis": {
            "backgroundcolor": "white",
            "gridcolor": "#DFE8F3",
            "gridwidth": 2,
            "linecolor": "#EBF0F8",
            "showbackground": true,
            "ticks": "",
            "zerolinecolor": "#EBF0F8"
           },
           "zaxis": {
            "backgroundcolor": "white",
            "gridcolor": "#DFE8F3",
            "gridwidth": 2,
            "linecolor": "#EBF0F8",
            "showbackground": true,
            "ticks": "",
            "zerolinecolor": "#EBF0F8"
           }
          },
          "shapedefaults": {
           "line": {
            "color": "#2a3f5f"
           }
          },
          "ternary": {
           "aaxis": {
            "gridcolor": "#DFE8F3",
            "linecolor": "#A2B1C6",
            "ticks": ""
           },
           "baxis": {
            "gridcolor": "#DFE8F3",
            "linecolor": "#A2B1C6",
            "ticks": ""
           },
           "bgcolor": "white",
           "caxis": {
            "gridcolor": "#DFE8F3",
            "linecolor": "#A2B1C6",
            "ticks": ""
           }
          },
          "title": {
           "x": 0.05
          },
          "xaxis": {
           "automargin": true,
           "gridcolor": "#EBF0F8",
           "linecolor": "#EBF0F8",
           "ticks": "",
           "title": {
            "standoff": 15
           },
           "zerolinecolor": "#EBF0F8",
           "zerolinewidth": 2
          },
          "yaxis": {
           "automargin": true,
           "gridcolor": "#EBF0F8",
           "linecolor": "#EBF0F8",
           "ticks": "",
           "title": {
            "standoff": 15
           },
           "zerolinecolor": "#EBF0F8",
           "zerolinewidth": 2
          }
         }
        },
        "title": {
         "text": "3079 - DVx (ディーブイエックス) | Daily Change: +4.33%"
        },
        "xaxis": {
         "rangeslider": {
          "visible": false
         },
         "title": {
          "text": "Time (Morning Session)"
         }
        },
        "yaxis": {
         "title": {
          "text": "Price (JPY)"
         }
        }
       }
      }
     },
     "metadata": {},
     "output_type": "display_data"
    },
    {
     "data": {
      "application/vnd.plotly.v1+json": {
       "config": {
        "plotlyServerURL": "https://plot.ly"
       },
       "data": [
        {
         "close": {
          "bdata": "AAAAAAA8nkAAAAAAAFSeQAAAAAAAQJ5AAAAAAABMnkAAAAAAAESeQAAAAAAAGJ9AAAAAAABwn0AAAAAAAASfQAAAAAAATJ9AAAAAAAAsn0AAAAAAAASfQAAAAAAAoJ9AAAAAAADon0AAAAAAAOifQAAAAAAAtJ9AAAAAAABAn0AAAAAAADCfQAAAAAAAOJ9AAAAAAAA8n0AAAAAAADCfQAAAAAAAFJ9AAAAAAAAkn0AAAAAAACyfQAAAAAAAXJ9AAAAAAABAn0AAAAAAADifQAAAAAAAPJ9AAAAAAACkn0AAAAAAANCfQAAAAAAAzJ9A",
          "dtype": "f8"
         },
         "high": {
          "bdata": "AAAAAABMnkAAAAAAAGCeQAAAAAAAaJ5AAAAAAABQnkAAAAAAAFCeQAAAAAAALJ9AAAAAAACkn0AAAAAAAGyfQAAAAAAAZJ9AAAAAAABIn0AAAAAAADSfQAAAAAAAyJ9AAAAAAAAAoEAAAAAAAPSfQAAAAAAA8J9AAAAAAAC8n0AAAAAAAGCfQAAAAAAAVJ9AAAAAAABAn0AAAAAAAEifQAAAAAAAMJ9AAAAAAAAkn0AAAAAAADSfQAAAAAAAcJ9AAAAAAABon0AAAAAAAFSfQAAAAAAAPJ9AAAAAAACkn0AAAAAAANCfQAAAAAAAzJ9A",
          "dtype": "f8"
         },
         "low": {
          "bdata": "AAAAAAAcnkAAAAAAADCeQAAAAAAAPJ5AAAAAAABAnkAAAAAAAESeQAAAAAAAQJ5AAAAAAAAIn0AAAAAAAACfQAAAAAAA/J5AAAAAAAAUn0AAAAAAAPieQAAAAAAA6J5AAAAAAACgn0AAAAAAAMifQAAAAAAAkJ9AAAAAAAA0n0AAAAAAACifQAAAAAAAMJ9AAAAAAAAgn0AAAAAAACifQAAAAAAAEJ9AAAAAAAAQn0AAAAAAACCfQAAAAAAAMJ9AAAAAAAA0n0AAAAAAADCfQAAAAAAAMJ9AAAAAAABAn0AAAAAAAJyfQAAAAAAAzJ9A",
          "dtype": "f8"
         },
         "name": "Price",
         "open": {
          "bdata": "AAAAAAA8nkAAAAAAADSeQAAAAAAATJ5AAAAAAABAnkAAAAAAAEieQAAAAAAARJ5AAAAAAAAcn0AAAAAAAGyfQAAAAAAACJ9AAAAAAABIn0AAAAAAACyfQAAAAAAA+J5AAAAAAACgn0AAAAAAAOyfQAAAAAAA6J9AAAAAAAC8n0AAAAAAAESfQAAAAAAAMJ9AAAAAAAA8n0AAAAAAADyfQAAAAAAAMJ9AAAAAAAAUn0AAAAAAACifQAAAAAAAMJ9AAAAAAABcn0AAAAAAAESfQAAAAAAAOJ9AAAAAAABAn0AAAAAAAKCfQAAAAAAAzJ9A",
          "dtype": "f8"
         },
         "type": "candlestick",
         "x": [
          "2025-10-24T09:05:00",
          "2025-10-24T09:10:00",
          "2025-10-24T09:15:00",
          "2025-10-24T09:20:00",
          "2025-10-24T09:25:00",
          "2025-10-24T09:30:00",
          "2025-10-24T09:35:00",
          "2025-10-24T09:40:00",
          "2025-10-24T09:45:00",
          "2025-10-24T09:50:00",
          "2025-10-24T09:55:00",
          "2025-10-24T10:00:00",
          "2025-10-24T10:05:00",
          "2025-10-24T10:10:00",
          "2025-10-24T10:15:00",
          "2025-10-24T10:20:00",
          "2025-10-24T10:25:00",
          "2025-10-24T10:30:00",
          "2025-10-24T10:35:00",
          "2025-10-24T10:40:00",
          "2025-10-24T10:45:00",
          "2025-10-24T10:50:00",
          "2025-10-24T10:55:00",
          "2025-10-24T11:00:00",
          "2025-10-24T11:05:00",
          "2025-10-24T11:10:00",
          "2025-10-24T11:15:00",
          "2025-10-24T11:20:00",
          "2025-10-24T11:25:00",
          "2025-10-24T11:30:00"
         ]
        }
       ],
       "layout": {
        "height": 400,
        "template": {
         "data": {
          "bar": [
           {
            "error_x": {
             "color": "#2a3f5f"
            },
            "error_y": {
             "color": "#2a3f5f"
            },
            "marker": {
             "line": {
              "color": "white",
              "width": 0.5
             },
             "pattern": {
              "fillmode": "overlay",
              "size": 10,
              "solidity": 0.2
             }
            },
            "type": "bar"
           }
          ],
          "barpolar": [
           {
            "marker": {
             "line": {
              "color": "white",
              "width": 0.5
             },
             "pattern": {
              "fillmode": "overlay",
              "size": 10,
              "solidity": 0.2
             }
            },
            "type": "barpolar"
           }
          ],
          "carpet": [
           {
            "aaxis": {
             "endlinecolor": "#2a3f5f",
             "gridcolor": "#C8D4E3",
             "linecolor": "#C8D4E3",
             "minorgridcolor": "#C8D4E3",
             "startlinecolor": "#2a3f5f"
            },
            "baxis": {
             "endlinecolor": "#2a3f5f",
             "gridcolor": "#C8D4E3",
             "linecolor": "#C8D4E3",
             "minorgridcolor": "#C8D4E3",
             "startlinecolor": "#2a3f5f"
            },
            "type": "carpet"
           }
          ],
          "choropleth": [
           {
            "colorbar": {
             "outlinewidth": 0,
             "ticks": ""
            },
            "type": "choropleth"
           }
          ],
          "contour": [
           {
            "colorbar": {
             "outlinewidth": 0,
             "ticks": ""
            },
            "colorscale": [
             [
              0,
              "#0d0887"
             ],
             [
              0.1111111111111111,
              "#46039f"
             ],
             [
              0.2222222222222222,
              "#7201a8"
             ],
             [
              0.3333333333333333,
              "#9c179e"
             ],
             [
              0.4444444444444444,
              "#bd3786"
             ],
             [
              0.5555555555555556,
              "#d8576b"
             ],
             [
              0.6666666666666666,
              "#ed7953"
             ],
             [
              0.7777777777777778,
              "#fb9f3a"
             ],
             [
              0.8888888888888888,
              "#fdca26"
             ],
             [
              1,
              "#f0f921"
             ]
            ],
            "type": "contour"
           }
          ],
          "contourcarpet": [
           {
            "colorbar": {
             "outlinewidth": 0,
             "ticks": ""
            },
            "type": "contourcarpet"
           }
          ],
          "heatmap": [
           {
            "colorbar": {
             "outlinewidth": 0,
             "ticks": ""
            },
            "colorscale": [
             [
              0,
              "#0d0887"
             ],
             [
              0.1111111111111111,
              "#46039f"
             ],
             [
              0.2222222222222222,
              "#7201a8"
             ],
             [
              0.3333333333333333,
              "#9c179e"
             ],
             [
              0.4444444444444444,
              "#bd3786"
             ],
             [
              0.5555555555555556,
              "#d8576b"
             ],
             [
              0.6666666666666666,
              "#ed7953"
             ],
             [
              0.7777777777777778,
              "#fb9f3a"
             ],
             [
              0.8888888888888888,
              "#fdca26"
             ],
             [
              1,
              "#f0f921"
             ]
            ],
            "type": "heatmap"
           }
          ],
          "histogram": [
           {
            "marker": {
             "pattern": {
              "fillmode": "overlay",
              "size": 10,
              "solidity": 0.2
             }
            },
            "type": "histogram"
           }
          ],
          "histogram2d": [
           {
            "colorbar": {
             "outlinewidth": 0,
             "ticks": ""
            },
            "colorscale": [
             [
              0,
              "#0d0887"
             ],
             [
              0.1111111111111111,
              "#46039f"
             ],
             [
              0.2222222222222222,
              "#7201a8"
             ],
             [
              0.3333333333333333,
              "#9c179e"
             ],
             [
              0.4444444444444444,
              "#bd3786"
             ],
             [
              0.5555555555555556,
              "#d8576b"
             ],
             [
              0.6666666666666666,
              "#ed7953"
             ],
             [
              0.7777777777777778,
              "#fb9f3a"
             ],
             [
              0.8888888888888888,
              "#fdca26"
             ],
             [
              1,
              "#f0f921"
             ]
            ],
            "type": "histogram2d"
           }
          ],
          "histogram2dcontour": [
           {
            "colorbar": {
             "outlinewidth": 0,
             "ticks": ""
            },
            "colorscale": [
             [
              0,
              "#0d0887"
             ],
             [
              0.1111111111111111,
              "#46039f"
             ],
             [
              0.2222222222222222,
              "#7201a8"
             ],
             [
              0.3333333333333333,
              "#9c179e"
             ],
             [
              0.4444444444444444,
              "#bd3786"
             ],
             [
              0.5555555555555556,
              "#d8576b"
             ],
             [
              0.6666666666666666,
              "#ed7953"
             ],
             [
              0.7777777777777778,
              "#fb9f3a"
             ],
             [
              0.8888888888888888,
              "#fdca26"
             ],
             [
              1,
              "#f0f921"
             ]
            ],
            "type": "histogram2dcontour"
           }
          ],
          "mesh3d": [
           {
            "colorbar": {
             "outlinewidth": 0,
             "ticks": ""
            },
            "type": "mesh3d"
           }
          ],
          "parcoords": [
           {
            "line": {
             "colorbar": {
              "outlinewidth": 0,
              "ticks": ""
             }
            },
            "type": "parcoords"
           }
          ],
          "pie": [
           {
            "automargin": true,
            "type": "pie"
           }
          ],
          "scatter": [
           {
            "fillpattern": {
             "fillmode": "overlay",
             "size": 10,
             "solidity": 0.2
            },
            "type": "scatter"
           }
          ],
          "scatter3d": [
           {
            "line": {
             "colorbar": {
              "outlinewidth": 0,
              "ticks": ""
             }
            },
            "marker": {
             "colorbar": {
              "outlinewidth": 0,
              "ticks": ""
             }
            },
            "type": "scatter3d"
           }
          ],
          "scattercarpet": [
           {
            "marker": {
             "colorbar": {
              "outlinewidth": 0,
              "ticks": ""
             }
            },
            "type": "scattercarpet"
           }
          ],
          "scattergeo": [
           {
            "marker": {
             "colorbar": {
              "outlinewidth": 0,
              "ticks": ""
             }
            },
            "type": "scattergeo"
           }
          ],
          "scattergl": [
           {
            "marker": {
             "colorbar": {
              "outlinewidth": 0,
              "ticks": ""
             }
            },
            "type": "scattergl"
           }
          ],
          "scattermap": [
           {
            "marker": {
             "colorbar": {
              "outlinewidth": 0,
              "ticks": ""
             }
            },
            "type": "scattermap"
           }
          ],
          "scattermapbox": [
           {
            "marker": {
             "colorbar": {
              "outlinewidth": 0,
              "ticks": ""
             }
            },
            "type": "scattermapbox"
           }
          ],
          "scatterpolar": [
           {
            "marker": {
             "colorbar": {
              "outlinewidth": 0,
              "ticks": ""
             }
            },
            "type": "scatterpolar"
           }
          ],
          "scatterpolargl": [
           {
            "marker": {
             "colorbar": {
              "outlinewidth": 0,
              "ticks": ""
             }
            },
            "type": "scatterpolargl"
           }
          ],
          "scatterternary": [
           {
            "marker": {
             "colorbar": {
              "outlinewidth": 0,
              "ticks": ""
             }
            },
            "type": "scatterternary"
           }
          ],
          "surface": [
           {
            "colorbar": {
             "outlinewidth": 0,
             "ticks": ""
            },
            "colorscale": [
             [
              0,
              "#0d0887"
             ],
             [
              0.1111111111111111,
              "#46039f"
             ],
             [
              0.2222222222222222,
              "#7201a8"
             ],
             [
              0.3333333333333333,
              "#9c179e"
             ],
             [
              0.4444444444444444,
              "#bd3786"
             ],
             [
              0.5555555555555556,
              "#d8576b"
             ],
             [
              0.6666666666666666,
              "#ed7953"
             ],
             [
              0.7777777777777778,
              "#fb9f3a"
             ],
             [
              0.8888888888888888,
              "#fdca26"
             ],
             [
              1,
              "#f0f921"
             ]
            ],
            "type": "surface"
           }
          ],
          "table": [
           {
            "cells": {
             "fill": {
              "color": "#EBF0F8"
             },
             "line": {
              "color": "white"
             }
            },
            "header": {
             "fill": {
              "color": "#C8D4E3"
             },
             "line": {
              "color": "white"
             }
            },
            "type": "table"
           }
          ]
         },
         "layout": {
          "annotationdefaults": {
           "arrowcolor": "#2a3f5f",
           "arrowhead": 0,
           "arrowwidth": 1
          },
          "autotypenumbers": "strict",
          "coloraxis": {
           "colorbar": {
            "outlinewidth": 0,
            "ticks": ""
           }
          },
          "colorscale": {
           "diverging": [
            [
             0,
             "#8e0152"
            ],
            [
             0.1,
             "#c51b7d"
            ],
            [
             0.2,
             "#de77ae"
            ],
            [
             0.3,
             "#f1b6da"
            ],
            [
             0.4,
             "#fde0ef"
            ],
            [
             0.5,
             "#f7f7f7"
            ],
            [
             0.6,
             "#e6f5d0"
            ],
            [
             0.7,
             "#b8e186"
            ],
            [
             0.8,
             "#7fbc41"
            ],
            [
             0.9,
             "#4d9221"
            ],
            [
             1,
             "#276419"
            ]
           ],
           "sequential": [
            [
             0,
             "#0d0887"
            ],
            [
             0.1111111111111111,
             "#46039f"
            ],
            [
             0.2222222222222222,
             "#7201a8"
            ],
            [
             0.3333333333333333,
             "#9c179e"
            ],
            [
             0.4444444444444444,
             "#bd3786"
            ],
            [
             0.5555555555555556,
             "#d8576b"
            ],
            [
             0.6666666666666666,
             "#ed7953"
            ],
            [
             0.7777777777777778,
             "#fb9f3a"
            ],
            [
             0.8888888888888888,
             "#fdca26"
            ],
            [
             1,
             "#f0f921"
            ]
           ],
           "sequentialminus": [
            [
             0,
             "#0d0887"
            ],
            [
             0.1111111111111111,
             "#46039f"
            ],
            [
             0.2222222222222222,
             "#7201a8"
            ],
            [
             0.3333333333333333,
             "#9c179e"
            ],
            [
             0.4444444444444444,
             "#bd3786"
            ],
            [
             0.5555555555555556,
             "#d8576b"
            ],
            [
             0.6666666666666666,
             "#ed7953"
            ],
            [
             0.7777777777777778,
             "#fb9f3a"
            ],
            [
             0.8888888888888888,
             "#fdca26"
            ],
            [
             1,
             "#f0f921"
            ]
           ]
          },
          "colorway": [
           "#636efa",
           "#EF553B",
           "#00cc96",
           "#ab63fa",
           "#FFA15A",
           "#19d3f3",
           "#FF6692",
           "#B6E880",
           "#FF97FF",
           "#FECB52"
          ],
          "font": {
           "color": "#2a3f5f"
          },
          "geo": {
           "bgcolor": "white",
           "lakecolor": "white",
           "landcolor": "white",
           "showlakes": true,
           "showland": true,
           "subunitcolor": "#C8D4E3"
          },
          "hoverlabel": {
           "align": "left"
          },
          "hovermode": "closest",
          "mapbox": {
           "style": "light"
          },
          "paper_bgcolor": "white",
          "plot_bgcolor": "white",
          "polar": {
           "angularaxis": {
            "gridcolor": "#EBF0F8",
            "linecolor": "#EBF0F8",
            "ticks": ""
           },
           "bgcolor": "white",
           "radialaxis": {
            "gridcolor": "#EBF0F8",
            "linecolor": "#EBF0F8",
            "ticks": ""
           }
          },
          "scene": {
           "xaxis": {
            "backgroundcolor": "white",
            "gridcolor": "#DFE8F3",
            "gridwidth": 2,
            "linecolor": "#EBF0F8",
            "showbackground": true,
            "ticks": "",
            "zerolinecolor": "#EBF0F8"
           },
           "yaxis": {
            "backgroundcolor": "white",
            "gridcolor": "#DFE8F3",
            "gridwidth": 2,
            "linecolor": "#EBF0F8",
            "showbackground": true,
            "ticks": "",
            "zerolinecolor": "#EBF0F8"
           },
           "zaxis": {
            "backgroundcolor": "white",
            "gridcolor": "#DFE8F3",
            "gridwidth": 2,
            "linecolor": "#EBF0F8",
            "showbackground": true,
            "ticks": "",
            "zerolinecolor": "#EBF0F8"
           }
          },
          "shapedefaults": {
           "line": {
            "color": "#2a3f5f"
           }
          },
          "ternary": {
           "aaxis": {
            "gridcolor": "#DFE8F3",
            "linecolor": "#A2B1C6",
            "ticks": ""
           },
           "baxis": {
            "gridcolor": "#DFE8F3",
            "linecolor": "#A2B1C6",
            "ticks": ""
           },
           "bgcolor": "white",
           "caxis": {
            "gridcolor": "#DFE8F3",
            "linecolor": "#A2B1C6",
            "ticks": ""
           }
          },
          "title": {
           "x": 0.05
          },
          "xaxis": {
           "automargin": true,
           "gridcolor": "#EBF0F8",
           "linecolor": "#EBF0F8",
           "ticks": "",
           "title": {
            "standoff": 15
           },
           "zerolinecolor": "#EBF0F8",
           "zerolinewidth": 2
          },
          "yaxis": {
           "automargin": true,
           "gridcolor": "#EBF0F8",
           "linecolor": "#EBF0F8",
           "ticks": "",
           "title": {
            "standoff": 15
           },
           "zerolinecolor": "#EBF0F8",
           "zerolinewidth": 2
          }
         }
        },
        "title": {
         "text": "5595 - QPS Kenkyujo (QPS研究所) | Daily Change: +2.38%"
        },
        "xaxis": {
         "rangeslider": {
          "visible": false
         },
         "title": {
          "text": "Time (Morning Session)"
         }
        },
        "yaxis": {
         "title": {
          "text": "Price (JPY)"
         }
        }
       }
      }
     },
     "metadata": {},
     "output_type": "display_data"
    },
    {
     "data": {
      "application/vnd.plotly.v1+json": {
       "config": {
        "plotlyServerURL": "https://plot.ly"
       },
       "data": [
        {
         "close": {
          "bdata": "AAAAAAAIiUAAAAAAABiJQAAAAAAAAIlAAAAAAAD4iEAAAAAAAOCIQAAAAAAA+IhAAAAAAAAYiUAAAAAAAFCJQAAAAAAAaIlAAAAAAACIiUAAAAAAALiJQAAAAAAA2IlAAAAAAADIiUAAAAAAAMCJQAAAAAAAuIlAAAAAAACoiUAAAAAAAIiJQAAAAAAAkIlAAAAAAACAiUAAAAAAAHCJQAAAAAAAYIlAAAAAAABYiUAAAAAAAICJQAAAAAAA0IlAAAAAAADQiUAAAAAAAKiJQAAAAAAAwIlAAAAAAADQiUAAAAAAAPCJQAAAAAAA6IlA",
          "dtype": "f8"
         },
         "high": {
          "bdata": "AAAAAAAoiUAAAAAAADCJQAAAAAAAKIlAAAAAAAAwiUAAAAAAAACJQAAAAAAAAIlAAAAAAAAoiUAAAAAAAGiJQAAAAAAAaIlAAAAAAACQiUAAAAAAAOCJQAAAAAAA+IlAAAAAAADoiUAAAAAAAOCJQAAAAAAA2IlAAAAAAADAiUAAAAAAALiJQAAAAAAAqIlAAAAAAACYiUAAAAAAAICJQAAAAAAAeIlAAAAAAABgiUAAAAAAAICJQAAAAAAA4IlAAAAAAADgiUAAAAAAANiJQAAAAAAAyIlAAAAAAADgiUAAAAAAAACKQAAAAAAA6IlA",
          "dtype": "f8"
         },
         "low": {
          "bdata": "AAAAAADYiEAAAAAAAAiJQAAAAAAAAIlAAAAAAADoiEAAAAAAANCIQAAAAAAA2IhAAAAAAAD4iEAAAAAAABCJQAAAAAAAQIlAAAAAAABYiUAAAAAAAHiJQAAAAAAAqIlAAAAAAAC4iUAAAAAAALCJQAAAAAAAqIlAAAAAAACYiUAAAAAAAIiJQAAAAAAAiIlAAAAAAABoiUAAAAAAAHCJQAAAAAAAWIlAAAAAAABIiUAAAAAAAFiJQAAAAAAAgIlAAAAAAADAiUAAAAAAAKCJQAAAAAAAqIlAAAAAAAC4iUAAAAAAANiJQAAAAAAA6IlA",
          "dtype": "f8"
         },
         "name": "Price",
         "open": {
          "bdata": "AAAAAAAYiUAAAAAAAAiJQAAAAAAAGIlAAAAAAAAAiUAAAAAAAACJQAAAAAAA4IhAAAAAAAAAiUAAAAAAABiJQAAAAAAASIlAAAAAAABwiUAAAAAAAICJQAAAAAAAuIlAAAAAAADYiUAAAAAAAMiJQAAAAAAAwIlAAAAAAAC4iUAAAAAAAKiJQAAAAAAAkIlAAAAAAACQiUAAAAAAAICJQAAAAAAAcIlAAAAAAABgiUAAAAAAAGCJQAAAAAAAgIlAAAAAAADQiUAAAAAAANCJQAAAAAAAqIlAAAAAAADAiUAAAAAAANiJQAAAAAAA6IlA",
          "dtype": "f8"
         },
         "type": "candlestick",
         "x": [
          "2025-10-24T09:05:00",
          "2025-10-24T09:10:00",
          "2025-10-24T09:15:00",
          "2025-10-24T09:20:00",
          "2025-10-24T09:25:00",
          "2025-10-24T09:30:00",
          "2025-10-24T09:35:00",
          "2025-10-24T09:40:00",
          "2025-10-24T09:45:00",
          "2025-10-24T09:50:00",
          "2025-10-24T09:55:00",
          "2025-10-24T10:00:00",
          "2025-10-24T10:05:00",
          "2025-10-24T10:10:00",
          "2025-10-24T10:15:00",
          "2025-10-24T10:20:00",
          "2025-10-24T10:25:00",
          "2025-10-24T10:30:00",
          "2025-10-24T10:35:00",
          "2025-10-24T10:40:00",
          "2025-10-24T10:45:00",
          "2025-10-24T10:50:00",
          "2025-10-24T10:55:00",
          "2025-10-24T11:00:00",
          "2025-10-24T11:05:00",
          "2025-10-24T11:10:00",
          "2025-10-24T11:15:00",
          "2025-10-24T11:20:00",
          "2025-10-24T11:25:00",
          "2025-10-24T11:30:00"
         ]
        }
       ],
       "layout": {
        "height": 400,
        "template": {
         "data": {
          "bar": [
           {
            "error_x": {
             "color": "#2a3f5f"
            },
            "error_y": {
             "color": "#2a3f5f"
            },
            "marker": {
             "line": {
              "color": "white",
              "width": 0.5
             },
             "pattern": {
              "fillmode": "overlay",
              "size": 10,
              "solidity": 0.2
             }
            },
            "type": "bar"
           }
          ],
          "barpolar": [
           {
            "marker": {
             "line": {
              "color": "white",
              "width": 0.5
             },
             "pattern": {
              "fillmode": "overlay",
              "size": 10,
              "solidity": 0.2
             }
            },
            "type": "barpolar"
           }
          ],
          "carpet": [
           {
            "aaxis": {
             "endlinecolor": "#2a3f5f",
             "gridcolor": "#C8D4E3",
             "linecolor": "#C8D4E3",
             "minorgridcolor": "#C8D4E3",
             "startlinecolor": "#2a3f5f"
            },
            "baxis": {
             "endlinecolor": "#2a3f5f",
             "gridcolor": "#C8D4E3",
             "linecolor": "#C8D4E3",
             "minorgridcolor": "#C8D4E3",
             "startlinecolor": "#2a3f5f"
            },
            "type": "carpet"
           }
          ],
          "choropleth": [
           {
            "colorbar": {
             "outlinewidth": 0,
             "ticks": ""
            },
            "type": "choropleth"
           }
          ],
          "contour": [
           {
            "colorbar": {
             "outlinewidth": 0,
             "ticks": ""
            },
            "colorscale": [
             [
              0,
              "#0d0887"
             ],
             [
              0.1111111111111111,
              "#46039f"
             ],
             [
              0.2222222222222222,
              "#7201a8"
             ],
             [
              0.3333333333333333,
              "#9c179e"
             ],
             [
              0.4444444444444444,
              "#bd3786"
             ],
             [
              0.5555555555555556,
              "#d8576b"
             ],
             [
              0.6666666666666666,
              "#ed7953"
             ],
             [
              0.7777777777777778,
              "#fb9f3a"
             ],
             [
              0.8888888888888888,
              "#fdca26"
             ],
             [
              1,
              "#f0f921"
             ]
            ],
            "type": "contour"
           }
          ],
          "contourcarpet": [
           {
            "colorbar": {
             "outlinewidth": 0,
             "ticks": ""
            },
            "type": "contourcarpet"
           }
          ],
          "heatmap": [
           {
            "colorbar": {
             "outlinewidth": 0,
             "ticks": ""
            },
            "colorscale": [
             [
              0,
              "#0d0887"
             ],
             [
              0.1111111111111111,
              "#46039f"
             ],
             [
              0.2222222222222222,
              "#7201a8"
             ],
             [
              0.3333333333333333,
              "#9c179e"
             ],
             [
              0.4444444444444444,
              "#bd3786"
             ],
             [
              0.5555555555555556,
              "#d8576b"
             ],
             [
              0.6666666666666666,
              "#ed7953"
             ],
             [
              0.7777777777777778,
              "#fb9f3a"
             ],
             [
              0.8888888888888888,
              "#fdca26"
             ],
             [
              1,
              "#f0f921"
             ]
            ],
            "type": "heatmap"
           }
          ],
          "histogram": [
           {
            "marker": {
             "pattern": {
              "fillmode": "overlay",
              "size": 10,
              "solidity": 0.2
             }
            },
            "type": "histogram"
           }
          ],
          "histogram2d": [
           {
            "colorbar": {
             "outlinewidth": 0,
             "ticks": ""
            },
            "colorscale": [
             [
              0,
              "#0d0887"
             ],
             [
              0.1111111111111111,
              "#46039f"
             ],
             [
              0.2222222222222222,
              "#7201a8"
             ],
             [
              0.3333333333333333,
              "#9c179e"
             ],
             [
              0.4444444444444444,
              "#bd3786"
             ],
             [
              0.5555555555555556,
              "#d8576b"
             ],
             [
              0.6666666666666666,
              "#ed7953"
             ],
             [
              0.7777777777777778,
              "#fb9f3a"
             ],
             [
              0.8888888888888888,
              "#fdca26"
             ],
             [
              1,
              "#f0f921"
             ]
            ],
            "type": "histogram2d"
           }
          ],
          "histogram2dcontour": [
           {
            "colorbar": {
             "outlinewidth": 0,
             "ticks": ""
            },
            "colorscale": [
             [
              0,
              "#0d0887"
             ],
             [
              0.1111111111111111,
              "#46039f"
             ],
             [
              0.2222222222222222,
              "#7201a8"
             ],
             [
              0.3333333333333333,
              "#9c179e"
             ],
             [
              0.4444444444444444,
              "#bd3786"
             ],
             [
              0.5555555555555556,
              "#d8576b"
             ],
             [
              0.6666666666666666,
              "#ed7953"
             ],
             [
              0.7777777777777778,
              "#fb9f3a"
             ],
             [
              0.8888888888888888,
              "#fdca26"
             ],
             [
              1,
              "#f0f921"
             ]
            ],
            "type": "histogram2dcontour"
           }
          ],
          "mesh3d": [
           {
            "colorbar": {
             "outlinewidth": 0,
             "ticks": ""
            },
            "type": "mesh3d"
           }
          ],
          "parcoords": [
           {
            "line": {
             "colorbar": {
              "outlinewidth": 0,
              "ticks": ""
             }
            },
            "type": "parcoords"
           }
          ],
          "pie": [
           {
            "automargin": true,
            "type": "pie"
           }
          ],
          "scatter": [
           {
            "fillpattern": {
             "fillmode": "overlay",
             "size": 10,
             "solidity": 0.2
            },
            "type": "scatter"
           }
          ],
          "scatter3d": [
           {
            "line": {
             "colorbar": {
              "outlinewidth": 0,
              "ticks": ""
             }
            },
            "marker": {
             "colorbar": {
              "outlinewidth": 0,
              "ticks": ""
             }
            },
            "type": "scatter3d"
           }
          ],
          "scattercarpet": [
           {
            "marker": {
             "colorbar": {
              "outlinewidth": 0,
              "ticks": ""
             }
            },
            "type": "scattercarpet"
           }
          ],
          "scattergeo": [
           {
            "marker": {
             "colorbar": {
              "outlinewidth": 0,
              "ticks": ""
             }
            },
            "type": "scattergeo"
           }
          ],
          "scattergl": [
           {
            "marker": {
             "colorbar": {
              "outlinewidth": 0,
              "ticks": ""
             }
            },
            "type": "scattergl"
           }
          ],
          "scattermap": [
           {
            "marker": {
             "colorbar": {
              "outlinewidth": 0,
              "ticks": ""
             }
            },
            "type": "scattermap"
           }
          ],
          "scattermapbox": [
           {
            "marker": {
             "colorbar": {
              "outlinewidth": 0,
              "ticks": ""
             }
            },
            "type": "scattermapbox"
           }
          ],
          "scatterpolar": [
           {
            "marker": {
             "colorbar": {
              "outlinewidth": 0,
              "ticks": ""
             }
            },
            "type": "scatterpolar"
           }
          ],
          "scatterpolargl": [
           {
            "marker": {
             "colorbar": {
              "outlinewidth": 0,
              "ticks": ""
             }
            },
            "type": "scatterpolargl"
           }
          ],
          "scatterternary": [
           {
            "marker": {
             "colorbar": {
              "outlinewidth": 0,
              "ticks": ""
             }
            },
            "type": "scatterternary"
           }
          ],
          "surface": [
           {
            "colorbar": {
             "outlinewidth": 0,
             "ticks": ""
            },
            "colorscale": [
             [
              0,
              "#0d0887"
             ],
             [
              0.1111111111111111,
              "#46039f"
             ],
             [
              0.2222222222222222,
              "#7201a8"
             ],
             [
              0.3333333333333333,
              "#9c179e"
             ],
             [
              0.4444444444444444,
              "#bd3786"
             ],
             [
              0.5555555555555556,
              "#d8576b"
             ],
             [
              0.6666666666666666,
              "#ed7953"
             ],
             [
              0.7777777777777778,
              "#fb9f3a"
             ],
             [
              0.8888888888888888,
              "#fdca26"
             ],
             [
              1,
              "#f0f921"
             ]
            ],
            "type": "surface"
           }
          ],
          "table": [
           {
            "cells": {
             "fill": {
              "color": "#EBF0F8"
             },
             "line": {
              "color": "white"
             }
            },
            "header": {
             "fill": {
              "color": "#C8D4E3"
             },
             "line": {
              "color": "white"
             }
            },
            "type": "table"
           }
          ]
         },
         "layout": {
          "annotationdefaults": {
           "arrowcolor": "#2a3f5f",
           "arrowhead": 0,
           "arrowwidth": 1
          },
          "autotypenumbers": "strict",
          "coloraxis": {
           "colorbar": {
            "outlinewidth": 0,
            "ticks": ""
           }
          },
          "colorscale": {
           "diverging": [
            [
             0,
             "#8e0152"
            ],
            [
             0.1,
             "#c51b7d"
            ],
            [
             0.2,
             "#de77ae"
            ],
            [
             0.3,
             "#f1b6da"
            ],
            [
             0.4,
             "#fde0ef"
            ],
            [
             0.5,
             "#f7f7f7"
            ],
            [
             0.6,
             "#e6f5d0"
            ],
            [
             0.7,
             "#b8e186"
            ],
            [
             0.8,
             "#7fbc41"
            ],
            [
             0.9,
             "#4d9221"
            ],
            [
             1,
             "#276419"
            ]
           ],
           "sequential": [
            [
             0,
             "#0d0887"
            ],
            [
             0.1111111111111111,
             "#46039f"
            ],
            [
             0.2222222222222222,
             "#7201a8"
            ],
            [
             0.3333333333333333,
             "#9c179e"
            ],
            [
             0.4444444444444444,
             "#bd3786"
            ],
            [
             0.5555555555555556,
             "#d8576b"
            ],
            [
             0.6666666666666666,
             "#ed7953"
            ],
            [
             0.7777777777777778,
             "#fb9f3a"
            ],
            [
             0.8888888888888888,
             "#fdca26"
            ],
            [
             1,
             "#f0f921"
            ]
           ],
           "sequentialminus": [
            [
             0,
             "#0d0887"
            ],
            [
             0.1111111111111111,
             "#46039f"
            ],
            [
             0.2222222222222222,
             "#7201a8"
            ],
            [
             0.3333333333333333,
             "#9c179e"
            ],
            [
             0.4444444444444444,
             "#bd3786"
            ],
            [
             0.5555555555555556,
             "#d8576b"
            ],
            [
             0.6666666666666666,
             "#ed7953"
            ],
            [
             0.7777777777777778,
             "#fb9f3a"
            ],
            [
             0.8888888888888888,
             "#fdca26"
            ],
            [
             1,
             "#f0f921"
            ]
           ]
          },
          "colorway": [
           "#636efa",
           "#EF553B",
           "#00cc96",
           "#ab63fa",
           "#FFA15A",
           "#19d3f3",
           "#FF6692",
           "#B6E880",
           "#FF97FF",
           "#FECB52"
          ],
          "font": {
           "color": "#2a3f5f"
          },
          "geo": {
           "bgcolor": "white",
           "lakecolor": "white",
           "landcolor": "white",
           "showlakes": true,
           "showland": true,
           "subunitcolor": "#C8D4E3"
          },
          "hoverlabel": {
           "align": "left"
          },
          "hovermode": "closest",
          "mapbox": {
           "style": "light"
          },
          "paper_bgcolor": "white",
          "plot_bgcolor": "white",
          "polar": {
           "angularaxis": {
            "gridcolor": "#EBF0F8",
            "linecolor": "#EBF0F8",
            "ticks": ""
           },
           "bgcolor": "white",
           "radialaxis": {
            "gridcolor": "#EBF0F8",
            "linecolor": "#EBF0F8",
            "ticks": ""
           }
          },
          "scene": {
           "xaxis": {
            "backgroundcolor": "white",
            "gridcolor": "#DFE8F3",
            "gridwidth": 2,
            "linecolor": "#EBF0F8",
            "showbackground": true,
            "ticks": "",
            "zerolinecolor": "#EBF0F8"
           },
           "yaxis": {
            "backgroundcolor": "white",
            "gridcolor": "#DFE8F3",
            "gridwidth": 2,
            "linecolor": "#EBF0F8",
            "showbackground": true,
            "ticks": "",
            "zerolinecolor": "#EBF0F8"
           },
           "zaxis": {
            "backgroundcolor": "white",
            "gridcolor": "#DFE8F3",
            "gridwidth": 2,
            "linecolor": "#EBF0F8",
            "showbackground": true,
            "ticks": "",
            "zerolinecolor": "#EBF0F8"
           }
          },
          "shapedefaults": {
           "line": {
            "color": "#2a3f5f"
           }
          },
          "ternary": {
           "aaxis": {
            "gridcolor": "#DFE8F3",
            "linecolor": "#A2B1C6",
            "ticks": ""
           },
           "baxis": {
            "gridcolor": "#DFE8F3",
            "linecolor": "#A2B1C6",
            "ticks": ""
           },
           "bgcolor": "white",
           "caxis": {
            "gridcolor": "#DFE8F3",
            "linecolor": "#A2B1C6",
            "ticks": ""
           }
          },
          "title": {
           "x": 0.05
          },
          "xaxis": {
           "automargin": true,
           "gridcolor": "#EBF0F8",
           "linecolor": "#EBF0F8",
           "ticks": "",
           "title": {
            "standoff": 15
           },
           "zerolinecolor": "#EBF0F8",
           "zerolinewidth": 2
          },
          "yaxis": {
           "automargin": true,
           "gridcolor": "#EBF0F8",
           "linecolor": "#EBF0F8",
           "ticks": "",
           "title": {
            "standoff": 15
           },
           "zerolinecolor": "#EBF0F8",
           "zerolinewidth": 2
          }
         }
        },
        "title": {
         "text": "186A - Astroscale HD (アストロスケールHD) | Daily Change: -0.74%"
        },
        "xaxis": {
         "rangeslider": {
          "visible": false
         },
         "title": {
          "text": "Time (Morning Session)"
         }
        },
        "yaxis": {
         "title": {
          "text": "Price (JPY)"
         }
        }
       }
      }
     },
     "metadata": {},
     "output_type": "display_data"
    },
    {
     "data": {
      "application/vnd.plotly.v1+json": {
       "config": {
        "plotlyServerURL": "https://plot.ly"
       },
       "data": [
        {
         "close": {
          "bdata": "AAAAAAAGoEAAAAAAAOyfQAAAAAAAAKBAAAAAAADsn0AAAAAAANSfQAAAAAAA5J9AAAAAAADsn0AAAAAAAPCfQAAAAAAA8J9AAAAAAAD8n0AAAAAAAAagQAAAAAAAEqBAAAAAAAAEoEAAAAAAAOSfQAAAAAAA/J9AAAAAAAAGoEAAAAAAAAagQAAAAAAA+J9AAAAAAADon0AAAAAAAPifQAAAAAAAAqBAAAAAAAD4n0AAAAAAAPSfQAAAAAAAAqBAAAAAAAAKoEAAAAAAAAqgQAAAAAAADqBAAAAAAAAYoEAAAAAAACKgQAAAAAAAIqBA",
          "dtype": "f8"
         },
         "high": {
          "bdata": "AAAAAAA8oEAAAAAAAA6gQAAAAAAABKBAAAAAAAD8n0AAAAAAAOyfQAAAAAAA7J9AAAAAAAD0n0AAAAAAAACgQAAAAAAA+J9AAAAAAAD8n0AAAAAAAAagQAAAAAAAFqBAAAAAAAAQoEAAAAAAAAygQAAAAAAAAKBAAAAAAAAGoEAAAAAAAAigQAAAAAAACKBAAAAAAAD8n0AAAAAAAPyfQAAAAAAAAqBAAAAAAAACoEAAAAAAAPifQAAAAAAAAqBAAAAAAAAKoEAAAAAAABCgQAAAAAAADqBAAAAAAAAcoEAAAAAAACKgQAAAAAAAIqBA",
          "dtype": "f8"
         },
         "low": {
          "bdata": "AAAAAAAEoEAAAAAAANyfQAAAAAAA7J9AAAAAAADkn0AAAAAAAMSfQAAAAAAA0J9AAAAAAADQn0AAAAAAAOifQAAAAAAA6J9AAAAAAADIn0AAAAAAAPSfQAAAAAAABKBAAAAAAAAEoEAAAAAAAOSfQAAAAAAA5J9AAAAAAAD8n0AAAAAAAAKgQAAAAAAA+J9AAAAAAADkn0AAAAAAAOyfQAAAAAAA8J9AAAAAAADon0AAAAAAAOifQAAAAAAA+J9AAAAAAAD8n0AAAAAAAAqgQAAAAAAACKBAAAAAAAAOoEAAAAAAAB6gQAAAAAAAIqBA",
          "dtype": "f8"
         },
         "name": "Price",
         "open": {
          "bdata": "AAAAAAA8oEAAAAAAAAagQAAAAAAA7J9AAAAAAAD0n0AAAAAAAOyfQAAAAAAA0J9AAAAAAAD0n0AAAAAAAPSfQAAAAAAA+J9AAAAAAADkn0AAAAAAAPifQAAAAAAABqBAAAAAAAAQoEAAAAAAAAygQAAAAAAA7J9AAAAAAAAAoEAAAAAAAASgQAAAAAAACKBAAAAAAAD0n0AAAAAAAPCfQAAAAAAA+J9AAAAAAAD8n0AAAAAAAPCfQAAAAAAA+J9AAAAAAAAAoEAAAAAAAAqgQAAAAAAACKBAAAAAAAAQoEAAAAAAAB6gQAAAAAAAIqBA",
          "dtype": "f8"
         },
         "type": "candlestick",
         "x": [
          "2025-10-24T09:05:00",
          "2025-10-24T09:10:00",
          "2025-10-24T09:15:00",
          "2025-10-24T09:20:00",
          "2025-10-24T09:25:00",
          "2025-10-24T09:30:00",
          "2025-10-24T09:35:00",
          "2025-10-24T09:40:00",
          "2025-10-24T09:45:00",
          "2025-10-24T09:50:00",
          "2025-10-24T09:55:00",
          "2025-10-24T10:00:00",
          "2025-10-24T10:05:00",
          "2025-10-24T10:10:00",
          "2025-10-24T10:15:00",
          "2025-10-24T10:20:00",
          "2025-10-24T10:25:00",
          "2025-10-24T10:30:00",
          "2025-10-24T10:35:00",
          "2025-10-24T10:40:00",
          "2025-10-24T10:45:00",
          "2025-10-24T10:50:00",
          "2025-10-24T10:55:00",
          "2025-10-24T11:00:00",
          "2025-10-24T11:05:00",
          "2025-10-24T11:10:00",
          "2025-10-24T11:15:00",
          "2025-10-24T11:20:00",
          "2025-10-24T11:25:00",
          "2025-10-24T11:30:00"
         ]
        }
       ],
       "layout": {
        "height": 400,
        "template": {
         "data": {
          "bar": [
           {
            "error_x": {
             "color": "#2a3f5f"
            },
            "error_y": {
             "color": "#2a3f5f"
            },
            "marker": {
             "line": {
              "color": "white",
              "width": 0.5
             },
             "pattern": {
              "fillmode": "overlay",
              "size": 10,
              "solidity": 0.2
             }
            },
            "type": "bar"
           }
          ],
          "barpolar": [
           {
            "marker": {
             "line": {
              "color": "white",
              "width": 0.5
             },
             "pattern": {
              "fillmode": "overlay",
              "size": 10,
              "solidity": 0.2
             }
            },
            "type": "barpolar"
           }
          ],
          "carpet": [
           {
            "aaxis": {
             "endlinecolor": "#2a3f5f",
             "gridcolor": "#C8D4E3",
             "linecolor": "#C8D4E3",
             "minorgridcolor": "#C8D4E3",
             "startlinecolor": "#2a3f5f"
            },
            "baxis": {
             "endlinecolor": "#2a3f5f",
             "gridcolor": "#C8D4E3",
             "linecolor": "#C8D4E3",
             "minorgridcolor": "#C8D4E3",
             "startlinecolor": "#2a3f5f"
            },
            "type": "carpet"
           }
          ],
          "choropleth": [
           {
            "colorbar": {
             "outlinewidth": 0,
             "ticks": ""
            },
            "type": "choropleth"
           }
          ],
          "contour": [
           {
            "colorbar": {
             "outlinewidth": 0,
             "ticks": ""
            },
            "colorscale": [
             [
              0,
              "#0d0887"
             ],
             [
              0.1111111111111111,
              "#46039f"
             ],
             [
              0.2222222222222222,
              "#7201a8"
             ],
             [
              0.3333333333333333,
              "#9c179e"
             ],
             [
              0.4444444444444444,
              "#bd3786"
             ],
             [
              0.5555555555555556,
              "#d8576b"
             ],
             [
              0.6666666666666666,
              "#ed7953"
             ],
             [
              0.7777777777777778,
              "#fb9f3a"
             ],
             [
              0.8888888888888888,
              "#fdca26"
             ],
             [
              1,
              "#f0f921"
             ]
            ],
            "type": "contour"
           }
          ],
          "contourcarpet": [
           {
            "colorbar": {
             "outlinewidth": 0,
             "ticks": ""
            },
            "type": "contourcarpet"
           }
          ],
          "heatmap": [
           {
            "colorbar": {
             "outlinewidth": 0,
             "ticks": ""
            },
            "colorscale": [
             [
              0,
              "#0d0887"
             ],
             [
              0.1111111111111111,
              "#46039f"
             ],
             [
              0.2222222222222222,
              "#7201a8"
             ],
             [
              0.3333333333333333,
              "#9c179e"
             ],
             [
              0.4444444444444444,
              "#bd3786"
             ],
             [
              0.5555555555555556,
              "#d8576b"
             ],
             [
              0.6666666666666666,
              "#ed7953"
             ],
             [
              0.7777777777777778,
              "#fb9f3a"
             ],
             [
              0.8888888888888888,
              "#fdca26"
             ],
             [
              1,
              "#f0f921"
             ]
            ],
            "type": "heatmap"
           }
          ],
          "histogram": [
           {
            "marker": {
             "pattern": {
              "fillmode": "overlay",
              "size": 10,
              "solidity": 0.2
             }
            },
            "type": "histogram"
           }
          ],
          "histogram2d": [
           {
            "colorbar": {
             "outlinewidth": 0,
             "ticks": ""
            },
            "colorscale": [
             [
              0,
              "#0d0887"
             ],
             [
              0.1111111111111111,
              "#46039f"
             ],
             [
              0.2222222222222222,
              "#7201a8"
             ],
             [
              0.3333333333333333,
              "#9c179e"
             ],
             [
              0.4444444444444444,
              "#bd3786"
             ],
             [
              0.5555555555555556,
              "#d8576b"
             ],
             [
              0.6666666666666666,
              "#ed7953"
             ],
             [
              0.7777777777777778,
              "#fb9f3a"
             ],
             [
              0.8888888888888888,
              "#fdca26"
             ],
             [
              1,
              "#f0f921"
             ]
            ],
            "type": "histogram2d"
           }
          ],
          "histogram2dcontour": [
           {
            "colorbar": {
             "outlinewidth": 0,
             "ticks": ""
            },
            "colorscale": [
             [
              0,
              "#0d0887"
             ],
             [
              0.1111111111111111,
              "#46039f"
             ],
             [
              0.2222222222222222,
              "#7201a8"
             ],
             [
              0.3333333333333333,
              "#9c179e"
             ],
             [
              0.4444444444444444,
              "#bd3786"
             ],
             [
              0.5555555555555556,
              "#d8576b"
             ],
             [
              0.6666666666666666,
              "#ed7953"
             ],
             [
              0.7777777777777778,
              "#fb9f3a"
             ],
             [
              0.8888888888888888,
              "#fdca26"
             ],
             [
              1,
              "#f0f921"
             ]
            ],
            "type": "histogram2dcontour"
           }
          ],
          "mesh3d": [
           {
            "colorbar": {
             "outlinewidth": 0,
             "ticks": ""
            },
            "type": "mesh3d"
           }
          ],
          "parcoords": [
           {
            "line": {
             "colorbar": {
              "outlinewidth": 0,
              "ticks": ""
             }
            },
            "type": "parcoords"
           }
          ],
          "pie": [
           {
            "automargin": true,
            "type": "pie"
           }
          ],
          "scatter": [
           {
            "fillpattern": {
             "fillmode": "overlay",
             "size": 10,
             "solidity": 0.2
            },
            "type": "scatter"
           }
          ],
          "scatter3d": [
           {
            "line": {
             "colorbar": {
              "outlinewidth": 0,
              "ticks": ""
             }
            },
            "marker": {
             "colorbar": {
              "outlinewidth": 0,
              "ticks": ""
             }
            },
            "type": "scatter3d"
           }
          ],
          "scattercarpet": [
           {
            "marker": {
             "colorbar": {
              "outlinewidth": 0,
              "ticks": ""
             }
            },
            "type": "scattercarpet"
           }
          ],
          "scattergeo": [
           {
            "marker": {
             "colorbar": {
              "outlinewidth": 0,
              "ticks": ""
             }
            },
            "type": "scattergeo"
           }
          ],
          "scattergl": [
           {
            "marker": {
             "colorbar": {
              "outlinewidth": 0,
              "ticks": ""
             }
            },
            "type": "scattergl"
           }
          ],
          "scattermap": [
           {
            "marker": {
             "colorbar": {
              "outlinewidth": 0,
              "ticks": ""
             }
            },
            "type": "scattermap"
           }
          ],
          "scattermapbox": [
           {
            "marker": {
             "colorbar": {
              "outlinewidth": 0,
              "ticks": ""
             }
            },
            "type": "scattermapbox"
           }
          ],
          "scatterpolar": [
           {
            "marker": {
             "colorbar": {
              "outlinewidth": 0,
              "ticks": ""
             }
            },
            "type": "scatterpolar"
           }
          ],
          "scatterpolargl": [
           {
            "marker": {
             "colorbar": {
              "outlinewidth": 0,
              "ticks": ""
             }
            },
            "type": "scatterpolargl"
           }
          ],
          "scatterternary": [
           {
            "marker": {
             "colorbar": {
              "outlinewidth": 0,
              "ticks": ""
             }
            },
            "type": "scatterternary"
           }
          ],
          "surface": [
           {
            "colorbar": {
             "outlinewidth": 0,
             "ticks": ""
            },
            "colorscale": [
             [
              0,
              "#0d0887"
             ],
             [
              0.1111111111111111,
              "#46039f"
             ],
             [
              0.2222222222222222,
              "#7201a8"
             ],
             [
              0.3333333333333333,
              "#9c179e"
             ],
             [
              0.4444444444444444,
              "#bd3786"
             ],
             [
              0.5555555555555556,
              "#d8576b"
             ],
             [
              0.6666666666666666,
              "#ed7953"
             ],
             [
              0.7777777777777778,
              "#fb9f3a"
             ],
             [
              0.8888888888888888,
              "#fdca26"
             ],
             [
              1,
              "#f0f921"
             ]
            ],
            "type": "surface"
           }
          ],
          "table": [
           {
            "cells": {
             "fill": {
              "color": "#EBF0F8"
             },
             "line": {
              "color": "white"
             }
            },
            "header": {
             "fill": {
              "color": "#C8D4E3"
             },
             "line": {
              "color": "white"
             }
            },
            "type": "table"
           }
          ]
         },
         "layout": {
          "annotationdefaults": {
           "arrowcolor": "#2a3f5f",
           "arrowhead": 0,
           "arrowwidth": 1
          },
          "autotypenumbers": "strict",
          "coloraxis": {
           "colorbar": {
            "outlinewidth": 0,
            "ticks": ""
           }
          },
          "colorscale": {
           "diverging": [
            [
             0,
             "#8e0152"
            ],
            [
             0.1,
             "#c51b7d"
            ],
            [
             0.2,
             "#de77ae"
            ],
            [
             0.3,
             "#f1b6da"
            ],
            [
             0.4,
             "#fde0ef"
            ],
            [
             0.5,
             "#f7f7f7"
            ],
            [
             0.6,
             "#e6f5d0"
            ],
            [
             0.7,
             "#b8e186"
            ],
            [
             0.8,
             "#7fbc41"
            ],
            [
             0.9,
             "#4d9221"
            ],
            [
             1,
             "#276419"
            ]
           ],
           "sequential": [
            [
             0,
             "#0d0887"
            ],
            [
             0.1111111111111111,
             "#46039f"
            ],
            [
             0.2222222222222222,
             "#7201a8"
            ],
            [
             0.3333333333333333,
             "#9c179e"
            ],
            [
             0.4444444444444444,
             "#bd3786"
            ],
            [
             0.5555555555555556,
             "#d8576b"
            ],
            [
             0.6666666666666666,
             "#ed7953"
            ],
            [
             0.7777777777777778,
             "#fb9f3a"
            ],
            [
             0.8888888888888888,
             "#fdca26"
            ],
            [
             1,
             "#f0f921"
            ]
           ],
           "sequentialminus": [
            [
             0,
             "#0d0887"
            ],
            [
             0.1111111111111111,
             "#46039f"
            ],
            [
             0.2222222222222222,
             "#7201a8"
            ],
            [
             0.3333333333333333,
             "#9c179e"
            ],
            [
             0.4444444444444444,
             "#bd3786"
            ],
            [
             0.5555555555555556,
             "#d8576b"
            ],
            [
             0.6666666666666666,
             "#ed7953"
            ],
            [
             0.7777777777777778,
             "#fb9f3a"
            ],
            [
             0.8888888888888888,
             "#fdca26"
            ],
            [
             1,
             "#f0f921"
            ]
           ]
          },
          "colorway": [
           "#636efa",
           "#EF553B",
           "#00cc96",
           "#ab63fa",
           "#FFA15A",
           "#19d3f3",
           "#FF6692",
           "#B6E880",
           "#FF97FF",
           "#FECB52"
          ],
          "font": {
           "color": "#2a3f5f"
          },
          "geo": {
           "bgcolor": "white",
           "lakecolor": "white",
           "landcolor": "white",
           "showlakes": true,
           "showland": true,
           "subunitcolor": "#C8D4E3"
          },
          "hoverlabel": {
           "align": "left"
          },
          "hovermode": "closest",
          "mapbox": {
           "style": "light"
          },
          "paper_bgcolor": "white",
          "plot_bgcolor": "white",
          "polar": {
           "angularaxis": {
            "gridcolor": "#EBF0F8",
            "linecolor": "#EBF0F8",
            "ticks": ""
           },
           "bgcolor": "white",
           "radialaxis": {
            "gridcolor": "#EBF0F8",
            "linecolor": "#EBF0F8",
            "ticks": ""
           }
          },
          "scene": {
           "xaxis": {
            "backgroundcolor": "white",
            "gridcolor": "#DFE8F3",
            "gridwidth": 2,
            "linecolor": "#EBF0F8",
            "showbackground": true,
            "ticks": "",
            "zerolinecolor": "#EBF0F8"
           },
           "yaxis": {
            "backgroundcolor": "white",
            "gridcolor": "#DFE8F3",
            "gridwidth": 2,
            "linecolor": "#EBF0F8",
            "showbackground": true,
            "ticks": "",
            "zerolinecolor": "#EBF0F8"
           },
           "zaxis": {
            "backgroundcolor": "white",
            "gridcolor": "#DFE8F3",
            "gridwidth": 2,
            "linecolor": "#EBF0F8",
            "showbackground": true,
            "ticks": "",
            "zerolinecolor": "#EBF0F8"
           }
          },
          "shapedefaults": {
           "line": {
            "color": "#2a3f5f"
           }
          },
          "ternary": {
           "aaxis": {
            "gridcolor": "#DFE8F3",
            "linecolor": "#A2B1C6",
            "ticks": ""
           },
           "baxis": {
            "gridcolor": "#DFE8F3",
            "linecolor": "#A2B1C6",
            "ticks": ""
           },
           "bgcolor": "white",
           "caxis": {
            "gridcolor": "#DFE8F3",
            "linecolor": "#A2B1C6",
            "ticks": ""
           }
          },
          "title": {
           "x": 0.05
          },
          "xaxis": {
           "automargin": true,
           "gridcolor": "#EBF0F8",
           "linecolor": "#EBF0F8",
           "ticks": "",
           "title": {
            "standoff": 15
           },
           "zerolinecolor": "#EBF0F8",
           "zerolinewidth": 2
          },
          "yaxis": {
           "automargin": true,
           "gridcolor": "#EBF0F8",
           "linecolor": "#EBF0F8",
           "ticks": "",
           "title": {
            "standoff": 15
           },
           "zerolinecolor": "#EBF0F8",
           "zerolinewidth": 2
          }
         }
        },
        "title": {
         "text": "6264 - Iwaki (イワキ) | Daily Change: -2.21%"
        },
        "xaxis": {
         "rangeslider": {
          "visible": false
         },
         "title": {
          "text": "Time (Morning Session)"
         }
        },
        "yaxis": {
         "title": {
          "text": "Price (JPY)"
         }
        }
       }
      }
     },
     "metadata": {},
     "output_type": "display_data"
    },
    {
     "data": {
      "application/vnd.plotly.v1+json": {
       "config": {
        "plotlyServerURL": "https://plot.ly"
       },
       "data": [
        {
         "close": {
          "bdata": "AAAAAADgjUAAAAAAAMiNQAAAAAAA6I1AAAAAAAAQjkAAAAAAAACOQAAAAAAACI5AAAAAAAAwjkAAAAAAAEiOQAAAAAAAGI5AAAAAAAAAjkAAAAAAANCNQAAAAAAAwI1AAAAAAADIjUAAAAAAALCNQAAAAAAAoI1AAAAAAABojUAAAAAAAIiNQAAAAAAAeI1AAAAAAABYjUAAAAAAAFCNQAAAAAAAaI1AAAAAAAB4jUAAAAAAAICNQAAAAAAAcI1AAAAAAAB4jUAAAAAAAIiNQAAAAAAAgI1AAAAAAACAjUAAAAAAAHiNQAAAAAAAcI1A",
          "dtype": "f8"
         },
         "high": {
          "bdata": "AAAAAABgjkAAAAAAABCOQAAAAAAA+I1AAAAAAAAgjkAAAAAAABCOQAAAAAAAKI5AAAAAAAAwjkAAAAAAAFCOQAAAAAAAQI5AAAAAAAAYjkAAAAAAAACOQAAAAAAA+I1AAAAAAADojUAAAAAAANiNQAAAAAAAwI1AAAAAAACojUAAAAAAAJCNQAAAAAAAkI1AAAAAAAB4jUAAAAAAAGCNQAAAAAAAcI1AAAAAAACIjUAAAAAAAICNQAAAAAAAkI1AAAAAAACAjUAAAAAAAJCNQAAAAAAAkI1AAAAAAACQjUAAAAAAAJCNQAAAAAAAcI1A",
          "dtype": "f8"
         },
         "low": {
          "bdata": "AAAAAADIjUAAAAAAAMCNQAAAAAAAsI1AAAAAAADIjUAAAAAAAOCNQAAAAAAA+I1AAAAAAAAAjkAAAAAAACCOQAAAAAAAEI5AAAAAAADojUAAAAAAANCNQAAAAAAAwI1AAAAAAADAjUAAAAAAALCNQAAAAAAAmI1AAAAAAABgjUAAAAAAAGiNQAAAAAAAaI1AAAAAAABAjUAAAAAAAECNQAAAAAAAOI1AAAAAAABojUAAAAAAAHCNQAAAAAAAYI1AAAAAAABojUAAAAAAAHiNQAAAAAAAgI1AAAAAAACAjUAAAAAAAHiNQAAAAAAAcI1A",
          "dtype": "f8"
         },
         "name": "Price",
         "open": {
          "bdata": "AAAAAABQjkAAAAAAAOiNQAAAAAAA0I1AAAAAAADgjUAAAAAAAAiOQAAAAAAAAI5AAAAAAAAIjkAAAAAAADCOQAAAAAAAQI5AAAAAAAAYjkAAAAAAAPiNQAAAAAAA0I1AAAAAAADAjUAAAAAAANiNQAAAAAAAsI1AAAAAAACojUAAAAAAAGiNQAAAAAAAiI1AAAAAAABwjUAAAAAAAGCNQAAAAAAASI1AAAAAAABwjUAAAAAAAHiNQAAAAAAAiI1AAAAAAABwjUAAAAAAAHiNQAAAAAAAiI1AAAAAAACAjUAAAAAAAIiNQAAAAAAAcI1A",
          "dtype": "f8"
         },
         "type": "candlestick",
         "x": [
          "2025-10-24T09:05:00",
          "2025-10-24T09:10:00",
          "2025-10-24T09:15:00",
          "2025-10-24T09:20:00",
          "2025-10-24T09:25:00",
          "2025-10-24T09:30:00",
          "2025-10-24T09:35:00",
          "2025-10-24T09:40:00",
          "2025-10-24T09:45:00",
          "2025-10-24T09:50:00",
          "2025-10-24T09:55:00",
          "2025-10-24T10:00:00",
          "2025-10-24T10:05:00",
          "2025-10-24T10:10:00",
          "2025-10-24T10:15:00",
          "2025-10-24T10:20:00",
          "2025-10-24T10:25:00",
          "2025-10-24T10:30:00",
          "2025-10-24T10:35:00",
          "2025-10-24T10:40:00",
          "2025-10-24T10:45:00",
          "2025-10-24T10:50:00",
          "2025-10-24T10:55:00",
          "2025-10-24T11:00:00",
          "2025-10-24T11:05:00",
          "2025-10-24T11:10:00",
          "2025-10-24T11:15:00",
          "2025-10-24T11:20:00",
          "2025-10-24T11:25:00",
          "2025-10-24T11:30:00"
         ]
        }
       ],
       "layout": {
        "height": 400,
        "template": {
         "data": {
          "bar": [
           {
            "error_x": {
             "color": "#2a3f5f"
            },
            "error_y": {
             "color": "#2a3f5f"
            },
            "marker": {
             "line": {
              "color": "white",
              "width": 0.5
             },
             "pattern": {
              "fillmode": "overlay",
              "size": 10,
              "solidity": 0.2
             }
            },
            "type": "bar"
           }
          ],
          "barpolar": [
           {
            "marker": {
             "line": {
              "color": "white",
              "width": 0.5
             },
             "pattern": {
              "fillmode": "overlay",
              "size": 10,
              "solidity": 0.2
             }
            },
            "type": "barpolar"
           }
          ],
          "carpet": [
           {
            "aaxis": {
             "endlinecolor": "#2a3f5f",
             "gridcolor": "#C8D4E3",
             "linecolor": "#C8D4E3",
             "minorgridcolor": "#C8D4E3",
             "startlinecolor": "#2a3f5f"
            },
            "baxis": {
             "endlinecolor": "#2a3f5f",
             "gridcolor": "#C8D4E3",
             "linecolor": "#C8D4E3",
             "minorgridcolor": "#C8D4E3",
             "startlinecolor": "#2a3f5f"
            },
            "type": "carpet"
           }
          ],
          "choropleth": [
           {
            "colorbar": {
             "outlinewidth": 0,
             "ticks": ""
            },
            "type": "choropleth"
           }
          ],
          "contour": [
           {
            "colorbar": {
             "outlinewidth": 0,
             "ticks": ""
            },
            "colorscale": [
             [
              0,
              "#0d0887"
             ],
             [
              0.1111111111111111,
              "#46039f"
             ],
             [
              0.2222222222222222,
              "#7201a8"
             ],
             [
              0.3333333333333333,
              "#9c179e"
             ],
             [
              0.4444444444444444,
              "#bd3786"
             ],
             [
              0.5555555555555556,
              "#d8576b"
             ],
             [
              0.6666666666666666,
              "#ed7953"
             ],
             [
              0.7777777777777778,
              "#fb9f3a"
             ],
             [
              0.8888888888888888,
              "#fdca26"
             ],
             [
              1,
              "#f0f921"
             ]
            ],
            "type": "contour"
           }
          ],
          "contourcarpet": [
           {
            "colorbar": {
             "outlinewidth": 0,
             "ticks": ""
            },
            "type": "contourcarpet"
           }
          ],
          "heatmap": [
           {
            "colorbar": {
             "outlinewidth": 0,
             "ticks": ""
            },
            "colorscale": [
             [
              0,
              "#0d0887"
             ],
             [
              0.1111111111111111,
              "#46039f"
             ],
             [
              0.2222222222222222,
              "#7201a8"
             ],
             [
              0.3333333333333333,
              "#9c179e"
             ],
             [
              0.4444444444444444,
              "#bd3786"
             ],
             [
              0.5555555555555556,
              "#d8576b"
             ],
             [
              0.6666666666666666,
              "#ed7953"
             ],
             [
              0.7777777777777778,
              "#fb9f3a"
             ],
             [
              0.8888888888888888,
              "#fdca26"
             ],
             [
              1,
              "#f0f921"
             ]
            ],
            "type": "heatmap"
           }
          ],
          "histogram": [
           {
            "marker": {
             "pattern": {
              "fillmode": "overlay",
              "size": 10,
              "solidity": 0.2
             }
            },
            "type": "histogram"
           }
          ],
          "histogram2d": [
           {
            "colorbar": {
             "outlinewidth": 0,
             "ticks": ""
            },
            "colorscale": [
             [
              0,
              "#0d0887"
             ],
             [
              0.1111111111111111,
              "#46039f"
             ],
             [
              0.2222222222222222,
              "#7201a8"
             ],
             [
              0.3333333333333333,
              "#9c179e"
             ],
             [
              0.4444444444444444,
              "#bd3786"
             ],
             [
              0.5555555555555556,
              "#d8576b"
             ],
             [
              0.6666666666666666,
              "#ed7953"
             ],
             [
              0.7777777777777778,
              "#fb9f3a"
             ],
             [
              0.8888888888888888,
              "#fdca26"
             ],
             [
              1,
              "#f0f921"
             ]
            ],
            "type": "histogram2d"
           }
          ],
          "histogram2dcontour": [
           {
            "colorbar": {
             "outlinewidth": 0,
             "ticks": ""
            },
            "colorscale": [
             [
              0,
              "#0d0887"
             ],
             [
              0.1111111111111111,
              "#46039f"
             ],
             [
              0.2222222222222222,
              "#7201a8"
             ],
             [
              0.3333333333333333,
              "#9c179e"
             ],
             [
              0.4444444444444444,
              "#bd3786"
             ],
             [
              0.5555555555555556,
              "#d8576b"
             ],
             [
              0.6666666666666666,
              "#ed7953"
             ],
             [
              0.7777777777777778,
              "#fb9f3a"
             ],
             [
              0.8888888888888888,
              "#fdca26"
             ],
             [
              1,
              "#f0f921"
             ]
            ],
            "type": "histogram2dcontour"
           }
          ],
          "mesh3d": [
           {
            "colorbar": {
             "outlinewidth": 0,
             "ticks": ""
            },
            "type": "mesh3d"
           }
          ],
          "parcoords": [
           {
            "line": {
             "colorbar": {
              "outlinewidth": 0,
              "ticks": ""
             }
            },
            "type": "parcoords"
           }
          ],
          "pie": [
           {
            "automargin": true,
            "type": "pie"
           }
          ],
          "scatter": [
           {
            "fillpattern": {
             "fillmode": "overlay",
             "size": 10,
             "solidity": 0.2
            },
            "type": "scatter"
           }
          ],
          "scatter3d": [
           {
            "line": {
             "colorbar": {
              "outlinewidth": 0,
              "ticks": ""
             }
            },
            "marker": {
             "colorbar": {
              "outlinewidth": 0,
              "ticks": ""
             }
            },
            "type": "scatter3d"
           }
          ],
          "scattercarpet": [
           {
            "marker": {
             "colorbar": {
              "outlinewidth": 0,
              "ticks": ""
             }
            },
            "type": "scattercarpet"
           }
          ],
          "scattergeo": [
           {
            "marker": {
             "colorbar": {
              "outlinewidth": 0,
              "ticks": ""
             }
            },
            "type": "scattergeo"
           }
          ],
          "scattergl": [
           {
            "marker": {
             "colorbar": {
              "outlinewidth": 0,
              "ticks": ""
             }
            },
            "type": "scattergl"
           }
          ],
          "scattermap": [
           {
            "marker": {
             "colorbar": {
              "outlinewidth": 0,
              "ticks": ""
             }
            },
            "type": "scattermap"
           }
          ],
          "scattermapbox": [
           {
            "marker": {
             "colorbar": {
              "outlinewidth": 0,
              "ticks": ""
             }
            },
            "type": "scattermapbox"
           }
          ],
          "scatterpolar": [
           {
            "marker": {
             "colorbar": {
              "outlinewidth": 0,
              "ticks": ""
             }
            },
            "type": "scatterpolar"
           }
          ],
          "scatterpolargl": [
           {
            "marker": {
             "colorbar": {
              "outlinewidth": 0,
              "ticks": ""
             }
            },
            "type": "scatterpolargl"
           }
          ],
          "scatterternary": [
           {
            "marker": {
             "colorbar": {
              "outlinewidth": 0,
              "ticks": ""
             }
            },
            "type": "scatterternary"
           }
          ],
          "surface": [
           {
            "colorbar": {
             "outlinewidth": 0,
             "ticks": ""
            },
            "colorscale": [
             [
              0,
              "#0d0887"
             ],
             [
              0.1111111111111111,
              "#46039f"
             ],
             [
              0.2222222222222222,
              "#7201a8"
             ],
             [
              0.3333333333333333,
              "#9c179e"
             ],
             [
              0.4444444444444444,
              "#bd3786"
             ],
             [
              0.5555555555555556,
              "#d8576b"
             ],
             [
              0.6666666666666666,
              "#ed7953"
             ],
             [
              0.7777777777777778,
              "#fb9f3a"
             ],
             [
              0.8888888888888888,
              "#fdca26"
             ],
             [
              1,
              "#f0f921"
             ]
            ],
            "type": "surface"
           }
          ],
          "table": [
           {
            "cells": {
             "fill": {
              "color": "#EBF0F8"
             },
             "line": {
              "color": "white"
             }
            },
            "header": {
             "fill": {
              "color": "#C8D4E3"
             },
             "line": {
              "color": "white"
             }
            },
            "type": "table"
           }
          ]
         },
         "layout": {
          "annotationdefaults": {
           "arrowcolor": "#2a3f5f",
           "arrowhead": 0,
           "arrowwidth": 1
          },
          "autotypenumbers": "strict",
          "coloraxis": {
           "colorbar": {
            "outlinewidth": 0,
            "ticks": ""
           }
          },
          "colorscale": {
           "diverging": [
            [
             0,
             "#8e0152"
            ],
            [
             0.1,
             "#c51b7d"
            ],
            [
             0.2,
             "#de77ae"
            ],
            [
             0.3,
             "#f1b6da"
            ],
            [
             0.4,
             "#fde0ef"
            ],
            [
             0.5,
             "#f7f7f7"
            ],
            [
             0.6,
             "#e6f5d0"
            ],
            [
             0.7,
             "#b8e186"
            ],
            [
             0.8,
             "#7fbc41"
            ],
            [
             0.9,
             "#4d9221"
            ],
            [
             1,
             "#276419"
            ]
           ],
           "sequential": [
            [
             0,
             "#0d0887"
            ],
            [
             0.1111111111111111,
             "#46039f"
            ],
            [
             0.2222222222222222,
             "#7201a8"
            ],
            [
             0.3333333333333333,
             "#9c179e"
            ],
            [
             0.4444444444444444,
             "#bd3786"
            ],
            [
             0.5555555555555556,
             "#d8576b"
            ],
            [
             0.6666666666666666,
             "#ed7953"
            ],
            [
             0.7777777777777778,
             "#fb9f3a"
            ],
            [
             0.8888888888888888,
             "#fdca26"
            ],
            [
             1,
             "#f0f921"
            ]
           ],
           "sequentialminus": [
            [
             0,
             "#0d0887"
            ],
            [
             0.1111111111111111,
             "#46039f"
            ],
            [
             0.2222222222222222,
             "#7201a8"
            ],
            [
             0.3333333333333333,
             "#9c179e"
            ],
            [
             0.4444444444444444,
             "#bd3786"
            ],
            [
             0.5555555555555556,
             "#d8576b"
            ],
            [
             0.6666666666666666,
             "#ed7953"
            ],
            [
             0.7777777777777778,
             "#fb9f3a"
            ],
            [
             0.8888888888888888,
             "#fdca26"
            ],
            [
             1,
             "#f0f921"
            ]
           ]
          },
          "colorway": [
           "#636efa",
           "#EF553B",
           "#00cc96",
           "#ab63fa",
           "#FFA15A",
           "#19d3f3",
           "#FF6692",
           "#B6E880",
           "#FF97FF",
           "#FECB52"
          ],
          "font": {
           "color": "#2a3f5f"
          },
          "geo": {
           "bgcolor": "white",
           "lakecolor": "white",
           "landcolor": "white",
           "showlakes": true,
           "showland": true,
           "subunitcolor": "#C8D4E3"
          },
          "hoverlabel": {
           "align": "left"
          },
          "hovermode": "closest",
          "mapbox": {
           "style": "light"
          },
          "paper_bgcolor": "white",
          "plot_bgcolor": "white",
          "polar": {
           "angularaxis": {
            "gridcolor": "#EBF0F8",
            "linecolor": "#EBF0F8",
            "ticks": ""
           },
           "bgcolor": "white",
           "radialaxis": {
            "gridcolor": "#EBF0F8",
            "linecolor": "#EBF0F8",
            "ticks": ""
           }
          },
          "scene": {
           "xaxis": {
            "backgroundcolor": "white",
            "gridcolor": "#DFE8F3",
            "gridwidth": 2,
            "linecolor": "#EBF0F8",
            "showbackground": true,
            "ticks": "",
            "zerolinecolor": "#EBF0F8"
           },
           "yaxis": {
            "backgroundcolor": "white",
            "gridcolor": "#DFE8F3",
            "gridwidth": 2,
            "linecolor": "#EBF0F8",
            "showbackground": true,
            "ticks": "",
            "zerolinecolor": "#EBF0F8"
           },
           "zaxis": {
            "backgroundcolor": "white",
            "gridcolor": "#DFE8F3",
            "gridwidth": 2,
            "linecolor": "#EBF0F8",
            "showbackground": true,
            "ticks": "",
            "zerolinecolor": "#EBF0F8"
           }
          },
          "shapedefaults": {
           "line": {
            "color": "#2a3f5f"
           }
          },
          "ternary": {
           "aaxis": {
            "gridcolor": "#DFE8F3",
            "linecolor": "#A2B1C6",
            "ticks": ""
           },
           "baxis": {
            "gridcolor": "#DFE8F3",
            "linecolor": "#A2B1C6",
            "ticks": ""
           },
           "bgcolor": "white",
           "caxis": {
            "gridcolor": "#DFE8F3",
            "linecolor": "#A2B1C6",
            "ticks": ""
           }
          },
          "title": {
           "x": 0.05
          },
          "xaxis": {
           "automargin": true,
           "gridcolor": "#EBF0F8",
           "linecolor": "#EBF0F8",
           "ticks": "",
           "title": {
            "standoff": 15
           },
           "zerolinecolor": "#EBF0F8",
           "zerolinewidth": 2
          },
          "yaxis": {
           "automargin": true,
           "gridcolor": "#EBF0F8",
           "linecolor": "#EBF0F8",
           "ticks": "",
           "title": {
            "standoff": 15
           },
           "zerolinecolor": "#EBF0F8",
           "zerolinewidth": 2
          }
         }
        },
        "title": {
         "text": "2158 - FRONTEO (FRONTEO) | Daily Change: -5.48%"
        },
        "xaxis": {
         "rangeslider": {
          "visible": false
         },
         "title": {
          "text": "Time (Morning Session)"
         }
        },
        "yaxis": {
         "title": {
          "text": "Price (JPY)"
         }
        }
       }
      }
     },
     "metadata": {},
     "output_type": "display_data"
    }
   ],
   "source": [
    "# 上位3銘柄と下位3銘柄の5分足チャートを表示\n",
    "df_sorted_by_change = df_valid.sort_values('change_pct', ascending=False)\n",
    "top_3 = df_sorted_by_change.head(3)['ticker'].tolist()\n",
    "bottom_3 = df_sorted_by_change.tail(3)['ticker'].tolist()\n",
    "selected_tickers = top_3 + bottom_3\n",
    "\n",
    "for ticker_code in selected_tickers:\n",
    "    if ticker_code in intraday_data:\n",
    "        data_5m = intraday_data[ticker_code]['data']\n",
    "        name_en = intraday_data[ticker_code]['name_en']\n",
    "        name_jp = intraday_data[ticker_code]['name_jp']\n",
    "        \n",
    "        # 日次データから変化率を取得\n",
    "        daily_change = df_results[df_results['ticker'] == ticker_code]['change_pct'].values[0]\n",
    "        \n",
    "        fig = go.Figure()\n",
    "        \n",
    "        # ローソク足チャート\n",
    "        fig.add_trace(go.Candlestick(\n",
    "            x=data_5m.index,\n",
    "            open=data_5m['Open'],\n",
    "            high=data_5m['High'],\n",
    "            low=data_5m['Low'],\n",
    "            close=data_5m['Close'],\n",
    "            name='Price'\n",
    "        ))\n",
    "        \n",
    "        fig.update_layout(\n",
    "            title=f'{ticker_code} - {name_en} ({name_jp}) | Daily Change: {daily_change:+.2f}%',\n",
    "            xaxis_title='Time (Morning Session)',\n",
    "            yaxis_title='Price (JPY)',\n",
    "            height=400,\n",
    "            template='plotly_white',\n",
    "            xaxis_rangeslider_visible=False\n",
    "        )\n",
    "        \n",
    "        fig.show()\n",
    "    else:\n",
    "        print(f\"No 5m data for {ticker_code}\")"
   ]
  },
  {
   "cell_type": "markdown",
   "metadata": {},
   "source": [
    "## 8. インタラクティブテーブル"
   ]
  },
  {
   "cell_type": "code",
   "execution_count": 9,
   "metadata": {
    "execution": {
     "iopub.execute_input": "2025-10-25T16:12:25.787898Z",
     "iopub.status.busy": "2025-10-25T16:12:25.787825Z",
     "iopub.status.idle": "2025-10-25T16:12:25.794069Z",
     "shell.execute_reply": "2025-10-25T16:12:25.793901Z"
    }
   },
   "outputs": [
    {
     "data": {
      "application/vnd.plotly.v1+json": {
       "config": {
        "plotlyServerURL": "https://plot.ly"
       },
       "data": [
        {
         "cells": {
          "align": "left",
          "fill": {
           "color": "white"
          },
          "font": {
           "size": 11
          },
          "values": [
           [
            "9348",
            "3929",
            "5595",
            "6237",
            "6264",
            "186A",
            "2459",
            "3079",
            "3664",
            "2158",
            "3769",
            "4398"
           ],
           [
            "ispace",
            "Synspective",
            "QPS Kenkyujo",
            "West",
            "Iwaki",
            "Astroscale HD",
            "Aun Consulting",
            "DVx",
            "Mobcast HD",
            "FRONTEO",
            "RANDIX",
            "IT Strategy"
           ],
           [
            "ispace",
            "Synspective",
            "QPS研究所",
            "ウエスト",
            "イワキ",
            "アストロスケールHD",
            "アウンコンサルティング",
            "ディーブイエックス",
            "モブキャストHD",
            "FRONTEO",
            "ランディックス",
            "情報戦略テクノロジー"
           ],
           [
            "@kabuchenko",
            "@kaikai2120621",
            "None",
            "@kabu777b",
            "None",
            "@daykabu2021",
            "@jestryoR",
            "None",
            "None",
            "@tesuta001",
            "None",
            "None"
           ],
           [
            "High",
            "High",
            "Med",
            "High",
            "Med",
            "High",
            "Med",
            "Low",
            "Med",
            "Low",
            "Med",
            "Low"
           ],
           [
            0.85,
            0.82,
            0.7,
            0.88,
            0.78,
            0.75,
            0.8,
            0.72,
            0.7,
            0.76,
            0.74,
            0.68
           ],
           [
            478,
            258,
            1935,
            2627,
            2122,
            811,
            252,
            1316,
            55,
            1004,
            8448,
            1398
           ],
           [
            478,
            259,
            1981,
            2636,
            2075,
            805,
            324,
            1373,
            56,
            949,
            8555,
            1422
           ],
           [
            0,
            0.3875968992248062,
            2.3772609819121446,
            0.34259611724400457,
            -2.2148916116870874,
            -0.7398273736128237,
            28.57142857142857,
            4.331306990881459,
            1.8181818181818181,
            -5.47808764940239,
            1.2665719696969697,
            1.7167381974248928
           ],
           [
            1.6736401673640167,
            1.1627906976744187,
            6.253229974160207,
            1.3323182337266843,
            4.9010367577756835,
            4.68557336621455,
            28.57142857142857,
            9.498480243161096,
            14.545454545454545,
            6.97211155378486,
            2.8290719696969697,
            3.2188841201716736
           ],
           [
            "Down",
            "Up",
            "Up",
            "Up",
            "Down",
            "Down",
            "Up",
            "Up",
            "Up",
            "Down",
            "Up",
            "Up"
           ]
          ]
         },
         "header": {
          "align": "left",
          "fill": {
           "color": "paleturquoise"
          },
          "font": {
           "color": "black",
           "size": 12
          },
          "values": [
           "ticker",
           "name_en",
           "name_jp",
           "mentioned_by_str",
           "policy_link",
           "sentiment_score",
           "open",
           "close",
           "change_pct",
           "range_pct",
           "result"
          ]
         },
         "type": "table"
        }
       ],
       "layout": {
        "height": 500,
        "template": {
         "data": {
          "bar": [
           {
            "error_x": {
             "color": "#2a3f5f"
            },
            "error_y": {
             "color": "#2a3f5f"
            },
            "marker": {
             "line": {
              "color": "#E5ECF6",
              "width": 0.5
             },
             "pattern": {
              "fillmode": "overlay",
              "size": 10,
              "solidity": 0.2
             }
            },
            "type": "bar"
           }
          ],
          "barpolar": [
           {
            "marker": {
             "line": {
              "color": "#E5ECF6",
              "width": 0.5
             },
             "pattern": {
              "fillmode": "overlay",
              "size": 10,
              "solidity": 0.2
             }
            },
            "type": "barpolar"
           }
          ],
          "carpet": [
           {
            "aaxis": {
             "endlinecolor": "#2a3f5f",
             "gridcolor": "white",
             "linecolor": "white",
             "minorgridcolor": "white",
             "startlinecolor": "#2a3f5f"
            },
            "baxis": {
             "endlinecolor": "#2a3f5f",
             "gridcolor": "white",
             "linecolor": "white",
             "minorgridcolor": "white",
             "startlinecolor": "#2a3f5f"
            },
            "type": "carpet"
           }
          ],
          "choropleth": [
           {
            "colorbar": {
             "outlinewidth": 0,
             "ticks": ""
            },
            "type": "choropleth"
           }
          ],
          "contour": [
           {
            "colorbar": {
             "outlinewidth": 0,
             "ticks": ""
            },
            "colorscale": [
             [
              0,
              "#0d0887"
             ],
             [
              0.1111111111111111,
              "#46039f"
             ],
             [
              0.2222222222222222,
              "#7201a8"
             ],
             [
              0.3333333333333333,
              "#9c179e"
             ],
             [
              0.4444444444444444,
              "#bd3786"
             ],
             [
              0.5555555555555556,
              "#d8576b"
             ],
             [
              0.6666666666666666,
              "#ed7953"
             ],
             [
              0.7777777777777778,
              "#fb9f3a"
             ],
             [
              0.8888888888888888,
              "#fdca26"
             ],
             [
              1,
              "#f0f921"
             ]
            ],
            "type": "contour"
           }
          ],
          "contourcarpet": [
           {
            "colorbar": {
             "outlinewidth": 0,
             "ticks": ""
            },
            "type": "contourcarpet"
           }
          ],
          "heatmap": [
           {
            "colorbar": {
             "outlinewidth": 0,
             "ticks": ""
            },
            "colorscale": [
             [
              0,
              "#0d0887"
             ],
             [
              0.1111111111111111,
              "#46039f"
             ],
             [
              0.2222222222222222,
              "#7201a8"
             ],
             [
              0.3333333333333333,
              "#9c179e"
             ],
             [
              0.4444444444444444,
              "#bd3786"
             ],
             [
              0.5555555555555556,
              "#d8576b"
             ],
             [
              0.6666666666666666,
              "#ed7953"
             ],
             [
              0.7777777777777778,
              "#fb9f3a"
             ],
             [
              0.8888888888888888,
              "#fdca26"
             ],
             [
              1,
              "#f0f921"
             ]
            ],
            "type": "heatmap"
           }
          ],
          "histogram": [
           {
            "marker": {
             "pattern": {
              "fillmode": "overlay",
              "size": 10,
              "solidity": 0.2
             }
            },
            "type": "histogram"
           }
          ],
          "histogram2d": [
           {
            "colorbar": {
             "outlinewidth": 0,
             "ticks": ""
            },
            "colorscale": [
             [
              0,
              "#0d0887"
             ],
             [
              0.1111111111111111,
              "#46039f"
             ],
             [
              0.2222222222222222,
              "#7201a8"
             ],
             [
              0.3333333333333333,
              "#9c179e"
             ],
             [
              0.4444444444444444,
              "#bd3786"
             ],
             [
              0.5555555555555556,
              "#d8576b"
             ],
             [
              0.6666666666666666,
              "#ed7953"
             ],
             [
              0.7777777777777778,
              "#fb9f3a"
             ],
             [
              0.8888888888888888,
              "#fdca26"
             ],
             [
              1,
              "#f0f921"
             ]
            ],
            "type": "histogram2d"
           }
          ],
          "histogram2dcontour": [
           {
            "colorbar": {
             "outlinewidth": 0,
             "ticks": ""
            },
            "colorscale": [
             [
              0,
              "#0d0887"
             ],
             [
              0.1111111111111111,
              "#46039f"
             ],
             [
              0.2222222222222222,
              "#7201a8"
             ],
             [
              0.3333333333333333,
              "#9c179e"
             ],
             [
              0.4444444444444444,
              "#bd3786"
             ],
             [
              0.5555555555555556,
              "#d8576b"
             ],
             [
              0.6666666666666666,
              "#ed7953"
             ],
             [
              0.7777777777777778,
              "#fb9f3a"
             ],
             [
              0.8888888888888888,
              "#fdca26"
             ],
             [
              1,
              "#f0f921"
             ]
            ],
            "type": "histogram2dcontour"
           }
          ],
          "mesh3d": [
           {
            "colorbar": {
             "outlinewidth": 0,
             "ticks": ""
            },
            "type": "mesh3d"
           }
          ],
          "parcoords": [
           {
            "line": {
             "colorbar": {
              "outlinewidth": 0,
              "ticks": ""
             }
            },
            "type": "parcoords"
           }
          ],
          "pie": [
           {
            "automargin": true,
            "type": "pie"
           }
          ],
          "scatter": [
           {
            "fillpattern": {
             "fillmode": "overlay",
             "size": 10,
             "solidity": 0.2
            },
            "type": "scatter"
           }
          ],
          "scatter3d": [
           {
            "line": {
             "colorbar": {
              "outlinewidth": 0,
              "ticks": ""
             }
            },
            "marker": {
             "colorbar": {
              "outlinewidth": 0,
              "ticks": ""
             }
            },
            "type": "scatter3d"
           }
          ],
          "scattercarpet": [
           {
            "marker": {
             "colorbar": {
              "outlinewidth": 0,
              "ticks": ""
             }
            },
            "type": "scattercarpet"
           }
          ],
          "scattergeo": [
           {
            "marker": {
             "colorbar": {
              "outlinewidth": 0,
              "ticks": ""
             }
            },
            "type": "scattergeo"
           }
          ],
          "scattergl": [
           {
            "marker": {
             "colorbar": {
              "outlinewidth": 0,
              "ticks": ""
             }
            },
            "type": "scattergl"
           }
          ],
          "scattermap": [
           {
            "marker": {
             "colorbar": {
              "outlinewidth": 0,
              "ticks": ""
             }
            },
            "type": "scattermap"
           }
          ],
          "scattermapbox": [
           {
            "marker": {
             "colorbar": {
              "outlinewidth": 0,
              "ticks": ""
             }
            },
            "type": "scattermapbox"
           }
          ],
          "scatterpolar": [
           {
            "marker": {
             "colorbar": {
              "outlinewidth": 0,
              "ticks": ""
             }
            },
            "type": "scatterpolar"
           }
          ],
          "scatterpolargl": [
           {
            "marker": {
             "colorbar": {
              "outlinewidth": 0,
              "ticks": ""
             }
            },
            "type": "scatterpolargl"
           }
          ],
          "scatterternary": [
           {
            "marker": {
             "colorbar": {
              "outlinewidth": 0,
              "ticks": ""
             }
            },
            "type": "scatterternary"
           }
          ],
          "surface": [
           {
            "colorbar": {
             "outlinewidth": 0,
             "ticks": ""
            },
            "colorscale": [
             [
              0,
              "#0d0887"
             ],
             [
              0.1111111111111111,
              "#46039f"
             ],
             [
              0.2222222222222222,
              "#7201a8"
             ],
             [
              0.3333333333333333,
              "#9c179e"
             ],
             [
              0.4444444444444444,
              "#bd3786"
             ],
             [
              0.5555555555555556,
              "#d8576b"
             ],
             [
              0.6666666666666666,
              "#ed7953"
             ],
             [
              0.7777777777777778,
              "#fb9f3a"
             ],
             [
              0.8888888888888888,
              "#fdca26"
             ],
             [
              1,
              "#f0f921"
             ]
            ],
            "type": "surface"
           }
          ],
          "table": [
           {
            "cells": {
             "fill": {
              "color": "#EBF0F8"
             },
             "line": {
              "color": "white"
             }
            },
            "header": {
             "fill": {
              "color": "#C8D4E3"
             },
             "line": {
              "color": "white"
             }
            },
            "type": "table"
           }
          ]
         },
         "layout": {
          "annotationdefaults": {
           "arrowcolor": "#2a3f5f",
           "arrowhead": 0,
           "arrowwidth": 1
          },
          "autotypenumbers": "strict",
          "coloraxis": {
           "colorbar": {
            "outlinewidth": 0,
            "ticks": ""
           }
          },
          "colorscale": {
           "diverging": [
            [
             0,
             "#8e0152"
            ],
            [
             0.1,
             "#c51b7d"
            ],
            [
             0.2,
             "#de77ae"
            ],
            [
             0.3,
             "#f1b6da"
            ],
            [
             0.4,
             "#fde0ef"
            ],
            [
             0.5,
             "#f7f7f7"
            ],
            [
             0.6,
             "#e6f5d0"
            ],
            [
             0.7,
             "#b8e186"
            ],
            [
             0.8,
             "#7fbc41"
            ],
            [
             0.9,
             "#4d9221"
            ],
            [
             1,
             "#276419"
            ]
           ],
           "sequential": [
            [
             0,
             "#0d0887"
            ],
            [
             0.1111111111111111,
             "#46039f"
            ],
            [
             0.2222222222222222,
             "#7201a8"
            ],
            [
             0.3333333333333333,
             "#9c179e"
            ],
            [
             0.4444444444444444,
             "#bd3786"
            ],
            [
             0.5555555555555556,
             "#d8576b"
            ],
            [
             0.6666666666666666,
             "#ed7953"
            ],
            [
             0.7777777777777778,
             "#fb9f3a"
            ],
            [
             0.8888888888888888,
             "#fdca26"
            ],
            [
             1,
             "#f0f921"
            ]
           ],
           "sequentialminus": [
            [
             0,
             "#0d0887"
            ],
            [
             0.1111111111111111,
             "#46039f"
            ],
            [
             0.2222222222222222,
             "#7201a8"
            ],
            [
             0.3333333333333333,
             "#9c179e"
            ],
            [
             0.4444444444444444,
             "#bd3786"
            ],
            [
             0.5555555555555556,
             "#d8576b"
            ],
            [
             0.6666666666666666,
             "#ed7953"
            ],
            [
             0.7777777777777778,
             "#fb9f3a"
            ],
            [
             0.8888888888888888,
             "#fdca26"
            ],
            [
             1,
             "#f0f921"
            ]
           ]
          },
          "colorway": [
           "#636efa",
           "#EF553B",
           "#00cc96",
           "#ab63fa",
           "#FFA15A",
           "#19d3f3",
           "#FF6692",
           "#B6E880",
           "#FF97FF",
           "#FECB52"
          ],
          "font": {
           "color": "#2a3f5f"
          },
          "geo": {
           "bgcolor": "white",
           "lakecolor": "white",
           "landcolor": "#E5ECF6",
           "showlakes": true,
           "showland": true,
           "subunitcolor": "white"
          },
          "hoverlabel": {
           "align": "left"
          },
          "hovermode": "closest",
          "mapbox": {
           "style": "light"
          },
          "paper_bgcolor": "white",
          "plot_bgcolor": "#E5ECF6",
          "polar": {
           "angularaxis": {
            "gridcolor": "white",
            "linecolor": "white",
            "ticks": ""
           },
           "bgcolor": "#E5ECF6",
           "radialaxis": {
            "gridcolor": "white",
            "linecolor": "white",
            "ticks": ""
           }
          },
          "scene": {
           "xaxis": {
            "backgroundcolor": "#E5ECF6",
            "gridcolor": "white",
            "gridwidth": 2,
            "linecolor": "white",
            "showbackground": true,
            "ticks": "",
            "zerolinecolor": "white"
           },
           "yaxis": {
            "backgroundcolor": "#E5ECF6",
            "gridcolor": "white",
            "gridwidth": 2,
            "linecolor": "white",
            "showbackground": true,
            "ticks": "",
            "zerolinecolor": "white"
           },
           "zaxis": {
            "backgroundcolor": "#E5ECF6",
            "gridcolor": "white",
            "gridwidth": 2,
            "linecolor": "white",
            "showbackground": true,
            "ticks": "",
            "zerolinecolor": "white"
           }
          },
          "shapedefaults": {
           "line": {
            "color": "#2a3f5f"
           }
          },
          "ternary": {
           "aaxis": {
            "gridcolor": "white",
            "linecolor": "white",
            "ticks": ""
           },
           "baxis": {
            "gridcolor": "white",
            "linecolor": "white",
            "ticks": ""
           },
           "bgcolor": "#E5ECF6",
           "caxis": {
            "gridcolor": "white",
            "linecolor": "white",
            "ticks": ""
           }
          },
          "title": {
           "x": 0.05
          },
          "xaxis": {
           "automargin": true,
           "gridcolor": "white",
           "linecolor": "white",
           "ticks": "",
           "title": {
            "standoff": 15
           },
           "zerolinecolor": "white",
           "zerolinewidth": 2
          },
          "yaxis": {
           "automargin": true,
           "gridcolor": "white",
           "linecolor": "white",
           "ticks": "",
           "title": {
            "standoff": 15
           },
           "zerolinecolor": "white",
           "zerolinewidth": 2
          }
         }
        },
        "title": {
         "text": "Detailed Results Table"
        }
       }
      }
     },
     "metadata": {},
     "output_type": "display_data"
    }
   ],
   "source": [
    "# Plotlyのテーブル表示\n",
    "table_df = df_results[['ticker', 'name_en', 'name_jp', 'mentioned_by_str', 'policy_link', \n",
    "                        'sentiment_score', 'open', 'close', 'change_pct', 'range_pct', 'result']].copy()\n",
    "\n",
    "# セルの色を設定\n",
    "def get_color(val, column):\n",
    "    if column == 'result':\n",
    "        if val == 'Up':\n",
    "            return 'lightgreen'\n",
    "        elif val == 'Down':\n",
    "            return 'lightcoral'\n",
    "        else:\n",
    "            return 'lightgray'\n",
    "    return 'white'\n",
    "\n",
    "fig = go.Figure(data=[go.Table(\n",
    "    header=dict(\n",
    "        values=list(table_df.columns),\n",
    "        fill_color='paleturquoise',\n",
    "        align='left',\n",
    "        font=dict(size=12, color='black')\n",
    "    ),\n",
    "    cells=dict(\n",
    "        values=[table_df[col] for col in table_df.columns],\n",
    "        fill_color='white',\n",
    "        align='left',\n",
    "        font=dict(size=11)\n",
    "    )\n",
    ")])\n",
    "\n",
    "fig.update_layout(\n",
    "    title='Detailed Results Table',\n",
    "    height=500\n",
    ")\n",
    "\n",
    "fig.show()"
   ]
  },
  {
   "cell_type": "markdown",
   "metadata": {},
   "source": [
    "## 9. 結論\n",
    "\n",
    "- **勝率**: プレミアムユーザー言及の有無による差を確認\n",
    "- **センチメントスコア**: 高スコアが実際の上昇と相関しているか\n",
    "- **政策連動度**: Highの銘柄が実際に動いたか\n",
    "- **5分足**: 前場の値動きパターンからスキャルピングタイミングを分析\n",
    "\n",
    "次回のプロンプト改善に活用してください！"
   ]
  }
 ],
 "metadata": {
  "kernelspec": {
   "display_name": "Python 3 (ipykernel)",
   "language": "python",
   "name": "python3"
  },
  "language_info": {
   "codemirror_mode": {
    "name": "ipython",
    "version": 3
   },
   "file_extension": ".py",
   "mimetype": "text/x-python",
   "name": "python",
   "nbconvert_exporter": "python",
   "pygments_lexer": "ipython3",
   "version": "3.12.3"
  }
 },
 "nbformat": 4,
 "nbformat_minor": 4
}
