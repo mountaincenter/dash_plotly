{
 "cells": [
  {
   "cell_type": "markdown",
   "metadata": {},
   "source": [
    "# Grok銘柄選定バックテスト分析\n",
    "\n",
    "## 2025-10-23予想 → 2025-10-24実績"
   ]
  },
  {
   "cell_type": "code",
   "execution_count": null,
   "metadata": {},
   "outputs": [],
   "source": "import pandas as pd\nimport numpy as np\nimport matplotlib.pyplot as plt\nimport matplotlib\nimport seaborn as sns\nimport yfinance as yf\nfrom datetime import datetime\nimport warnings\nwarnings.filterwarnings('ignore')\n\n# 日本語フォント設定（Mac用 - より確実な方法）\nimport matplotlib.font_manager as fm\n\n# ヒラギノフォントのパスを直接指定\nfont_path = '/System/Library/Fonts/ヒラギノ角ゴシック W3.ttc'\nfont_prop = fm.FontProperties(fname=font_path)\nplt.rcParams['font.family'] = font_prop.get_name()\nplt.rcParams['axes.unicode_minus'] = False  # マイナス記号の文字化け対策\nplt.rcParams['figure.figsize'] = (14, 8)\nsns.set_style('whitegrid')\n\nprint(f\"使用フォント: {plt.rcParams['font.family']}\")"
  },
  {
   "cell_type": "markdown",
   "metadata": {},
   "source": [
    "## 1. Grok予想銘柄（2025-10-23大引け後）"
   ]
  },
  {
   "cell_type": "code",
   "execution_count": null,
   "metadata": {},
   "outputs": [],
   "source": [
    "# Grok予想データ\n",
    "grok_predictions = [\n",
    "    {\"ticker\": \"9348\", \"name\": \"ispace\", \"mentioned_by\": [\"@kabuchenko\"], \"category\": \"プレミアム+IR+Xバズ+政策連動\", \"policy_link\": \"High\", \"sentiment_score\": 0.85},\n",
    "    {\"ticker\": \"3929\", \"name\": \"Synspective\", \"mentioned_by\": [\"@kaikai2120621\"], \"category\": \"プレミアム+バイオ材料+地政学味付け\", \"policy_link\": \"High\", \"sentiment_score\": 0.82},\n",
    "    {\"ticker\": \"5595\", \"name\": \"QPS研究所\", \"mentioned_by\": [], \"category\": \"テーマ連動+Xバズ+政策味付け\", \"policy_link\": \"Med\", \"sentiment_score\": 0.70},\n",
    "    {\"ticker\": \"6237\", \"name\": \"ウエスト\", \"mentioned_by\": [\"@kabu777b\"], \"category\": \"プレミアム+IR+Xバズ+政策連動\", \"policy_link\": \"High\", \"sentiment_score\": 0.88},\n",
    "    {\"ticker\": \"6264\", \"name\": \"イワキ\", \"mentioned_by\": [], \"category\": \"IR好材料+Xバズ+政策味付け\", \"policy_link\": \"Med\", \"sentiment_score\": 0.78},\n",
    "    {\"ticker\": \"186A\", \"name\": \"アストロスケールHD\", \"mentioned_by\": [\"@daykabu2021\"], \"category\": \"プレミアム+テーマ連動+Xバズ\", \"policy_link\": \"High\", \"sentiment_score\": 0.75},\n",
    "    {\"ticker\": \"2459\", \"name\": \"アウンコンサルティング\", \"mentioned_by\": [\"@jestryoR\"], \"category\": \"プレミアム+IR+Xバズ+政策連動\", \"policy_link\": \"Med\", \"sentiment_score\": 0.80},\n",
    "    {\"ticker\": \"3079\", \"name\": \"ディーブイエックス\", \"mentioned_by\": [], \"category\": \"IR好材料+Xバズ+地政学味付け\", \"policy_link\": \"Low\", \"sentiment_score\": 0.72},\n",
    "    {\"ticker\": \"3664\", \"name\": \"モブキャストHD\", \"mentioned_by\": [], \"category\": \"ニュース材料+Xバズ+政策味付け\", \"policy_link\": \"Med\", \"sentiment_score\": 0.70},\n",
    "    {\"ticker\": \"2158\", \"name\": \"FRONTEO\", \"mentioned_by\": [\"@tesuta001\"], \"category\": \"プレミアム+ニュース材料+Xバズ\", \"policy_link\": \"Low\", \"sentiment_score\": 0.76},\n",
    "    {\"ticker\": \"3769\", \"name\": \"ランディックス\", \"mentioned_by\": [], \"category\": \"業績材料+Xバズ+政策味付け\", \"policy_link\": \"Med\", \"sentiment_score\": 0.74},\n",
    "    {\"ticker\": \"4398\", \"name\": \"情報戦略テクノロジー\", \"mentioned_by\": [], \"category\": \"ニュース材料+Xバズ+政策連動\", \"policy_link\": \"Low\", \"sentiment_score\": 0.68}\n",
    "]\n",
    "\n",
    "df_predictions = pd.DataFrame(grok_predictions)\n",
    "df_predictions['has_mention'] = df_predictions['mentioned_by'].apply(lambda x: len(x) > 0)\n",
    "df_predictions['mentioned_by_str'] = df_predictions['mentioned_by'].apply(lambda x: ', '.join(x) if x else 'なし')\n",
    "\n",
    "print(\"\\n【Grok予想銘柄一覧】\")\n",
    "display(df_predictions[['ticker', 'name', 'mentioned_by_str', 'policy_link', 'sentiment_score', 'category']])"
   ]
  },
  {
   "cell_type": "markdown",
   "metadata": {},
   "source": [
    "## 2. 実際の株価データ取得（2025-10-24）"
   ]
  },
  {
   "cell_type": "code",
   "execution_count": null,
   "metadata": {},
   "outputs": [],
   "source": [
    "# 2025-10-24の実際の株価データを取得\n",
    "target_date = \"2025-10-24\"\n",
    "results = []\n",
    "\n",
    "for idx, row in df_predictions.iterrows():\n",
    "    ticker_code = row['ticker']\n",
    "    ticker_symbol = f\"{ticker_code}.T\"\n",
    "    \n",
    "    try:\n",
    "        # yfinanceでデータ取得\n",
    "        ticker = yf.Ticker(ticker_symbol)\n",
    "        hist = ticker.history(start=target_date, end=\"2025-10-25\")\n",
    "        \n",
    "        if not hist.empty:\n",
    "            data = hist.iloc[0]\n",
    "            open_price = data['Open']\n",
    "            close_price = data['Close']\n",
    "            high_price = data['High']\n",
    "            low_price = data['Low']\n",
    "            volume = int(data['Volume'])\n",
    "            \n",
    "            # 変化率・値幅率を計算\n",
    "            change_pct = ((close_price - open_price) / open_price) * 100\n",
    "            range_pct = ((high_price - low_price) / open_price) * 100\n",
    "            \n",
    "            results.append({\n",
    "                'ticker': ticker_code,\n",
    "                'name': row['name'],\n",
    "                'open': open_price,\n",
    "                'high': high_price,\n",
    "                'low': low_price,\n",
    "                'close': close_price,\n",
    "                'volume': volume,\n",
    "                'change_pct': change_pct,\n",
    "                'range_pct': range_pct,\n",
    "                'result': '上昇' if change_pct > 0 else '下落',\n",
    "                'mentioned_by_str': row['mentioned_by_str'],\n",
    "                'policy_link': row['policy_link'],\n",
    "                'sentiment_score': row['sentiment_score']\n",
    "            })\n",
    "        else:\n",
    "            results.append({\n",
    "                'ticker': ticker_code,\n",
    "                'name': row['name'],\n",
    "                'open': None,\n",
    "                'high': None,\n",
    "                'low': None,\n",
    "                'close': None,\n",
    "                'volume': None,\n",
    "                'change_pct': None,\n",
    "                'range_pct': None,\n",
    "                'result': 'データなし',\n",
    "                'mentioned_by_str': row['mentioned_by_str'],\n",
    "                'policy_link': row['policy_link'],\n",
    "                'sentiment_score': row['sentiment_score']\n",
    "            })\n",
    "    except Exception as e:\n",
    "        print(f\"エラー: {ticker_code} - {e}\")\n",
    "        results.append({\n",
    "            'ticker': ticker_code,\n",
    "            'name': row['name'],\n",
    "            'open': None,\n",
    "            'high': None,\n",
    "            'low': None,\n",
    "            'close': None,\n",
    "            'volume': None,\n",
    "            'change_pct': None,\n",
    "            'range_pct': None,\n",
    "            'result': 'エラー',\n",
    "            'mentioned_by_str': row['mentioned_by_str'],\n",
    "            'policy_link': row['policy_link'],\n",
    "            'sentiment_score': row['sentiment_score']\n",
    "        })\n",
    "\n",
    "df_results = pd.DataFrame(results)\n",
    "\n",
    "print(\"\\n【2025-10-24 実績データ】\")\n",
    "display(df_results)"
   ]
  },
  {
   "cell_type": "markdown",
   "metadata": {},
   "source": [
    "## 3. パフォーマンス分析"
   ]
  },
  {
   "cell_type": "code",
   "execution_count": null,
   "metadata": {},
   "outputs": [],
   "source": [
    "# データがある銘柄のみでフィルタ\n",
    "df_valid = df_results[df_results['change_pct'].notna()].copy()\n",
    "\n",
    "# サマリー統計\n",
    "total_stocks = len(df_valid)\n",
    "win_count = (df_valid['change_pct'] > 0).sum()\n",
    "lose_count = (df_valid['change_pct'] <= 0).sum()\n",
    "win_rate = (win_count / total_stocks * 100) if total_stocks > 0 else 0\n",
    "avg_change = df_valid['change_pct'].mean()\n",
    "avg_range = df_valid['range_pct'].mean()\n",
    "volatile_count = (df_valid['range_pct'] >= 2.0).sum()\n",
    "volatile_rate = (volatile_count / total_stocks * 100) if total_stocks > 0 else 0\n",
    "\n",
    "# プレミアムユーザー言及あり/なし別の勝率\n",
    "df_valid['has_mention'] = df_valid['mentioned_by_str'] != 'なし'\n",
    "mentioned_stocks = df_valid[df_valid['has_mention']]\n",
    "not_mentioned_stocks = df_valid[~df_valid['has_mention']]\n",
    "\n",
    "mentioned_win_rate = ((mentioned_stocks['change_pct'] > 0).sum() / len(mentioned_stocks) * 100) if len(mentioned_stocks) > 0 else 0\n",
    "not_mentioned_win_rate = ((not_mentioned_stocks['change_pct'] > 0).sum() / len(not_mentioned_stocks) * 100) if len(not_mentioned_stocks) > 0 else 0\n",
    "\n",
    "print(\"\\n【パフォーマンスサマリー】\")\n",
    "print(\"=\" * 60)\n",
    "print(f\"総銘柄数: {total_stocks}\")\n",
    "print(f\"勝ち: {win_count}銘柄 ({win_rate:.1f}%)\")\n",
    "print(f\"負け: {lose_count}銘柄 ({100-win_rate:.1f}%)\")\n",
    "print(f\"平均変化率: {avg_change:+.2f}%\")\n",
    "print(f\"平均値幅率: {avg_range:.2f}%\")\n",
    "print(f\"値幅2%以上: {volatile_count}銘柄 ({volatile_rate:.1f}%)\")\n",
    "print(\"\\n【プレミアムユーザー言及別】\")\n",
    "print(f\"言及あり勝率: {mentioned_win_rate:.1f}% ({len(mentioned_stocks)}銘柄)\")\n",
    "print(f\"言及なし勝率: {not_mentioned_win_rate:.1f}% ({len(not_mentioned_stocks)}銘柄)\")\n",
    "print(\"=\" * 60)"
   ]
  },
  {
   "cell_type": "markdown",
   "metadata": {},
   "source": [
    "## 4. 可視化：変化率ランキング"
   ]
  },
  {
   "cell_type": "code",
   "execution_count": null,
   "metadata": {},
   "outputs": [],
   "source": [
    "# 変化率でソート\n",
    "df_sorted = df_valid.sort_values('change_pct', ascending=False)\n",
    "\n",
    "# 棒グラフ\n",
    "fig, ax = plt.subplots(figsize=(14, 8))\n",
    "\n",
    "colors = ['green' if x > 0 else 'red' for x in df_sorted['change_pct']]\n",
    "bars = ax.barh(df_sorted['name'], df_sorted['change_pct'], color=colors, alpha=0.7)\n",
    "\n",
    "ax.set_xlabel('Change % (Close - Open)', fontsize=12)\n",
    "ax.set_title('Grok Prediction Results: 2025-10-23 -> 2025-10-24', fontsize=14, fontweight='bold')\n",
    "ax.axvline(x=0, color='black', linestyle='--', linewidth=0.8)\n",
    "ax.grid(axis='x', alpha=0.3)\n",
    "\n",
    "# 値を表示\n",
    "for i, (idx, row) in enumerate(df_sorted.iterrows()):\n",
    "    ax.text(row['change_pct'], i, f\" {row['change_pct']:+.2f}%\", \n",
    "            va='center', ha='left' if row['change_pct'] > 0 else 'right', fontsize=9)\n",
    "\n",
    "plt.tight_layout()\n",
    "plt.show()"
   ]
  },
  {
   "cell_type": "markdown",
   "metadata": {},
   "source": [
    "## 5. 可視化：センチメントスコア vs 実績"
   ]
  },
  {
   "cell_type": "code",
   "execution_count": null,
   "metadata": {},
   "outputs": [],
   "source": [
    "# センチメントスコア vs 変化率の散布図\n",
    "fig, ax = plt.subplots(figsize=(12, 8))\n",
    "\n",
    "colors_map = {'High': 'red', 'Med': 'orange', 'Low': 'blue'}\n",
    "for policy in ['High', 'Med', 'Low']:\n",
    "    subset = df_valid[df_valid['policy_link'] == policy]\n",
    "    ax.scatter(subset['sentiment_score'], subset['change_pct'], \n",
    "               label=f'Policy: {policy}', s=100, alpha=0.6, color=colors_map[policy])\n",
    "\n",
    "ax.set_xlabel('Sentiment Score (Grok)', fontsize=12)\n",
    "ax.set_ylabel('Actual Change % (2025-10-24)', fontsize=12)\n",
    "ax.set_title('Sentiment Score vs Actual Performance', fontsize=14, fontweight='bold')\n",
    "ax.axhline(y=0, color='black', linestyle='--', linewidth=0.8)\n",
    "ax.grid(alpha=0.3)\n",
    "ax.legend()\n",
    "\n",
    "# 銘柄名を表示\n",
    "for idx, row in df_valid.iterrows():\n",
    "    ax.annotate(row['name'], (row['sentiment_score'], row['change_pct']), \n",
    "                fontsize=8, alpha=0.7, ha='right')\n",
    "\n",
    "plt.tight_layout()\n",
    "plt.show()"
   ]
  },
  {
   "cell_type": "markdown",
   "metadata": {},
   "source": [
    "## 6. 詳細テーブル（ソート可能）"
   ]
  },
  {
   "cell_type": "code",
   "execution_count": null,
   "metadata": {},
   "outputs": [],
   "source": [
    "# スタイル付きテーブル\n",
    "def color_result(val):\n",
    "    if val == '上昇':\n",
    "        color = 'lightgreen'\n",
    "    elif val == '下落':\n",
    "        color = 'lightcoral'\n",
    "    else:\n",
    "        color = 'lightgray'\n",
    "    return f'background-color: {color}'\n",
    "\n",
    "def color_change(val):\n",
    "    if pd.isna(val):\n",
    "        return ''\n",
    "    color = 'green' if val > 0 else 'red'\n",
    "    return f'color: {color}; font-weight: bold'\n",
    "\n",
    "styled_df = df_results[['ticker', 'name', 'mentioned_by_str', 'policy_link', 'sentiment_score', \n",
    "                        'open', 'close', 'change_pct', 'range_pct', 'result']].style\\\n",
    "    .applymap(color_result, subset=['result'])\\\n",
    "    .applymap(color_change, subset=['change_pct'])\\\n",
    "    .format({\n",
    "        'sentiment_score': '{:.2f}',\n",
    "        'open': '{:.1f}',\n",
    "        'close': '{:.1f}',\n",
    "        'change_pct': '{:+.2f}%',\n",
    "        'range_pct': '{:.2f}%'\n",
    "    }, na_rep='-')\n",
    "\n",
    "print(\"\\n【詳細結果テーブル】\")\n",
    "display(styled_df)"
   ]
  },
  {
   "cell_type": "markdown",
   "metadata": {},
   "source": [
    "## 7. 結論\n",
    "\n",
    "- **勝率**: プレミアムユーザー言及の有無による差を確認\n",
    "- **センチメントスコア**: 高スコアが実際の上昇と相関しているか\n",
    "- **政策連動度**: Highの銘柄が実際に動いたか\n",
    "\n",
    "次回のプロンプト改善に活用してください！"
   ]
  }
 ],
 "metadata": {
  "kernelspec": {
   "display_name": "Python 3",
   "language": "python",
   "name": "python3"
  },
  "language_info": {
   "codemirror_mode": {
    "name": "ipython",
    "version": 3
   },
   "file_extension": ".py",
   "mimetype": "text/x-python",
   "name": "python",
   "nbconvert_exporter": "python",
   "pygments_lexer": "ipython3",
   "version": "3.10.0"
  }
 },
 "nbformat": 4,
 "nbformat_minor": 4
}