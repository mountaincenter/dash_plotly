{
 "cells": [
  {
   "cell_type": "markdown",
   "metadata": {},
   "source": [
    "# スキャルピング銘柄選定 完全分析\n",
    "\n",
    "## 目的\n",
    "1. 全銘柄スクリーニング結果の分析\n",
    "2. Entry/Active戦略の選定パターン分析\n",
    "3. 日足バックテスト\n",
    "4. 相関分析（どの指標が有効か）\n",
    "5. Top15銘柄の詳細バックテスト（yfinance 5分足）\n",
    "6. 総合結論・改善提案\n",
    "\n",
    "## データフロー\n",
    "```\n",
    "screened_scored.parquet (全銘柄・全日付)\n",
    "  ↓\n",
    "日足分析 → Entry/Active Top15選定\n",
    "  ↓\n",
    "yfinance 5分足取得（Top15のみ）\n",
    "  ↓\n",
    "詳細バックテスト（時間帯別パフォーマンス）\n",
    "```"
   ]
  },
  {
   "cell_type": "markdown",
   "metadata": {},
   "source": [
    "## 1. 環境設定・データ読み込み"
   ]
  },
  {
   "cell_type": "code",
   "execution_count": 1,
   "metadata": {
    "execution": {
     "iopub.execute_input": "2025-10-20T17:11:12.691906Z",
     "iopub.status.busy": "2025-10-20T17:11:12.691719Z",
     "iopub.status.idle": "2025-10-20T17:11:13.519026Z",
     "shell.execute_reply": "2025-10-20T17:11:13.518806Z"
    }
   },
   "outputs": [
    {
     "name": "stdout",
     "output_type": "stream",
     "text": [
      "================================================================================\n",
      "スキャルピング銘柄選定 完全分析\n",
      "================================================================================\n",
      "\n",
      "入力ファイル: /Users/hiroyukiyamanaka/Desktop/python_stock/dash_plotly/data/parquet/test/mock_screened_500stocks_scored.parquet\n",
      "存在確認: True\n"
     ]
    }
   ],
   "source": [
    "from pathlib import Path\n",
    "import pandas as pd\n",
    "import numpy as np\n",
    "import matplotlib.pyplot as plt\n",
    "import yfinance as yf\n",
    "from datetime import datetime, timedelta\n",
    "import warnings\n",
    "warnings.filterwarnings('ignore')\n",
    "\n",
    "# 日本語フォント設定\n",
    "plt.rcParams['font.sans-serif'] = ['Arial Unicode MS', 'Hiragino Sans', 'Yu Gothic', 'Meirio']\n",
    "plt.rcParams['axes.unicode_minus'] = False\n",
    "\n",
    "# パス設定\n",
    "ROOT = Path.cwd().parents[1]\n",
    "TEST_DIR = ROOT / 'data' / 'parquet' / 'test'\n",
    "INPUT_FILE = TEST_DIR / 'mock_screened_500stocks_scored.parquet'\n",
    "\n",
    "print(\"=\" * 80)\n",
    "print(\"スキャルピング銘柄選定 完全分析\")\n",
    "print(\"=\" * 80)\n",
    "print(f\"\\n入力ファイル: {INPUT_FILE}\")\n",
    "print(f\"存在確認: {INPUT_FILE.exists()}\")"
   ]
  },
  {
   "cell_type": "code",
   "execution_count": 2,
   "metadata": {
    "execution": {
     "iopub.execute_input": "2025-10-20T17:11:13.546029Z",
     "iopub.status.busy": "2025-10-20T17:11:13.545826Z",
     "iopub.status.idle": "2025-10-20T17:11:13.628667Z",
     "shell.execute_reply": "2025-10-20T17:11:13.628425Z"
    }
   },
   "outputs": [
    {
     "name": "stdout",
     "output_type": "stream",
     "text": [
      "総行数: 19,945\n",
      "銘柄数: 500\n",
      "日付範囲: 2025-08-21 00:00:00 ～ 2025-10-20 00:00:00\n",
      "日数: 40\n",
      "\n",
      "カラム: ['date', 'Open', 'High', 'Low', 'Close', 'Volume', 'ticker', 'prevClose', 'change_pct', 'tr', 'atr14', 'atr14_pct', 'ma5', 'ma25', 'rsi14', 'vol_ma10', 'vol_ratio', 'overall_rating', 'stock_name', 'market', 'sectors', 'series', 'topixnewindexseries', 'entry_filter_passed', 'entry_score', 'entry_rank', 'active_filter_passed', 'active_score', 'active_rank']\n"
     ]
    },
    {
     "data": {
      "text/html": [
       "<div>\n",
       "<style scoped>\n",
       "    .dataframe tbody tr th:only-of-type {\n",
       "        vertical-align: middle;\n",
       "    }\n",
       "\n",
       "    .dataframe tbody tr th {\n",
       "        vertical-align: top;\n",
       "    }\n",
       "\n",
       "    .dataframe thead th {\n",
       "        text-align: right;\n",
       "    }\n",
       "</style>\n",
       "<table border=\"1\" class=\"dataframe\">\n",
       "  <thead>\n",
       "    <tr style=\"text-align: right;\">\n",
       "      <th></th>\n",
       "      <th>date</th>\n",
       "      <th>Open</th>\n",
       "      <th>High</th>\n",
       "      <th>Low</th>\n",
       "      <th>Close</th>\n",
       "      <th>Volume</th>\n",
       "      <th>ticker</th>\n",
       "      <th>prevClose</th>\n",
       "      <th>change_pct</th>\n",
       "      <th>tr</th>\n",
       "      <th>...</th>\n",
       "      <th>market</th>\n",
       "      <th>sectors</th>\n",
       "      <th>series</th>\n",
       "      <th>topixnewindexseries</th>\n",
       "      <th>entry_filter_passed</th>\n",
       "      <th>entry_score</th>\n",
       "      <th>entry_rank</th>\n",
       "      <th>active_filter_passed</th>\n",
       "      <th>active_score</th>\n",
       "      <th>active_rank</th>\n",
       "    </tr>\n",
       "  </thead>\n",
       "  <tbody>\n",
       "    <tr>\n",
       "      <th>0</th>\n",
       "      <td>2025-08-21</td>\n",
       "      <td>1020.0</td>\n",
       "      <td>1028.0</td>\n",
       "      <td>1009.0</td>\n",
       "      <td>1020.5</td>\n",
       "      <td>1473100.0</td>\n",
       "      <td>1332.T</td>\n",
       "      <td>NaN</td>\n",
       "      <td>NaN</td>\n",
       "      <td>19.0</td>\n",
       "      <td>...</td>\n",
       "      <td>プライム</td>\n",
       "      <td>水産・農林業</td>\n",
       "      <td>食品</td>\n",
       "      <td>TOPIX Mid400</td>\n",
       "      <td>False</td>\n",
       "      <td>0.0</td>\n",
       "      <td>NaN</td>\n",
       "      <td>False</td>\n",
       "      <td>0.0</td>\n",
       "      <td>NaN</td>\n",
       "    </tr>\n",
       "    <tr>\n",
       "      <th>1</th>\n",
       "      <td>2025-08-22</td>\n",
       "      <td>1023.5</td>\n",
       "      <td>1031.0</td>\n",
       "      <td>1015.5</td>\n",
       "      <td>1024.0</td>\n",
       "      <td>1751500.0</td>\n",
       "      <td>1332.T</td>\n",
       "      <td>1020.5</td>\n",
       "      <td>0.34</td>\n",
       "      <td>15.5</td>\n",
       "      <td>...</td>\n",
       "      <td>プライム</td>\n",
       "      <td>水産・農林業</td>\n",
       "      <td>食品</td>\n",
       "      <td>TOPIX Mid400</td>\n",
       "      <td>True</td>\n",
       "      <td>75.0</td>\n",
       "      <td>1.0</td>\n",
       "      <td>False</td>\n",
       "      <td>0.0</td>\n",
       "      <td>NaN</td>\n",
       "    </tr>\n",
       "    <tr>\n",
       "      <th>2</th>\n",
       "      <td>2025-08-25</td>\n",
       "      <td>1023.0</td>\n",
       "      <td>1023.0</td>\n",
       "      <td>1005.0</td>\n",
       "      <td>1008.0</td>\n",
       "      <td>1005400.0</td>\n",
       "      <td>1332.T</td>\n",
       "      <td>1024.0</td>\n",
       "      <td>-1.56</td>\n",
       "      <td>19.0</td>\n",
       "      <td>...</td>\n",
       "      <td>プライム</td>\n",
       "      <td>水産・農林業</td>\n",
       "      <td>食品</td>\n",
       "      <td>TOPIX Mid400</td>\n",
       "      <td>True</td>\n",
       "      <td>45.0</td>\n",
       "      <td>1.0</td>\n",
       "      <td>False</td>\n",
       "      <td>0.0</td>\n",
       "      <td>NaN</td>\n",
       "    </tr>\n",
       "    <tr>\n",
       "      <th>3</th>\n",
       "      <td>2025-08-26</td>\n",
       "      <td>1001.5</td>\n",
       "      <td>1003.0</td>\n",
       "      <td>990.0</td>\n",
       "      <td>992.7</td>\n",
       "      <td>1397800.0</td>\n",
       "      <td>1332.T</td>\n",
       "      <td>1008.0</td>\n",
       "      <td>-1.52</td>\n",
       "      <td>18.0</td>\n",
       "      <td>...</td>\n",
       "      <td>プライム</td>\n",
       "      <td>水産・農林業</td>\n",
       "      <td>食品</td>\n",
       "      <td>TOPIX Mid400</td>\n",
       "      <td>True</td>\n",
       "      <td>55.0</td>\n",
       "      <td>1.0</td>\n",
       "      <td>False</td>\n",
       "      <td>0.0</td>\n",
       "      <td>NaN</td>\n",
       "    </tr>\n",
       "    <tr>\n",
       "      <th>4</th>\n",
       "      <td>2025-08-27</td>\n",
       "      <td>990.0</td>\n",
       "      <td>1008.5</td>\n",
       "      <td>985.3</td>\n",
       "      <td>1002.5</td>\n",
       "      <td>1384400.0</td>\n",
       "      <td>1332.T</td>\n",
       "      <td>992.7</td>\n",
       "      <td>0.99</td>\n",
       "      <td>23.2</td>\n",
       "      <td>...</td>\n",
       "      <td>プライム</td>\n",
       "      <td>水産・農林業</td>\n",
       "      <td>食品</td>\n",
       "      <td>TOPIX Mid400</td>\n",
       "      <td>True</td>\n",
       "      <td>85.0</td>\n",
       "      <td>1.0</td>\n",
       "      <td>False</td>\n",
       "      <td>0.0</td>\n",
       "      <td>NaN</td>\n",
       "    </tr>\n",
       "  </tbody>\n",
       "</table>\n",
       "<p>5 rows × 29 columns</p>\n",
       "</div>"
      ],
      "text/plain": [
       "        date    Open    High     Low   Close     Volume  ticker  prevClose  \\\n",
       "0 2025-08-21  1020.0  1028.0  1009.0  1020.5  1473100.0  1332.T        NaN   \n",
       "1 2025-08-22  1023.5  1031.0  1015.5  1024.0  1751500.0  1332.T     1020.5   \n",
       "2 2025-08-25  1023.0  1023.0  1005.0  1008.0  1005400.0  1332.T     1024.0   \n",
       "3 2025-08-26  1001.5  1003.0   990.0   992.7  1397800.0  1332.T     1008.0   \n",
       "4 2025-08-27   990.0  1008.5   985.3  1002.5  1384400.0  1332.T      992.7   \n",
       "\n",
       "   change_pct    tr  ...  market  sectors  series  topixnewindexseries  \\\n",
       "0         NaN  19.0  ...    プライム   水産・農林業      食品         TOPIX Mid400   \n",
       "1        0.34  15.5  ...    プライム   水産・農林業      食品         TOPIX Mid400   \n",
       "2       -1.56  19.0  ...    プライム   水産・農林業      食品         TOPIX Mid400   \n",
       "3       -1.52  18.0  ...    プライム   水産・農林業      食品         TOPIX Mid400   \n",
       "4        0.99  23.2  ...    プライム   水産・農林業      食品         TOPIX Mid400   \n",
       "\n",
       "   entry_filter_passed  entry_score  entry_rank active_filter_passed  \\\n",
       "0                False          0.0         NaN                False   \n",
       "1                 True         75.0         1.0                False   \n",
       "2                 True         45.0         1.0                False   \n",
       "3                 True         55.0         1.0                False   \n",
       "4                 True         85.0         1.0                False   \n",
       "\n",
       "  active_score active_rank  \n",
       "0          0.0         NaN  \n",
       "1          0.0         NaN  \n",
       "2          0.0         NaN  \n",
       "3          0.0         NaN  \n",
       "4          0.0         NaN  \n",
       "\n",
       "[5 rows x 29 columns]"
      ]
     },
     "execution_count": 2,
     "metadata": {},
     "output_type": "execute_result"
    }
   ],
   "source": [
    "# データ読み込み\n",
    "df = pd.read_parquet(INPUT_FILE)\n",
    "\n",
    "# 日付型変換\n",
    "if 'date' in df.columns:\n",
    "    df['date'] = pd.to_datetime(df['date'])\n",
    "\n",
    "# 基本情報表示\n",
    "print(f\"総行数: {len(df):,}\")\n",
    "print(f\"銘柄数: {df['ticker'].nunique()}\")\n",
    "print(f\"日付範囲: {df['date'].min()} ～ {df['date'].max()}\")\n",
    "print(f\"日数: {df['date'].nunique()}\")\n",
    "print(f\"\\nカラム: {list(df.columns)}\")\n",
    "\n",
    "df.head()"
   ]
  },
  {
   "cell_type": "markdown",
   "metadata": {},
   "source": [
    "## 2. 銘柄選定パターン分析"
   ]
  },
  {
   "cell_type": "code",
   "execution_count": 3,
   "metadata": {
    "execution": {
     "iopub.execute_input": "2025-10-20T17:11:13.629757Z",
     "iopub.status.busy": "2025-10-20T17:11:13.629676Z",
     "iopub.status.idle": "2025-10-20T17:11:13.634017Z",
     "shell.execute_reply": "2025-10-20T17:11:13.633677Z"
    }
   },
   "outputs": [
    {
     "name": "stdout",
     "output_type": "stream",
     "text": [
      "### Entry戦略\n",
      "総候補数: 1196\n",
      "ユニーク銘柄数: 67\n",
      "日別平均候補数: 30.7\n",
      "\n",
      "### Active戦略\n",
      "総候補数: 1564\n",
      "ユニーク銘柄数: 227\n",
      "日別平均候補数: 40.1\n"
     ]
    }
   ],
   "source": [
    "# Entry/Active候補の抽出\n",
    "df_entry = df[df['entry_filter_passed'] == True].copy()\n",
    "df_active = df[df['active_filter_passed'] == True].copy()\n",
    "\n",
    "print(\"### Entry戦略\")\n",
    "print(f\"総候補数: {len(df_entry)}\")\n",
    "print(f\"ユニーク銘柄数: {df_entry['ticker'].nunique()}\")\n",
    "print(f\"日別平均候補数: {len(df_entry) / df_entry['date'].nunique():.1f}\")\n",
    "\n",
    "print(\"\\n### Active戦略\")\n",
    "print(f\"総候補数: {len(df_active)}\")\n",
    "print(f\"ユニーク銘柄数: {df_active['ticker'].nunique()}\")\n",
    "print(f\"日別平均候補数: {len(df_active) / df_active['date'].nunique():.1f}\")"
   ]
  },
  {
   "cell_type": "code",
   "execution_count": 4,
   "metadata": {
    "execution": {
     "iopub.execute_input": "2025-10-20T17:11:13.635173Z",
     "iopub.status.busy": "2025-10-20T17:11:13.635086Z",
     "iopub.status.idle": "2025-10-20T17:11:13.762693Z",
     "shell.execute_reply": "2025-10-20T17:11:13.762382Z"
    }
   },
   "outputs": [
    {
     "data": {
      "image/png": "[encoded data removed]",
      "text/plain": [
       "<Figure size 1400x500 with 1 Axes>"
      ]
     },
     "metadata": {},
     "output_type": "display_data"
    },
    {
     "name": "stdout",
     "output_type": "stream",
     "text": [
      "\n",
      "Entry候補数: 最小21, 最大39, 平均30.7\n",
      "Active候補数: 最小19, 最大94, 平均40.1\n"
     ]
    }
   ],
   "source": [
    "# 日別候補数の推移\n",
    "entry_daily = df_entry.groupby('date').size()\n",
    "active_daily = df_active.groupby('date').size()\n",
    "\n",
    "fig, ax = plt.subplots(figsize=(14, 5))\n",
    "ax.plot(entry_daily.index, entry_daily.values, marker='o', label='Entry', linewidth=2)\n",
    "ax.plot(active_daily.index, active_daily.values, marker='s', label='Active', linewidth=2)\n",
    "ax.axhline(y=15, color='red', linestyle='--', label='目標15銘柄', alpha=0.7)\n",
    "ax.set_xlabel('日付')\n",
    "ax.set_ylabel('候補数')\n",
    "ax.set_title('日別候補数の推移')\n",
    "ax.legend()\n",
    "ax.grid(True, alpha=0.3)\n",
    "plt.xticks(rotation=45)\n",
    "plt.tight_layout()\n",
    "plt.show()\n",
    "\n",
    "print(f\"\\nEntry候補数: 最小{entry_daily.min()}, 最大{entry_daily.max()}, 平均{entry_daily.mean():.1f}\")\n",
    "print(f\"Active候補数: 最小{active_daily.min()}, 最大{active_daily.max()}, 平均{active_daily.mean():.1f}\")"
   ]
  },
  {
   "cell_type": "code",
   "execution_count": 5,
   "metadata": {
    "execution": {
     "iopub.execute_input": "2025-10-20T17:11:13.763912Z",
     "iopub.status.busy": "2025-10-20T17:11:13.763745Z",
     "iopub.status.idle": "2025-10-20T17:11:13.792908Z",
     "shell.execute_reply": "2025-10-20T17:11:13.792458Z"
    }
   },
   "outputs": [
    {
     "name": "stdout",
     "output_type": "stream",
     "text": [
      "### Entry戦略: 頻出Top15銘柄\n",
      "1332.T ニッスイ                  39回 (100.0%)\n",
      "3401.T 帝人                    39回 (100.0%)\n",
      "4095.T 日本パーカライジング            39回 (100.0%)\n",
      "2170.T リンクアンドモチベーション         39回 (100.0%)\n",
      "9119.T 飯野海運                  39回 (100.0%)\n",
      "6472.T ＮＴＮ                   39回 (100.0%)\n",
      "197A.T タウンズ                  38回 ( 97.4%)\n",
      "9301.T 三菱倉庫                  38回 ( 97.4%)\n",
      "7241.T フタバ産業                 38回 ( 97.4%)\n",
      "9507.T 四国電力                  37回 ( 94.9%)\n",
      "7085.T カーブスホールディングス          37回 ( 94.9%)\n",
      "8714.T 池田泉州ホールディングス          37回 ( 94.9%)\n",
      "7186.T 横浜フィナンシャルグループ         37回 ( 94.9%)\n",
      "3962.T チェンジホールディングス          36回 ( 92.3%)\n",
      "1852.T 淺沼組                   36回 ( 92.3%)\n",
      "\n",
      "### Active戦略: 頻出Top15銘柄\n",
      "8105.T 堀田丸正                  32回 ( 82.1%)\n",
      "2158.T ＦＲＯＮＴＥＯ               31回 ( 79.5%)\n",
      "2743.T ピクセルカンパニーズ            30回 ( 76.9%)\n",
      "6177.T ＡｐｐＢａｎｋ               29回 ( 74.4%)\n",
      "402A.T アクセルスペースホールディングス      26回 ( 66.7%)\n",
      "5016.T ＪＸ金属                  25回 ( 64.1%)\n",
      "4176.T ココナラ                  24回 ( 61.5%)\n",
      "3691.T デジタルプラス               24回 ( 61.5%)\n",
      "8746.T ｕｎｂａｎｋｅｄ              24回 ( 61.5%)\n",
      "218A.T Ｌｉｂｅｒａｗａｒｅ            24回 ( 61.5%)\n",
      "9425.T ＲｅＹｕｕ　Ｊａｐａｎ           24回 ( 61.5%)\n",
      "3185.T 夢展望                   22回 ( 56.4%)\n",
      "3825.T リミックスポイント             22回 ( 56.4%)\n",
      "1434.T ＪＥＳＣＯホールディングス         20回 ( 51.3%)\n",
      "3697.T ＳＨＩＦＴ                 19回 ( 48.7%)\n"
     ]
    }
   ],
   "source": [
    "# 頻出銘柄の特定\n",
    "entry_freq = df_entry['ticker'].value_counts().head(15)\n",
    "active_freq = df_active['ticker'].value_counts().head(15)\n",
    "\n",
    "print(\"### Entry戦略: 頻出Top15銘柄\")\n",
    "for ticker, count in entry_freq.items():\n",
    "    stock_name = df[df['ticker'] == ticker]['stock_name'].iloc[0] if 'stock_name' in df.columns else ''\n",
    "    pct = count / df_entry['date'].nunique() * 100\n",
    "    print(f\"{ticker:6s} {stock_name:20s} {count:3d}回 ({pct:5.1f}%)\")\n",
    "\n",
    "print(\"\\n### Active戦略: 頻出Top15銘柄\")\n",
    "for ticker, count in active_freq.items():\n",
    "    stock_name = df[df['ticker'] == ticker]['stock_name'].iloc[0] if 'stock_name' in df.columns else ''\n",
    "    pct = count / df_active['date'].nunique() * 100\n",
    "    print(f\"{ticker:6s} {stock_name:20s} {count:3d}回 ({pct:5.1f}%)\")"
   ]
  },
  {
   "cell_type": "markdown",
   "metadata": {},
   "source": [
    "## 3. 日足バックテスト（全候補銘柄）"
   ]
  },
  {
   "cell_type": "code",
   "execution_count": 6,
   "metadata": {
    "execution": {
     "iopub.execute_input": "2025-10-20T17:11:13.794249Z",
     "iopub.status.busy": "2025-10-20T17:11:13.794150Z",
     "iopub.status.idle": "2025-10-20T17:11:13.804123Z",
     "shell.execute_reply": "2025-10-20T17:11:13.803878Z"
    }
   },
   "outputs": [
    {
     "name": "stdout",
     "output_type": "stream",
     "text": [
      "Entry バックテスト対象: 1172件\n",
      "Active バックテスト対象: 1506件\n"
     ]
    }
   ],
   "source": [
    "# 翌日データの取得（next_day_return計算）\n",
    "df_sorted = df.sort_values(['ticker', 'date']).copy()\n",
    "df_sorted['next_Open'] = df_sorted.groupby('ticker')['Open'].shift(-1)\n",
    "df_sorted['next_Close'] = df_sorted.groupby('ticker')['Close'].shift(-1)\n",
    "df_sorted['next_day_return'] = ((df_sorted['next_Close'] - df_sorted['next_Open']) / df_sorted['next_Open'] * 100)\n",
    "\n",
    "# Entry/Active候補のみ抽出\n",
    "df_entry_bt = df_sorted[df_sorted['entry_filter_passed'] == True].copy()\n",
    "df_active_bt = df_sorted[df_sorted['active_filter_passed'] == True].copy()\n",
    "\n",
    "# NaN除去\n",
    "df_entry_bt = df_entry_bt.dropna(subset=['next_day_return'])\n",
    "df_active_bt = df_active_bt.dropna(subset=['next_day_return'])\n",
    "\n",
    "print(f\"Entry バックテスト対象: {len(df_entry_bt)}件\")\n",
    "print(f\"Active バックテスト対象: {len(df_active_bt)}件\")"
   ]
  },
  {
   "cell_type": "code",
   "execution_count": 7,
   "metadata": {
    "execution": {
     "iopub.execute_input": "2025-10-20T17:11:13.805274Z",
     "iopub.status.busy": "2025-10-20T17:11:13.805205Z",
     "iopub.status.idle": "2025-10-20T17:11:13.864950Z",
     "shell.execute_reply": "2025-10-20T17:11:13.864696Z"
    }
   },
   "outputs": [
    {
     "name": "stdout",
     "output_type": "stream",
     "text": [
      "Entry戦略バックテスト実行中...\n"
     ]
    },
    {
     "name": "stdout",
     "output_type": "stream",
     "text": [
      "Active戦略バックテスト実行中...\n",
      "完了\n"
     ]
    }
   ],
   "source": [
    "# Entry戦略バックテスト\n",
    "def backtest_strategy(df_bt, strategy_name):\n",
    "    \"\"\"\n",
    "    日足バックテスト（寄付買い→大引け売り）\n",
    "    各日Top15銘柄に均等投資\n",
    "    \"\"\"\n",
    "    results = []\n",
    "    \n",
    "    for date in sorted(df_bt['date'].unique()):\n",
    "        df_date = df_bt[df_bt['date'] == date].copy()\n",
    "        \n",
    "        # Top15銘柄選定（ランク順）\n",
    "        rank_col = 'entry_rank' if strategy_name == 'Entry' else 'active_rank'\n",
    "        df_top15 = df_date.nsmallest(15, rank_col)\n",
    "        \n",
    "        if len(df_top15) == 0:\n",
    "            continue\n",
    "        \n",
    "        # 投資シミュレーション（1日100万円を均等配分）\n",
    "        total_investment = 1_000_000\n",
    "        investment_per_stock = total_investment / len(df_top15)\n",
    "        \n",
    "        daily_profit = 0\n",
    "        daily_wins = 0\n",
    "        \n",
    "        for _, row in df_top15.iterrows():\n",
    "            buy_price = row['next_Open']\n",
    "            sell_price = row['next_Close']\n",
    "            shares = investment_per_stock / buy_price\n",
    "            profit = (sell_price - buy_price) * shares\n",
    "            daily_profit += profit\n",
    "            \n",
    "            if profit > 0:\n",
    "                daily_wins += 1\n",
    "        \n",
    "        results.append({\n",
    "            'date': date,\n",
    "            'num_stocks': len(df_top15),\n",
    "            'investment': total_investment,\n",
    "            'profit': daily_profit,\n",
    "            'return_pct': daily_profit / total_investment * 100,\n",
    "            'wins': daily_wins,\n",
    "            'win_rate': daily_wins / len(df_top15) * 100\n",
    "        })\n",
    "    \n",
    "    return pd.DataFrame(results)\n",
    "\n",
    "# Entry戦略実行\n",
    "print(\"Entry戦略バックテスト実行中...\")\n",
    "df_entry_results = backtest_strategy(df_entry_bt, 'Entry')\n",
    "\n",
    "# Active戦略実行\n",
    "print(\"Active戦略バックテスト実行中...\")\n",
    "df_active_results = backtest_strategy(df_active_bt, 'Active')\n",
    "\n",
    "print(\"完了\")"
   ]
  },
  {
   "cell_type": "code",
   "execution_count": 8,
   "metadata": {
    "execution": {
     "iopub.execute_input": "2025-10-20T17:11:13.866132Z",
     "iopub.status.busy": "2025-10-20T17:11:13.866031Z",
     "iopub.status.idle": "2025-10-20T17:11:13.871485Z",
     "shell.execute_reply": "2025-10-20T17:11:13.871277Z"
    }
   },
   "outputs": [
    {
     "name": "stdout",
     "output_type": "stream",
     "text": [
      "================================================================================\n",
      "Entry戦略バックテスト結果\n",
      "================================================================================\n",
      "取引日数: 38\n",
      "総利益: ¥-68,655\n",
      "平均日次利益: ¥-1,807\n",
      "平均リターン: -0.18%\n",
      "勝率: 43.0%\n",
      "勝ち日数: 15 / 38\n",
      "\n",
      "日別結果（直近10日）:\n"
     ]
    },
    {
     "data": {
      "text/html": [
       "<div>\n",
       "<style scoped>\n",
       "    .dataframe tbody tr th:only-of-type {\n",
       "        vertical-align: middle;\n",
       "    }\n",
       "\n",
       "    .dataframe tbody tr th {\n",
       "        vertical-align: top;\n",
       "    }\n",
       "\n",
       "    .dataframe thead th {\n",
       "        text-align: right;\n",
       "    }\n",
       "</style>\n",
       "<table border=\"1\" class=\"dataframe\">\n",
       "  <thead>\n",
       "    <tr style=\"text-align: right;\">\n",
       "      <th></th>\n",
       "      <th>date</th>\n",
       "      <th>num_stocks</th>\n",
       "      <th>investment</th>\n",
       "      <th>profit</th>\n",
       "      <th>return_pct</th>\n",
       "      <th>wins</th>\n",
       "      <th>win_rate</th>\n",
       "    </tr>\n",
       "  </thead>\n",
       "  <tbody>\n",
       "    <tr>\n",
       "      <th>28</th>\n",
       "      <td>2025-10-03</td>\n",
       "      <td>15</td>\n",
       "      <td>1000000</td>\n",
       "      <td>-3235</td>\n",
       "      <td>-0.32</td>\n",
       "      <td>6</td>\n",
       "      <td>40.0</td>\n",
       "    </tr>\n",
       "    <tr>\n",
       "      <th>29</th>\n",
       "      <td>2025-10-06</td>\n",
       "      <td>15</td>\n",
       "      <td>1000000</td>\n",
       "      <td>-1979</td>\n",
       "      <td>-0.20</td>\n",
       "      <td>6</td>\n",
       "      <td>40.0</td>\n",
       "    </tr>\n",
       "    <tr>\n",
       "      <th>30</th>\n",
       "      <td>2025-10-07</td>\n",
       "      <td>15</td>\n",
       "      <td>1000000</td>\n",
       "      <td>-6976</td>\n",
       "      <td>-0.70</td>\n",
       "      <td>3</td>\n",
       "      <td>20.0</td>\n",
       "    </tr>\n",
       "    <tr>\n",
       "      <th>31</th>\n",
       "      <td>2025-10-08</td>\n",
       "      <td>15</td>\n",
       "      <td>1000000</td>\n",
       "      <td>1358</td>\n",
       "      <td>0.14</td>\n",
       "      <td>8</td>\n",
       "      <td>53.3</td>\n",
       "    </tr>\n",
       "    <tr>\n",
       "      <th>32</th>\n",
       "      <td>2025-10-09</td>\n",
       "      <td>15</td>\n",
       "      <td>1000000</td>\n",
       "      <td>-11248</td>\n",
       "      <td>-1.12</td>\n",
       "      <td>4</td>\n",
       "      <td>26.7</td>\n",
       "    </tr>\n",
       "    <tr>\n",
       "      <th>33</th>\n",
       "      <td>2025-10-10</td>\n",
       "      <td>15</td>\n",
       "      <td>1000000</td>\n",
       "      <td>-3332</td>\n",
       "      <td>-0.33</td>\n",
       "      <td>8</td>\n",
       "      <td>53.3</td>\n",
       "    </tr>\n",
       "    <tr>\n",
       "      <th>34</th>\n",
       "      <td>2025-10-14</td>\n",
       "      <td>15</td>\n",
       "      <td>1000000</td>\n",
       "      <td>9846</td>\n",
       "      <td>0.98</td>\n",
       "      <td>14</td>\n",
       "      <td>93.3</td>\n",
       "    </tr>\n",
       "    <tr>\n",
       "      <th>35</th>\n",
       "      <td>2025-10-15</td>\n",
       "      <td>15</td>\n",
       "      <td>1000000</td>\n",
       "      <td>8379</td>\n",
       "      <td>0.84</td>\n",
       "      <td>9</td>\n",
       "      <td>60.0</td>\n",
       "    </tr>\n",
       "    <tr>\n",
       "      <th>36</th>\n",
       "      <td>2025-10-16</td>\n",
       "      <td>15</td>\n",
       "      <td>1000000</td>\n",
       "      <td>-3816</td>\n",
       "      <td>-0.38</td>\n",
       "      <td>4</td>\n",
       "      <td>26.7</td>\n",
       "    </tr>\n",
       "    <tr>\n",
       "      <th>37</th>\n",
       "      <td>2025-10-17</td>\n",
       "      <td>15</td>\n",
       "      <td>1000000</td>\n",
       "      <td>1968</td>\n",
       "      <td>0.20</td>\n",
       "      <td>11</td>\n",
       "      <td>73.3</td>\n",
       "    </tr>\n",
       "  </tbody>\n",
       "</table>\n",
       "</div>"
      ],
      "text/plain": [
       "          date  num_stocks  investment  profit  return_pct  wins  win_rate\n",
       "28  2025-10-03          15     1000000   -3235       -0.32     6      40.0\n",
       "29  2025-10-06          15     1000000   -1979       -0.20     6      40.0\n",
       "30  2025-10-07          15     1000000   -6976       -0.70     3      20.0\n",
       "31  2025-10-08          15     1000000    1358        0.14     8      53.3\n",
       "32  2025-10-09          15     1000000  -11248       -1.12     4      26.7\n",
       "33  2025-10-10          15     1000000   -3332       -0.33     8      53.3\n",
       "34  2025-10-14          15     1000000    9846        0.98    14      93.3\n",
       "35  2025-10-15          15     1000000    8379        0.84     9      60.0\n",
       "36  2025-10-16          15     1000000   -3816       -0.38     4      26.7\n",
       "37  2025-10-17          15     1000000    1968        0.20    11      73.3"
      ]
     },
     "metadata": {},
     "output_type": "display_data"
    }
   ],
   "source": [
    "# Entry結果サマリー\n",
    "print(\"=\" * 80)\n",
    "print(\"Entry戦略バックテスト結果\")\n",
    "print(\"=\" * 80)\n",
    "print(f\"取引日数: {len(df_entry_results)}\")\n",
    "print(f\"総利益: ¥{df_entry_results['profit'].sum():,.0f}\")\n",
    "print(f\"平均日次利益: ¥{df_entry_results['profit'].mean():,.0f}\")\n",
    "print(f\"平均リターン: {df_entry_results['return_pct'].mean():.2f}%\")\n",
    "print(f\"勝率: {df_entry_results['win_rate'].mean():.1f}%\")\n",
    "print(f\"勝ち日数: {(df_entry_results['profit'] > 0).sum()} / {len(df_entry_results)}\")\n",
    "\n",
    "# 日別結果表示（フォーマット整形）\n",
    "df_display = df_entry_results.copy()\n",
    "df_display['date'] = df_display['date'].dt.strftime('%Y-%m-%d')\n",
    "df_display['profit'] = df_display['profit'].round(0).astype(int)\n",
    "df_display['investment'] = df_display['investment'].round(0).astype(int)\n",
    "df_display['return_pct'] = df_display['return_pct'].round(2)\n",
    "df_display['win_rate'] = df_display['win_rate'].round(1)\n",
    "\n",
    "print(\"\\n日別結果（直近10日）:\")\n",
    "display(df_display.tail(10))"
   ]
  },
  {
   "cell_type": "code",
   "execution_count": 9,
   "metadata": {
    "execution": {
     "iopub.execute_input": "2025-10-20T17:11:13.872591Z",
     "iopub.status.busy": "2025-10-20T17:11:13.872518Z",
     "iopub.status.idle": "2025-10-20T17:11:13.878406Z",
     "shell.execute_reply": "2025-10-20T17:11:13.878196Z"
    }
   },
   "outputs": [
    {
     "name": "stdout",
     "output_type": "stream",
     "text": [
      "================================================================================\n",
      "Active戦略バックテスト結果\n",
      "================================================================================\n",
      "取引日数: 38\n",
      "総利益: ¥-238,673\n",
      "平均日次利益: ¥-6,281\n",
      "平均リターン: -0.63%\n",
      "勝率: 36.7%\n",
      "勝ち日数: 11 / 38\n",
      "\n",
      "日別結果（直近10日）:\n"
     ]
    },
    {
     "data": {
      "text/html": [
       "<div>\n",
       "<style scoped>\n",
       "    .dataframe tbody tr th:only-of-type {\n",
       "        vertical-align: middle;\n",
       "    }\n",
       "\n",
       "    .dataframe tbody tr th {\n",
       "        vertical-align: top;\n",
       "    }\n",
       "\n",
       "    .dataframe thead th {\n",
       "        text-align: right;\n",
       "    }\n",
       "</style>\n",
       "<table border=\"1\" class=\"dataframe\">\n",
       "  <thead>\n",
       "    <tr style=\"text-align: right;\">\n",
       "      <th></th>\n",
       "      <th>date</th>\n",
       "      <th>num_stocks</th>\n",
       "      <th>investment</th>\n",
       "      <th>profit</th>\n",
       "      <th>return_pct</th>\n",
       "      <th>wins</th>\n",
       "      <th>win_rate</th>\n",
       "    </tr>\n",
       "  </thead>\n",
       "  <tbody>\n",
       "    <tr>\n",
       "      <th>28</th>\n",
       "      <td>2025-10-03</td>\n",
       "      <td>15</td>\n",
       "      <td>1000000</td>\n",
       "      <td>-37414</td>\n",
       "      <td>-3.74</td>\n",
       "      <td>2</td>\n",
       "      <td>13.3</td>\n",
       "    </tr>\n",
       "    <tr>\n",
       "      <th>29</th>\n",
       "      <td>2025-10-06</td>\n",
       "      <td>15</td>\n",
       "      <td>1000000</td>\n",
       "      <td>-4975</td>\n",
       "      <td>-0.50</td>\n",
       "      <td>5</td>\n",
       "      <td>33.3</td>\n",
       "    </tr>\n",
       "    <tr>\n",
       "      <th>30</th>\n",
       "      <td>2025-10-07</td>\n",
       "      <td>15</td>\n",
       "      <td>1000000</td>\n",
       "      <td>-22607</td>\n",
       "      <td>-2.26</td>\n",
       "      <td>2</td>\n",
       "      <td>13.3</td>\n",
       "    </tr>\n",
       "    <tr>\n",
       "      <th>31</th>\n",
       "      <td>2025-10-08</td>\n",
       "      <td>15</td>\n",
       "      <td>1000000</td>\n",
       "      <td>-3633</td>\n",
       "      <td>-0.36</td>\n",
       "      <td>7</td>\n",
       "      <td>46.7</td>\n",
       "    </tr>\n",
       "    <tr>\n",
       "      <th>32</th>\n",
       "      <td>2025-10-09</td>\n",
       "      <td>15</td>\n",
       "      <td>1000000</td>\n",
       "      <td>-21609</td>\n",
       "      <td>-2.16</td>\n",
       "      <td>5</td>\n",
       "      <td>33.3</td>\n",
       "    </tr>\n",
       "    <tr>\n",
       "      <th>33</th>\n",
       "      <td>2025-10-10</td>\n",
       "      <td>15</td>\n",
       "      <td>1000000</td>\n",
       "      <td>2064</td>\n",
       "      <td>0.21</td>\n",
       "      <td>6</td>\n",
       "      <td>40.0</td>\n",
       "    </tr>\n",
       "    <tr>\n",
       "      <th>34</th>\n",
       "      <td>2025-10-14</td>\n",
       "      <td>15</td>\n",
       "      <td>1000000</td>\n",
       "      <td>17959</td>\n",
       "      <td>1.80</td>\n",
       "      <td>10</td>\n",
       "      <td>66.7</td>\n",
       "    </tr>\n",
       "    <tr>\n",
       "      <th>35</th>\n",
       "      <td>2025-10-15</td>\n",
       "      <td>15</td>\n",
       "      <td>1000000</td>\n",
       "      <td>-3784</td>\n",
       "      <td>-0.38</td>\n",
       "      <td>4</td>\n",
       "      <td>26.7</td>\n",
       "    </tr>\n",
       "    <tr>\n",
       "      <th>36</th>\n",
       "      <td>2025-10-16</td>\n",
       "      <td>15</td>\n",
       "      <td>1000000</td>\n",
       "      <td>-14570</td>\n",
       "      <td>-1.46</td>\n",
       "      <td>3</td>\n",
       "      <td>20.0</td>\n",
       "    </tr>\n",
       "    <tr>\n",
       "      <th>37</th>\n",
       "      <td>2025-10-17</td>\n",
       "      <td>15</td>\n",
       "      <td>1000000</td>\n",
       "      <td>20193</td>\n",
       "      <td>2.02</td>\n",
       "      <td>9</td>\n",
       "      <td>60.0</td>\n",
       "    </tr>\n",
       "  </tbody>\n",
       "</table>\n",
       "</div>"
      ],
      "text/plain": [
       "          date  num_stocks  investment  profit  return_pct  wins  win_rate\n",
       "28  2025-10-03          15     1000000  -37414       -3.74     2      13.3\n",
       "29  2025-10-06          15     1000000   -4975       -0.50     5      33.3\n",
       "30  2025-10-07          15     1000000  -22607       -2.26     2      13.3\n",
       "31  2025-10-08          15     1000000   -3633       -0.36     7      46.7\n",
       "32  2025-10-09          15     1000000  -21609       -2.16     5      33.3\n",
       "33  2025-10-10          15     1000000    2064        0.21     6      40.0\n",
       "34  2025-10-14          15     1000000   17959        1.80    10      66.7\n",
       "35  2025-10-15          15     1000000   -3784       -0.38     4      26.7\n",
       "36  2025-10-16          15     1000000  -14570       -1.46     3      20.0\n",
       "37  2025-10-17          15     1000000   20193        2.02     9      60.0"
      ]
     },
     "metadata": {},
     "output_type": "display_data"
    }
   ],
   "source": [
    "# Active結果サマリー\n",
    "print(\"=\" * 80)\n",
    "print(\"Active戦略バックテスト結果\")\n",
    "print(\"=\" * 80)\n",
    "print(f\"取引日数: {len(df_active_results)}\")\n",
    "print(f\"総利益: ¥{df_active_results['profit'].sum():,.0f}\")\n",
    "print(f\"平均日次利益: ¥{df_active_results['profit'].mean():,.0f}\")\n",
    "print(f\"平均リターン: {df_active_results['return_pct'].mean():.2f}%\")\n",
    "print(f\"勝率: {df_active_results['win_rate'].mean():.1f}%\")\n",
    "print(f\"勝ち日数: {(df_active_results['profit'] > 0).sum()} / {len(df_active_results)}\")\n",
    "\n",
    "# 日別結果表示（フォーマット整形）\n",
    "df_display = df_active_results.copy()\n",
    "df_display['date'] = df_display['date'].dt.strftime('%Y-%m-%d')\n",
    "df_display['profit'] = df_display['profit'].round(0).astype(int)\n",
    "df_display['investment'] = df_display['investment'].round(0).astype(int)\n",
    "df_display['return_pct'] = df_display['return_pct'].round(2)\n",
    "df_display['win_rate'] = df_display['win_rate'].round(1)\n",
    "\n",
    "print(\"\\n日別結果（直近10日）:\")\n",
    "display(df_display.tail(10))"
   ]
  },
  {
   "cell_type": "code",
   "execution_count": 10,
   "metadata": {
    "execution": {
     "iopub.execute_input": "2025-10-20T17:11:13.879466Z",
     "iopub.status.busy": "2025-10-20T17:11:13.879387Z",
     "iopub.status.idle": "2025-10-20T17:11:14.189448Z",
     "shell.execute_reply": "2025-10-20T17:11:14.189175Z"
    }
   },
   "outputs": [
    {
     "data": {
      "image/png": "[encoded data removed]",
      "text/plain": [
       "<Figure size 1600x1000 with 4 Axes>"
      ]
     },
     "metadata": {},
     "output_type": "display_data"
    }
   ],
   "source": [
    "# バックテスト結果の可視化\n",
    "fig, axes = plt.subplots(2, 2, figsize=(16, 10))\n",
    "\n",
    "# Entry: 日次損益\n",
    "ax = axes[0, 0]\n",
    "colors = ['green' if p > 0 else 'red' for p in df_entry_results['profit']]\n",
    "ax.bar(df_entry_results['date'], df_entry_results['profit'], color=colors, alpha=0.7)\n",
    "ax.axhline(y=0, color='black', linestyle='-', linewidth=0.5)\n",
    "ax.set_title('Entry: 日次損益')\n",
    "ax.set_xlabel('日付')\n",
    "ax.set_ylabel('損益 (円)')\n",
    "ax.grid(True, alpha=0.3)\n",
    "plt.setp(ax.xaxis.get_majorticklabels(), rotation=45)\n",
    "\n",
    "# Entry: 累積損益\n",
    "ax = axes[0, 1]\n",
    "cumulative = df_entry_results['profit'].cumsum()\n",
    "ax.plot(df_entry_results['date'], cumulative, linewidth=2, color='blue')\n",
    "ax.axhline(y=0, color='black', linestyle='-', linewidth=0.5)\n",
    "ax.set_title('Entry: 累積損益')\n",
    "ax.set_xlabel('日付')\n",
    "ax.set_ylabel('累積損益 (円)')\n",
    "ax.grid(True, alpha=0.3)\n",
    "plt.setp(ax.xaxis.get_majorticklabels(), rotation=45)\n",
    "\n",
    "# Active: 日次損益\n",
    "ax = axes[1, 0]\n",
    "colors = ['green' if p > 0 else 'red' for p in df_active_results['profit']]\n",
    "ax.bar(df_active_results['date'], df_active_results['profit'], color=colors, alpha=0.7)\n",
    "ax.axhline(y=0, color='black', linestyle='-', linewidth=0.5)\n",
    "ax.set_title('Active: 日次損益')\n",
    "ax.set_xlabel('日付')\n",
    "ax.set_ylabel('損益 (円)')\n",
    "ax.grid(True, alpha=0.3)\n",
    "plt.setp(ax.xaxis.get_majorticklabels(), rotation=45)\n",
    "\n",
    "# Active: 累積損益\n",
    "ax = axes[1, 1]\n",
    "cumulative = df_active_results['profit'].cumsum()\n",
    "ax.plot(df_active_results['date'], cumulative, linewidth=2, color='orange')\n",
    "ax.axhline(y=0, color='black', linestyle='-', linewidth=0.5)\n",
    "ax.set_title('Active: 累積損益')\n",
    "ax.set_xlabel('日付')\n",
    "ax.set_ylabel('累積損益 (円)')\n",
    "ax.grid(True, alpha=0.3)\n",
    "plt.setp(ax.xaxis.get_majorticklabels(), rotation=45)\n",
    "\n",
    "plt.tight_layout()\n",
    "plt.show()"
   ]
  },
  {
   "cell_type": "markdown",
   "metadata": {},
   "source": [
    "## 4. 相関分析（指標の有効性検証）"
   ]
  },
  {
   "cell_type": "code",
   "execution_count": 11,
   "metadata": {
    "execution": {
     "iopub.execute_input": "2025-10-20T17:11:14.191441Z",
     "iopub.status.busy": "2025-10-20T17:11:14.191211Z",
     "iopub.status.idle": "2025-10-20T17:11:14.195084Z",
     "shell.execute_reply": "2025-10-20T17:11:14.194883Z"
    }
   },
   "outputs": [
    {
     "name": "stdout",
     "output_type": "stream",
     "text": [
      "### Entry: 儲かった vs 損した銘柄の指標比較\n",
      "指標 | 儲かった平均 | 損した平均 | 差分\n",
      "------------------------------------------------------------\n",
      "change_pct      |        -0.14 |       -0.02 |   -0.13\n",
      "atr14_pct       |         2.01 |        2.02 |   -0.00\n",
      "rsi14           |        46.29 |       50.19 |   -3.90\n",
      "vol_ratio       |       105.09 |      106.97 |   -1.88\n",
      "entry_score     |        69.61 |       67.35 |   +2.27\n"
     ]
    }
   ],
   "source": [
    "# Entry候補の勝ち/負け分析\n",
    "df_entry_win = df_entry_bt[df_entry_bt['next_day_return'] > 0].copy()\n",
    "df_entry_lose = df_entry_bt[df_entry_bt['next_day_return'] <= 0].copy()\n",
    "\n",
    "print(\"### Entry: 儲かった vs 損した銘柄の指標比較\")\n",
    "print(\"指標 | 儲かった平均 | 損した平均 | 差分\")\n",
    "print(\"-\" * 60)\n",
    "\n",
    "indicators = ['change_pct', 'atr14_pct', 'rsi14', 'vol_ratio', 'entry_score']\n",
    "for ind in indicators:\n",
    "    if ind in df_entry_bt.columns:\n",
    "        win_mean = df_entry_win[ind].mean()\n",
    "        lose_mean = df_entry_lose[ind].mean()\n",
    "        diff = win_mean - lose_mean\n",
    "        print(f\"{ind:15s} | {win_mean:12.2f} | {lose_mean:11.2f} | {diff:+7.2f}\")"
   ]
  },
  {
   "cell_type": "code",
   "execution_count": 12,
   "metadata": {
    "execution": {
     "iopub.execute_input": "2025-10-20T17:11:14.196116Z",
     "iopub.status.busy": "2025-10-20T17:11:14.196046Z",
     "iopub.status.idle": "2025-10-20T17:11:14.199100Z",
     "shell.execute_reply": "2025-10-20T17:11:14.198891Z"
    }
   },
   "outputs": [
    {
     "name": "stdout",
     "output_type": "stream",
     "text": [
      "\n",
      "### Entry: 各指標と翌日リターンの相関係数\n",
      "指標 | 相関係数\n",
      "----------------------------------------\n",
      "change_pct      |  -0.0730\n",
      "atr14_pct       |  -0.0336\n",
      "rsi14           |  -0.1003\n",
      "vol_ratio       |  -0.0021\n",
      "entry_score     |  +0.0718\n"
     ]
    }
   ],
   "source": [
    "# Entry: 相関係数計算\n",
    "print(\"\\n### Entry: 各指標と翌日リターンの相関係数\")\n",
    "print(\"指標 | 相関係数\")\n",
    "print(\"-\" * 40)\n",
    "\n",
    "for ind in indicators:\n",
    "    if ind in df_entry_bt.columns:\n",
    "        corr = df_entry_bt[[ind, 'next_day_return']].corr().iloc[0, 1]\n",
    "        print(f\"{ind:15s} | {corr:+8.4f}\")"
   ]
  },
  {
   "cell_type": "code",
   "execution_count": 13,
   "metadata": {
    "execution": {
     "iopub.execute_input": "2025-10-20T17:11:14.200078Z",
     "iopub.status.busy": "2025-10-20T17:11:14.200008Z",
     "iopub.status.idle": "2025-10-20T17:11:14.202848Z",
     "shell.execute_reply": "2025-10-20T17:11:14.202666Z"
    }
   },
   "outputs": [
    {
     "name": "stdout",
     "output_type": "stream",
     "text": [
      "\n",
      "### Entry: overall_rating別の勝率\n",
      "中立             : 勝率 43.7% (n=1134), 平均リターン -0.12%\n",
      "買い             : 勝率 63.2% (n= 38), 平均リターン +0.07%\n"
     ]
    }
   ],
   "source": [
    "# Entry: overall_rating別の勝率分析\n",
    "if 'overall_rating' in df_entry_bt.columns:\n",
    "    print(\"\\n### Entry: overall_rating別の勝率\")\n",
    "    for rating in sorted(df_entry_bt['overall_rating'].unique()):\n",
    "        subset = df_entry_bt[df_entry_bt['overall_rating'] == rating]\n",
    "        if len(subset) > 0:\n",
    "            win_rate = (subset['next_day_return'] > 0).sum() / len(subset) * 100\n",
    "            avg_return = subset['next_day_return'].mean()\n",
    "            print(f\"{rating:15s}: 勝率{win_rate:5.1f}% (n={len(subset):3d}), 平均リターン{avg_return:+6.2f}%\")"
   ]
  },
  {
   "cell_type": "code",
   "execution_count": 14,
   "metadata": {
    "execution": {
     "iopub.execute_input": "2025-10-20T17:11:14.204243Z",
     "iopub.status.busy": "2025-10-20T17:11:14.204172Z",
     "iopub.status.idle": "2025-10-20T17:11:14.208010Z",
     "shell.execute_reply": "2025-10-20T17:11:14.207801Z"
    }
   },
   "outputs": [
    {
     "name": "stdout",
     "output_type": "stream",
     "text": [
      "### Active: 儲かった vs 損した銘柄の指標比較\n",
      "指標 | 儲かった平均 | 損した平均 | 差分\n",
      "------------------------------------------------------------\n",
      "change_pct      |        -1.13 |       -0.13 |   -1.00\n",
      "atr14_pct       |         7.24 |        7.21 |   +0.03\n",
      "rsi14           |        46.79 |       50.54 |   -3.75\n",
      "vol_ratio       |       145.12 |      164.44 |  -19.32\n",
      "active_score    |        69.70 |       71.59 |   -1.89\n"
     ]
    }
   ],
   "source": [
    "# Active候補の勝ち/負け分析\n",
    "df_active_win = df_active_bt[df_active_bt['next_day_return'] > 0].copy()\n",
    "df_active_lose = df_active_bt[df_active_bt['next_day_return'] <= 0].copy()\n",
    "\n",
    "print(\"### Active: 儲かった vs 損した銘柄の指標比較\")\n",
    "print(\"指標 | 儲かった平均 | 損した平均 | 差分\")\n",
    "print(\"-\" * 60)\n",
    "\n",
    "indicators_active = ['change_pct', 'atr14_pct', 'rsi14', 'vol_ratio', 'active_score']\n",
    "for ind in indicators_active:\n",
    "    if ind in df_active_bt.columns:\n",
    "        win_mean = df_active_win[ind].mean()\n",
    "        lose_mean = df_active_lose[ind].mean()\n",
    "        diff = win_mean - lose_mean\n",
    "        print(f\"{ind:15s} | {win_mean:12.2f} | {lose_mean:11.2f} | {diff:+7.2f}\")"
   ]
  },
  {
   "cell_type": "code",
   "execution_count": 15,
   "metadata": {
    "execution": {
     "iopub.execute_input": "2025-10-20T17:11:14.209068Z",
     "iopub.status.busy": "2025-10-20T17:11:14.208987Z",
     "iopub.status.idle": "2025-10-20T17:11:14.212308Z",
     "shell.execute_reply": "2025-10-20T17:11:14.212102Z"
    }
   },
   "outputs": [
    {
     "name": "stdout",
     "output_type": "stream",
     "text": [
      "\n",
      "### Active: 各指標と翌日リターンの相関係数\n",
      "指標 | 相関係数\n",
      "----------------------------------------\n",
      "change_pct      |  -0.1441\n",
      "atr14_pct       |  -0.0735\n",
      "rsi14           |  -0.1201\n",
      "vol_ratio       |  -0.0892\n",
      "active_score    |  -0.1048\n"
     ]
    }
   ],
   "source": [
    "# Active: 相関係数計算\n",
    "print(\"\\n### Active: 各指標と翌日リターンの相関係数\")\n",
    "print(\"指標 | 相関係数\")\n",
    "print(\"-\" * 40)\n",
    "\n",
    "for ind in indicators_active:\n",
    "    if ind in df_active_bt.columns:\n",
    "        corr = df_active_bt[[ind, 'next_day_return']].corr().iloc[0, 1]\n",
    "        print(f\"{ind:15s} | {corr:+8.4f}\")"
   ]
  },
  {
   "cell_type": "markdown",
   "metadata": {},
   "source": [
    "## 5. Top15銘柄の詳細分析（yfinance 5分足）"
   ]
  },
  {
   "cell_type": "code",
   "execution_count": 16,
   "metadata": {
    "execution": {
     "iopub.execute_input": "2025-10-20T17:11:14.213668Z",
     "iopub.status.busy": "2025-10-20T17:11:14.213569Z",
     "iopub.status.idle": "2025-10-20T17:11:14.225495Z",
     "shell.execute_reply": "2025-10-20T17:11:14.225262Z"
    }
   },
   "outputs": [
    {
     "name": "stdout",
     "output_type": "stream",
     "text": [
      "分析対象日: 2025-10-20\n",
      "\n",
      "Entry Top15: 15銘柄\n",
      "   1. 1332.T ニッスイ\n",
      "   2. 197A.T タウンズ\n",
      "   3. 2170.T リンクアンドモチベーション\n",
      "   4. 268A.T リガク・ホールディングス\n",
      "   5. 2749.T ＪＰホールディングス\n",
      "   6. 3401.T 帝人\n",
      "   7. 3665.T エニグモ\n",
      "   8. 3900.T クラウドワークス\n",
      "   9. 3962.T チェンジホールディングス\n",
      "  10. 4095.T 日本パーカライジング\n",
      "  11. 4974.T タカラバイオ\n",
      "  12. 6472.T ＮＴＮ\n",
      "  13. 6473.T ジェイテクト\n",
      "  14. 6768.T タムラ製作所\n",
      "  15. 6962.T 大真空\n",
      "\n",
      "Active Top15: 15銘柄\n",
      "   1. 1384.T ホクリヨウ\n",
      "   2. 1852.T 淺沼組\n",
      "   3. 186A.T アストロスケールホールディングス\n",
      "   4. 1968.T 太平電業\n",
      "   5. 206A.T ＰＲＩＳＭ　ＢｉｏＬａｂ\n",
      "   6. 2158.T ＦＲＯＮＴＥＯ\n",
      "   7. 2164.T 地域新聞社\n",
      "   8. 218A.T Ｌｉｂｅｒａｗａｒｅ\n",
      "   9. 265A.T Ｈｍｃｏｍｍ\n",
      "  10. 268A.T リガク・ホールディングス\n",
      "  11. 2743.T ピクセルカンパニーズ\n",
      "  12. 2776.T 新都ホールディングス\n",
      "  13. 3132.T マクニカホールディングス\n",
      "  14. 3185.T 夢展望\n",
      "  15. 3652.T ディジタルメディアプロフェッショナル\n",
      "\n",
      "合計ユニーク銘柄数: 29\n"
     ]
    }
   ],
   "source": [
    "# 最新日のTop15銘柄を取得\n",
    "latest_date = df['date'].max()\n",
    "df_latest = df[df['date'] == latest_date].copy()\n",
    "\n",
    "# Entry Top15\n",
    "df_entry_top15 = df_latest[df_latest['entry_filter_passed'] == True].nsmallest(15, 'entry_rank')\n",
    "entry_tickers = df_entry_top15['ticker'].tolist()\n",
    "\n",
    "# Active Top15\n",
    "df_active_top15 = df_latest[df_latest['active_filter_passed'] == True].nsmallest(15, 'active_rank')\n",
    "active_tickers = df_active_top15['ticker'].tolist()\n",
    "\n",
    "print(f\"分析対象日: {latest_date.strftime('%Y-%m-%d')}\")\n",
    "print(f\"\\nEntry Top15: {len(entry_tickers)}銘柄\")\n",
    "for i, ticker in enumerate(entry_tickers, 1):\n",
    "    stock_name = df_entry_top15[df_entry_top15['ticker'] == ticker]['stock_name'].iloc[0] if 'stock_name' in df_entry_top15.columns else ''\n",
    "    print(f\"  {i:2d}. {ticker:6s} {stock_name}\")\n",
    "\n",
    "print(f\"\\nActive Top15: {len(active_tickers)}銘柄\")\n",
    "for i, ticker in enumerate(active_tickers, 1):\n",
    "    stock_name = df_active_top15[df_active_top15['ticker'] == ticker]['stock_name'].iloc[0] if 'stock_name' in df_active_top15.columns else ''\n",
    "    print(f\"  {i:2d}. {ticker:6s} {stock_name}\")\n",
    "\n",
    "# 重複除去した分析対象銘柄\n",
    "all_tickers = list(set(entry_tickers + active_tickers))\n",
    "print(f\"\\n合計ユニーク銘柄数: {len(all_tickers)}\")"
   ]
  },
  {
   "cell_type": "code",
   "execution_count": 17,
   "metadata": {
    "execution": {
     "iopub.execute_input": "2025-10-20T17:11:14.226905Z",
     "iopub.status.busy": "2025-10-20T17:11:14.226816Z",
     "iopub.status.idle": "2025-10-20T17:11:26.115492Z",
     "shell.execute_reply": "2025-10-20T17:11:26.115016Z"
    }
   },
   "outputs": [
    {
     "name": "stdout",
     "output_type": "stream",
     "text": [
      "yfinance 5分足データ取得中...\n",
      "============================================================\n"
     ]
    },
    {
     "name": "stdout",
     "output_type": "stream",
     "text": [
      "  ✓  197A.T: 3468本取得 (2025-07-23 ～ 2025-10-20)\n"
     ]
    },
    {
     "name": "stdout",
     "output_type": "stream",
     "text": [
      "  ✓  1384.T: 2702本取得 (2025-07-23 ～ 2025-10-20)\n"
     ]
    },
    {
     "name": "stdout",
     "output_type": "stream",
     "text": [
      "  ✓  3132.T: 3671本取得 (2025-07-23 ～ 2025-10-20)\n"
     ]
    },
    {
     "name": "stdout",
     "output_type": "stream",
     "text": [
      "  ✓  3665.T: 2847本取得 (2025-07-23 ～ 2025-10-20)\n"
     ]
    },
    {
     "name": "stdout",
     "output_type": "stream",
     "text": [
      "  ✓  268A.T: 3639本取得 (2025-07-23 ～ 2025-10-20)\n"
     ]
    },
    {
     "name": "stdout",
     "output_type": "stream",
     "text": [
      "  ✓  2158.T: 3541本取得 (2025-07-23 ～ 2025-10-20)\n"
     ]
    },
    {
     "name": "stdout",
     "output_type": "stream",
     "text": [
      "  ✓  3962.T: 3658本取得 (2025-07-23 ～ 2025-10-20)\n"
     ]
    },
    {
     "name": "stdout",
     "output_type": "stream",
     "text": [
      "  ✓  3652.T: 2068本取得 (2025-07-23 ～ 2025-10-20)\n"
     ]
    },
    {
     "name": "stdout",
     "output_type": "stream",
     "text": [
      "  ✓  6962.T: 3185本取得 (2025-07-23 ～ 2025-10-20)\n"
     ]
    },
    {
     "name": "stdout",
     "output_type": "stream",
     "text": [
      "  ✓  3185.T: 2882本取得 (2025-07-23 ～ 2025-10-20)\n"
     ]
    },
    {
     "name": "stdout",
     "output_type": "stream",
     "text": [
      "  ✓  265A.T: 3267本取得 (2025-07-23 ～ 2025-10-20)\n"
     ]
    },
    {
     "name": "stdout",
     "output_type": "stream",
     "text": [
      "  ✓  4095.T: 3438本取得 (2025-07-23 ～ 2025-10-20)\n"
     ]
    },
    {
     "name": "stdout",
     "output_type": "stream",
     "text": [
      "  ✓  206A.T: 2256本取得 (2025-07-23 ～ 2025-10-20)\n"
     ]
    },
    {
     "name": "stdout",
     "output_type": "stream",
     "text": [
      "  ✓  2743.T: 3571本取得 (2025-07-23 ～ 2025-10-20)\n"
     ]
    },
    {
     "name": "stdout",
     "output_type": "stream",
     "text": [
      "  ✓  3401.T: 3673本取得 (2025-07-23 ～ 2025-10-20)\n"
     ]
    },
    {
     "name": "stdout",
     "output_type": "stream",
     "text": [
      "  ✓  186A.T: 3612本取得 (2025-07-23 ～ 2025-10-20)\n"
     ]
    },
    {
     "name": "stdout",
     "output_type": "stream",
     "text": [
      "  ✓  2749.T: 3438本取得 (2025-07-23 ～ 2025-10-20)\n"
     ]
    },
    {
     "name": "stdout",
     "output_type": "stream",
     "text": [
      "  ✓  6768.T: 3335本取得 (2025-07-23 ～ 2025-10-20)\n"
     ]
    },
    {
     "name": "stdout",
     "output_type": "stream",
     "text": [
      "  ✓  1332.T: 3667本取得 (2025-07-23 ～ 2025-10-20)\n"
     ]
    },
    {
     "name": "stdout",
     "output_type": "stream",
     "text": [
      "  ✓  218A.T: 3661本取得 (2025-07-23 ～ 2025-10-20)\n"
     ]
    },
    {
     "name": "stdout",
     "output_type": "stream",
     "text": [
      "  ✓  2170.T: 3317本取得 (2025-07-23 ～ 2025-10-20)\n"
     ]
    },
    {
     "name": "stdout",
     "output_type": "stream",
     "text": [
      "  ✓  4974.T: 3495本取得 (2025-07-23 ～ 2025-10-20)\n"
     ]
    },
    {
     "name": "stdout",
     "output_type": "stream",
     "text": [
      "  ✓  2164.T: 2291本取得 (2025-07-23 ～ 2025-10-20)\n"
     ]
    },
    {
     "name": "stdout",
     "output_type": "stream",
     "text": [
      "  ✓  1852.T: 3484本取得 (2025-07-23 ～ 2025-10-20)\n"
     ]
    },
    {
     "name": "stdout",
     "output_type": "stream",
     "text": [
      "  ✓  6472.T: 3660本取得 (2025-07-23 ～ 2025-10-20)\n"
     ]
    },
    {
     "name": "stdout",
     "output_type": "stream",
     "text": [
      "  ✓  2776.T: 2750本取得 (2025-07-23 ～ 2025-10-20)\n"
     ]
    },
    {
     "name": "stdout",
     "output_type": "stream",
     "text": [
      "  ✓  3900.T: 3266本取得 (2025-07-23 ～ 2025-10-20)\n"
     ]
    },
    {
     "name": "stdout",
     "output_type": "stream",
     "text": [
      "  ✓  6473.T: 3652本取得 (2025-07-23 ～ 2025-10-20)\n"
     ]
    },
    {
     "name": "stdout",
     "output_type": "stream",
     "text": [
      "  ✓  1968.T: 3039本取得 (2025-07-23 ～ 2025-10-20)\n",
      "============================================================\n",
      "取得成功: 29 / 29 銘柄\n"
     ]
    }
   ],
   "source": [
    "# yfinance 5分足データ取得関数\n",
    "def fetch_intraday_data(ticker, period='60d'):\n",
    "    \"\"\"\n",
    "    yfinanceから5分足データ取得\n",
    "    東証銘柄のティッカーフォーマットを処理\n",
    "    \"\"\"\n",
    "    try:\n",
    "        # ティッカーが既に.Tで終わっている場合は追加しない\n",
    "        if ticker.endswith('.T'):\n",
    "            symbol = ticker\n",
    "        else:\n",
    "            symbol = f\"{ticker}.T\"\n",
    "        \n",
    "        # yfinance download (MultiIndex対応)\n",
    "        df = yf.download(symbol, interval='5m', period=period, progress=False)\n",
    "        \n",
    "        if df.empty:\n",
    "            print(f\"  ⚠️  {ticker}: データ取得失敗（銘柄が存在しないか上場廃止の可能性）\")\n",
    "            return None\n",
    "        \n",
    "        # MultiIndex対応（複数銘柄同時取得時）\n",
    "        if isinstance(df.columns, pd.MultiIndex):\n",
    "            df.columns = df.columns.droplevel(1)\n",
    "        \n",
    "        # タイムゾーン変換（日本時間）\n",
    "        if df.index.tz is not None:\n",
    "            df.index = df.index.tz_convert('Asia/Tokyo')\n",
    "        elif df.index.tz is None:\n",
    "            # タイムゾーン情報がない場合はUTCとして扱い、日本時間に変換\n",
    "            df.index = df.index.tz_localize('UTC').tz_convert('Asia/Tokyo')\n",
    "        \n",
    "        # 取引時間のみ抽出（9:00-15:00）\n",
    "        df = df.between_time('09:00', '15:00')\n",
    "        \n",
    "        if len(df) > 0:\n",
    "            print(f\"  ✓  {ticker}: {len(df)}本取得 ({df.index[0].date()} ～ {df.index[-1].date()})\")\n",
    "            return df\n",
    "        else:\n",
    "            print(f\"  ⚠️  {ticker}: 取引時間内のデータなし\")\n",
    "            return None\n",
    "    \n",
    "    except Exception as e:\n",
    "        print(f\"  ✗  {ticker}: エラー - {e}\")\n",
    "        return None\n",
    "\n",
    "# Top15銘柄の5分足データ取得\n",
    "print(\"yfinance 5分足データ取得中...\")\n",
    "print(\"=\" * 60)\n",
    "\n",
    "intraday_data = {}\n",
    "for ticker in all_tickers:\n",
    "    df_5min = fetch_intraday_data(ticker)\n",
    "    if df_5min is not None:\n",
    "        intraday_data[ticker] = df_5min\n",
    "\n",
    "print(\"=\" * 60)\n",
    "print(f\"取得成功: {len(intraday_data)} / {len(all_tickers)} 銘柄\")\n",
    "\n",
    "if len(intraday_data) == 0:\n",
    "    print(\"\\\\n⚠️  実在する銘柄データが取得できませんでした。\")\n",
    "    print(\"   モックデータの銘柄コードが実在しないか、上場廃止の可能性があります。\")"
   ]
  },
  {
   "cell_type": "code",
   "execution_count": 18,
   "metadata": {
    "execution": {
     "iopub.execute_input": "2025-10-20T17:11:26.118046Z",
     "iopub.status.busy": "2025-10-20T17:11:26.117882Z",
     "iopub.status.idle": "2025-10-20T17:12:36.468182Z",
     "shell.execute_reply": "2025-10-20T17:12:36.467741Z"
    }
   },
   "outputs": [
    {
     "name": "stdout",
     "output_type": "stream",
     "text": [
      "時間帯別パフォーマンス分析中...\n"
     ]
    },
    {
     "name": "stdout",
     "output_type": "stream",
     "text": [
      "分析完了: 465978件のデータポイント\n"
     ]
    }
   ],
   "source": [
    "# 時間帯別パフォーマンス分析\n",
    "def analyze_intraday_performance(intraday_data):\n",
    "    \"\"\"\n",
    "    時間帯別のリターン分析\n",
    "    - 寄付（9:00-9:30）買い → 各時間帯売りのパフォーマンス\n",
    "    \"\"\"\n",
    "    results = []\n",
    "    \n",
    "    for ticker, df_5min in intraday_data.items():\n",
    "        # 日別に分析\n",
    "        for date in df_5min.index.date:\n",
    "            df_day = df_5min[df_5min.index.date == date]\n",
    "            \n",
    "            if len(df_day) == 0:\n",
    "                continue\n",
    "            \n",
    "            # 寄付価格（9:00-9:30の平均）\n",
    "            df_open = df_day.between_time('09:00', '09:30')\n",
    "            if len(df_open) == 0:\n",
    "                continue\n",
    "            open_price = df_open['Close'].mean()\n",
    "            \n",
    "            # 各時間帯の価格\n",
    "            time_slots = [\n",
    "                ('10:00', '10:30', '前場中盤'),\n",
    "                ('11:00', '11:30', '前場終盤'),\n",
    "                ('12:30', '13:00', '後場開始'),\n",
    "                ('14:00', '14:30', '後場中盤'),\n",
    "                ('14:30', '15:00', '大引け')\n",
    "            ]\n",
    "            \n",
    "            for start_time, end_time, label in time_slots:\n",
    "                df_slot = df_day.between_time(start_time, end_time)\n",
    "                if len(df_slot) > 0:\n",
    "                    sell_price = df_slot['Close'].mean()\n",
    "                    return_pct = (sell_price - open_price) / open_price * 100\n",
    "                    \n",
    "                    results.append({\n",
    "                        'ticker': ticker,\n",
    "                        'date': date,\n",
    "                        'sell_time': label,\n",
    "                        'open_price': open_price,\n",
    "                        'sell_price': sell_price,\n",
    "                        'return_pct': return_pct\n",
    "                    })\n",
    "    \n",
    "    return pd.DataFrame(results)\n",
    "\n",
    "# 分析実行\n",
    "print(\"時間帯別パフォーマンス分析中...\")\n",
    "df_intraday_perf = analyze_intraday_performance(intraday_data)\n",
    "print(f\"分析完了: {len(df_intraday_perf)}件のデータポイント\")"
   ]
  },
  {
   "cell_type": "code",
   "execution_count": 19,
   "metadata": {
    "execution": {
     "iopub.execute_input": "2025-10-20T17:12:36.470482Z",
     "iopub.status.busy": "2025-10-20T17:12:36.470355Z",
     "iopub.status.idle": "2025-10-20T17:12:36.607579Z",
     "shell.execute_reply": "2025-10-20T17:12:36.607333Z"
    }
   },
   "outputs": [
    {
     "name": "stdout",
     "output_type": "stream",
     "text": [
      "### 時間帯別平均リターン（寄付買い → 各時間帯売り）\n",
      "============================================================\n"
     ]
    },
    {
     "data": {
      "text/html": [
       "<div>\n",
       "<style scoped>\n",
       "    .dataframe tbody tr th:only-of-type {\n",
       "        vertical-align: middle;\n",
       "    }\n",
       "\n",
       "    .dataframe tbody tr th {\n",
       "        vertical-align: top;\n",
       "    }\n",
       "\n",
       "    .dataframe thead th {\n",
       "        text-align: right;\n",
       "    }\n",
       "</style>\n",
       "<table border=\"1\" class=\"dataframe\">\n",
       "  <thead>\n",
       "    <tr style=\"text-align: right;\">\n",
       "      <th></th>\n",
       "      <th>平均リターン(%)</th>\n",
       "      <th>標準偏差(%)</th>\n",
       "      <th>サンプル数</th>\n",
       "    </tr>\n",
       "    <tr>\n",
       "      <th>sell_time</th>\n",
       "      <th></th>\n",
       "      <th></th>\n",
       "      <th></th>\n",
       "    </tr>\n",
       "  </thead>\n",
       "  <tbody>\n",
       "    <tr>\n",
       "      <th>前場中盤</th>\n",
       "      <td>0.04</td>\n",
       "      <td>1.32</td>\n",
       "      <td>93262</td>\n",
       "    </tr>\n",
       "    <tr>\n",
       "      <th>前場終盤</th>\n",
       "      <td>-0.01</td>\n",
       "      <td>1.71</td>\n",
       "      <td>92970</td>\n",
       "    </tr>\n",
       "    <tr>\n",
       "      <th>後場開始</th>\n",
       "      <td>-0.03</td>\n",
       "      <td>1.85</td>\n",
       "      <td>93313</td>\n",
       "    </tr>\n",
       "    <tr>\n",
       "      <th>後場中盤</th>\n",
       "      <td>-0.02</td>\n",
       "      <td>2.21</td>\n",
       "      <td>93207</td>\n",
       "    </tr>\n",
       "    <tr>\n",
       "      <th>大引け</th>\n",
       "      <td>-0.04</td>\n",
       "      <td>2.36</td>\n",
       "      <td>93226</td>\n",
       "    </tr>\n",
       "  </tbody>\n",
       "</table>\n",
       "</div>"
      ],
      "text/plain": [
       "           平均リターン(%)  標準偏差(%)  サンプル数\n",
       "sell_time                           \n",
       "前場中盤            0.04     1.32  93262\n",
       "前場終盤           -0.01     1.71  92970\n",
       "後場開始           -0.03     1.85  93313\n",
       "後場中盤           -0.02     2.21  93207\n",
       "大引け            -0.04     2.36  93226"
      ]
     },
     "metadata": {},
     "output_type": "display_data"
    },
    {
     "data": {
      "image/png": "[encoded data removed]",
      "text/plain": [
       "<Figure size 1000x600 with 1 Axes>"
      ]
     },
     "metadata": {},
     "output_type": "display_data"
    },
    {
     "name": "stdout",
     "output_type": "stream",
     "text": [
      "\n",
      "### 時間帯別勝率\n",
      "前場中盤      :  53.0% (n=93262)\n",
      "前場終盤      :  50.9% (n=92970)\n",
      "後場開始      :  49.5% (n=93313)\n",
      "後場中盤      :  48.8% (n=93207)\n",
      "大引け       :  49.1% (n=93226)\n"
     ]
    }
   ],
   "source": [
    "# 時間帯別の平均リターン\n",
    "if len(df_intraday_perf) > 0:\n",
    "    print(\"### 時間帯別平均リターン（寄付買い → 各時間帯売り）\")\n",
    "    print(\"=\" * 60)\n",
    "    \n",
    "    summary = df_intraday_perf.groupby('sell_time').agg({\n",
    "        'return_pct': ['mean', 'std', 'count'],\n",
    "    }).round(2)\n",
    "    \n",
    "    summary.columns = ['平均リターン(%)', '標準偏差(%)', 'サンプル数']\n",
    "    \n",
    "    # 時間帯の順序を保持\n",
    "    time_order = ['前場中盤', '前場終盤', '後場開始', '後場中盤', '大引け']\n",
    "    summary = summary.reindex(time_order)\n",
    "    \n",
    "    display(summary)\n",
    "    \n",
    "    # 可視化\n",
    "    fig, ax = plt.subplots(figsize=(10, 6))\n",
    "    x = range(len(summary))\n",
    "    ax.bar(x, summary['平均リターン(%)'], color=['green' if v > 0 else 'red' for v in summary['平均リターン(%)']], alpha=0.7)\n",
    "    ax.axhline(y=0, color='black', linestyle='-', linewidth=0.5)\n",
    "    ax.set_xticks(x)\n",
    "    ax.set_xticklabels(summary.index)\n",
    "    ax.set_ylabel('平均リターン (%)')\n",
    "    ax.set_title('時間帯別平均リターン（寄付買い → 各時間帯売り）')\n",
    "    ax.grid(True, alpha=0.3)\n",
    "    plt.tight_layout()\n",
    "    plt.show()\n",
    "    \n",
    "    # 勝率も表示\n",
    "    print(\"\\n### 時間帯別勝率\")\n",
    "    for time_slot in time_order:\n",
    "        subset = df_intraday_perf[df_intraday_perf['sell_time'] == time_slot]\n",
    "        if len(subset) > 0:\n",
    "            win_rate = (subset['return_pct'] > 0).sum() / len(subset) * 100\n",
    "            print(f\"{time_slot:10s}: {win_rate:5.1f}% (n={len(subset)})\")\n",
    "\n",
    "else:\n",
    "    print(\"⚠️ 分析データが不足しています\")"
   ]
  },
  {
   "cell_type": "markdown",
   "metadata": {},
   "source": [
    "## 6. 総合結論（チャット貼り付け用）"
   ]
  },
  {
   "cell_type": "code",
   "execution_count": 20,
   "metadata": {
    "execution": {
     "iopub.execute_input": "2025-10-20T17:12:36.608852Z",
     "iopub.status.busy": "2025-10-20T17:12:36.608769Z",
     "iopub.status.idle": "2025-10-20T17:12:36.693154Z",
     "shell.execute_reply": "2025-10-20T17:12:36.692909Z"
    }
   },
   "outputs": [
    {
     "name": "stdout",
     "output_type": "stream",
     "text": [
      "================================================================================\n",
      "スキャルピング銘柄選定 総合分析結果\n",
      "================================================================================\n",
      "\n",
      "### 1. 日足バックテスト結果\n",
      "--------------------------------------------------------------------------------\n",
      "\n",
      "[Entry戦略]\n",
      "  取引日数: 38日\n",
      "  総利益: ¥-68,655\n",
      "  平均日次利益: ¥-1,807\n",
      "  平均リターン: -0.18%\n",
      "  勝率: 43.0%\n",
      "  勝ち日数/負け日数: 15 / 23\n",
      "\n",
      "[Active戦略]\n",
      "  取引日数: 38日\n",
      "  総利益: ¥-238,673\n",
      "  平均日次利益: ¥-6,281\n",
      "  平均リターン: -0.63%\n",
      "  勝率: 36.7%\n",
      "  勝ち日数/負け日数: 11 / 27\n",
      "\n",
      "### 2. 相関分析結果（各指標と翌日リターンの相関係数）\n",
      "--------------------------------------------------------------------------------\n",
      "\n",
      "[Entry戦略]\n",
      "指標           | 相関係数 | 評価\n",
      "--------------------------------------------------\n",
      "change_pct      |  -0.0730 | ❌ 負の相関\n",
      "atr14_pct       |  -0.0336 | ⚠️  効果なし\n",
      "rsi14           |  -0.1003 | ❌ 負の相関\n",
      "vol_ratio       |  -0.0021 | ⚠️  効果なし\n",
      "entry_score     |  +0.0718 | ✅ 正の相関\n",
      "\n",
      "[Active戦略]\n",
      "指標           | 相関係数 | 評価\n",
      "--------------------------------------------------\n",
      "change_pct      |  -0.1441 | ❌ 負の相関\n",
      "atr14_pct       |  -0.0735 | ❌ 負の相関\n",
      "rsi14           |  -0.1201 | ❌ 負の相関\n",
      "vol_ratio       |  -0.0892 | ❌ 負の相関\n",
      "active_score    |  -0.1048 | ❌ 負の相関\n",
      "\n",
      "### 3. 時間帯別パフォーマンス（寄付買い → 各時間帯売り）\n",
      "--------------------------------------------------------------------------------\n",
      "前場中盤      : 平均 +0.04%, 勝率 53.0% (n=93262)\n",
      "前場終盤      : 平均 -0.01%, 勝率 50.9% (n=92970)\n",
      "後場開始      : 平均 -0.03%, 勝率 49.5% (n=93313)\n"
     ]
    },
    {
     "name": "stdout",
     "output_type": "stream",
     "text": [
      "後場中盤      : 平均 -0.02%, 勝率 48.8% (n=93207)\n"
     ]
    },
    {
     "name": "stdout",
     "output_type": "stream",
     "text": [
      "大引け       : 平均 -0.04%, 勝率 49.1% (n=93226)\n",
      "\n",
      "### 4. 改善提案\n",
      "--------------------------------------------------------------------------------\n",
      "\n",
      "[Entry戦略]\n",
      "  ❌ RSI14が負の相関 → RSIの評価方法を逆転すべき\n",
      "     提案: RSI 30-50（売られ過ぎから回復）を高評価に変更\n",
      "\n",
      "[Active戦略]\n",
      "  🚨 active_scoreが負の相関 → スコアが高いほど損する（完全に逆）\n",
      "  ❌ RSI14が強い負の相関 → RSI高い = 買われ過ぎ = 天井 → 避けるべき\n",
      "  ❌ change_pctが負の相関 → 大きく動いた株 = 既に天井 → 避けるべき\n",
      "     提案: 『これから動く株』を選ぶロジックに変更（RSI低い、出来高まだ増えていない）\n",
      "\n",
      "### 5. 次のアクション\n",
      "--------------------------------------------------------------------------------\n",
      "  1. 全銘柄データで同様の分析を実行（100銘柄 → 3700銘柄）\n",
      "  2. スコアリングロジックを修正:\n",
      "     - RSI評価を逆転（30-50を高評価、60以上を減点）\n",
      "     - overall_rating削除（40点を他指標に再配分）\n",
      "     - vol_ratioの使い方を見直し（Active: 急増を避ける）\n",
      "     - change_pctの使い方を見直し（Active: 大きく動いた株を避ける）\n",
      "  3. 修正後のロジックで再バックテスト\n",
      "  4. 勝率50%超え、平均リターンプラスを目指す\n",
      "\n",
      "================================================================================\n",
      "分析完了\n",
      "================================================================================\n"
     ]
    }
   ],
   "source": [
    "print(\"=\" * 80)\n",
    "print(\"スキャルピング銘柄選定 総合分析結果\")\n",
    "print(\"=\" * 80)\n",
    "\n",
    "# 1. バックテスト結果サマリー\n",
    "print(\"\\n### 1. 日足バックテスト結果\")\n",
    "print(\"-\" * 80)\n",
    "print(\"\\n[Entry戦略]\")\n",
    "print(f\"  取引日数: {len(df_entry_results)}日\")\n",
    "print(f\"  総利益: ¥{df_entry_results['profit'].sum():,.0f}\")\n",
    "print(f\"  平均日次利益: ¥{df_entry_results['profit'].mean():,.0f}\")\n",
    "print(f\"  平均リターン: {df_entry_results['return_pct'].mean():.2f}%\")\n",
    "print(f\"  勝率: {df_entry_results['win_rate'].mean():.1f}%\")\n",
    "print(f\"  勝ち日数/負け日数: {(df_entry_results['profit'] > 0).sum()} / {(df_entry_results['profit'] <= 0).sum()}\")\n",
    "\n",
    "print(\"\\n[Active戦略]\")\n",
    "print(f\"  取引日数: {len(df_active_results)}日\")\n",
    "print(f\"  総利益: ¥{df_active_results['profit'].sum():,.0f}\")\n",
    "print(f\"  平均日次利益: ¥{df_active_results['profit'].mean():,.0f}\")\n",
    "print(f\"  平均リターン: {df_active_results['return_pct'].mean():.2f}%\")\n",
    "print(f\"  勝率: {df_active_results['win_rate'].mean():.1f}%\")\n",
    "print(f\"  勝ち日数/負け日数: {(df_active_results['profit'] > 0).sum()} / {(df_active_results['profit'] <= 0).sum()}\")\n",
    "\n",
    "# 2. 相関分析結果\n",
    "print(\"\\n### 2. 相関分析結果（各指標と翌日リターンの相関係数）\")\n",
    "print(\"-\" * 80)\n",
    "print(\"\\n[Entry戦略]\")\n",
    "print(\"指標           | 相関係数 | 評価\")\n",
    "print(\"-\" * 50)\n",
    "for ind in indicators:\n",
    "    if ind in df_entry_bt.columns:\n",
    "        corr = df_entry_bt[[ind, 'next_day_return']].corr().iloc[0, 1]\n",
    "        evaluation = \"✅ 正の相関\" if corr > 0.05 else \"❌ 負の相関\" if corr < -0.05 else \"⚠️  効果なし\"\n",
    "        print(f\"{ind:15s} | {corr:+8.4f} | {evaluation}\")\n",
    "\n",
    "print(\"\\n[Active戦略]\")\n",
    "print(\"指標           | 相関係数 | 評価\")\n",
    "print(\"-\" * 50)\n",
    "for ind in indicators_active:\n",
    "    if ind in df_active_bt.columns:\n",
    "        corr = df_active_bt[[ind, 'next_day_return']].corr().iloc[0, 1]\n",
    "        evaluation = \"✅ 正の相関\" if corr > 0.05 else \"❌ 負の相関\" if corr < -0.05 else \"⚠️  効果なし\"\n",
    "        print(f\"{ind:15s} | {corr:+8.4f} | {evaluation}\")\n",
    "\n",
    "# 3. 時間帯別パフォーマンス\n",
    "if len(df_intraday_perf) > 0:\n",
    "    print(\"\\n### 3. 時間帯別パフォーマンス（寄付買い → 各時間帯売り）\")\n",
    "    print(\"-\" * 80)\n",
    "    time_order = ['前場中盤', '前場終盤', '後場開始', '後場中盤', '大引け']\n",
    "    for time_slot in time_order:\n",
    "        subset = df_intraday_perf[df_intraday_perf['sell_time'] == time_slot]\n",
    "        if len(subset) > 0:\n",
    "            avg_return = subset['return_pct'].mean()\n",
    "            win_rate = (subset['return_pct'] > 0).sum() / len(subset) * 100\n",
    "            print(f\"{time_slot:10s}: 平均{avg_return:+6.2f}%, 勝率{win_rate:5.1f}% (n={len(subset)})\")\n",
    "\n",
    "# 4. 改善提案\n",
    "print(\"\\n### 4. 改善提案\")\n",
    "print(\"-\" * 80)\n",
    "\n",
    "# Entry戦略の問題点\n",
    "entry_score_corr = df_entry_bt[['entry_score', 'next_day_return']].corr().iloc[0, 1]\n",
    "entry_rsi_corr = df_entry_bt[['rsi14', 'next_day_return']].corr().iloc[0, 1]\n",
    "entry_vol_corr = df_entry_bt[['vol_ratio', 'next_day_return']].corr().iloc[0, 1]\n",
    "\n",
    "print(\"\\n[Entry戦略]\")\n",
    "if entry_score_corr < 0.05:\n",
    "    print(\"  ❌ entry_scoreの相関が弱い → スコアリングロジック全体の見直しが必要\")\n",
    "if entry_rsi_corr < -0.05:\n",
    "    print(\"  ❌ RSI14が負の相関 → RSIの評価方法を逆転すべき\")\n",
    "    print(\"     提案: RSI 30-50（売られ過ぎから回復）を高評価に変更\")\n",
    "if entry_vol_corr < -0.05:\n",
    "    print(\"  ❌ vol_ratioが負の相関 → 出来高急増は避けるべき\")\n",
    "if 'overall_rating' in df_entry_bt.columns:\n",
    "    if df_entry_bt['overall_rating'].nunique() == 1:\n",
    "        print(\"  ⚠️  overall_ratingが全て同じ → 差別化できていない、40点配分が無駄\")\n",
    "\n",
    "# Active戦略の問題点\n",
    "active_score_corr = df_active_bt[['active_score', 'next_day_return']].corr().iloc[0, 1]\n",
    "active_rsi_corr = df_active_bt[['rsi14', 'next_day_return']].corr().iloc[0, 1]\n",
    "active_vol_corr = df_active_bt[['vol_ratio', 'next_day_return']].corr().iloc[0, 1]\n",
    "active_change_corr = df_active_bt[['change_pct', 'next_day_return']].corr().iloc[0, 1]\n",
    "\n",
    "print(\"\\n[Active戦略]\")\n",
    "if active_score_corr < 0:\n",
    "    print(\"  🚨 active_scoreが負の相関 → スコアが高いほど損する（完全に逆）\")\n",
    "if active_rsi_corr < -0.1:\n",
    "    print(\"  ❌ RSI14が強い負の相関 → RSI高い = 買われ過ぎ = 天井 → 避けるべき\")\n",
    "if active_vol_corr < -0.1:\n",
    "    print(\"  ❌ vol_ratioが強い負の相関 → 出来高急増 = 天井圏 → 避けるべき\")\n",
    "if active_change_corr < -0.1:\n",
    "    print(\"  ❌ change_pctが負の相関 → 大きく動いた株 = 既に天井 → 避けるべき\")\n",
    "    print(\"     提案: 『これから動く株』を選ぶロジックに変更（RSI低い、出来高まだ増えていない）\")\n",
    "\n",
    "print(\"\\n### 5. 次のアクション\")\n",
    "print(\"-\" * 80)\n",
    "print(\"  1. 全銘柄データで同様の分析を実行（100銘柄 → 3700銘柄）\")\n",
    "print(\"  2. スコアリングロジックを修正:\")\n",
    "print(\"     - RSI評価を逆転（30-50を高評価、60以上を減点）\")\n",
    "print(\"     - overall_rating削除（40点を他指標に再配分）\")\n",
    "print(\"     - vol_ratioの使い方を見直し（Active: 急増を避ける）\")\n",
    "print(\"     - change_pctの使い方を見直し（Active: 大きく動いた株を避ける）\")\n",
    "print(\"  3. 修正後のロジックで再バックテスト\")\n",
    "print(\"  4. 勝率50%超え、平均リターンプラスを目指す\")\n",
    "\n",
    "print(\"\\n\" + \"=\" * 80)\n",
    "print(\"分析完了\")\n",
    "print(\"=\" * 80)"
   ]
  }
 ],
 "metadata": {
  "kernelspec": {
   "display_name": "Python 3",
   "language": "python",
   "name": "python3"
  },
  "language_info": {
   "codemirror_mode": {
    "name": "ipython",
    "version": 3
   },
   "file_extension": ".py",
   "mimetype": "text/x-python",
   "name": "python",
   "nbconvert_exporter": "python",
   "pygments_lexer": "ipython3",
   "version": "3.12.3"
  }
 },
 "nbformat": 4,
 "nbformat_minor": 4
}
