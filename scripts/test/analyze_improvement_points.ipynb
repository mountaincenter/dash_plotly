{
 "cells": [
  {
   "cell_type": "markdown",
   "metadata": {},
   "source": [
    "# スキャルピング条件の改善分析\n",
    "\n",
    "## 目的\n",
    "- バックテスト結果から「儲かった銘柄」と「損した銘柄」の特徴を比較\n",
    "- どのテクニカル指標が利益と相関しているか分析\n",
    "- 現状のスコアリング配点の妥当性を検証\n",
    "- 改善すべき指標と優先順位を特定"
   ]
  },
  {
   "cell_type": "code",
   "execution_count": 12,
   "metadata": {},
   "outputs": [],
   "source": [
    "import sys\n",
    "from pathlib import Path\n",
    "\n",
    "ROOT = Path.cwd().parents[1]\n",
    "if str(ROOT) not in sys.path:\n",
    "    sys.path.insert(0, str(ROOT))\n",
    "\n",
    "import pandas as pd\n",
    "import numpy as np\n",
    "import matplotlib.pyplot as plt\n",
    "import seaborn as sns\n",
    "from IPython.display import display\n",
    "import warnings\n",
    "warnings.filterwarnings('ignore')\n",
    "\n",
    "pd.set_option('display.max_rows', 100)\n",
    "pd.set_option('display.max_colwidth', None)\n",
    "\n",
    "# matplotlib日本語対応\n",
    "plt.rcParams['font.sans-serif'] = ['Arial Unicode MS', 'Hiragino Sans', 'Yu Gothic']\n",
    "plt.rcParams['axes.unicode_minus'] = False"
   ]
  },
  {
   "cell_type": "markdown",
   "metadata": {},
   "source": [
    "## 1. データ読み込み"
   ]
  },
  {
   "cell_type": "code",
   "execution_count": 13,
   "metadata": {},
   "outputs": [
    {
     "name": "stdout",
     "output_type": "stream",
     "text": [
      "Total rows: 3,975\n",
      "Date range: 2025-08-21 00:00:00 to 2025-10-20 00:00:00\n",
      "\n",
      "Columns: ['date', 'Open', 'High', 'Low', 'Close', 'Volume', 'ticker', 'prevClose', 'change_pct', 'tr', 'atr14', 'atr14_pct', 'ma5', 'ma25', 'rsi14', 'vol_ma10', 'vol_ratio', 'overall_rating', 'stock_name', 'market', 'sectors', 'series', 'topixnewindexseries', 'entry_filter_passed', 'entry_score', 'entry_rank', 'active_filter_passed', 'active_score', 'active_rank']\n"
     ]
    }
   ],
   "source": [
    "from common_cfg.paths import PARQUET_DIR\n",
    "\n",
    "TEST_DIR = PARQUET_DIR / \"test\"\n",
    "SCORED_PATH = TEST_DIR / \"mock_screened_100stocks_scored.parquet\"\n",
    "\n",
    "df = pd.read_parquet(SCORED_PATH)\n",
    "\n",
    "print(f\"Total rows: {len(df):,}\")\n",
    "print(f\"Date range: {df['date'].min()} to {df['date'].max()}\")\n",
    "print(f\"\\nColumns: {list(df.columns)}\")"
   ]
  },
  {
   "cell_type": "markdown",
   "metadata": {},
   "source": [
    "## 2. 翌日の値動きを計算"
   ]
  },
  {
   "cell_type": "code",
   "execution_count": 14,
   "metadata": {},
   "outputs": [
    {
     "name": "stdout",
     "output_type": "stream",
     "text": [
      "翌日データあり: 3,864 rows\n",
      "\n",
      "next_day_return の統計:\n",
      "count    3864.000000\n",
      "mean       -0.158433\n",
      "std         2.173878\n",
      "min       -20.631787\n",
      "25%        -0.909091\n",
      "50%        -0.116896\n",
      "75%         0.529356\n",
      "max        27.516779\n",
      "Name: next_day_return, dtype: float64\n"
     ]
    }
   ],
   "source": [
    "# 営業日でソート\n",
    "df = df.sort_values(['ticker', 'date']).reset_index(drop=True)\n",
    "\n",
    "# 翌日のOpen/Closeを取得（銘柄ごと）\n",
    "df['next_Open'] = df.groupby('ticker')['Open'].shift(-1)\n",
    "df['next_Close'] = df.groupby('ticker')['Close'].shift(-1)\n",
    "\n",
    "# 翌日の値動き（Open→Close）\n",
    "df['next_day_return'] = ((df['next_Close'] - df['next_Open']) / df['next_Open'] * 100)\n",
    "\n",
    "# 翌日のデータがある行のみ\n",
    "df_with_next = df[df['next_Open'].notna()].copy()\n",
    "\n",
    "print(f\"翌日データあり: {len(df_with_next):,} rows\")\n",
    "print(f\"\\nnext_day_return の統計:\")\n",
    "print(df_with_next['next_day_return'].describe())"
   ]
  },
  {
   "cell_type": "markdown",
   "metadata": {},
   "source": [
    "## 3. Entry候補の分析"
   ]
  },
  {
   "cell_type": "code",
   "execution_count": 15,
   "metadata": {},
   "outputs": [
    {
     "name": "stdout",
     "output_type": "stream",
     "text": [
      "Entry候補: 203 rows\n",
      "\n",
      "翌日リターンの統計:\n",
      "count    203.000000\n",
      "mean      -0.091932\n",
      "std        1.278056\n",
      "min       -2.682927\n",
      "25%       -0.777988\n",
      "50%       -0.178891\n",
      "75%        0.440208\n",
      "max        8.969072\n",
      "Name: next_day_return, dtype: float64\n",
      "\n",
      "翌日プラスになる確率: 39.9%\n",
      "翌日マイナスになる確率: 60.1%\n"
     ]
    }
   ],
   "source": [
    "# Entry条件を満たした銘柄\n",
    "df_entry = df_with_next[df_with_next['entry_filter_passed']].copy()\n",
    "\n",
    "print(f\"Entry候補: {len(df_entry)} rows\")\n",
    "print(f\"\\n翌日リターンの統計:\")\n",
    "print(df_entry['next_day_return'].describe())\n",
    "\n",
    "# 勝率\n",
    "win_rate = (df_entry['next_day_return'] > 0).sum() / len(df_entry) * 100\n",
    "print(f\"\\n翌日プラスになる確率: {win_rate:.1f}%\")\n",
    "print(f\"翌日マイナスになる確率: {100 - win_rate:.1f}%\")"
   ]
  },
  {
   "cell_type": "markdown",
   "metadata": {},
   "source": [
    "### 3.1 Entry: 儲かった vs 損した の比較"
   ]
  },
  {
   "cell_type": "code",
   "execution_count": 16,
   "metadata": {},
   "outputs": [
    {
     "name": "stdout",
     "output_type": "stream",
     "text": [
      "儲かった: 81 (39.9%)\n",
      "損した: 122 (60.1%)\n",
      "\n",
      "--- Entry: 儲かった vs 損した の指標比較 ---\n"
     ]
    },
    {
     "data": {
      "text/html": [
       "<style type=\"text/css\">\n",
       "#T_91de2_row0_col0, #T_91de2_row0_col1, #T_91de2_row0_col2, #T_91de2_row0_col3, #T_91de2_row0_col4, #T_91de2_row1_col0, #T_91de2_row1_col1, #T_91de2_row1_col2, #T_91de2_row1_col3, #T_91de2_row1_col4, #T_91de2_row2_col0, #T_91de2_row2_col1, #T_91de2_row2_col2, #T_91de2_row2_col3, #T_91de2_row2_col4, #T_91de2_row3_col0, #T_91de2_row3_col1, #T_91de2_row3_col2, #T_91de2_row3_col3, #T_91de2_row3_col4, #T_91de2_row4_col0, #T_91de2_row4_col1, #T_91de2_row4_col2, #T_91de2_row4_col3, #T_91de2_row4_col4 {\n",
       "  text-align: left;\n",
       "}\n",
       "</style>\n",
       "<table id=\"T_91de2\">\n",
       "  <thead>\n",
       "    <tr>\n",
       "      <th class=\"blank level0\" >&nbsp;</th>\n",
       "      <th id=\"T_91de2_level0_col0\" class=\"col_heading level0 col0\" >指標</th>\n",
       "      <th id=\"T_91de2_level0_col1\" class=\"col_heading level0 col1\" >儲かった平均</th>\n",
       "      <th id=\"T_91de2_level0_col2\" class=\"col_heading level0 col2\" >損した平均</th>\n",
       "      <th id=\"T_91de2_level0_col3\" class=\"col_heading level0 col3\" >差分</th>\n",
       "      <th id=\"T_91de2_level0_col4\" class=\"col_heading level0 col4\" >差分%</th>\n",
       "    </tr>\n",
       "  </thead>\n",
       "  <tbody>\n",
       "    <tr>\n",
       "      <th id=\"T_91de2_level0_row0\" class=\"row_heading level0 row0\" >0</th>\n",
       "      <td id=\"T_91de2_row0_col0\" class=\"data row0 col0\" >change_pct</td>\n",
       "      <td id=\"T_91de2_row0_col1\" class=\"data row0 col1\" >-0.207407</td>\n",
       "      <td id=\"T_91de2_row0_col2\" class=\"data row0 col2\" >0.043279</td>\n",
       "      <td id=\"T_91de2_row0_col3\" class=\"data row0 col3\" >-0.250686</td>\n",
       "      <td id=\"T_91de2_row0_col4\" class=\"data row0 col4\" >-579.236813</td>\n",
       "    </tr>\n",
       "    <tr>\n",
       "      <th id=\"T_91de2_level0_row1\" class=\"row_heading level0 row1\" >1</th>\n",
       "      <td id=\"T_91de2_row1_col0\" class=\"data row1 col0\" >atr14_pct</td>\n",
       "      <td id=\"T_91de2_row1_col1\" class=\"data row1 col1\" >2.067037</td>\n",
       "      <td id=\"T_91de2_row1_col2\" class=\"data row1 col2\" >2.038033</td>\n",
       "      <td id=\"T_91de2_row1_col3\" class=\"data row1 col3\" >0.029004</td>\n",
       "      <td id=\"T_91de2_row1_col4\" class=\"data row1 col4\" >1.423149</td>\n",
       "    </tr>\n",
       "    <tr>\n",
       "      <th id=\"T_91de2_level0_row2\" class=\"row_heading level0 row2\" >2</th>\n",
       "      <td id=\"T_91de2_row2_col0\" class=\"data row2 col0\" >rsi14</td>\n",
       "      <td id=\"T_91de2_row2_col1\" class=\"data row2 col1\" >46.619136</td>\n",
       "      <td id=\"T_91de2_row2_col2\" class=\"data row2 col2\" >56.715410</td>\n",
       "      <td id=\"T_91de2_row2_col3\" class=\"data row2 col3\" >-10.096274</td>\n",
       "      <td id=\"T_91de2_row2_col4\" class=\"data row2 col4\" >-17.801642</td>\n",
       "    </tr>\n",
       "    <tr>\n",
       "      <th id=\"T_91de2_level0_row3\" class=\"row_heading level0 row3\" >3</th>\n",
       "      <td id=\"T_91de2_row3_col0\" class=\"data row3 col0\" >vol_ratio</td>\n",
       "      <td id=\"T_91de2_row3_col1\" class=\"data row3 col1\" >101.458642</td>\n",
       "      <td id=\"T_91de2_row3_col2\" class=\"data row3 col2\" >104.166148</td>\n",
       "      <td id=\"T_91de2_row3_col3\" class=\"data row3 col3\" >-2.707506</td>\n",
       "      <td id=\"T_91de2_row3_col4\" class=\"data row3 col4\" >-2.599218</td>\n",
       "    </tr>\n",
       "    <tr>\n",
       "      <th id=\"T_91de2_level0_row4\" class=\"row_heading level0 row4\" >4</th>\n",
       "      <td id=\"T_91de2_row4_col0\" class=\"data row4 col0\" >entry_score</td>\n",
       "      <td id=\"T_91de2_row4_col1\" class=\"data row4 col1\" >59.098765</td>\n",
       "      <td id=\"T_91de2_row4_col2\" class=\"data row4 col2\" >58.131148</td>\n",
       "      <td id=\"T_91de2_row4_col3\" class=\"data row4 col3\" >0.967618</td>\n",
       "      <td id=\"T_91de2_row4_col4\" class=\"data row4 col4\" >1.664543</td>\n",
       "    </tr>\n",
       "  </tbody>\n",
       "</table>\n"
      ],
      "text/plain": [
       "<pandas.io.formats.style.Styler at 0x119380980>"
      ]
     },
     "metadata": {},
     "output_type": "display_data"
    }
   ],
   "source": [
    "# 儲かった銘柄 vs 損した銘柄\n",
    "df_entry_win = df_entry[df_entry['next_day_return'] > 0].copy()\n",
    "df_entry_lose = df_entry[df_entry['next_day_return'] <= 0].copy()\n",
    "\n",
    "print(f\"儲かった: {len(df_entry_win)} ({len(df_entry_win)/len(df_entry)*100:.1f}%)\")\n",
    "print(f\"損した: {len(df_entry_lose)} ({len(df_entry_lose)/len(df_entry)*100:.1f}%)\")\n",
    "\n",
    "# テクニカル指標の平均値を比較\n",
    "indicators = ['change_pct', 'atr14_pct', 'rsi14', 'vol_ratio', 'entry_score']\n",
    "\n",
    "comparison = pd.DataFrame({\n",
    "    '指標': indicators,\n",
    "    '儲かった平均': [df_entry_win[ind].mean() for ind in indicators],\n",
    "    '損した平均': [df_entry_lose[ind].mean() for ind in indicators],\n",
    "})\n",
    "comparison['差分'] = comparison['儲かった平均'] - comparison['損した平均']\n",
    "comparison['差分%'] = (comparison['差分'] / comparison['損した平均'].abs() * 100)\n",
    "\n",
    "print(\"\\n--- Entry: 儲かった vs 損した の指標比較 ---\")\n",
    "display(comparison.style.set_properties(**{'text-align': 'left'}))"
   ]
  },
  {
   "cell_type": "markdown",
   "metadata": {},
   "source": [
    "### 3.2 Entry: overall_rating の効果"
   ]
  },
  {
   "cell_type": "code",
   "execution_count": 17,
   "metadata": {},
   "outputs": [
    {
     "name": "stdout",
     "output_type": "stream",
     "text": [
      "--- Entry: overall_rating 別の翌日パフォーマンス ---\n"
     ]
    },
    {
     "data": {
      "text/html": [
       "<style type=\"text/css\">\n",
       "#T_3e7c7_row0_col0, #T_3e7c7_row0_col1, #T_3e7c7_row0_col2, #T_3e7c7_row0_col3, #T_3e7c7_row0_col4 {\n",
       "  text-align: left;\n",
       "}\n",
       "</style>\n",
       "<table id=\"T_3e7c7\">\n",
       "  <thead>\n",
       "    <tr>\n",
       "      <th class=\"blank level0\" >&nbsp;</th>\n",
       "      <th id=\"T_3e7c7_level0_col0\" class=\"col_heading level0 col0\" >件数</th>\n",
       "      <th id=\"T_3e7c7_level0_col1\" class=\"col_heading level0 col1\" >平均リターン%</th>\n",
       "      <th id=\"T_3e7c7_level0_col2\" class=\"col_heading level0 col2\" >中央値リターン%</th>\n",
       "      <th id=\"T_3e7c7_level0_col3\" class=\"col_heading level0 col3\" >銘柄数</th>\n",
       "      <th id=\"T_3e7c7_level0_col4\" class=\"col_heading level0 col4\" >勝率%</th>\n",
       "    </tr>\n",
       "    <tr>\n",
       "      <th class=\"index_name level0\" >overall_rating</th>\n",
       "      <th class=\"blank col0\" >&nbsp;</th>\n",
       "      <th class=\"blank col1\" >&nbsp;</th>\n",
       "      <th class=\"blank col2\" >&nbsp;</th>\n",
       "      <th class=\"blank col3\" >&nbsp;</th>\n",
       "      <th class=\"blank col4\" >&nbsp;</th>\n",
       "    </tr>\n",
       "  </thead>\n",
       "  <tbody>\n",
       "    <tr>\n",
       "      <th id=\"T_3e7c7_level0_row0\" class=\"row_heading level0 row0\" >中立</th>\n",
       "      <td id=\"T_3e7c7_row0_col0\" class=\"data row0 col0\" >203</td>\n",
       "      <td id=\"T_3e7c7_row0_col1\" class=\"data row0 col1\" >-0.090000</td>\n",
       "      <td id=\"T_3e7c7_row0_col2\" class=\"data row0 col2\" >-0.180000</td>\n",
       "      <td id=\"T_3e7c7_row0_col3\" class=\"data row0 col3\" >203</td>\n",
       "      <td id=\"T_3e7c7_row0_col4\" class=\"data row0 col4\" >39.900000</td>\n",
       "    </tr>\n",
       "  </tbody>\n",
       "</table>\n"
      ],
      "text/plain": [
       "<pandas.io.formats.style.Styler at 0x1189643e0>"
      ]
     },
     "metadata": {},
     "output_type": "display_data"
    },
    {
     "name": "stdout",
     "output_type": "stream",
     "text": [
      "\n",
      "⚠️ overall_rating が '中立' だけなら、この指標は無意味\n"
     ]
    }
   ],
   "source": [
    "# overall_rating別の翌日リターン\n",
    "rating_analysis = df_entry.groupby('overall_rating').agg({\n",
    "    'next_day_return': ['count', 'mean', 'median'],\n",
    "    'ticker': 'count'\n",
    "}).round(2)\n",
    "\n",
    "rating_analysis.columns = ['件数', '平均リターン%', '中央値リターン%', '銘柄数']\n",
    "rating_analysis['勝率%'] = df_entry.groupby('overall_rating').apply(\n",
    "    lambda x: (x['next_day_return'] > 0).sum() / len(x) * 100\n",
    ").round(1)\n",
    "\n",
    "print(\"--- Entry: overall_rating 別の翌日パフォーマンス ---\")\n",
    "display(rating_analysis.style.set_properties(**{'text-align': 'left'}))\n",
    "\n",
    "print(\"\\n⚠️ overall_rating が '中立' だけなら、この指標は無意味\")"
   ]
  },
  {
   "cell_type": "markdown",
   "metadata": {},
   "source": [
    "### 3.3 Entry: 各指標と翌日リターンの相関分析"
   ]
  },
  {
   "cell_type": "code",
   "execution_count": 18,
   "metadata": {},
   "outputs": [
    {
     "name": "stdout",
     "output_type": "stream",
     "text": [
      "--- Entry: 各指標と翌日リターンの相関係数 ---\n"
     ]
    },
    {
     "data": {
      "text/html": [
       "<style type=\"text/css\">\n",
       "#T_6b198_row0_col0, #T_6b198_row0_col1, #T_6b198_row1_col0, #T_6b198_row1_col1, #T_6b198_row2_col0, #T_6b198_row2_col1, #T_6b198_row3_col0, #T_6b198_row3_col1, #T_6b198_row4_col0, #T_6b198_row4_col1 {\n",
       "  text-align: left;\n",
       "}\n",
       "</style>\n",
       "<table id=\"T_6b198\">\n",
       "  <thead>\n",
       "    <tr>\n",
       "      <th class=\"blank level0\" >&nbsp;</th>\n",
       "      <th id=\"T_6b198_level0_col0\" class=\"col_heading level0 col0\" >指標</th>\n",
       "      <th id=\"T_6b198_level0_col1\" class=\"col_heading level0 col1\" >相関係数</th>\n",
       "    </tr>\n",
       "  </thead>\n",
       "  <tbody>\n",
       "    <tr>\n",
       "      <th id=\"T_6b198_level0_row0\" class=\"row_heading level0 row0\" >2</th>\n",
       "      <td id=\"T_6b198_row0_col0\" class=\"data row0 col0\" >rsi14</td>\n",
       "      <td id=\"T_6b198_row0_col1\" class=\"data row0 col1\" >-0.116017</td>\n",
       "    </tr>\n",
       "    <tr>\n",
       "      <th id=\"T_6b198_level0_row1\" class=\"row_heading level0 row1\" >3</th>\n",
       "      <td id=\"T_6b198_row1_col0\" class=\"data row1 col0\" >vol_ratio</td>\n",
       "      <td id=\"T_6b198_row1_col1\" class=\"data row1 col1\" >-0.081540</td>\n",
       "    </tr>\n",
       "    <tr>\n",
       "      <th id=\"T_6b198_level0_row2\" class=\"row_heading level0 row2\" >1</th>\n",
       "      <td id=\"T_6b198_row2_col0\" class=\"data row2 col0\" >atr14_pct</td>\n",
       "      <td id=\"T_6b198_row2_col1\" class=\"data row2 col1\" >0.079886</td>\n",
       "    </tr>\n",
       "    <tr>\n",
       "      <th id=\"T_6b198_level0_row3\" class=\"row_heading level0 row3\" >4</th>\n",
       "      <td id=\"T_6b198_row3_col0\" class=\"data row3 col0\" >entry_score</td>\n",
       "      <td id=\"T_6b198_row3_col1\" class=\"data row3 col1\" >0.014702</td>\n",
       "    </tr>\n",
       "    <tr>\n",
       "      <th id=\"T_6b198_level0_row4\" class=\"row_heading level0 row4\" >0</th>\n",
       "      <td id=\"T_6b198_row4_col0\" class=\"data row4 col0\" >change_pct</td>\n",
       "      <td id=\"T_6b198_row4_col1\" class=\"data row4 col1\" >0.001511</td>\n",
       "    </tr>\n",
       "  </tbody>\n",
       "</table>\n"
      ],
      "text/plain": [
       "<pandas.io.formats.style.Styler at 0x119380980>"
      ]
     },
     "metadata": {},
     "output_type": "display_data"
    },
    {
     "name": "stdout",
     "output_type": "stream",
     "text": [
      "\n",
      "解釈:\n",
      "- 相関係数 > 0.1: その指標が高いほど翌日儲かる\n",
      "- 相関係数 < -0.1: その指標が高いほど翌日損する\n",
      "- |相関係数| < 0.1: ほぼ関係ない\n"
     ]
    }
   ],
   "source": [
    "# 相関係数を計算\n",
    "correlation_indicators = ['change_pct', 'atr14_pct', 'rsi14', 'vol_ratio', 'entry_score']\n",
    "correlations = {}\n",
    "\n",
    "for ind in correlation_indicators:\n",
    "    corr = df_entry[[ind, 'next_day_return']].corr().iloc[0, 1]\n",
    "    correlations[ind] = corr\n",
    "\n",
    "corr_df = pd.DataFrame({\n",
    "    '指標': list(correlations.keys()),\n",
    "    '相関係数': list(correlations.values())\n",
    "}).sort_values('相関係数', key=abs, ascending=False)\n",
    "\n",
    "print(\"--- Entry: 各指標と翌日リターンの相関係数 ---\")\n",
    "display(corr_df.style.set_properties(**{'text-align': 'left'}))\n",
    "\n",
    "print(\"\\n解釈:\")\n",
    "print(\"- 相関係数 > 0.1: その指標が高いほど翌日儲かる\")\n",
    "print(\"- 相関係数 < -0.1: その指標が高いほど翌日損する\")\n",
    "print(\"- |相関係数| < 0.1: ほぼ関係ない\")"
   ]
  },
  {
   "cell_type": "markdown",
   "metadata": {},
   "source": [
    "## 4. Active候補の分析"
   ]
  },
  {
   "cell_type": "code",
   "execution_count": 19,
   "metadata": {},
   "outputs": [
    {
     "name": "stdout",
     "output_type": "stream",
     "text": [
      "Active候補: 342 rows\n",
      "\n",
      "翌日リターンの統計:\n",
      "count    342.000000\n",
      "mean      -0.764673\n",
      "std        3.701964\n",
      "min      -15.428571\n",
      "25%       -2.777996\n",
      "50%       -0.638038\n",
      "75%        1.054136\n",
      "max       17.661098\n",
      "Name: next_day_return, dtype: float64\n",
      "\n",
      "翌日プラスになる確率: 37.4%\n",
      "翌日マイナスになる確率: 62.6%\n"
     ]
    }
   ],
   "source": [
    "# Active条件を満たした銘柄\n",
    "df_active = df_with_next[df_with_next['active_filter_passed']].copy()\n",
    "\n",
    "print(f\"Active候補: {len(df_active)} rows\")\n",
    "print(f\"\\n翌日リターンの統計:\")\n",
    "print(df_active['next_day_return'].describe())\n",
    "\n",
    "# 勝率\n",
    "win_rate = (df_active['next_day_return'] > 0).sum() / len(df_active) * 100\n",
    "print(f\"\\n翌日プラスになる確率: {win_rate:.1f}%\")\n",
    "print(f\"翌日マイナスになる確率: {100 - win_rate:.1f}%\")"
   ]
  },
  {
   "cell_type": "markdown",
   "metadata": {},
   "source": [
    "### 4.1 Active: 儲かった vs 損した の比較"
   ]
  },
  {
   "cell_type": "code",
   "execution_count": 20,
   "metadata": {},
   "outputs": [
    {
     "name": "stdout",
     "output_type": "stream",
     "text": [
      "儲かった: 128 (37.4%)\n",
      "損した: 214 (62.6%)\n",
      "\n",
      "--- Active: 儲かった vs 損した の指標比較 ---\n"
     ]
    },
    {
     "data": {
      "text/html": [
       "<style type=\"text/css\">\n",
       "#T_37e21_row0_col0, #T_37e21_row0_col1, #T_37e21_row0_col2, #T_37e21_row0_col3, #T_37e21_row0_col4, #T_37e21_row1_col0, #T_37e21_row1_col1, #T_37e21_row1_col2, #T_37e21_row1_col3, #T_37e21_row1_col4, #T_37e21_row2_col0, #T_37e21_row2_col1, #T_37e21_row2_col2, #T_37e21_row2_col3, #T_37e21_row2_col4, #T_37e21_row3_col0, #T_37e21_row3_col1, #T_37e21_row3_col2, #T_37e21_row3_col3, #T_37e21_row3_col4, #T_37e21_row4_col0, #T_37e21_row4_col1, #T_37e21_row4_col2, #T_37e21_row4_col3, #T_37e21_row4_col4 {\n",
       "  text-align: left;\n",
       "}\n",
       "</style>\n",
       "<table id=\"T_37e21\">\n",
       "  <thead>\n",
       "    <tr>\n",
       "      <th class=\"blank level0\" >&nbsp;</th>\n",
       "      <th id=\"T_37e21_level0_col0\" class=\"col_heading level0 col0\" >指標</th>\n",
       "      <th id=\"T_37e21_level0_col1\" class=\"col_heading level0 col1\" >儲かった平均</th>\n",
       "      <th id=\"T_37e21_level0_col2\" class=\"col_heading level0 col2\" >損した平均</th>\n",
       "      <th id=\"T_37e21_level0_col3\" class=\"col_heading level0 col3\" >差分</th>\n",
       "      <th id=\"T_37e21_level0_col4\" class=\"col_heading level0 col4\" >差分%</th>\n",
       "    </tr>\n",
       "  </thead>\n",
       "  <tbody>\n",
       "    <tr>\n",
       "      <th id=\"T_37e21_level0_row0\" class=\"row_heading level0 row0\" >0</th>\n",
       "      <td id=\"T_37e21_row0_col0\" class=\"data row0 col0\" >change_pct</td>\n",
       "      <td id=\"T_37e21_row0_col1\" class=\"data row0 col1\" >-1.328359</td>\n",
       "      <td id=\"T_37e21_row0_col2\" class=\"data row0 col2\" >-0.368411</td>\n",
       "      <td id=\"T_37e21_row0_col3\" class=\"data row0 col3\" >-0.959948</td>\n",
       "      <td id=\"T_37e21_row0_col4\" class=\"data row0 col4\" >-260.564315</td>\n",
       "    </tr>\n",
       "    <tr>\n",
       "      <th id=\"T_37e21_level0_row1\" class=\"row_heading level0 row1\" >1</th>\n",
       "      <td id=\"T_37e21_row1_col0\" class=\"data row1 col0\" >atr14_pct</td>\n",
       "      <td id=\"T_37e21_row1_col1\" class=\"data row1 col1\" >6.393594</td>\n",
       "      <td id=\"T_37e21_row1_col2\" class=\"data row1 col2\" >6.940047</td>\n",
       "      <td id=\"T_37e21_row1_col3\" class=\"data row1 col3\" >-0.546453</td>\n",
       "      <td id=\"T_37e21_row1_col4\" class=\"data row1 col4\" >-7.873909</td>\n",
       "    </tr>\n",
       "    <tr>\n",
       "      <th id=\"T_37e21_level0_row2\" class=\"row_heading level0 row2\" >2</th>\n",
       "      <td id=\"T_37e21_row2_col0\" class=\"data row2 col0\" >rsi14</td>\n",
       "      <td id=\"T_37e21_row2_col1\" class=\"data row2 col1\" >45.507266</td>\n",
       "      <td id=\"T_37e21_row2_col2\" class=\"data row2 col2\" >48.939813</td>\n",
       "      <td id=\"T_37e21_row2_col3\" class=\"data row2 col3\" >-3.432547</td>\n",
       "      <td id=\"T_37e21_row2_col4\" class=\"data row2 col4\" >-7.013814</td>\n",
       "    </tr>\n",
       "    <tr>\n",
       "      <th id=\"T_37e21_level0_row3\" class=\"row_heading level0 row3\" >3</th>\n",
       "      <td id=\"T_37e21_row3_col0\" class=\"data row3 col0\" >vol_ratio</td>\n",
       "      <td id=\"T_37e21_row3_col1\" class=\"data row3 col1\" >135.277187</td>\n",
       "      <td id=\"T_37e21_row3_col2\" class=\"data row3 col2\" >157.700748</td>\n",
       "      <td id=\"T_37e21_row3_col3\" class=\"data row3 col3\" >-22.423560</td>\n",
       "      <td id=\"T_37e21_row3_col4\" class=\"data row3 col4\" >-14.219058</td>\n",
       "    </tr>\n",
       "    <tr>\n",
       "      <th id=\"T_37e21_level0_row4\" class=\"row_heading level0 row4\" >4</th>\n",
       "      <td id=\"T_37e21_row4_col0\" class=\"data row4 col0\" >active_score</td>\n",
       "      <td id=\"T_37e21_row4_col1\" class=\"data row4 col1\" >70.976562</td>\n",
       "      <td id=\"T_37e21_row4_col2\" class=\"data row4 col2\" >73.439252</td>\n",
       "      <td id=\"T_37e21_row4_col3\" class=\"data row4 col3\" >-2.462690</td>\n",
       "      <td id=\"T_37e21_row4_col4\" class=\"data row4 col4\" >-3.353370</td>\n",
       "    </tr>\n",
       "  </tbody>\n",
       "</table>\n"
      ],
      "text/plain": [
       "<pandas.io.formats.style.Styler at 0x119380980>"
      ]
     },
     "metadata": {},
     "output_type": "display_data"
    }
   ],
   "source": [
    "# 儲かった銘柄 vs 損した銘柄\n",
    "df_active_win = df_active[df_active['next_day_return'] > 0].copy()\n",
    "df_active_lose = df_active[df_active['next_day_return'] <= 0].copy()\n",
    "\n",
    "print(f\"儲かった: {len(df_active_win)} ({len(df_active_win)/len(df_active)*100:.1f}%)\")\n",
    "print(f\"損した: {len(df_active_lose)} ({len(df_active_lose)/len(df_active)*100:.1f}%)\")\n",
    "\n",
    "# テクニカル指標の平均値を比較\n",
    "indicators = ['change_pct', 'atr14_pct', 'rsi14', 'vol_ratio', 'active_score']\n",
    "\n",
    "comparison = pd.DataFrame({\n",
    "    '指標': indicators,\n",
    "    '儲かった平均': [df_active_win[ind].mean() for ind in indicators],\n",
    "    '損した平均': [df_active_lose[ind].mean() for ind in indicators],\n",
    "})\n",
    "comparison['差分'] = comparison['儲かった平均'] - comparison['損した平均']\n",
    "comparison['差分%'] = (comparison['差分'] / comparison['損した平均'].abs() * 100)\n",
    "\n",
    "print(\"\\n--- Active: 儲かった vs 損した の指標比較 ---\")\n",
    "display(comparison.style.set_properties(**{'text-align': 'left'}))"
   ]
  },
  {
   "cell_type": "markdown",
   "metadata": {},
   "source": [
    "### 4.2 Active: 各指標と翌日リターンの相関分析"
   ]
  },
  {
   "cell_type": "code",
   "execution_count": 21,
   "metadata": {},
   "outputs": [
    {
     "name": "stdout",
     "output_type": "stream",
     "text": [
      "--- Active: 各指標と翌日リターンの相関係数 ---\n"
     ]
    },
    {
     "data": {
      "text/html": [
       "<style type=\"text/css\">\n",
       "#T_2d325_row0_col0, #T_2d325_row0_col1, #T_2d325_row1_col0, #T_2d325_row1_col1, #T_2d325_row2_col0, #T_2d325_row2_col1, #T_2d325_row3_col0, #T_2d325_row3_col1, #T_2d325_row4_col0, #T_2d325_row4_col1 {\n",
       "  text-align: left;\n",
       "}\n",
       "</style>\n",
       "<table id=\"T_2d325\">\n",
       "  <thead>\n",
       "    <tr>\n",
       "      <th class=\"blank level0\" >&nbsp;</th>\n",
       "      <th id=\"T_2d325_level0_col0\" class=\"col_heading level0 col0\" >指標</th>\n",
       "      <th id=\"T_2d325_level0_col1\" class=\"col_heading level0 col1\" >相関係数</th>\n",
       "    </tr>\n",
       "  </thead>\n",
       "  <tbody>\n",
       "    <tr>\n",
       "      <th id=\"T_2d325_level0_row0\" class=\"row_heading level0 row0\" >3</th>\n",
       "      <td id=\"T_2d325_row0_col0\" class=\"data row0 col0\" >vol_ratio</td>\n",
       "      <td id=\"T_2d325_row0_col1\" class=\"data row0 col1\" >-0.180486</td>\n",
       "    </tr>\n",
       "    <tr>\n",
       "      <th id=\"T_2d325_level0_row1\" class=\"row_heading level0 row1\" >2</th>\n",
       "      <td id=\"T_2d325_row1_col0\" class=\"data row1 col0\" >rsi14</td>\n",
       "      <td id=\"T_2d325_row1_col1\" class=\"data row1 col1\" >-0.163563</td>\n",
       "    </tr>\n",
       "    <tr>\n",
       "      <th id=\"T_2d325_level0_row2\" class=\"row_heading level0 row2\" >0</th>\n",
       "      <td id=\"T_2d325_row2_col0\" class=\"data row2 col0\" >change_pct</td>\n",
       "      <td id=\"T_2d325_row2_col1\" class=\"data row2 col1\" >-0.142001</td>\n",
       "    </tr>\n",
       "    <tr>\n",
       "      <th id=\"T_2d325_level0_row3\" class=\"row_heading level0 row3\" >4</th>\n",
       "      <td id=\"T_2d325_row3_col0\" class=\"data row3 col0\" >active_score</td>\n",
       "      <td id=\"T_2d325_row3_col1\" class=\"data row3 col1\" >-0.123895</td>\n",
       "    </tr>\n",
       "    <tr>\n",
       "      <th id=\"T_2d325_level0_row4\" class=\"row_heading level0 row4\" >1</th>\n",
       "      <td id=\"T_2d325_row4_col0\" class=\"data row4 col0\" >atr14_pct</td>\n",
       "      <td id=\"T_2d325_row4_col1\" class=\"data row4 col1\" >-0.039495</td>\n",
       "    </tr>\n",
       "  </tbody>\n",
       "</table>\n"
      ],
      "text/plain": [
       "<pandas.io.formats.style.Styler at 0x119380980>"
      ]
     },
     "metadata": {},
     "output_type": "display_data"
    },
    {
     "name": "stdout",
     "output_type": "stream",
     "text": [
      "\n",
      "解釈:\n",
      "- 相関係数 > 0.1: その指標が高いほど翌日儲かる\n",
      "- 相関係数 < -0.1: その指標が高いほど翌日損する\n",
      "- |相関係数| < 0.1: ほぼ関係ない\n"
     ]
    }
   ],
   "source": [
    "# 相関係数を計算\n",
    "correlation_indicators = ['change_pct', 'atr14_pct', 'rsi14', 'vol_ratio', 'active_score']\n",
    "correlations = {}\n",
    "\n",
    "for ind in correlation_indicators:\n",
    "    corr = df_active[[ind, 'next_day_return']].corr().iloc[0, 1]\n",
    "    correlations[ind] = corr\n",
    "\n",
    "corr_df = pd.DataFrame({\n",
    "    '指標': list(correlations.keys()),\n",
    "    '相関係数': list(correlations.values())\n",
    "}).sort_values('相関係数', key=abs, ascending=False)\n",
    "\n",
    "print(\"--- Active: 各指標と翌日リターンの相関係数 ---\")\n",
    "display(corr_df.style.set_properties(**{'text-align': 'left'}))\n",
    "\n",
    "print(\"\\n解釈:\")\n",
    "print(\"- 相関係数 > 0.1: その指標が高いほど翌日儲かる\")\n",
    "print(\"- 相関係数 < -0.1: その指標が高いほど翌日損する\")\n",
    "print(\"- |相関係数| < 0.1: ほぼ関係ない\")"
   ]
  },
  {
   "cell_type": "markdown",
   "metadata": {},
   "source": [
    "## 5. 結論と改善提案"
   ]
  },
  {
   "cell_type": "code",
   "execution_count": 22,
   "metadata": {},
   "outputs": [
    {
     "name": "stdout",
     "output_type": "stream",
     "text": [
      "============================================================\n",
      "改善提案サマリー\n",
      "============================================================\n",
      "\n",
      "【問題点】\n",
      "1. overall_rating が機能していない可能性\n",
      "   → 全て '中立' なら、40点の配点が無駄\n",
      "\n",
      "2. 現状のスコアリングが翌日リターンと相関していない可能性\n",
      "   → スコアが高い = 儲かる、になっていない\n",
      "\n",
      "3. Entry/Active の候補数が少なすぎる\n",
      "   → 100銘柄中5-10銘柄では、3700銘柄でも200銘柄以下\n",
      "\n",
      "【改善の優先順位】\n",
      "\n",
      "🥇 優先度1: overall_rating を削除\n",
      "   理由: 情報量が少なく、40点の配点が無駄\n",
      "   対策: MA, RSI を直接スコアリングに使う\n",
      "\n",
      "🥈 優先度2: 相関が高い指標に配点を集中\n",
      "   理由: 翌日リターンと相関が高い指標を重視すべき\n",
      "   対策: 相関分析結果に基づいて配点を再設計\n",
      "\n",
      "🥉 優先度3: フィルタ条件を緩和\n",
      "   理由: 候補数が少なすぎる\n",
      "   対策: 価格帯・ATR・change_pct の範囲を広げる\n",
      "\n",
      "============================================================\n"
     ]
    }
   ],
   "source": [
    "print(\"=\"*60)\n",
    "print(\"改善提案サマリー\")\n",
    "print(\"=\"*60)\n",
    "\n",
    "print(\"\\n【問題点】\")\n",
    "print(\"1. overall_rating が機能していない可能性\")\n",
    "print(\"   → 全て '中立' なら、40点の配点が無駄\")\n",
    "print(\"\\n2. 現状のスコアリングが翌日リターンと相関していない可能性\")\n",
    "print(\"   → スコアが高い = 儲かる、になっていない\")\n",
    "print(\"\\n3. Entry/Active の候補数が少なすぎる\")\n",
    "print(\"   → 100銘柄中5-10銘柄では、3700銘柄でも200銘柄以下\")\n",
    "\n",
    "print(\"\\n【改善の優先順位】\")\n",
    "print(\"\\n🥇 優先度1: overall_rating を削除\")\n",
    "print(\"   理由: 情報量が少なく、40点の配点が無駄\")\n",
    "print(\"   対策: MA, RSI を直接スコアリングに使う\")\n",
    "\n",
    "print(\"\\n🥈 優先度2: 相関が高い指標に配点を集中\")\n",
    "print(\"   理由: 翌日リターンと相関が高い指標を重視すべき\")\n",
    "print(\"   対策: 相関分析結果に基づいて配点を再設計\")\n",
    "\n",
    "print(\"\\n🥉 優先度3: フィルタ条件を緩和\")\n",
    "print(\"   理由: 候補数が少なすぎる\")\n",
    "print(\"   対策: 価格帯・ATR・change_pct の範囲を広げる\")\n",
    "\n",
    "print(\"\\n\" + \"=\"*60)"
   ]
  },
  {
   "cell_type": "markdown",
   "metadata": {},
   "source": [
    "## 6. 結果コピー用（チャットに貼り付け用）"
   ]
  },
  {
   "cell_type": "code",
   "execution_count": 23,
   "metadata": {},
   "outputs": [
    {
     "name": "stdout",
     "output_type": "stream",
     "text": [
      "================================================================================\n",
      "チャット貼り付け用結果サマリー\n",
      "================================================================================\n",
      "\n",
      "### Entry戦略\n",
      "- 候補数: 203\n",
      "- 翌日勝率: 39.9%\n",
      "- 平均リターン: -0.09%\n",
      "\n",
      "### Entry: 儲かった vs 損した\n",
      "指標 | 儲かった平均 | 損した平均 | 差分\n",
      "------------------------------------------------------------\n",
      "change_pct      |        -0.21 |        0.04 |   -0.25\n",
      "atr14_pct       |         2.07 |        2.04 |   +0.03\n",
      "rsi14           |        46.62 |       56.72 |  -10.10\n",
      "vol_ratio       |       101.46 |      104.17 |   -2.71\n",
      "entry_score     |        59.10 |       58.13 |   +0.97\n",
      "\n",
      "### Entry: 各指標と翌日リターンの相関係数\n",
      "指標 | 相関係数\n",
      "----------------------------------------\n",
      "change_pct      |  +0.0015\n",
      "atr14_pct       |  +0.0799\n",
      "rsi14           |  -0.1160\n",
      "vol_ratio       |  -0.0815\n",
      "entry_score     |  +0.0147\n",
      "\n",
      "### Entry: overall_rating別の勝率\n",
      "中立: 39.9% (n=203)\n",
      "\n",
      "================================================================================\n",
      "\n",
      "### Active戦略\n",
      "- 候補数: 342\n",
      "- 翌日勝率: 37.4%\n",
      "- 平均リターン: -0.76%\n",
      "\n",
      "### Active: 儲かった vs 損した\n",
      "指標 | 儲かった平均 | 損した平均 | 差分\n",
      "------------------------------------------------------------\n",
      "change_pct      |        -1.33 |       -0.37 |   -0.96\n",
      "atr14_pct       |         6.39 |        6.94 |   -0.55\n",
      "rsi14           |        45.51 |       48.94 |   -3.43\n",
      "vol_ratio       |       135.28 |      157.70 |  -22.42\n",
      "active_score    |        70.98 |       73.44 |   -2.46\n",
      "\n",
      "### Active: 各指標と翌日リターンの相関係数\n",
      "指標 | 相関係数\n",
      "----------------------------------------\n",
      "change_pct      |  -0.1420\n",
      "atr14_pct       |  -0.0395\n",
      "rsi14           |  -0.1636\n",
      "vol_ratio       |  -0.1805\n",
      "active_score    |  -0.1239\n",
      "\n",
      "================================================================================\n"
     ]
    }
   ],
   "source": [
    "print(\"=\" * 80)\n",
    "print(\"チャット貼り付け用結果サマリー\")\n",
    "print(\"=\" * 80)\n",
    "\n",
    "print(\"\\n### Entry戦略\")\n",
    "print(f\"- 候補数: {len(df_entry)}\")\n",
    "print(f\"- 翌日勝率: {(df_entry['next_day_return'] > 0).sum() / len(df_entry) * 100:.1f}%\")\n",
    "print(f\"- 平均リターン: {df_entry['next_day_return'].mean():.2f}%\")\n",
    "\n",
    "print(\"\\n### Entry: 儲かった vs 損した\")\n",
    "print(\"指標 | 儲かった平均 | 損した平均 | 差分\")\n",
    "print(\"-\" * 60)\n",
    "indicators = ['change_pct', 'atr14_pct', 'rsi14', 'vol_ratio', 'entry_score']\n",
    "for ind in indicators:\n",
    "    win_mean = df_entry_win[ind].mean()\n",
    "    lose_mean = df_entry_lose[ind].mean()\n",
    "    diff = win_mean - lose_mean\n",
    "    print(f\"{ind:15s} | {win_mean:12.2f} | {lose_mean:11.2f} | {diff:+7.2f}\")\n",
    "\n",
    "print(\"\\n### Entry: 各指標と翌日リターンの相関係数\")\n",
    "print(\"指標 | 相関係数\")\n",
    "print(\"-\" * 40)\n",
    "for ind in ['change_pct', 'atr14_pct', 'rsi14', 'vol_ratio', 'entry_score']:\n",
    "    corr = df_entry[[ind, 'next_day_return']].corr().iloc[0, 1]\n",
    "    print(f\"{ind:15s} | {corr:+8.4f}\")\n",
    "\n",
    "print(\"\\n### Entry: overall_rating別の勝率\")\n",
    "for rating in df_entry['overall_rating'].unique():\n",
    "    subset = df_entry[df_entry['overall_rating'] == rating]\n",
    "    win_rate = (subset['next_day_return'] > 0).sum() / len(subset) * 100\n",
    "    print(f\"{rating}: {win_rate:.1f}% (n={len(subset)})\")\n",
    "\n",
    "print(\"\\n\" + \"=\" * 80)\n",
    "\n",
    "print(\"\\n### Active戦略\")\n",
    "print(f\"- 候補数: {len(df_active)}\")\n",
    "print(f\"- 翌日勝率: {(df_active['next_day_return'] > 0).sum() / len(df_active) * 100:.1f}%\")\n",
    "print(f\"- 平均リターン: {df_active['next_day_return'].mean():.2f}%\")\n",
    "\n",
    "print(\"\\n### Active: 儲かった vs 損した\")\n",
    "print(\"指標 | 儲かった平均 | 損した平均 | 差分\")\n",
    "print(\"-\" * 60)\n",
    "indicators = ['change_pct', 'atr14_pct', 'rsi14', 'vol_ratio', 'active_score']\n",
    "for ind in indicators:\n",
    "    win_mean = df_active_win[ind].mean()\n",
    "    lose_mean = df_active_lose[ind].mean()\n",
    "    diff = win_mean - lose_mean\n",
    "    print(f\"{ind:15s} | {win_mean:12.2f} | {lose_mean:11.2f} | {diff:+7.2f}\")\n",
    "\n",
    "print(\"\\n### Active: 各指標と翌日リターンの相関係数\")\n",
    "print(\"指標 | 相関係数\")\n",
    "print(\"-\" * 40)\n",
    "for ind in ['change_pct', 'atr14_pct', 'rsi14', 'vol_ratio', 'active_score']:\n",
    "    corr = df_active[[ind, 'next_day_return']].corr().iloc[0, 1]\n",
    "    print(f\"{ind:15s} | {corr:+8.4f}\")\n",
    "\n",
    "print(\"\\n\" + \"=\" * 80)"
   ]
  }
 ],
 "metadata": {
  "kernelspec": {
   "display_name": "Python 3",
   "language": "python",
   "name": "python3"
  },
  "language_info": {
   "codemirror_mode": {
    "name": "ipython",
    "version": 3
   },
   "file_extension": ".py",
   "mimetype": "text/x-python",
   "name": "python",
   "nbconvert_exporter": "python",
   "pygments_lexer": "ipython3",
   "version": "3.12.3"
  }
 },
 "nbformat": 4,
 "nbformat_minor": 4
}
